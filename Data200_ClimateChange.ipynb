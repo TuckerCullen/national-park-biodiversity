{
  "nbformat": 4,
  "nbformat_minor": 0,
  "metadata": {
    "colab": {
      "name": "Data200-ClimateChange.ipynb",
      "provenance": [],
      "collapsed_sections": [],
      "toc_visible": true,
      "include_colab_link": true
    },
    "kernelspec": {
      "name": "python3",
      "display_name": "Python 3"
    },
    "language_info": {
      "name": "python"
    }
  },
  "cells": [
    {
      "cell_type": "markdown",
      "metadata": {
        "id": "view-in-github",
        "colab_type": "text"
      },
      "source": [
        "<a href=\"https://colab.research.google.com/github/TuckerCullen/national-park-biodiversity/blob/main/Data200_ClimateChange.ipynb\" target=\"_parent\"><img src=\"https://colab.research.google.com/assets/colab-badge.svg\" alt=\"Open In Colab\"/></a>"
      ]
    },
    {
      "cell_type": "markdown",
      "metadata": {
        "id": "JVrXa5WMFwuw"
      },
      "source": [
        "# Setup "
      ]
    },
    {
      "cell_type": "code",
      "metadata": {
        "id": "jtSmf4rG5Oso",
        "colab": {
          "base_uri": "https://localhost:8080/"
        },
        "outputId": "d65cd0e1-c6ac-4a88-9c47-2106f1fa1bcb"
      },
      "source": [
        "from google.colab import drive\n",
        "\n",
        "drive.mount('/content/gdrive')\n",
        "\n",
        "!pip install numpy \n",
        "!pip install pandas \n",
        "!pip install matplotlib\n",
        "!pip install seaborn \n",
        "!pip install geopandas\n",
        "!pip install scikit-learn"
      ],
      "execution_count": 92,
      "outputs": [
        {
          "output_type": "stream",
          "name": "stdout",
          "text": [
            "Drive already mounted at /content/gdrive; to attempt to forcibly remount, call drive.mount(\"/content/gdrive\", force_remount=True).\n",
            "Requirement already satisfied: numpy in /usr/local/lib/python3.7/dist-packages (1.19.5)\n",
            "Requirement already satisfied: pandas in /usr/local/lib/python3.7/dist-packages (1.1.5)\n",
            "Requirement already satisfied: numpy>=1.15.4 in /usr/local/lib/python3.7/dist-packages (from pandas) (1.19.5)\n",
            "Requirement already satisfied: pytz>=2017.2 in /usr/local/lib/python3.7/dist-packages (from pandas) (2018.9)\n",
            "Requirement already satisfied: python-dateutil>=2.7.3 in /usr/local/lib/python3.7/dist-packages (from pandas) (2.8.2)\n",
            "Requirement already satisfied: six>=1.5 in /usr/local/lib/python3.7/dist-packages (from python-dateutil>=2.7.3->pandas) (1.15.0)\n",
            "Requirement already satisfied: matplotlib in /usr/local/lib/python3.7/dist-packages (3.2.2)\n",
            "Requirement already satisfied: pyparsing!=2.0.4,!=2.1.2,!=2.1.6,>=2.0.1 in /usr/local/lib/python3.7/dist-packages (from matplotlib) (3.0.6)\n",
            "Requirement already satisfied: python-dateutil>=2.1 in /usr/local/lib/python3.7/dist-packages (from matplotlib) (2.8.2)\n",
            "Requirement already satisfied: kiwisolver>=1.0.1 in /usr/local/lib/python3.7/dist-packages (from matplotlib) (1.3.2)\n",
            "Requirement already satisfied: numpy>=1.11 in /usr/local/lib/python3.7/dist-packages (from matplotlib) (1.19.5)\n",
            "Requirement already satisfied: cycler>=0.10 in /usr/local/lib/python3.7/dist-packages (from matplotlib) (0.11.0)\n",
            "Requirement already satisfied: six>=1.5 in /usr/local/lib/python3.7/dist-packages (from python-dateutil>=2.1->matplotlib) (1.15.0)\n",
            "Requirement already satisfied: seaborn in /usr/local/lib/python3.7/dist-packages (0.11.2)\n",
            "Requirement already satisfied: pandas>=0.23 in /usr/local/lib/python3.7/dist-packages (from seaborn) (1.1.5)\n",
            "Requirement already satisfied: numpy>=1.15 in /usr/local/lib/python3.7/dist-packages (from seaborn) (1.19.5)\n",
            "Requirement already satisfied: scipy>=1.0 in /usr/local/lib/python3.7/dist-packages (from seaborn) (1.4.1)\n",
            "Requirement already satisfied: matplotlib>=2.2 in /usr/local/lib/python3.7/dist-packages (from seaborn) (3.2.2)\n",
            "Requirement already satisfied: cycler>=0.10 in /usr/local/lib/python3.7/dist-packages (from matplotlib>=2.2->seaborn) (0.11.0)\n",
            "Requirement already satisfied: python-dateutil>=2.1 in /usr/local/lib/python3.7/dist-packages (from matplotlib>=2.2->seaborn) (2.8.2)\n",
            "Requirement already satisfied: pyparsing!=2.0.4,!=2.1.2,!=2.1.6,>=2.0.1 in /usr/local/lib/python3.7/dist-packages (from matplotlib>=2.2->seaborn) (3.0.6)\n",
            "Requirement already satisfied: kiwisolver>=1.0.1 in /usr/local/lib/python3.7/dist-packages (from matplotlib>=2.2->seaborn) (1.3.2)\n",
            "Requirement already satisfied: pytz>=2017.2 in /usr/local/lib/python3.7/dist-packages (from pandas>=0.23->seaborn) (2018.9)\n",
            "Requirement already satisfied: six>=1.5 in /usr/local/lib/python3.7/dist-packages (from python-dateutil>=2.1->matplotlib>=2.2->seaborn) (1.15.0)\n",
            "Requirement already satisfied: geopandas in /usr/local/lib/python3.7/dist-packages (0.10.2)\n",
            "Requirement already satisfied: shapely>=1.6 in /usr/local/lib/python3.7/dist-packages (from geopandas) (1.8.0)\n",
            "Requirement already satisfied: pyproj>=2.2.0 in /usr/local/lib/python3.7/dist-packages (from geopandas) (3.2.1)\n",
            "Requirement already satisfied: fiona>=1.8 in /usr/local/lib/python3.7/dist-packages (from geopandas) (1.8.20)\n",
            "Requirement already satisfied: pandas>=0.25.0 in /usr/local/lib/python3.7/dist-packages (from geopandas) (1.1.5)\n",
            "Requirement already satisfied: attrs>=17 in /usr/local/lib/python3.7/dist-packages (from fiona>=1.8->geopandas) (21.2.0)\n",
            "Requirement already satisfied: click>=4.0 in /usr/local/lib/python3.7/dist-packages (from fiona>=1.8->geopandas) (7.1.2)\n",
            "Requirement already satisfied: six>=1.7 in /usr/local/lib/python3.7/dist-packages (from fiona>=1.8->geopandas) (1.15.0)\n",
            "Requirement already satisfied: setuptools in /usr/local/lib/python3.7/dist-packages (from fiona>=1.8->geopandas) (57.4.0)\n",
            "Requirement already satisfied: munch in /usr/local/lib/python3.7/dist-packages (from fiona>=1.8->geopandas) (2.5.0)\n",
            "Requirement already satisfied: cligj>=0.5 in /usr/local/lib/python3.7/dist-packages (from fiona>=1.8->geopandas) (0.7.2)\n",
            "Requirement already satisfied: certifi in /usr/local/lib/python3.7/dist-packages (from fiona>=1.8->geopandas) (2021.10.8)\n",
            "Requirement already satisfied: click-plugins>=1.0 in /usr/local/lib/python3.7/dist-packages (from fiona>=1.8->geopandas) (1.1.1)\n",
            "Requirement already satisfied: numpy>=1.15.4 in /usr/local/lib/python3.7/dist-packages (from pandas>=0.25.0->geopandas) (1.19.5)\n",
            "Requirement already satisfied: python-dateutil>=2.7.3 in /usr/local/lib/python3.7/dist-packages (from pandas>=0.25.0->geopandas) (2.8.2)\n",
            "Requirement already satisfied: pytz>=2017.2 in /usr/local/lib/python3.7/dist-packages (from pandas>=0.25.0->geopandas) (2018.9)\n",
            "Requirement already satisfied: scikit-learn in /usr/local/lib/python3.7/dist-packages (1.0.1)\n",
            "Requirement already satisfied: numpy>=1.14.6 in /usr/local/lib/python3.7/dist-packages (from scikit-learn) (1.19.5)\n",
            "Requirement already satisfied: threadpoolctl>=2.0.0 in /usr/local/lib/python3.7/dist-packages (from scikit-learn) (3.0.0)\n",
            "Requirement already satisfied: scipy>=1.1.0 in /usr/local/lib/python3.7/dist-packages (from scikit-learn) (1.4.1)\n",
            "Requirement already satisfied: joblib>=0.11 in /usr/local/lib/python3.7/dist-packages (from scikit-learn) (1.1.0)\n"
          ]
        }
      ]
    },
    {
      "cell_type": "code",
      "metadata": {
        "id": "h95NuOZHvpCl"
      },
      "source": [
        "import pandas as pd\n",
        "import matplotlib.pyplot as plt\n",
        "import geopandas as gpd\n",
        "import seaborn as sns\n",
        "import numpy as np\n",
        "import plotly.express as px\n",
        "import plotly.graph_objects as go\n",
        "from sklearn.model_selection import train_test_split\n",
        "import plotly.express as px\n",
        "from sklearn.linear_model import LinearRegression\n",
        "from sklearn.metrics import mean_squared_error, mean_absolute_error, mean_absolute_percentage_error, r2_score\n",
        "from sklearn.ensemble import RandomForestRegressor\n",
        "ROOT_PATH = '/content/gdrive/MyDrive/Data200ClimateChange/' "
      ],
      "execution_count": 171,
      "outputs": []
    },
    {
      "cell_type": "markdown",
      "metadata": {
        "id": "J29kNsryrLci"
      },
      "source": [
        "# Import and View Data"
      ]
    },
    {
      "cell_type": "markdown",
      "metadata": {
        "id": "6aXTC3Li2f35"
      },
      "source": [
        "There are three main datasets we are working with:\n",
        "\n",
        "* `parks` contains metadata about each national park (things like `Park Name`, `State`, `Acres`, and lat/long coordinates).\n",
        "* `species` contains data on every plant and animal species contained in each park\n",
        "* `visitation` contains the number of annual visitors at each park each year each since 2011 (this dataset was obtained directly from the [NPS IRMA Portal](https://irma.nps.gov/STATS/SSRSReports/National%20Reports/Annual%20Visitation%20By%20Park%20(1979%20-%20Last%20Calendar%20Year))\n",
        "* `ozone 2021` Parks and the number of days per Month where Ozone Standard Exceedances in National Parks per month in 2021\n",
        " [NPS  Portal](https://irma.nps.gov/DataStore/Reference/Profile/2286523)\n",
        "\n",
        "\n",
        "\n",
        "\n",
        "\n",
        "\n"
      ]
    },
    {
      "cell_type": "code",
      "metadata": {
        "id": "gAjRwEgnu3bY",
        "colab": {
          "base_uri": "https://localhost:8080/",
          "height": 965
        },
        "outputId": "7ddf7628-915d-4dc7-b178-d6c33f32c4ea"
      },
      "source": [
        "parks = pd.read_csv(ROOT_PATH + \"national_parks_biodiversity_parks.csv\")\n",
        "species = pd.read_csv(ROOT_PATH + \"national_parks_biodiversity_species.csv\")\n",
        "visitation = pd.read_csv(ROOT_PATH + \"park_visitation.csv\")\n",
        "print()\n",
        "print(\"######### parks #########\")\n",
        "display(parks.head())\n",
        "print()\n",
        "print(\"######### species #########\")\n",
        "display(species.head())\n",
        "print()\n",
        "print(\"######### visitation #########\")\n",
        "display(visitation.head())\n",
        "ozone =  pd.read_csv(ROOT_PATH + \"2021-Ozone.csv\")\n",
        "print(\"######### Ozone Quality in 2021 #########\")\n",
        "display(ozone.head())"
      ],
      "execution_count": 172,
      "outputs": [
        {
          "output_type": "stream",
          "name": "stdout",
          "text": [
            "\n",
            "######### parks #########\n"
          ]
        },
        {
          "output_type": "stream",
          "name": "stderr",
          "text": [
            "/usr/local/lib/python3.7/dist-packages/IPython/core/interactiveshell.py:2718: DtypeWarning:\n",
            "\n",
            "Columns (13) have mixed types.Specify dtype option on import or set low_memory=False.\n",
            "\n"
          ]
        },
        {
          "output_type": "display_data",
          "data": {
            "text/html": [
              "<div>\n",
              "<style scoped>\n",
              "    .dataframe tbody tr th:only-of-type {\n",
              "        vertical-align: middle;\n",
              "    }\n",
              "\n",
              "    .dataframe tbody tr th {\n",
              "        vertical-align: top;\n",
              "    }\n",
              "\n",
              "    .dataframe thead th {\n",
              "        text-align: right;\n",
              "    }\n",
              "</style>\n",
              "<table border=\"1\" class=\"dataframe\">\n",
              "  <thead>\n",
              "    <tr style=\"text-align: right;\">\n",
              "      <th></th>\n",
              "      <th>Park Code</th>\n",
              "      <th>Park Name</th>\n",
              "      <th>State</th>\n",
              "      <th>Acres</th>\n",
              "      <th>Latitude</th>\n",
              "      <th>Longitude</th>\n",
              "    </tr>\n",
              "  </thead>\n",
              "  <tbody>\n",
              "    <tr>\n",
              "      <th>0</th>\n",
              "      <td>ACAD</td>\n",
              "      <td>Acadia National Park</td>\n",
              "      <td>ME</td>\n",
              "      <td>47390</td>\n",
              "      <td>44.35</td>\n",
              "      <td>-68.21</td>\n",
              "    </tr>\n",
              "    <tr>\n",
              "      <th>1</th>\n",
              "      <td>ARCH</td>\n",
              "      <td>Arches National Park</td>\n",
              "      <td>UT</td>\n",
              "      <td>76519</td>\n",
              "      <td>38.68</td>\n",
              "      <td>-109.57</td>\n",
              "    </tr>\n",
              "    <tr>\n",
              "      <th>2</th>\n",
              "      <td>BADL</td>\n",
              "      <td>Badlands National Park</td>\n",
              "      <td>SD</td>\n",
              "      <td>242756</td>\n",
              "      <td>43.75</td>\n",
              "      <td>-102.50</td>\n",
              "    </tr>\n",
              "    <tr>\n",
              "      <th>3</th>\n",
              "      <td>BIBE</td>\n",
              "      <td>Big Bend National Park</td>\n",
              "      <td>TX</td>\n",
              "      <td>801163</td>\n",
              "      <td>29.25</td>\n",
              "      <td>-103.25</td>\n",
              "    </tr>\n",
              "    <tr>\n",
              "      <th>4</th>\n",
              "      <td>BISC</td>\n",
              "      <td>Biscayne National Park</td>\n",
              "      <td>FL</td>\n",
              "      <td>172924</td>\n",
              "      <td>25.65</td>\n",
              "      <td>-80.08</td>\n",
              "    </tr>\n",
              "  </tbody>\n",
              "</table>\n",
              "</div>"
            ],
            "text/plain": [
              "  Park Code               Park Name State   Acres  Latitude  Longitude\n",
              "0      ACAD    Acadia National Park    ME   47390     44.35     -68.21\n",
              "1      ARCH    Arches National Park    UT   76519     38.68    -109.57\n",
              "2      BADL  Badlands National Park    SD  242756     43.75    -102.50\n",
              "3      BIBE  Big Bend National Park    TX  801163     29.25    -103.25\n",
              "4      BISC  Biscayne National Park    FL  172924     25.65     -80.08"
            ]
          },
          "metadata": {}
        },
        {
          "output_type": "stream",
          "name": "stdout",
          "text": [
            "\n",
            "######### species #########\n"
          ]
        },
        {
          "output_type": "display_data",
          "data": {
            "text/html": [
              "<div>\n",
              "<style scoped>\n",
              "    .dataframe tbody tr th:only-of-type {\n",
              "        vertical-align: middle;\n",
              "    }\n",
              "\n",
              "    .dataframe tbody tr th {\n",
              "        vertical-align: top;\n",
              "    }\n",
              "\n",
              "    .dataframe thead th {\n",
              "        text-align: right;\n",
              "    }\n",
              "</style>\n",
              "<table border=\"1\" class=\"dataframe\">\n",
              "  <thead>\n",
              "    <tr style=\"text-align: right;\">\n",
              "      <th></th>\n",
              "      <th>Species ID</th>\n",
              "      <th>Park Name</th>\n",
              "      <th>Category</th>\n",
              "      <th>Order</th>\n",
              "      <th>Family</th>\n",
              "      <th>Scientific Name</th>\n",
              "      <th>Common Names</th>\n",
              "      <th>Record Status</th>\n",
              "      <th>Occurrence</th>\n",
              "      <th>Nativeness</th>\n",
              "      <th>Abundance</th>\n",
              "      <th>Seasonality</th>\n",
              "      <th>Conservation Status</th>\n",
              "      <th>Unnamed: 13</th>\n",
              "    </tr>\n",
              "  </thead>\n",
              "  <tbody>\n",
              "    <tr>\n",
              "      <th>0</th>\n",
              "      <td>ACAD-1000</td>\n",
              "      <td>Acadia National Park</td>\n",
              "      <td>Mammal</td>\n",
              "      <td>Artiodactyla</td>\n",
              "      <td>Cervidae</td>\n",
              "      <td>Alces alces</td>\n",
              "      <td>Moose</td>\n",
              "      <td>Approved</td>\n",
              "      <td>Present</td>\n",
              "      <td>Native</td>\n",
              "      <td>Rare</td>\n",
              "      <td>Resident</td>\n",
              "      <td>NaN</td>\n",
              "      <td>NaN</td>\n",
              "    </tr>\n",
              "    <tr>\n",
              "      <th>1</th>\n",
              "      <td>ACAD-1001</td>\n",
              "      <td>Acadia National Park</td>\n",
              "      <td>Mammal</td>\n",
              "      <td>Artiodactyla</td>\n",
              "      <td>Cervidae</td>\n",
              "      <td>Odocoileus virginianus</td>\n",
              "      <td>Northern White-Tailed Deer, Virginia Deer, Whi...</td>\n",
              "      <td>Approved</td>\n",
              "      <td>Present</td>\n",
              "      <td>Native</td>\n",
              "      <td>Abundant</td>\n",
              "      <td>NaN</td>\n",
              "      <td>NaN</td>\n",
              "      <td>NaN</td>\n",
              "    </tr>\n",
              "    <tr>\n",
              "      <th>2</th>\n",
              "      <td>ACAD-1002</td>\n",
              "      <td>Acadia National Park</td>\n",
              "      <td>Mammal</td>\n",
              "      <td>Carnivora</td>\n",
              "      <td>Canidae</td>\n",
              "      <td>Canis latrans</td>\n",
              "      <td>Coyote, Eastern Coyote</td>\n",
              "      <td>Approved</td>\n",
              "      <td>Present</td>\n",
              "      <td>Not Native</td>\n",
              "      <td>Common</td>\n",
              "      <td>NaN</td>\n",
              "      <td>Species of Concern</td>\n",
              "      <td>NaN</td>\n",
              "    </tr>\n",
              "    <tr>\n",
              "      <th>3</th>\n",
              "      <td>ACAD-1003</td>\n",
              "      <td>Acadia National Park</td>\n",
              "      <td>Mammal</td>\n",
              "      <td>Carnivora</td>\n",
              "      <td>Canidae</td>\n",
              "      <td>Canis lupus</td>\n",
              "      <td>Eastern Timber Wolf, Gray Wolf, Timber Wolf</td>\n",
              "      <td>Approved</td>\n",
              "      <td>Not Confirmed</td>\n",
              "      <td>Native</td>\n",
              "      <td>NaN</td>\n",
              "      <td>NaN</td>\n",
              "      <td>Endangered</td>\n",
              "      <td>NaN</td>\n",
              "    </tr>\n",
              "    <tr>\n",
              "      <th>4</th>\n",
              "      <td>ACAD-1004</td>\n",
              "      <td>Acadia National Park</td>\n",
              "      <td>Mammal</td>\n",
              "      <td>Carnivora</td>\n",
              "      <td>Canidae</td>\n",
              "      <td>Vulpes vulpes</td>\n",
              "      <td>Black Fox, Cross Fox, Eastern Red Fox, Fox, Re...</td>\n",
              "      <td>Approved</td>\n",
              "      <td>Present</td>\n",
              "      <td>Unknown</td>\n",
              "      <td>Common</td>\n",
              "      <td>Breeder</td>\n",
              "      <td>NaN</td>\n",
              "      <td>NaN</td>\n",
              "    </tr>\n",
              "  </tbody>\n",
              "</table>\n",
              "</div>"
            ],
            "text/plain": [
              "  Species ID             Park Name  ... Conservation Status Unnamed: 13\n",
              "0  ACAD-1000  Acadia National Park  ...                 NaN         NaN\n",
              "1  ACAD-1001  Acadia National Park  ...                 NaN         NaN\n",
              "2  ACAD-1002  Acadia National Park  ...  Species of Concern         NaN\n",
              "3  ACAD-1003  Acadia National Park  ...          Endangered         NaN\n",
              "4  ACAD-1004  Acadia National Park  ...                 NaN         NaN\n",
              "\n",
              "[5 rows x 14 columns]"
            ]
          },
          "metadata": {}
        },
        {
          "output_type": "stream",
          "name": "stdout",
          "text": [
            "\n",
            "######### visitation #########\n"
          ]
        },
        {
          "output_type": "display_data",
          "data": {
            "text/html": [
              "<div>\n",
              "<style scoped>\n",
              "    .dataframe tbody tr th:only-of-type {\n",
              "        vertical-align: middle;\n",
              "    }\n",
              "\n",
              "    .dataframe tbody tr th {\n",
              "        vertical-align: top;\n",
              "    }\n",
              "\n",
              "    .dataframe thead th {\n",
              "        text-align: right;\n",
              "    }\n",
              "</style>\n",
              "<table border=\"1\" class=\"dataframe\">\n",
              "  <thead>\n",
              "    <tr style=\"text-align: right;\">\n",
              "      <th></th>\n",
              "      <th>Park Name</th>\n",
              "      <th>2011</th>\n",
              "      <th>2012</th>\n",
              "      <th>2013</th>\n",
              "      <th>2014</th>\n",
              "      <th>2015</th>\n",
              "      <th>2016</th>\n",
              "      <th>2017</th>\n",
              "      <th>2018</th>\n",
              "      <th>2019</th>\n",
              "      <th>Unnamed: 10</th>\n",
              "      <th>Unnamed: 11</th>\n",
              "      <th>2020</th>\n",
              "      <th>Average</th>\n",
              "    </tr>\n",
              "  </thead>\n",
              "  <tbody>\n",
              "    <tr>\n",
              "      <th>0</th>\n",
              "      <td>Abraham Lincoln Birthplace NHP</td>\n",
              "      <td>163,568</td>\n",
              "      <td>169,515</td>\n",
              "      <td>163,928</td>\n",
              "      <td>241,264</td>\n",
              "      <td>148,605</td>\n",
              "      <td>252,495</td>\n",
              "      <td>269,580</td>\n",
              "      <td>260,964</td>\n",
              "      <td>238,226</td>\n",
              "      <td>NaN</td>\n",
              "      <td>NaN</td>\n",
              "      <td>228,141</td>\n",
              "      <td>213,629</td>\n",
              "    </tr>\n",
              "    <tr>\n",
              "      <th>1</th>\n",
              "      <td>Acadia NP</td>\n",
              "      <td>2,374,645</td>\n",
              "      <td>2,431,052</td>\n",
              "      <td>2,254,922</td>\n",
              "      <td>2,563,129</td>\n",
              "      <td>2,811,184</td>\n",
              "      <td>3,303,393</td>\n",
              "      <td>3,509,271</td>\n",
              "      <td>3,537,575</td>\n",
              "      <td>3,437,286</td>\n",
              "      <td>NaN</td>\n",
              "      <td>NaN</td>\n",
              "      <td>2,669,034</td>\n",
              "      <td>2,889,149</td>\n",
              "    </tr>\n",
              "    <tr>\n",
              "      <th>2</th>\n",
              "      <td>Adams NHP</td>\n",
              "      <td>219,975</td>\n",
              "      <td>336,031</td>\n",
              "      <td>285,501</td>\n",
              "      <td>178,468</td>\n",
              "      <td>183,632</td>\n",
              "      <td>199,301</td>\n",
              "      <td>255,562</td>\n",
              "      <td>121,007</td>\n",
              "      <td>187,400</td>\n",
              "      <td>NaN</td>\n",
              "      <td>NaN</td>\n",
              "      <td>6,937</td>\n",
              "      <td>197,381</td>\n",
              "    </tr>\n",
              "    <tr>\n",
              "      <th>3</th>\n",
              "      <td>African Burial Ground NM</td>\n",
              "      <td>108,585</td>\n",
              "      <td>77,624</td>\n",
              "      <td>93,234</td>\n",
              "      <td>54,861</td>\n",
              "      <td>56,348</td>\n",
              "      <td>46,526</td>\n",
              "      <td>43,182</td>\n",
              "      <td>45,035</td>\n",
              "      <td>47,427</td>\n",
              "      <td>NaN</td>\n",
              "      <td>NaN</td>\n",
              "      <td>7,908</td>\n",
              "      <td>58,073</td>\n",
              "    </tr>\n",
              "    <tr>\n",
              "      <th>4</th>\n",
              "      <td>Agate Fossil Beds NM</td>\n",
              "      <td>11,617</td>\n",
              "      <td>11,824</td>\n",
              "      <td>10,504</td>\n",
              "      <td>12,440</td>\n",
              "      <td>13,264</td>\n",
              "      <td>15,555</td>\n",
              "      <td>32,038</td>\n",
              "      <td>16,238</td>\n",
              "      <td>16,657</td>\n",
              "      <td>NaN</td>\n",
              "      <td>NaN</td>\n",
              "      <td>8,722</td>\n",
              "      <td>14,886</td>\n",
              "    </tr>\n",
              "  </tbody>\n",
              "</table>\n",
              "</div>"
            ],
            "text/plain": [
              "                        Park Name       2011  ...       2020    Average\n",
              "0  Abraham Lincoln Birthplace NHP    163,568  ...    228,141    213,629\n",
              "1                       Acadia NP  2,374,645  ...  2,669,034  2,889,149\n",
              "2                       Adams NHP    219,975  ...      6,937    197,381\n",
              "3        African Burial Ground NM    108,585  ...      7,908     58,073\n",
              "4            Agate Fossil Beds NM     11,617  ...      8,722     14,886\n",
              "\n",
              "[5 rows x 14 columns]"
            ]
          },
          "metadata": {}
        },
        {
          "output_type": "stream",
          "name": "stdout",
          "text": [
            "######### Ozone Quality in 2021 #########\n"
          ]
        },
        {
          "output_type": "display_data",
          "data": {
            "text/html": [
              "<div>\n",
              "<style scoped>\n",
              "    .dataframe tbody tr th:only-of-type {\n",
              "        vertical-align: middle;\n",
              "    }\n",
              "\n",
              "    .dataframe tbody tr th {\n",
              "        vertical-align: top;\n",
              "    }\n",
              "\n",
              "    .dataframe thead th {\n",
              "        text-align: right;\n",
              "    }\n",
              "</style>\n",
              "<table border=\"1\" class=\"dataframe\">\n",
              "  <thead>\n",
              "    <tr style=\"text-align: right;\">\n",
              "      <th></th>\n",
              "      <th>Park Code</th>\n",
              "      <th>Park Name</th>\n",
              "      <th>Site</th>\n",
              "      <th>January</th>\n",
              "      <th>February</th>\n",
              "      <th>March</th>\n",
              "      <th>April</th>\n",
              "      <th>May</th>\n",
              "      <th>June</th>\n",
              "      <th>July</th>\n",
              "      <th>August</th>\n",
              "      <th>September</th>\n",
              "      <th>October</th>\n",
              "      <th>November</th>\n",
              "      <th>December</th>\n",
              "      <th>Total</th>\n",
              "      <th>Year</th>\n",
              "    </tr>\n",
              "  </thead>\n",
              "  <tbody>\n",
              "    <tr>\n",
              "      <th>0</th>\n",
              "      <td>ACAD-CM</td>\n",
              "      <td>Acadia National Park</td>\n",
              "      <td>Cadillac Mountain</td>\n",
              "      <td>NaN</td>\n",
              "      <td>0.0</td>\n",
              "      <td>0.0</td>\n",
              "      <td>0.0</td>\n",
              "      <td>0.0</td>\n",
              "      <td>2</td>\n",
              "      <td>0</td>\n",
              "      <td>1</td>\n",
              "      <td>0.0</td>\n",
              "      <td>0.0</td>\n",
              "      <td>NaN</td>\n",
              "      <td>NaN</td>\n",
              "      <td>3</td>\n",
              "      <td>2021</td>\n",
              "    </tr>\n",
              "    <tr>\n",
              "      <th>1</th>\n",
              "      <td>ACAD-MH</td>\n",
              "      <td>Acadia National Park</td>\n",
              "      <td>McFarland Hill</td>\n",
              "      <td>0.0</td>\n",
              "      <td>0.0</td>\n",
              "      <td>0.0</td>\n",
              "      <td>0.0</td>\n",
              "      <td>0.0</td>\n",
              "      <td>2</td>\n",
              "      <td>0</td>\n",
              "      <td>0</td>\n",
              "      <td>0.0</td>\n",
              "      <td>0.0</td>\n",
              "      <td>NaN</td>\n",
              "      <td>NaN</td>\n",
              "      <td>2</td>\n",
              "      <td>2021</td>\n",
              "    </tr>\n",
              "    <tr>\n",
              "      <th>2</th>\n",
              "      <td>BIBE-KB</td>\n",
              "      <td>Big Bend National Park</td>\n",
              "      <td>K-Bar Ranch Road</td>\n",
              "      <td>0.0</td>\n",
              "      <td>0.0</td>\n",
              "      <td>0.0</td>\n",
              "      <td>0.0</td>\n",
              "      <td>0.0</td>\n",
              "      <td>0</td>\n",
              "      <td>0</td>\n",
              "      <td>0</td>\n",
              "      <td>0.0</td>\n",
              "      <td>0.0</td>\n",
              "      <td>NaN</td>\n",
              "      <td>NaN</td>\n",
              "      <td>0</td>\n",
              "      <td>2021</td>\n",
              "    </tr>\n",
              "    <tr>\n",
              "      <th>3</th>\n",
              "      <td>CACO</td>\n",
              "      <td>Cape Cod</td>\n",
              "      <td>NaN</td>\n",
              "      <td>0.0</td>\n",
              "      <td>0.0</td>\n",
              "      <td>0.0</td>\n",
              "      <td>0.0</td>\n",
              "      <td>0.0</td>\n",
              "      <td>2</td>\n",
              "      <td>0</td>\n",
              "      <td>1</td>\n",
              "      <td>0.0</td>\n",
              "      <td>0.0</td>\n",
              "      <td>NaN</td>\n",
              "      <td>NaN</td>\n",
              "      <td>3</td>\n",
              "      <td>2021</td>\n",
              "    </tr>\n",
              "    <tr>\n",
              "      <th>4</th>\n",
              "      <td>CANY-IS</td>\n",
              "      <td>Canyonlands National Park</td>\n",
              "      <td>Island in the Sky</td>\n",
              "      <td>0.0</td>\n",
              "      <td>0.0</td>\n",
              "      <td>0.0</td>\n",
              "      <td>0.0</td>\n",
              "      <td>0.0</td>\n",
              "      <td>0</td>\n",
              "      <td>0</td>\n",
              "      <td>2</td>\n",
              "      <td>0.0</td>\n",
              "      <td>0.0</td>\n",
              "      <td>NaN</td>\n",
              "      <td>NaN</td>\n",
              "      <td>2</td>\n",
              "      <td>2021</td>\n",
              "    </tr>\n",
              "  </tbody>\n",
              "</table>\n",
              "</div>"
            ],
            "text/plain": [
              "  Park Code                  Park Name  ... Total  Year \n",
              "0   ACAD-CM       Acadia National Park  ...     3   2021\n",
              "1   ACAD-MH       Acadia National Park  ...     2   2021\n",
              "2   BIBE-KB     Big Bend National Park  ...     0   2021\n",
              "3      CACO                   Cape Cod  ...     3   2021\n",
              "4   CANY-IS  Canyonlands National Park  ...     2   2021\n",
              "\n",
              "[5 rows x 17 columns]"
            ]
          },
          "metadata": {}
        }
      ]
    },
    {
      "cell_type": "markdown",
      "metadata": {
        "id": "a008B4TL1pHa"
      },
      "source": [
        "Variable Description "
      ]
    },
    {
      "cell_type": "code",
      "metadata": {
        "colab": {
          "base_uri": "https://localhost:8080/"
        },
        "id": "24T2N2MYjlnO",
        "outputId": "3f2729c8-c02b-4e41-ac8e-7913e9b70fb1"
      },
      "source": [
        "species[\"Scientific Name\"].value_counts()"
      ],
      "execution_count": 173,
      "outputs": [
        {
          "output_type": "execute_result",
          "data": {
            "text/plain": [
              "Falco peregrinus                   56\n",
              "Circus cyaneus                     55\n",
              "Tachycineta bicolor                54\n",
              "Pandion haliaetus                  54\n",
              "Accipiter striatus                 54\n",
              "                                   ..\n",
              "Leptonia vetulina                   1\n",
              "Veromessor smithi                   1\n",
              "Aster simplex var. ramosissimus     1\n",
              "Fleischmannia pycnocephala          1\n",
              "Microarthridion littorale           1\n",
              "Name: Scientific Name, Length: 46022, dtype: int64"
            ]
          },
          "metadata": {},
          "execution_count": 173
        }
      ]
    },
    {
      "cell_type": "markdown",
      "metadata": {
        "id": "dKz2W3v_1rmW"
      },
      "source": [
        "\n",
        "**Parks Data set**\n",
        "\n",
        "Variable       | Description\n",
        "-------------- | ------------------------------------------------------------------\n",
        "Park Code | National Park Service unique code for each Park \n",
        "Park Name  | The official name for each Park \n",
        "State | US state where the park is located \n",
        "Acres | Size of the park in acres\n",
        "Latitude | Latitude of the park (centroid)\n",
        "Longitude | Longitude of the park (centroid)\n",
        "\n",
        "\n",
        "\n"
      ]
    },
    {
      "cell_type": "markdown",
      "metadata": {
        "id": "J6Myg9hH3EvH"
      },
      "source": [
        "**Species Data Set**\n",
        "\n",
        "Variable       | Description\n",
        "-------------- | ------------------------------------------------------------------\n",
        "Species ID | National Park Servies park code \n",
        "Park Name  | Park where the species is found\n",
        "Category | The type of category the species belongs to\n",
        "Order | Scientific order the species belongs to\n",
        "Family | Scientific family the species belongs to \n",
        "Scientific Name | The full scientific name of the specie \n",
        "Common Names | Usual common names for the specie \n",
        "Record Status | The record status of the specie \n",
        "Occurrence | Whether or not the presence of the species has been confirmed\n",
        "Nativeness | Whether the species is native from the are or not native/invasive\n",
        "Abundance | Commonality of sightseeing \n",
        "Seasonality | When the species can be found in the park \n",
        "Conservation | IUCN species conservation status "
      ]
    },
    {
      "cell_type": "markdown",
      "metadata": {
        "id": "fBXbNCZS-b3b"
      },
      "source": [
        "**Visitation Data Set**\n",
        "\n",
        "Variable       | Description\n",
        "-------------- | ------------------------------------------------------------------\n",
        "Park Name  | Park where the species is found\n",
        "2011 - 2019 | Total visitation per year \n",
        "Average | Average of visitation from 2011 -2019 in each park "
      ]
    },
    {
      "cell_type": "markdown",
      "metadata": {
        "id": "27Z0HY-B9foB"
      },
      "source": [
        "**Ozone Data Set**\n",
        "\n",
        "Variable       | Description\n",
        "-------------- | ------------------------------------------------------------------\n",
        "Park Code | National Park Service unique code for each Park \n",
        "Park Name  | The official name for each Park \n",
        "Site | Site where the Air Quality was measured \n",
        "January - December | Monthly summaries of ozone exceedance days \n",
        "Total | Sum of Monthly summaries of ozone exceedance days "
      ]
    },
    {
      "cell_type": "markdown",
      "metadata": {
        "id": "CD2NwLYn9dZz"
      },
      "source": [
        "\n",
        "**Granularity of the data set**\n",
        "\n",
        "\n",
        "\n",
        "\n",
        "**Parks Data Set**: For this data set each row represents a National Park and the physical characteristics it has  \n",
        "\n",
        "**Species Data Set**: For this data set each row represents an individual species and its characteristics, which includes in what National Park it is found. \n",
        "\n",
        "**Visitation Data Set** : For this data set each row represents a National Park and the visitation it has per year\n",
        "\n",
        "**Ozone Data Set** For this data set each row represents a National Parks and the ozone exceeds it had per month and a total summary "
      ]
    },
    {
      "cell_type": "markdown",
      "metadata": {
        "id": "eeqjLKXIFhcx"
      },
      "source": [
        "\n",
        "\n",
        "\n",
        "\n",
        "## Zooming in on Yosemite\n",
        "\n",
        "Breaking down species status in one single park to better understand the data. \n",
        "\n",
        "First, extract just rows from Yosemite and columns of interest: "
      ]
    },
    {
      "cell_type": "code",
      "metadata": {
        "colab": {
          "base_uri": "https://localhost:8080/",
          "height": 424
        },
        "id": "OdGZg2Zm1Uzm",
        "outputId": "89c072d0-0e32-4d01-9733-3c0c257a91c9"
      },
      "source": [
        "yosemite_species = species[species[\"Park Name\"] == \"Yosemite National Park\"][[\"Scientific Name\", \"Occurrence\", \"Record Status\", \"Common Names\", \"Conservation Status\"]]\n",
        "yosemite_species"
      ],
      "execution_count": 174,
      "outputs": [
        {
          "output_type": "execute_result",
          "data": {
            "text/html": [
              "<div>\n",
              "<style scoped>\n",
              "    .dataframe tbody tr th:only-of-type {\n",
              "        vertical-align: middle;\n",
              "    }\n",
              "\n",
              "    .dataframe tbody tr th {\n",
              "        vertical-align: top;\n",
              "    }\n",
              "\n",
              "    .dataframe thead th {\n",
              "        text-align: right;\n",
              "    }\n",
              "</style>\n",
              "<table border=\"1\" class=\"dataframe\">\n",
              "  <thead>\n",
              "    <tr style=\"text-align: right;\">\n",
              "      <th></th>\n",
              "      <th>Scientific Name</th>\n",
              "      <th>Occurrence</th>\n",
              "      <th>Record Status</th>\n",
              "      <th>Common Names</th>\n",
              "      <th>Conservation Status</th>\n",
              "    </tr>\n",
              "  </thead>\n",
              "  <tbody>\n",
              "    <tr>\n",
              "      <th>115364</th>\n",
              "      <td>Ovis canadensis sierrae</td>\n",
              "      <td>Present</td>\n",
              "      <td>Approved</td>\n",
              "      <td>Sierra Nevada Bighorn Sheep</td>\n",
              "      <td>Endangered</td>\n",
              "    </tr>\n",
              "    <tr>\n",
              "      <th>115365</th>\n",
              "      <td>Cervus nannodes</td>\n",
              "      <td>Not Present (Historical Report)</td>\n",
              "      <td>In Review</td>\n",
              "      <td>None</td>\n",
              "      <td>NaN</td>\n",
              "    </tr>\n",
              "    <tr>\n",
              "      <th>115366</th>\n",
              "      <td>Odocoileus hemionus</td>\n",
              "      <td>Present</td>\n",
              "      <td>Approved</td>\n",
              "      <td>Mule Deer, Mule Deer</td>\n",
              "      <td>NaN</td>\n",
              "    </tr>\n",
              "    <tr>\n",
              "      <th>115367</th>\n",
              "      <td>Sus scrofa</td>\n",
              "      <td>Not Confirmed</td>\n",
              "      <td>Approved</td>\n",
              "      <td>Pig, Pig (Feral), Wild Boar, Wild Boar</td>\n",
              "      <td>NaN</td>\n",
              "    </tr>\n",
              "    <tr>\n",
              "      <th>115368</th>\n",
              "      <td>Canis latrans</td>\n",
              "      <td>Present</td>\n",
              "      <td>Approved</td>\n",
              "      <td>Coyote</td>\n",
              "      <td>Species of Concern</td>\n",
              "    </tr>\n",
              "    <tr>\n",
              "      <th>...</th>\n",
              "      <td>...</td>\n",
              "      <td>...</td>\n",
              "      <td>...</td>\n",
              "      <td>...</td>\n",
              "      <td>...</td>\n",
              "    </tr>\n",
              "    <tr>\n",
              "      <th>117447</th>\n",
              "      <td>Solanum parishii</td>\n",
              "      <td>Present</td>\n",
              "      <td>Approved</td>\n",
              "      <td>Parish's Nightshade</td>\n",
              "      <td>NaN</td>\n",
              "    </tr>\n",
              "    <tr>\n",
              "      <th>117448</th>\n",
              "      <td>Solanum xanti</td>\n",
              "      <td>Present</td>\n",
              "      <td>Approved</td>\n",
              "      <td>Chaparral Nightshade, Purple Nightshade</td>\n",
              "      <td>NaN</td>\n",
              "    </tr>\n",
              "    <tr>\n",
              "      <th>117449</th>\n",
              "      <td>Parthenocissus vitacea</td>\n",
              "      <td>Present</td>\n",
              "      <td>Approved</td>\n",
              "      <td>Thicket Creeper, Virginia Creeper, Woodbine</td>\n",
              "      <td>NaN</td>\n",
              "    </tr>\n",
              "    <tr>\n",
              "      <th>117450</th>\n",
              "      <td>Vitis californica</td>\n",
              "      <td>Present</td>\n",
              "      <td>Approved</td>\n",
              "      <td>California Grape, California Wild Grape</td>\n",
              "      <td>NaN</td>\n",
              "    </tr>\n",
              "    <tr>\n",
              "      <th>117451</th>\n",
              "      <td>Tribulus terrestris</td>\n",
              "      <td>Present</td>\n",
              "      <td>Approved</td>\n",
              "      <td>Bullhead, Caltrop, Goathead, Mexican Sandbur, ...</td>\n",
              "      <td>NaN</td>\n",
              "    </tr>\n",
              "  </tbody>\n",
              "</table>\n",
              "<p>2088 rows × 5 columns</p>\n",
              "</div>"
            ],
            "text/plain": [
              "                Scientific Name  ... Conservation Status\n",
              "115364  Ovis canadensis sierrae  ...          Endangered\n",
              "115365          Cervus nannodes  ...                 NaN\n",
              "115366      Odocoileus hemionus  ...                 NaN\n",
              "115367               Sus scrofa  ...                 NaN\n",
              "115368            Canis latrans  ...  Species of Concern\n",
              "...                         ...  ...                 ...\n",
              "117447         Solanum parishii  ...                 NaN\n",
              "117448            Solanum xanti  ...                 NaN\n",
              "117449   Parthenocissus vitacea  ...                 NaN\n",
              "117450        Vitis californica  ...                 NaN\n",
              "117451      Tribulus terrestris  ...                 NaN\n",
              "\n",
              "[2088 rows x 5 columns]"
            ]
          },
          "metadata": {},
          "execution_count": 174
        }
      ]
    },
    {
      "cell_type": "markdown",
      "metadata": {
        "id": "6bWBjLIw9YO7"
      },
      "source": [
        "Next, we examine how many species are of each designation. The majority of species have a status of NaN, which means that they do not have any sort of \"at-risk\" status. We use \"at-risk\" status to refer to all of: \"Species of Concern\", \"Threatened\", and \"Endangered\". "
      ]
    },
    {
      "cell_type": "code",
      "metadata": {
        "colab": {
          "base_uri": "https://localhost:8080/"
        },
        "id": "AkpsYeQp6q2_",
        "outputId": "1bee5fc4-9932-4d1b-fb23-690d074b9734"
      },
      "source": [
        "yosemite_conservation_status = yosemite_species[\"Conservation Status\"].value_counts(dropna=False)\n",
        "yosemite_conservation_status"
      ],
      "execution_count": 175,
      "outputs": [
        {
          "output_type": "execute_result",
          "data": {
            "text/plain": [
              "NaN                   1992\n",
              "Species of Concern      81\n",
              "Threatened               5\n",
              "Endangered               4\n",
              "Under Review             4\n",
              "In Recovery              2\n",
              "Name: Conservation Status, dtype: int64"
            ]
          },
          "metadata": {},
          "execution_count": 175
        }
      ]
    },
    {
      "cell_type": "markdown",
      "metadata": {
        "id": "CpgVS87-6skv"
      },
      "source": [
        "We also check the \"Occurrence\" status of each species in the park. The dataset contains species that are not confirmed to actually be in a given park, are no longer found in a given park, or were incorrectly reported to be found in the park. We only want to look at species whose \"Occurrence\" is \"Present\", meaning that they are actively present in the park. In the case of Yosemite, there are 109 not confirmed species, 28 falsely reported species, and 17 species that once exsisted in the park but are not longer found there. We will want to remove all such species. "
      ]
    },
    {
      "cell_type": "code",
      "metadata": {
        "colab": {
          "base_uri": "https://localhost:8080/"
        },
        "id": "2uqjKCxKIkYW",
        "outputId": "3db5cd92-a391-49b9-e254-94a3f505b52b"
      },
      "source": [
        "yosemite_occurrence = yosemite_species[\"Occurrence\"].value_counts(dropna=False)\n",
        "yosemite_occurrence"
      ],
      "execution_count": 176,
      "outputs": [
        {
          "output_type": "execute_result",
          "data": {
            "text/plain": [
              "Present                            1905\n",
              "Not Confirmed                       109\n",
              "NaN                                  29\n",
              "Not Present (False Report)           28\n",
              "Not Present (Historical Report)      17\n",
              "Name: Occurrence, dtype: int64"
            ]
          },
          "metadata": {},
          "execution_count": 176
        }
      ]
    },
    {
      "cell_type": "markdown",
      "metadata": {
        "id": "dXNUDkpwm8OH"
      },
      "source": [
        "# Data Cleaning "
      ]
    },
    {
      "cell_type": "markdown",
      "metadata": {
        "id": "6y-UrexVG10P"
      },
      "source": [
        "### Removing Unconfirmed Species "
      ]
    },
    {
      "cell_type": "markdown",
      "metadata": {
        "id": "GEJLn-mMJrZo"
      },
      "source": [
        "As we found in our exploration of Yosemite species, there are some species in the dataset for each park that aren't actually confirmed to presently exist in the park. We want to remove these species. We only want to keep the species that are designated as \"Present\" or \"Approved\". "
      ]
    },
    {
      "cell_type": "code",
      "metadata": {
        "colab": {
          "base_uri": "https://localhost:8080/"
        },
        "id": "kXYOalyNnHEg",
        "outputId": "9a25e305-6dea-47f8-a070-f2205709e736"
      },
      "source": [
        "species[\"Occurrence\"].value_counts(dropna=False)"
      ],
      "execution_count": 177,
      "outputs": [
        {
          "output_type": "execute_result",
          "data": {
            "text/plain": [
              "Present                            83278\n",
              "NaN                                20142\n",
              "Not Confirmed                      11958\n",
              "Not Present (False Report)          2072\n",
              "Not Present (Historical Report)     1310\n",
              "Not Present                          431\n",
              "Approved                              51\n",
              "In Review                              6\n",
              "Name: Occurrence, dtype: int64"
            ]
          },
          "metadata": {},
          "execution_count": 177
        }
      ]
    },
    {
      "cell_type": "code",
      "metadata": {
        "id": "XUI6Sz5XsLN0"
      },
      "source": [
        "species = species[(species[\"Occurrence\"] == \"Present\") | (species[\"Occurrence\"] == \"Approved\")]"
      ],
      "execution_count": 178,
      "outputs": []
    },
    {
      "cell_type": "markdown",
      "metadata": {
        "id": "waHpcQpeFHxn"
      },
      "source": [
        "### Standardize Park Naming \n",
        "\n"
      ]
    },
    {
      "cell_type": "markdown",
      "metadata": {
        "id": "cQMgI4zlK7Ir"
      },
      "source": [
        "We want to remove repeating titles such as \"National Park\", \"NP\", \"NM\", etc from the park name columns. This is helpful for two reasons: (1) it removes clutter in visualizations and (2) it allows us to merge the `visitation` data with the `parks` data"
      ]
    },
    {
      "cell_type": "code",
      "metadata": {
        "colab": {
          "base_uri": "https://localhost:8080/"
        },
        "id": "KtwQHvOvGcna",
        "outputId": "1c72f4aa-9275-4286-c965-bfd5e4563a15"
      },
      "source": [
        "#Rename Unit to Park Name\n",
        "ozone = ozone.rename(columns={'Unit':'Park Name'})\n",
        "# regex strings cover all combinations of park designations (i.e. NM, NP, National Park and Preserve, etc.)\n",
        "replace_list = [r\"National Park.*\", r\"N[A-Z].*\"]\n",
        "\n",
        "# apply to parks dataset \n",
        "parks[\"Park Name\"] = parks[\"Park Name\"].str.replace('|'.join(replace_list), '', regex=True)\n",
        "# apply to species dataset \n",
        "species[\"Park Name\"] = species[\"Park Name\"].str.replace('|'.join(replace_list), '', regex=True)\n",
        "# apply to ozone dataset \n",
        "ozone['Park Name'] = ozone[\"Park Name\"].str.replace('|'.join(replace_list), '', regex=True)\n",
        "\n",
        "# the visitation dataset contains quite a few rows and columns consisting entirely of NaN values, which we want to remove\n",
        "visitation = visitation.dropna(how=\"all\", axis=1)\n",
        "visitation = visitation.dropna(how=\"all\", axis=0)\n",
        "\n",
        "# visitation dataset also has some special case renaming that must happen\n",
        "visitation_replace = {\"Wrangell-St. Elias NP & PRES\" : \"Wrangell - St Elias \", \"Gates of the Arctic NP & PRES\" : \"Gates Of The Arctic \"}\n",
        "visitation[\"Park Name\"] = visitation[\"Park Name\"].replace(visitation_replace)\n",
        "\n",
        "visitation[\"Park Name\"] = visitation[\"Park Name\"].str.replace('|'.join(replace_list), '', regex=True)\n",
        "\n",
        "visitation[\"Park Name\"]"
      ],
      "execution_count": 179,
      "outputs": [
        {
          "output_type": "execute_result",
          "data": {
            "text/plain": [
              "0      Abraham Lincoln Birthplace \n",
              "1                          Acadia \n",
              "2                           Adams \n",
              "3           African Burial Ground \n",
              "4               Agate Fossil Beds \n",
              "                  ...             \n",
              "378                       Wupatki \n",
              "379                   Yellowstone \n",
              "380                      Yosemite \n",
              "381          Yukon-Charley Rivers \n",
              "382                          Zion \n",
              "Name: Park Name, Length: 383, dtype: object"
            ]
          },
          "metadata": {},
          "execution_count": 179
        }
      ]
    },
    {
      "cell_type": "code",
      "metadata": {
        "id": "ykQMtOUQcbD8",
        "colab": {
          "base_uri": "https://localhost:8080/",
          "height": 81
        },
        "outputId": "788eaf78-47c5-47e9-dee9-5f7ba0a35c7d"
      },
      "source": [
        "visitation[visitation[\"Park Name\"] == \"Gates Of The Arctic \"]"
      ],
      "execution_count": 180,
      "outputs": [
        {
          "output_type": "execute_result",
          "data": {
            "text/html": [
              "<div>\n",
              "<style scoped>\n",
              "    .dataframe tbody tr th:only-of-type {\n",
              "        vertical-align: middle;\n",
              "    }\n",
              "\n",
              "    .dataframe tbody tr th {\n",
              "        vertical-align: top;\n",
              "    }\n",
              "\n",
              "    .dataframe thead th {\n",
              "        text-align: right;\n",
              "    }\n",
              "</style>\n",
              "<table border=\"1\" class=\"dataframe\">\n",
              "  <thead>\n",
              "    <tr style=\"text-align: right;\">\n",
              "      <th></th>\n",
              "      <th>Park Name</th>\n",
              "      <th>2011</th>\n",
              "      <th>2012</th>\n",
              "      <th>2013</th>\n",
              "      <th>2014</th>\n",
              "      <th>2015</th>\n",
              "      <th>2016</th>\n",
              "      <th>2017</th>\n",
              "      <th>2018</th>\n",
              "      <th>2019</th>\n",
              "      <th>2020</th>\n",
              "      <th>Average</th>\n",
              "    </tr>\n",
              "  </thead>\n",
              "  <tbody>\n",
              "    <tr>\n",
              "      <th>137</th>\n",
              "      <td>Gates Of The Arctic</td>\n",
              "      <td>11,623</td>\n",
              "      <td>10,899</td>\n",
              "      <td>11,012</td>\n",
              "      <td>12,669</td>\n",
              "      <td>10,745</td>\n",
              "      <td>10,047</td>\n",
              "      <td>11,177</td>\n",
              "      <td>9,591</td>\n",
              "      <td>10,518</td>\n",
              "      <td>2,872</td>\n",
              "      <td>10,115</td>\n",
              "    </tr>\n",
              "  </tbody>\n",
              "</table>\n",
              "</div>"
            ],
            "text/plain": [
              "                Park Name    2011    2012    2013  ...   2018    2019   2020 Average\n",
              "137  Gates Of The Arctic   11,623  10,899  11,012  ...  9,591  10,518  2,872  10,115\n",
              "\n",
              "[1 rows x 12 columns]"
            ]
          },
          "metadata": {},
          "execution_count": 180
        }
      ]
    },
    {
      "cell_type": "markdown",
      "metadata": {
        "id": "DBfkDjYp1Z9J"
      },
      "source": [
        "# Exploratory Data Analysis & Feature Engineering"
      ]
    },
    {
      "cell_type": "markdown",
      "metadata": {
        "id": "TiEjWnD34CLf"
      },
      "source": [
        "## Variable Distributions\n",
        "Analizing the variable distribution, missing values and outliers\n"
      ]
    },
    {
      "cell_type": "markdown",
      "metadata": {
        "id": "yGGPlpN959R4"
      },
      "source": [
        "### Park Size Distribution"
      ]
    },
    {
      "cell_type": "code",
      "metadata": {
        "id": "zzsIGHWQ5702",
        "colab": {
          "base_uri": "https://localhost:8080/",
          "height": 600
        },
        "outputId": "83ead55b-e79c-457f-b8ed-74a195076ebd"
      },
      "source": [
        "plt.figure(figsize=(20, 8))\n",
        "plt.xlabel('Acres')\n",
        "plt.ylabel('Parks')\n",
        "plt.title('Frequency distributions of size of Parks in Acres')\n",
        "plt.hist(parks['Acres'], facecolor='blue', alpha=0.5 )"
      ],
      "execution_count": 181,
      "outputs": [
        {
          "output_type": "execute_result",
          "data": {
            "text/plain": [
              "(array([42.,  5.,  2.,  2.,  2.,  1.,  0.,  0.,  0.,  2.]),\n",
              " array([5.5500000e+03, 8.3730980e+05, 1.6690696e+06, 2.5008294e+06,\n",
              "        3.3325892e+06, 4.1643490e+06, 4.9961088e+06, 5.8278686e+06,\n",
              "        6.6596284e+06, 7.4913882e+06, 8.3231480e+06]),\n",
              " <a list of 10 Patch objects>)"
            ]
          },
          "metadata": {},
          "execution_count": 181
        },
        {
          "output_type": "display_data",
          "data": {
            "image/png": "[encoded data removed]",
            "text/plain": [
              "<Figure size 1440x576 with 1 Axes>"
            ]
          },
          "metadata": {
            "needs_background": "light"
          }
        }
      ]
    },
    {
      "cell_type": "markdown",
      "metadata": {
        "id": "50Mtgkwo6CVM"
      },
      "source": [
        "In this chart we are able to visualize that most park's size range from 0-1 million acres and there are some outliers which are bigger than most parks. We are able to observe that there are some parks which are quite large and measure around 8 acres."
      ]
    },
    {
      "cell_type": "code",
      "metadata": {
        "id": "VC-CdtT34EkP",
        "colab": {
          "base_uri": "https://localhost:8080/",
          "height": 542
        },
        "outputId": "c98ebf49-c6c8-4fb3-fa8a-4460d53aceae"
      },
      "source": [
        "# plot bar chart to demostrate the size of each park in acres\n",
        "parks_sorted_by_acres = parks[[\"Park Name\", \"Acres\"]].sort_values(by=\"Acres\", ascending=False)\n",
        "fig = px.bar(parks_sorted_by_acres, x=\"Park Name\", y=\"Acres\")\n",
        "fig.show()"
      ],
      "execution_count": 182,
      "outputs": [
        {
          "output_type": "display_data",
          "data": {
            "text/html": [
              "<html>\n",
              "<head><meta charset=\"utf-8\" /></head>\n",
              "<body>\n",
              "    <div>\n",
              "            <script src=\"https://cdnjs.cloudflare.com/ajax/libs/mathjax/2.7.5/MathJax.js?config=TeX-AMS-MML_SVG\"></script><script type=\"text/javascript\">if (window.MathJax) {MathJax.Hub.Config({SVG: {font: \"STIX-Web\"}});}</script>\n",
              "                <script type=\"text/javascript\">window.PlotlyConfig = {MathJaxConfig: 'local'};</script>\n",
              "        <script src=\"https://cdn.plot.ly/plotly-latest.min.js\"></script>    \n",
              "            <div id=\"0e7b924e-6591-4448-a6fc-3f1531e0709a\" class=\"plotly-graph-div\" style=\"height:525px; width:100%;\"></div>\n",
              "            <script type=\"text/javascript\">\n",
              "                \n",
              "                    window.PLOTLYENV=window.PLOTLYENV || {};\n",
              "                    \n",
              "                if (document.getElementById(\"0e7b924e-6591-4448-a6fc-3f1531e0709a\")) {\n",
              "                    Plotly.newPlot(\n",
              "                        '0e7b924e-6591-4448-a6fc-3f1531e0709a',\n",
              "                        [{\"alignmentgroup\": \"True\", \"hoverlabel\": {\"namelength\": 0}, \"hovertemplate\": \"Park Name=%{x}<br>Acres=%{y}\", \"legendgroup\": \"\", \"marker\": {\"color\": \"#636efa\"}, \"name\": \"\", \"offsetgroup\": \"\", \"orientation\": \"v\", \"showlegend\": false, \"textposition\": \"auto\", \"type\": \"bar\", \"x\": [\"Wrangell - St Elias \", \"Gates Of The Arctic \", \"Death Valley \", \"Katmai \", \"Denali \", \"Glacier Bay \", \"Lake Clark \", \"Yellowstone \", \"Kobuk Valley \", \"Everglades \", \"Grand Canyon \", \"Glacier \", \"Olympic \", \"Sequoia and Kings Canyon \", \"Big Bend \", \"Joshua Tree \", \"Yosemite \", \"Kenai Fjords \", \"Isle Royale \", \"Great Smoky Mountains \", \"North Cascades \", \"Canyonlands \", \"Hawaii Volcanoes \", \"Grand Teton \", \"Rocky Mountain \", \"Channel Islands \", \"Badlands \", \"Capitol Reef \", \"Mount Rainier \", \"Voyageurs \", \"Shenandoah \", \"Crater Lake \", \"Biscayne \", \"Zion \", \"Redwood \", \"Lassen Volcanic \", \"Petrified Forest \", \"Saguaro \", \"Guadalupe Mountains \", \"Great Basin \", \"Arches \", \"Theodore Roosevelt \", \"Dry Tortugas \", \"Mammoth Cave \", \"Mesa Verde \", \"Acadia \", \"Carlsbad Caverns \", \"Great Sand Dunes \", \"Bryce Canyon \", \"Cuyahoga Valley \", \"Black Canyon of the Gunnison \", \"Haleakala \", \"Wind Cave \", \"Pinnacles \", \"Congaree \", \"Hot Springs \"], \"xaxis\": \"x\", \"y\": [8323148, 7523898, 4740912, 3674530, 3372402, 3224840, 2619733, 2219791, 1750717, 1508538, 1217403, 1013572, 922651, 865952, 801163, 789745, 761266, 669983, 571790, 521490, 504781, 337598, 323431, 309995, 265828, 249561, 242756, 241904, 235625, 218200, 199045, 183224, 172924, 146598, 112512, 106372, 93533, 91440, 86416, 77180, 76519, 70447, 64701, 52830, 52122, 47390, 46766, 42984, 35835, 32950, 32950, 29094, 28295, 26606, 26546, 5550], \"yaxis\": \"y\"}],\n",
              "                        {\"barmode\": \"relative\", \"legend\": {\"tracegroupgap\": 0}, \"margin\": {\"t\": 60}, \"template\": {\"data\": {\"bar\": [{\"error_x\": {\"color\": \"#2a3f5f\"}, \"error_y\": {\"color\": \"#2a3f5f\"}, \"marker\": {\"line\": {\"color\": \"#E5ECF6\", \"width\": 0.5}}, \"type\": \"bar\"}], \"barpolar\": [{\"marker\": {\"line\": {\"color\": \"#E5ECF6\", \"width\": 0.5}}, \"type\": \"barpolar\"}], \"carpet\": [{\"aaxis\": {\"endlinecolor\": \"#2a3f5f\", \"gridcolor\": \"white\", \"linecolor\": \"white\", \"minorgridcolor\": \"white\", \"startlinecolor\": \"#2a3f5f\"}, \"baxis\": {\"endlinecolor\": \"#2a3f5f\", \"gridcolor\": \"white\", \"linecolor\": \"white\", \"minorgridcolor\": \"white\", \"startlinecolor\": \"#2a3f5f\"}, \"type\": \"carpet\"}], \"choropleth\": [{\"colorbar\": {\"outlinewidth\": 0, \"ticks\": \"\"}, \"type\": \"choropleth\"}], \"contour\": [{\"colorbar\": {\"outlinewidth\": 0, \"ticks\": \"\"}, \"colorscale\": [[0.0, \"#0d0887\"], [0.1111111111111111, \"#46039f\"], [0.2222222222222222, \"#7201a8\"], [0.3333333333333333, \"#9c179e\"], [0.4444444444444444, \"#bd3786\"], [0.5555555555555556, \"#d8576b\"], [0.6666666666666666, \"#ed7953\"], [0.7777777777777778, \"#fb9f3a\"], [0.8888888888888888, \"#fdca26\"], [1.0, \"#f0f921\"]], \"type\": \"contour\"}], \"contourcarpet\": [{\"colorbar\": {\"outlinewidth\": 0, \"ticks\": \"\"}, \"type\": \"contourcarpet\"}], \"heatmap\": [{\"colorbar\": {\"outlinewidth\": 0, \"ticks\": \"\"}, \"colorscale\": [[0.0, \"#0d0887\"], [0.1111111111111111, \"#46039f\"], [0.2222222222222222, \"#7201a8\"], [0.3333333333333333, \"#9c179e\"], [0.4444444444444444, \"#bd3786\"], [0.5555555555555556, \"#d8576b\"], [0.6666666666666666, \"#ed7953\"], [0.7777777777777778, \"#fb9f3a\"], [0.8888888888888888, \"#fdca26\"], [1.0, \"#f0f921\"]], \"type\": \"heatmap\"}], \"heatmapgl\": [{\"colorbar\": {\"outlinewidth\": 0, \"ticks\": \"\"}, \"colorscale\": [[0.0, \"#0d0887\"], [0.1111111111111111, \"#46039f\"], [0.2222222222222222, \"#7201a8\"], [0.3333333333333333, \"#9c179e\"], [0.4444444444444444, \"#bd3786\"], [0.5555555555555556, \"#d8576b\"], [0.6666666666666666, \"#ed7953\"], [0.7777777777777778, \"#fb9f3a\"], [0.8888888888888888, \"#fdca26\"], [1.0, \"#f0f921\"]], \"type\": \"heatmapgl\"}], \"histogram\": [{\"marker\": {\"colorbar\": {\"outlinewidth\": 0, \"ticks\": \"\"}}, \"type\": \"histogram\"}], \"histogram2d\": [{\"colorbar\": {\"outlinewidth\": 0, \"ticks\": \"\"}, \"colorscale\": [[0.0, \"#0d0887\"], [0.1111111111111111, \"#46039f\"], [0.2222222222222222, \"#7201a8\"], [0.3333333333333333, \"#9c179e\"], [0.4444444444444444, \"#bd3786\"], [0.5555555555555556, \"#d8576b\"], [0.6666666666666666, \"#ed7953\"], [0.7777777777777778, \"#fb9f3a\"], [0.8888888888888888, \"#fdca26\"], [1.0, \"#f0f921\"]], \"type\": \"histogram2d\"}], \"histogram2dcontour\": [{\"colorbar\": {\"outlinewidth\": 0, \"ticks\": \"\"}, \"colorscale\": [[0.0, \"#0d0887\"], [0.1111111111111111, \"#46039f\"], [0.2222222222222222, \"#7201a8\"], [0.3333333333333333, \"#9c179e\"], [0.4444444444444444, \"#bd3786\"], [0.5555555555555556, \"#d8576b\"], [0.6666666666666666, \"#ed7953\"], [0.7777777777777778, \"#fb9f3a\"], [0.8888888888888888, \"#fdca26\"], [1.0, \"#f0f921\"]], \"type\": \"histogram2dcontour\"}], \"mesh3d\": [{\"colorbar\": {\"outlinewidth\": 0, \"ticks\": \"\"}, \"type\": \"mesh3d\"}], \"parcoords\": [{\"line\": {\"colorbar\": {\"outlinewidth\": 0, \"ticks\": \"\"}}, \"type\": \"parcoords\"}], \"pie\": [{\"automargin\": true, \"type\": \"pie\"}], \"scatter\": [{\"marker\": {\"colorbar\": {\"outlinewidth\": 0, \"ticks\": \"\"}}, \"type\": \"scatter\"}], \"scatter3d\": [{\"line\": {\"colorbar\": {\"outlinewidth\": 0, \"ticks\": \"\"}}, \"marker\": {\"colorbar\": {\"outlinewidth\": 0, \"ticks\": \"\"}}, \"type\": \"scatter3d\"}], \"scattercarpet\": [{\"marker\": {\"colorbar\": {\"outlinewidth\": 0, \"ticks\": \"\"}}, \"type\": \"scattercarpet\"}], \"scattergeo\": [{\"marker\": {\"colorbar\": {\"outlinewidth\": 0, \"ticks\": \"\"}}, \"type\": \"scattergeo\"}], \"scattergl\": [{\"marker\": {\"colorbar\": {\"outlinewidth\": 0, \"ticks\": \"\"}}, \"type\": \"scattergl\"}], \"scattermapbox\": [{\"marker\": {\"colorbar\": {\"outlinewidth\": 0, \"ticks\": \"\"}}, \"type\": \"scattermapbox\"}], \"scatterpolar\": [{\"marker\": {\"colorbar\": {\"outlinewidth\": 0, \"ticks\": \"\"}}, \"type\": \"scatterpolar\"}], \"scatterpolargl\": [{\"marker\": {\"colorbar\": {\"outlinewidth\": 0, \"ticks\": \"\"}}, \"type\": \"scatterpolargl\"}], \"scatterternary\": [{\"marker\": {\"colorbar\": {\"outlinewidth\": 0, \"ticks\": \"\"}}, \"type\": \"scatterternary\"}], \"surface\": [{\"colorbar\": {\"outlinewidth\": 0, \"ticks\": \"\"}, \"colorscale\": [[0.0, \"#0d0887\"], [0.1111111111111111, \"#46039f\"], [0.2222222222222222, \"#7201a8\"], [0.3333333333333333, \"#9c179e\"], [0.4444444444444444, \"#bd3786\"], [0.5555555555555556, \"#d8576b\"], [0.6666666666666666, \"#ed7953\"], [0.7777777777777778, \"#fb9f3a\"], [0.8888888888888888, \"#fdca26\"], [1.0, \"#f0f921\"]], \"type\": \"surface\"}], \"table\": [{\"cells\": {\"fill\": {\"color\": \"#EBF0F8\"}, \"line\": {\"color\": \"white\"}}, \"header\": {\"fill\": {\"color\": \"#C8D4E3\"}, \"line\": {\"color\": \"white\"}}, \"type\": \"table\"}]}, \"layout\": {\"annotationdefaults\": {\"arrowcolor\": \"#2a3f5f\", \"arrowhead\": 0, \"arrowwidth\": 1}, \"coloraxis\": {\"colorbar\": {\"outlinewidth\": 0, \"ticks\": \"\"}}, \"colorscale\": {\"diverging\": [[0, \"#8e0152\"], [0.1, \"#c51b7d\"], [0.2, \"#de77ae\"], [0.3, \"#f1b6da\"], [0.4, \"#fde0ef\"], [0.5, \"#f7f7f7\"], [0.6, \"#e6f5d0\"], [0.7, \"#b8e186\"], [0.8, \"#7fbc41\"], [0.9, \"#4d9221\"], [1, \"#276419\"]], \"sequential\": [[0.0, \"#0d0887\"], [0.1111111111111111, \"#46039f\"], [0.2222222222222222, \"#7201a8\"], [0.3333333333333333, \"#9c179e\"], [0.4444444444444444, \"#bd3786\"], [0.5555555555555556, \"#d8576b\"], [0.6666666666666666, \"#ed7953\"], [0.7777777777777778, \"#fb9f3a\"], [0.8888888888888888, \"#fdca26\"], [1.0, \"#f0f921\"]], \"sequentialminus\": [[0.0, \"#0d0887\"], [0.1111111111111111, \"#46039f\"], [0.2222222222222222, \"#7201a8\"], [0.3333333333333333, \"#9c179e\"], [0.4444444444444444, \"#bd3786\"], [0.5555555555555556, \"#d8576b\"], [0.6666666666666666, \"#ed7953\"], [0.7777777777777778, \"#fb9f3a\"], [0.8888888888888888, \"#fdca26\"], [1.0, \"#f0f921\"]]}, \"colorway\": [\"#636efa\", \"#EF553B\", \"#00cc96\", \"#ab63fa\", \"#FFA15A\", \"#19d3f3\", \"#FF6692\", \"#B6E880\", \"#FF97FF\", \"#FECB52\"], \"font\": {\"color\": \"#2a3f5f\"}, \"geo\": {\"bgcolor\": \"white\", \"lakecolor\": \"white\", \"landcolor\": \"#E5ECF6\", \"showlakes\": true, \"showland\": true, \"subunitcolor\": \"white\"}, \"hoverlabel\": {\"align\": \"left\"}, \"hovermode\": \"closest\", \"mapbox\": {\"style\": \"light\"}, \"paper_bgcolor\": \"white\", \"plot_bgcolor\": \"#E5ECF6\", \"polar\": {\"angularaxis\": {\"gridcolor\": \"white\", \"linecolor\": \"white\", \"ticks\": \"\"}, \"bgcolor\": \"#E5ECF6\", \"radialaxis\": {\"gridcolor\": \"white\", \"linecolor\": \"white\", \"ticks\": \"\"}}, \"scene\": {\"xaxis\": {\"backgroundcolor\": \"#E5ECF6\", \"gridcolor\": \"white\", \"gridwidth\": 2, \"linecolor\": \"white\", \"showbackground\": true, \"ticks\": \"\", \"zerolinecolor\": \"white\"}, \"yaxis\": {\"backgroundcolor\": \"#E5ECF6\", \"gridcolor\": \"white\", \"gridwidth\": 2, \"linecolor\": \"white\", \"showbackground\": true, \"ticks\": \"\", \"zerolinecolor\": \"white\"}, \"zaxis\": {\"backgroundcolor\": \"#E5ECF6\", \"gridcolor\": \"white\", \"gridwidth\": 2, \"linecolor\": \"white\", \"showbackground\": true, \"ticks\": \"\", \"zerolinecolor\": \"white\"}}, \"shapedefaults\": {\"line\": {\"color\": \"#2a3f5f\"}}, \"ternary\": {\"aaxis\": {\"gridcolor\": \"white\", \"linecolor\": \"white\", \"ticks\": \"\"}, \"baxis\": {\"gridcolor\": \"white\", \"linecolor\": \"white\", \"ticks\": \"\"}, \"bgcolor\": \"#E5ECF6\", \"caxis\": {\"gridcolor\": \"white\", \"linecolor\": \"white\", \"ticks\": \"\"}}, \"title\": {\"x\": 0.05}, \"xaxis\": {\"automargin\": true, \"gridcolor\": \"white\", \"linecolor\": \"white\", \"ticks\": \"\", \"title\": {\"standoff\": 15}, \"zerolinecolor\": \"white\", \"zerolinewidth\": 2}, \"yaxis\": {\"automargin\": true, \"gridcolor\": \"white\", \"linecolor\": \"white\", \"ticks\": \"\", \"title\": {\"standoff\": 15}, \"zerolinecolor\": \"white\", \"zerolinewidth\": 2}}}, \"xaxis\": {\"anchor\": \"y\", \"domain\": [0.0, 1.0], \"title\": {\"text\": \"Park Name\"}}, \"yaxis\": {\"anchor\": \"x\", \"domain\": [0.0, 1.0], \"title\": {\"text\": \"Acres\"}}},\n",
              "                        {\"responsive\": true}\n",
              "                    ).then(function(){\n",
              "                            \n",
              "var gd = document.getElementById('0e7b924e-6591-4448-a6fc-3f1531e0709a');\n",
              "var x = new MutationObserver(function (mutations, observer) {{\n",
              "        var display = window.getComputedStyle(gd).display;\n",
              "        if (!display || display === 'none') {{\n",
              "            console.log([gd, 'removed!']);\n",
              "            Plotly.purge(gd);\n",
              "            observer.disconnect();\n",
              "        }}\n",
              "}});\n",
              "\n",
              "// Listen for the removal of the full notebook cells\n",
              "var notebookContainer = gd.closest('#notebook-container');\n",
              "if (notebookContainer) {{\n",
              "    x.observe(notebookContainer, {childList: true});\n",
              "}}\n",
              "\n",
              "// Listen for the clearing of the current output cell\n",
              "var outputEl = gd.closest('.output');\n",
              "if (outputEl) {{\n",
              "    x.observe(outputEl, {childList: true});\n",
              "}}\n",
              "\n",
              "                        })\n",
              "                };\n",
              "                \n",
              "            </script>\n",
              "        </div>\n",
              "</body>\n",
              "</html>"
            ]
          },
          "metadata": {}
        }
      ]
    },
    {
      "cell_type": "markdown",
      "metadata": {
        "id": "nLFAO7oJ5Kkv"
      },
      "source": [
        "In this bar plot graph, we are able to see specifically which are the outliers.  Wrangell-St. Elias National Park & Preserve is located in Alaska which is the largest national park in the United States. We can also see a couple of other outliers in our data set which is the Gates of the Artic (which is also located in Alaska) and Death of the Valley which is a desert located near Las Vegas."
      ]
    },
    {
      "cell_type": "markdown",
      "metadata": {
        "id": "HnM_nkWb9D1o"
      },
      "source": [
        "### Species Distribution\n",
        "\n",
        "Population of plants distribution"
      ]
    },
    {
      "cell_type": "code",
      "metadata": {
        "id": "YVZI2Zri9H9a",
        "colab": {
          "base_uri": "https://localhost:8080/",
          "height": 542
        },
        "outputId": "16332459-363a-4ce6-8f27-d4ce2f423076"
      },
      "source": [
        "species_by_category_size = species.groupby('Category').size()\n",
        "plants_size = species_by_category_size[[\"Algae\", \"Fungi\", \"Nonvascular Plant\", \"Vascular Plant\"]]\n",
        "fig = px.bar(plants_size, y=plants_size.values, x=plants_size.index, \n",
        "              labels={\n",
        "                     \"x\": \"Type of Plants\",\n",
        "                     \"y\": \"Population\",\n",
        "                 }, \n",
        "             color=plants_size.index, title='Population of Plants')\n",
        "fig.show()"
      ],
      "execution_count": 183,
      "outputs": [
        {
          "output_type": "display_data",
          "data": {
            "text/html": [
              "<html>\n",
              "<head><meta charset=\"utf-8\" /></head>\n",
              "<body>\n",
              "    <div>\n",
              "            <script src=\"https://cdnjs.cloudflare.com/ajax/libs/mathjax/2.7.5/MathJax.js?config=TeX-AMS-MML_SVG\"></script><script type=\"text/javascript\">if (window.MathJax) {MathJax.Hub.Config({SVG: {font: \"STIX-Web\"}});}</script>\n",
              "                <script type=\"text/javascript\">window.PlotlyConfig = {MathJaxConfig: 'local'};</script>\n",
              "        <script src=\"https://cdn.plot.ly/plotly-latest.min.js\"></script>    \n",
              "            <div id=\"03169379-b901-41ea-a2a5-56fb73e50cc6\" class=\"plotly-graph-div\" style=\"height:525px; width:100%;\"></div>\n",
              "            <script type=\"text/javascript\">\n",
              "                \n",
              "                    window.PLOTLYENV=window.PLOTLYENV || {};\n",
              "                    \n",
              "                if (document.getElementById(\"03169379-b901-41ea-a2a5-56fb73e50cc6\")) {\n",
              "                    Plotly.newPlot(\n",
              "                        '03169379-b901-41ea-a2a5-56fb73e50cc6',\n",
              "                        [{\"alignmentgroup\": \"True\", \"hoverlabel\": {\"namelength\": 0}, \"hovertemplate\": \"color=Algae<br>Type of Plants=%{x}<br>Population=%{y}\", \"legendgroup\": \"color=Algae\", \"marker\": {\"color\": \"#636efa\"}, \"name\": \"color=Algae\", \"offsetgroup\": \"color=Algae\", \"orientation\": \"v\", \"showlegend\": true, \"textposition\": \"auto\", \"type\": \"bar\", \"x\": [\"Algae\"], \"xaxis\": \"x\", \"y\": [369], \"yaxis\": \"y\"}, {\"alignmentgroup\": \"True\", \"hoverlabel\": {\"namelength\": 0}, \"hovertemplate\": \"color=Fungi<br>Type of Plants=%{x}<br>Population=%{y}\", \"legendgroup\": \"color=Fungi\", \"marker\": {\"color\": \"#EF553B\"}, \"name\": \"color=Fungi\", \"offsetgroup\": \"color=Fungi\", \"orientation\": \"v\", \"showlegend\": true, \"textposition\": \"auto\", \"type\": \"bar\", \"x\": [\"Fungi\"], \"xaxis\": \"x\", \"y\": [3001], \"yaxis\": \"y\"}, {\"alignmentgroup\": \"True\", \"hoverlabel\": {\"namelength\": 0}, \"hovertemplate\": \"color=Nonvascular Plant<br>Type of Plants=%{x}<br>Population=%{y}\", \"legendgroup\": \"color=Nonvascular Plant\", \"marker\": {\"color\": \"#00cc96\"}, \"name\": \"color=Nonvascular Plant\", \"offsetgroup\": \"color=Nonvascular Plant\", \"orientation\": \"v\", \"showlegend\": true, \"textposition\": \"auto\", \"type\": \"bar\", \"x\": [\"Nonvascular Plant\"], \"xaxis\": \"x\", \"y\": [2480], \"yaxis\": \"y\"}, {\"alignmentgroup\": \"True\", \"hoverlabel\": {\"namelength\": 0}, \"hovertemplate\": \"color=Vascular Plant<br>Type of Plants=%{x}<br>Population=%{y}\", \"legendgroup\": \"color=Vascular Plant\", \"marker\": {\"color\": \"#ab63fa\"}, \"name\": \"color=Vascular Plant\", \"offsetgroup\": \"color=Vascular Plant\", \"orientation\": \"v\", \"showlegend\": true, \"textposition\": \"auto\", \"type\": \"bar\", \"x\": [\"Vascular Plant\"], \"xaxis\": \"x\", \"y\": [48593], \"yaxis\": \"y\"}],\n",
              "                        {\"barmode\": \"relative\", \"legend\": {\"tracegroupgap\": 0}, \"template\": {\"data\": {\"bar\": [{\"error_x\": {\"color\": \"#2a3f5f\"}, \"error_y\": {\"color\": \"#2a3f5f\"}, \"marker\": {\"line\": {\"color\": \"#E5ECF6\", \"width\": 0.5}}, \"type\": \"bar\"}], \"barpolar\": [{\"marker\": {\"line\": {\"color\": \"#E5ECF6\", \"width\": 0.5}}, \"type\": \"barpolar\"}], \"carpet\": [{\"aaxis\": {\"endlinecolor\": \"#2a3f5f\", \"gridcolor\": \"white\", \"linecolor\": \"white\", \"minorgridcolor\": \"white\", \"startlinecolor\": \"#2a3f5f\"}, \"baxis\": {\"endlinecolor\": \"#2a3f5f\", \"gridcolor\": \"white\", \"linecolor\": \"white\", \"minorgridcolor\": \"white\", \"startlinecolor\": \"#2a3f5f\"}, \"type\": \"carpet\"}], \"choropleth\": [{\"colorbar\": {\"outlinewidth\": 0, \"ticks\": \"\"}, \"type\": \"choropleth\"}], \"contour\": [{\"colorbar\": {\"outlinewidth\": 0, \"ticks\": \"\"}, \"colorscale\": [[0.0, \"#0d0887\"], [0.1111111111111111, \"#46039f\"], [0.2222222222222222, \"#7201a8\"], [0.3333333333333333, \"#9c179e\"], [0.4444444444444444, \"#bd3786\"], [0.5555555555555556, \"#d8576b\"], [0.6666666666666666, \"#ed7953\"], [0.7777777777777778, \"#fb9f3a\"], [0.8888888888888888, \"#fdca26\"], [1.0, \"#f0f921\"]], \"type\": \"contour\"}], \"contourcarpet\": [{\"colorbar\": {\"outlinewidth\": 0, \"ticks\": \"\"}, \"type\": \"contourcarpet\"}], \"heatmap\": [{\"colorbar\": {\"outlinewidth\": 0, \"ticks\": \"\"}, \"colorscale\": [[0.0, \"#0d0887\"], [0.1111111111111111, \"#46039f\"], [0.2222222222222222, \"#7201a8\"], [0.3333333333333333, \"#9c179e\"], [0.4444444444444444, \"#bd3786\"], [0.5555555555555556, \"#d8576b\"], [0.6666666666666666, \"#ed7953\"], [0.7777777777777778, \"#fb9f3a\"], [0.8888888888888888, \"#fdca26\"], [1.0, \"#f0f921\"]], \"type\": \"heatmap\"}], \"heatmapgl\": [{\"colorbar\": {\"outlinewidth\": 0, \"ticks\": \"\"}, \"colorscale\": [[0.0, \"#0d0887\"], [0.1111111111111111, \"#46039f\"], [0.2222222222222222, \"#7201a8\"], [0.3333333333333333, \"#9c179e\"], [0.4444444444444444, \"#bd3786\"], [0.5555555555555556, \"#d8576b\"], [0.6666666666666666, \"#ed7953\"], [0.7777777777777778, \"#fb9f3a\"], [0.8888888888888888, \"#fdca26\"], [1.0, \"#f0f921\"]], \"type\": \"heatmapgl\"}], \"histogram\": [{\"marker\": {\"colorbar\": {\"outlinewidth\": 0, \"ticks\": \"\"}}, \"type\": \"histogram\"}], \"histogram2d\": [{\"colorbar\": {\"outlinewidth\": 0, \"ticks\": \"\"}, \"colorscale\": [[0.0, \"#0d0887\"], [0.1111111111111111, \"#46039f\"], [0.2222222222222222, \"#7201a8\"], [0.3333333333333333, \"#9c179e\"], [0.4444444444444444, \"#bd3786\"], [0.5555555555555556, \"#d8576b\"], [0.6666666666666666, \"#ed7953\"], [0.7777777777777778, \"#fb9f3a\"], [0.8888888888888888, \"#fdca26\"], [1.0, \"#f0f921\"]], \"type\": \"histogram2d\"}], \"histogram2dcontour\": [{\"colorbar\": {\"outlinewidth\": 0, \"ticks\": \"\"}, \"colorscale\": [[0.0, \"#0d0887\"], [0.1111111111111111, \"#46039f\"], [0.2222222222222222, \"#7201a8\"], [0.3333333333333333, \"#9c179e\"], [0.4444444444444444, \"#bd3786\"], [0.5555555555555556, \"#d8576b\"], [0.6666666666666666, \"#ed7953\"], [0.7777777777777778, \"#fb9f3a\"], [0.8888888888888888, \"#fdca26\"], [1.0, \"#f0f921\"]], \"type\": \"histogram2dcontour\"}], \"mesh3d\": [{\"colorbar\": {\"outlinewidth\": 0, \"ticks\": \"\"}, \"type\": \"mesh3d\"}], \"parcoords\": [{\"line\": {\"colorbar\": {\"outlinewidth\": 0, \"ticks\": \"\"}}, \"type\": \"parcoords\"}], \"pie\": [{\"automargin\": true, \"type\": \"pie\"}], \"scatter\": [{\"marker\": {\"colorbar\": {\"outlinewidth\": 0, \"ticks\": \"\"}}, \"type\": \"scatter\"}], \"scatter3d\": [{\"line\": {\"colorbar\": {\"outlinewidth\": 0, \"ticks\": \"\"}}, \"marker\": {\"colorbar\": {\"outlinewidth\": 0, \"ticks\": \"\"}}, \"type\": \"scatter3d\"}], \"scattercarpet\": [{\"marker\": {\"colorbar\": {\"outlinewidth\": 0, \"ticks\": \"\"}}, \"type\": \"scattercarpet\"}], \"scattergeo\": [{\"marker\": {\"colorbar\": {\"outlinewidth\": 0, \"ticks\": \"\"}}, \"type\": \"scattergeo\"}], \"scattergl\": [{\"marker\": {\"colorbar\": {\"outlinewidth\": 0, \"ticks\": \"\"}}, \"type\": \"scattergl\"}], \"scattermapbox\": [{\"marker\": {\"colorbar\": {\"outlinewidth\": 0, \"ticks\": \"\"}}, \"type\": \"scattermapbox\"}], \"scatterpolar\": [{\"marker\": {\"colorbar\": {\"outlinewidth\": 0, \"ticks\": \"\"}}, \"type\": \"scatterpolar\"}], \"scatterpolargl\": [{\"marker\": {\"colorbar\": {\"outlinewidth\": 0, \"ticks\": \"\"}}, \"type\": \"scatterpolargl\"}], \"scatterternary\": [{\"marker\": {\"colorbar\": {\"outlinewidth\": 0, \"ticks\": \"\"}}, \"type\": \"scatterternary\"}], \"surface\": [{\"colorbar\": {\"outlinewidth\": 0, \"ticks\": \"\"}, \"colorscale\": [[0.0, \"#0d0887\"], [0.1111111111111111, \"#46039f\"], [0.2222222222222222, \"#7201a8\"], [0.3333333333333333, \"#9c179e\"], [0.4444444444444444, \"#bd3786\"], [0.5555555555555556, \"#d8576b\"], [0.6666666666666666, \"#ed7953\"], [0.7777777777777778, \"#fb9f3a\"], [0.8888888888888888, \"#fdca26\"], [1.0, \"#f0f921\"]], \"type\": \"surface\"}], \"table\": [{\"cells\": {\"fill\": {\"color\": \"#EBF0F8\"}, \"line\": {\"color\": \"white\"}}, \"header\": {\"fill\": {\"color\": \"#C8D4E3\"}, \"line\": {\"color\": \"white\"}}, \"type\": \"table\"}]}, \"layout\": {\"annotationdefaults\": {\"arrowcolor\": \"#2a3f5f\", \"arrowhead\": 0, \"arrowwidth\": 1}, \"coloraxis\": {\"colorbar\": {\"outlinewidth\": 0, \"ticks\": \"\"}}, \"colorscale\": {\"diverging\": [[0, \"#8e0152\"], [0.1, \"#c51b7d\"], [0.2, \"#de77ae\"], [0.3, \"#f1b6da\"], [0.4, \"#fde0ef\"], [0.5, \"#f7f7f7\"], [0.6, \"#e6f5d0\"], [0.7, \"#b8e186\"], [0.8, \"#7fbc41\"], [0.9, \"#4d9221\"], [1, \"#276419\"]], \"sequential\": [[0.0, \"#0d0887\"], [0.1111111111111111, \"#46039f\"], [0.2222222222222222, \"#7201a8\"], [0.3333333333333333, \"#9c179e\"], [0.4444444444444444, \"#bd3786\"], [0.5555555555555556, \"#d8576b\"], [0.6666666666666666, \"#ed7953\"], [0.7777777777777778, \"#fb9f3a\"], [0.8888888888888888, \"#fdca26\"], [1.0, \"#f0f921\"]], \"sequentialminus\": [[0.0, \"#0d0887\"], [0.1111111111111111, \"#46039f\"], [0.2222222222222222, \"#7201a8\"], [0.3333333333333333, \"#9c179e\"], [0.4444444444444444, \"#bd3786\"], [0.5555555555555556, \"#d8576b\"], [0.6666666666666666, \"#ed7953\"], [0.7777777777777778, \"#fb9f3a\"], [0.8888888888888888, \"#fdca26\"], [1.0, \"#f0f921\"]]}, \"colorway\": [\"#636efa\", \"#EF553B\", \"#00cc96\", \"#ab63fa\", \"#FFA15A\", \"#19d3f3\", \"#FF6692\", \"#B6E880\", \"#FF97FF\", \"#FECB52\"], \"font\": {\"color\": \"#2a3f5f\"}, \"geo\": {\"bgcolor\": \"white\", \"lakecolor\": \"white\", \"landcolor\": \"#E5ECF6\", \"showlakes\": true, \"showland\": true, \"subunitcolor\": \"white\"}, \"hoverlabel\": {\"align\": \"left\"}, \"hovermode\": \"closest\", \"mapbox\": {\"style\": \"light\"}, \"paper_bgcolor\": \"white\", \"plot_bgcolor\": \"#E5ECF6\", \"polar\": {\"angularaxis\": {\"gridcolor\": \"white\", \"linecolor\": \"white\", \"ticks\": \"\"}, \"bgcolor\": \"#E5ECF6\", \"radialaxis\": {\"gridcolor\": \"white\", \"linecolor\": \"white\", \"ticks\": \"\"}}, \"scene\": {\"xaxis\": {\"backgroundcolor\": \"#E5ECF6\", \"gridcolor\": \"white\", \"gridwidth\": 2, \"linecolor\": \"white\", \"showbackground\": true, \"ticks\": \"\", \"zerolinecolor\": \"white\"}, \"yaxis\": {\"backgroundcolor\": \"#E5ECF6\", \"gridcolor\": \"white\", \"gridwidth\": 2, \"linecolor\": \"white\", \"showbackground\": true, \"ticks\": \"\", \"zerolinecolor\": \"white\"}, \"zaxis\": {\"backgroundcolor\": \"#E5ECF6\", \"gridcolor\": \"white\", \"gridwidth\": 2, \"linecolor\": \"white\", \"showbackground\": true, \"ticks\": \"\", \"zerolinecolor\": \"white\"}}, \"shapedefaults\": {\"line\": {\"color\": \"#2a3f5f\"}}, \"ternary\": {\"aaxis\": {\"gridcolor\": \"white\", \"linecolor\": \"white\", \"ticks\": \"\"}, \"baxis\": {\"gridcolor\": \"white\", \"linecolor\": \"white\", \"ticks\": \"\"}, \"bgcolor\": \"#E5ECF6\", \"caxis\": {\"gridcolor\": \"white\", \"linecolor\": \"white\", \"ticks\": \"\"}}, \"title\": {\"x\": 0.05}, \"xaxis\": {\"automargin\": true, \"gridcolor\": \"white\", \"linecolor\": \"white\", \"ticks\": \"\", \"title\": {\"standoff\": 15}, \"zerolinecolor\": \"white\", \"zerolinewidth\": 2}, \"yaxis\": {\"automargin\": true, \"gridcolor\": \"white\", \"linecolor\": \"white\", \"ticks\": \"\", \"title\": {\"standoff\": 15}, \"zerolinecolor\": \"white\", \"zerolinewidth\": 2}}}, \"title\": {\"text\": \"Population of Plants\"}, \"xaxis\": {\"anchor\": \"y\", \"domain\": [0.0, 1.0], \"title\": {\"text\": \"Type of Plants\"}}, \"yaxis\": {\"anchor\": \"x\", \"domain\": [0.0, 1.0], \"title\": {\"text\": \"Population\"}}},\n",
              "                        {\"responsive\": true}\n",
              "                    ).then(function(){\n",
              "                            \n",
              "var gd = document.getElementById('03169379-b901-41ea-a2a5-56fb73e50cc6');\n",
              "var x = new MutationObserver(function (mutations, observer) {{\n",
              "        var display = window.getComputedStyle(gd).display;\n",
              "        if (!display || display === 'none') {{\n",
              "            console.log([gd, 'removed!']);\n",
              "            Plotly.purge(gd);\n",
              "            observer.disconnect();\n",
              "        }}\n",
              "}});\n",
              "\n",
              "// Listen for the removal of the full notebook cells\n",
              "var notebookContainer = gd.closest('#notebook-container');\n",
              "if (notebookContainer) {{\n",
              "    x.observe(notebookContainer, {childList: true});\n",
              "}}\n",
              "\n",
              "// Listen for the clearing of the current output cell\n",
              "var outputEl = gd.closest('.output');\n",
              "if (outputEl) {{\n",
              "    x.observe(outputEl, {childList: true});\n",
              "}}\n",
              "\n",
              "                        })\n",
              "                };\n",
              "                \n",
              "            </script>\n",
              "        </div>\n",
              "</body>\n",
              "</html>"
            ]
          },
          "metadata": {}
        }
      ]
    },
    {
      "cell_type": "markdown",
      "metadata": {
        "id": "k2qYVUVEEc0H"
      },
      "source": [
        "In this bar chart we are able to see which are the most dominant types of plants in the national parks. We see that Vascular Plants are the most common types by far. \n"
      ]
    },
    {
      "cell_type": "code",
      "metadata": {
        "id": "BA2rX8DKD7i7",
        "colab": {
          "base_uri": "https://localhost:8080/",
          "height": 542
        },
        "outputId": "2bb5c03a-1c19-4377-8876-16c6b9345794"
      },
      "source": [
        "#Distribution of the population of Animals in the national parks \n",
        "animal_size = species_by_category_size[[\"Amphibian\", \"Bird\", \"Crab/Lobster/Shrimp\", \"Fish\", \"Insect\", \"Invertebrate\", \"Mammal\", \"Reptile\", \"Slug/Snail\", \"Spider/Scorpion\"]]\n",
        "fig = px.bar(animal_size, y=animal_size.values, x=animal_size.index, color=animal_size.index, \n",
        "             labels={\n",
        "                     \"x\": \"Type of Animals\",\n",
        "                     \"y\": \"Population\",\n",
        "                 },\n",
        "             title='Population of Animals')\n",
        "fig.show()"
      ],
      "execution_count": 184,
      "outputs": [
        {
          "output_type": "display_data",
          "data": {
            "text/html": [
              "<html>\n",
              "<head><meta charset=\"utf-8\" /></head>\n",
              "<body>\n",
              "    <div>\n",
              "            <script src=\"https://cdnjs.cloudflare.com/ajax/libs/mathjax/2.7.5/MathJax.js?config=TeX-AMS-MML_SVG\"></script><script type=\"text/javascript\">if (window.MathJax) {MathJax.Hub.Config({SVG: {font: \"STIX-Web\"}});}</script>\n",
              "                <script type=\"text/javascript\">window.PlotlyConfig = {MathJaxConfig: 'local'};</script>\n",
              "        <script src=\"https://cdn.plot.ly/plotly-latest.min.js\"></script>    \n",
              "            <div id=\"a1555b63-4460-4ced-b185-383b9a710b58\" class=\"plotly-graph-div\" style=\"height:525px; width:100%;\"></div>\n",
              "            <script type=\"text/javascript\">\n",
              "                \n",
              "                    window.PLOTLYENV=window.PLOTLYENV || {};\n",
              "                    \n",
              "                if (document.getElementById(\"a1555b63-4460-4ced-b185-383b9a710b58\")) {\n",
              "                    Plotly.newPlot(\n",
              "                        'a1555b63-4460-4ced-b185-383b9a710b58',\n",
              "                        [{\"alignmentgroup\": \"True\", \"hoverlabel\": {\"namelength\": 0}, \"hovertemplate\": \"color=Amphibian<br>Type of Animals=%{x}<br>Population=%{y}\", \"legendgroup\": \"color=Amphibian\", \"marker\": {\"color\": \"#636efa\"}, \"name\": \"color=Amphibian\", \"offsetgroup\": \"color=Amphibian\", \"orientation\": \"v\", \"showlegend\": true, \"textposition\": \"auto\", \"type\": \"bar\", \"x\": [\"Amphibian\"], \"xaxis\": \"x\", \"y\": [461], \"yaxis\": \"y\"}, {\"alignmentgroup\": \"True\", \"hoverlabel\": {\"namelength\": 0}, \"hovertemplate\": \"color=Bird<br>Type of Animals=%{x}<br>Population=%{y}\", \"legendgroup\": \"color=Bird\", \"marker\": {\"color\": \"#EF553B\"}, \"name\": \"color=Bird\", \"offsetgroup\": \"color=Bird\", \"orientation\": \"v\", \"showlegend\": true, \"textposition\": \"auto\", \"type\": \"bar\", \"x\": [\"Bird\"], \"xaxis\": \"x\", \"y\": [12059], \"yaxis\": \"y\"}, {\"alignmentgroup\": \"True\", \"hoverlabel\": {\"namelength\": 0}, \"hovertemplate\": \"color=Crab/Lobster/Shrimp<br>Type of Animals=%{x}<br>Population=%{y}\", \"legendgroup\": \"color=Crab/Lobster/Shrimp\", \"marker\": {\"color\": \"#00cc96\"}, \"name\": \"color=Crab/Lobster/Shrimp\", \"offsetgroup\": \"color=Crab/Lobster/Shrimp\", \"orientation\": \"v\", \"showlegend\": true, \"textposition\": \"auto\", \"type\": \"bar\", \"x\": [\"Crab/Lobster/Shrimp\"], \"xaxis\": \"x\", \"y\": [312], \"yaxis\": \"y\"}, {\"alignmentgroup\": \"True\", \"hoverlabel\": {\"namelength\": 0}, \"hovertemplate\": \"color=Fish<br>Type of Animals=%{x}<br>Population=%{y}\", \"legendgroup\": \"color=Fish\", \"marker\": {\"color\": \"#ab63fa\"}, \"name\": \"color=Fish\", \"offsetgroup\": \"color=Fish\", \"orientation\": \"v\", \"showlegend\": true, \"textposition\": \"auto\", \"type\": \"bar\", \"x\": [\"Fish\"], \"xaxis\": \"x\", \"y\": [2730], \"yaxis\": \"y\"}, {\"alignmentgroup\": \"True\", \"hoverlabel\": {\"namelength\": 0}, \"hovertemplate\": \"color=Insect<br>Type of Animals=%{x}<br>Population=%{y}\", \"legendgroup\": \"color=Insect\", \"marker\": {\"color\": \"#FFA15A\"}, \"name\": \"color=Insect\", \"offsetgroup\": \"color=Insect\", \"orientation\": \"v\", \"showlegend\": true, \"textposition\": \"auto\", \"type\": \"bar\", \"x\": [\"Insect\"], \"xaxis\": \"x\", \"y\": [7920], \"yaxis\": \"y\"}, {\"alignmentgroup\": \"True\", \"hoverlabel\": {\"namelength\": 0}, \"hovertemplate\": \"color=Invertebrate<br>Type of Animals=%{x}<br>Population=%{y}\", \"legendgroup\": \"color=Invertebrate\", \"marker\": {\"color\": \"#19d3f3\"}, \"name\": \"color=Invertebrate\", \"offsetgroup\": \"color=Invertebrate\", \"orientation\": \"v\", \"showlegend\": true, \"textposition\": \"auto\", \"type\": \"bar\", \"x\": [\"Invertebrate\"], \"xaxis\": \"x\", \"y\": [892], \"yaxis\": \"y\"}, {\"alignmentgroup\": \"True\", \"hoverlabel\": {\"namelength\": 0}, \"hovertemplate\": \"color=Mammal<br>Type of Animals=%{x}<br>Population=%{y}\", \"legendgroup\": \"color=Mammal\", \"marker\": {\"color\": \"#FF6692\"}, \"name\": \"color=Mammal\", \"offsetgroup\": \"color=Mammal\", \"orientation\": \"v\", \"showlegend\": true, \"textposition\": \"auto\", \"type\": \"bar\", \"x\": [\"Mammal\"], \"xaxis\": \"x\", \"y\": [2767], \"yaxis\": \"y\"}, {\"alignmentgroup\": \"True\", \"hoverlabel\": {\"namelength\": 0}, \"hovertemplate\": \"color=Reptile<br>Type of Animals=%{x}<br>Population=%{y}\", \"legendgroup\": \"color=Reptile\", \"marker\": {\"color\": \"#B6E880\"}, \"name\": \"color=Reptile\", \"offsetgroup\": \"color=Reptile\", \"orientation\": \"v\", \"showlegend\": true, \"textposition\": \"auto\", \"type\": \"bar\", \"x\": [\"Reptile\"], \"xaxis\": \"x\", \"y\": [933], \"yaxis\": \"y\"}, {\"alignmentgroup\": \"True\", \"hoverlabel\": {\"namelength\": 0}, \"hovertemplate\": \"color=Slug/Snail<br>Type of Animals=%{x}<br>Population=%{y}\", \"legendgroup\": \"color=Slug/Snail\", \"marker\": {\"color\": \"#FF97FF\"}, \"name\": \"color=Slug/Snail\", \"offsetgroup\": \"color=Slug/Snail\", \"orientation\": \"v\", \"showlegend\": true, \"textposition\": \"auto\", \"type\": \"bar\", \"x\": [\"Slug/Snail\"], \"xaxis\": \"x\", \"y\": [378], \"yaxis\": \"y\"}, {\"alignmentgroup\": \"True\", \"hoverlabel\": {\"namelength\": 0}, \"hovertemplate\": \"color=Spider/Scorpion<br>Type of Animals=%{x}<br>Population=%{y}\", \"legendgroup\": \"color=Spider/Scorpion\", \"marker\": {\"color\": \"#FECB52\"}, \"name\": \"color=Spider/Scorpion\", \"offsetgroup\": \"color=Spider/Scorpion\", \"orientation\": \"v\", \"showlegend\": true, \"textposition\": \"auto\", \"type\": \"bar\", \"x\": [\"Spider/Scorpion\"], \"xaxis\": \"x\", \"y\": [434], \"yaxis\": \"y\"}],\n",
              "                        {\"barmode\": \"relative\", \"legend\": {\"tracegroupgap\": 0}, \"template\": {\"data\": {\"bar\": [{\"error_x\": {\"color\": \"#2a3f5f\"}, \"error_y\": {\"color\": \"#2a3f5f\"}, \"marker\": {\"line\": {\"color\": \"#E5ECF6\", \"width\": 0.5}}, \"type\": \"bar\"}], \"barpolar\": [{\"marker\": {\"line\": {\"color\": \"#E5ECF6\", \"width\": 0.5}}, \"type\": \"barpolar\"}], \"carpet\": [{\"aaxis\": {\"endlinecolor\": \"#2a3f5f\", \"gridcolor\": \"white\", \"linecolor\": \"white\", \"minorgridcolor\": \"white\", \"startlinecolor\": \"#2a3f5f\"}, \"baxis\": {\"endlinecolor\": \"#2a3f5f\", \"gridcolor\": \"white\", \"linecolor\": \"white\", \"minorgridcolor\": \"white\", \"startlinecolor\": \"#2a3f5f\"}, \"type\": \"carpet\"}], \"choropleth\": [{\"colorbar\": {\"outlinewidth\": 0, \"ticks\": \"\"}, \"type\": \"choropleth\"}], \"contour\": [{\"colorbar\": {\"outlinewidth\": 0, \"ticks\": \"\"}, \"colorscale\": [[0.0, \"#0d0887\"], [0.1111111111111111, \"#46039f\"], [0.2222222222222222, \"#7201a8\"], [0.3333333333333333, \"#9c179e\"], [0.4444444444444444, \"#bd3786\"], [0.5555555555555556, \"#d8576b\"], [0.6666666666666666, \"#ed7953\"], [0.7777777777777778, \"#fb9f3a\"], [0.8888888888888888, \"#fdca26\"], [1.0, \"#f0f921\"]], \"type\": \"contour\"}], \"contourcarpet\": [{\"colorbar\": {\"outlinewidth\": 0, \"ticks\": \"\"}, \"type\": \"contourcarpet\"}], \"heatmap\": [{\"colorbar\": {\"outlinewidth\": 0, \"ticks\": \"\"}, \"colorscale\": [[0.0, \"#0d0887\"], [0.1111111111111111, \"#46039f\"], [0.2222222222222222, \"#7201a8\"], [0.3333333333333333, \"#9c179e\"], [0.4444444444444444, \"#bd3786\"], [0.5555555555555556, \"#d8576b\"], [0.6666666666666666, \"#ed7953\"], [0.7777777777777778, \"#fb9f3a\"], [0.8888888888888888, \"#fdca26\"], [1.0, \"#f0f921\"]], \"type\": \"heatmap\"}], \"heatmapgl\": [{\"colorbar\": {\"outlinewidth\": 0, \"ticks\": \"\"}, \"colorscale\": [[0.0, \"#0d0887\"], [0.1111111111111111, \"#46039f\"], [0.2222222222222222, \"#7201a8\"], [0.3333333333333333, \"#9c179e\"], [0.4444444444444444, \"#bd3786\"], [0.5555555555555556, \"#d8576b\"], [0.6666666666666666, \"#ed7953\"], [0.7777777777777778, \"#fb9f3a\"], [0.8888888888888888, \"#fdca26\"], [1.0, \"#f0f921\"]], \"type\": \"heatmapgl\"}], \"histogram\": [{\"marker\": {\"colorbar\": {\"outlinewidth\": 0, \"ticks\": \"\"}}, \"type\": \"histogram\"}], \"histogram2d\": [{\"colorbar\": {\"outlinewidth\": 0, \"ticks\": \"\"}, \"colorscale\": [[0.0, \"#0d0887\"], [0.1111111111111111, \"#46039f\"], [0.2222222222222222, \"#7201a8\"], [0.3333333333333333, \"#9c179e\"], [0.4444444444444444, \"#bd3786\"], [0.5555555555555556, \"#d8576b\"], [0.6666666666666666, \"#ed7953\"], [0.7777777777777778, \"#fb9f3a\"], [0.8888888888888888, \"#fdca26\"], [1.0, \"#f0f921\"]], \"type\": \"histogram2d\"}], \"histogram2dcontour\": [{\"colorbar\": {\"outlinewidth\": 0, \"ticks\": \"\"}, \"colorscale\": [[0.0, \"#0d0887\"], [0.1111111111111111, \"#46039f\"], [0.2222222222222222, \"#7201a8\"], [0.3333333333333333, \"#9c179e\"], [0.4444444444444444, \"#bd3786\"], [0.5555555555555556, \"#d8576b\"], [0.6666666666666666, \"#ed7953\"], [0.7777777777777778, \"#fb9f3a\"], [0.8888888888888888, \"#fdca26\"], [1.0, \"#f0f921\"]], \"type\": \"histogram2dcontour\"}], \"mesh3d\": [{\"colorbar\": {\"outlinewidth\": 0, \"ticks\": \"\"}, \"type\": \"mesh3d\"}], \"parcoords\": [{\"line\": {\"colorbar\": {\"outlinewidth\": 0, \"ticks\": \"\"}}, \"type\": \"parcoords\"}], \"pie\": [{\"automargin\": true, \"type\": \"pie\"}], \"scatter\": [{\"marker\": {\"colorbar\": {\"outlinewidth\": 0, \"ticks\": \"\"}}, \"type\": \"scatter\"}], \"scatter3d\": [{\"line\": {\"colorbar\": {\"outlinewidth\": 0, \"ticks\": \"\"}}, \"marker\": {\"colorbar\": {\"outlinewidth\": 0, \"ticks\": \"\"}}, \"type\": \"scatter3d\"}], \"scattercarpet\": [{\"marker\": {\"colorbar\": {\"outlinewidth\": 0, \"ticks\": \"\"}}, \"type\": \"scattercarpet\"}], \"scattergeo\": [{\"marker\": {\"colorbar\": {\"outlinewidth\": 0, \"ticks\": \"\"}}, \"type\": \"scattergeo\"}], \"scattergl\": [{\"marker\": {\"colorbar\": {\"outlinewidth\": 0, \"ticks\": \"\"}}, \"type\": \"scattergl\"}], \"scattermapbox\": [{\"marker\": {\"colorbar\": {\"outlinewidth\": 0, \"ticks\": \"\"}}, \"type\": \"scattermapbox\"}], \"scatterpolar\": [{\"marker\": {\"colorbar\": {\"outlinewidth\": 0, \"ticks\": \"\"}}, \"type\": \"scatterpolar\"}], \"scatterpolargl\": [{\"marker\": {\"colorbar\": {\"outlinewidth\": 0, \"ticks\": \"\"}}, \"type\": \"scatterpolargl\"}], \"scatterternary\": [{\"marker\": {\"colorbar\": {\"outlinewidth\": 0, \"ticks\": \"\"}}, \"type\": \"scatterternary\"}], \"surface\": [{\"colorbar\": {\"outlinewidth\": 0, \"ticks\": \"\"}, \"colorscale\": [[0.0, \"#0d0887\"], [0.1111111111111111, \"#46039f\"], [0.2222222222222222, \"#7201a8\"], [0.3333333333333333, \"#9c179e\"], [0.4444444444444444, \"#bd3786\"], [0.5555555555555556, \"#d8576b\"], [0.6666666666666666, \"#ed7953\"], [0.7777777777777778, \"#fb9f3a\"], [0.8888888888888888, \"#fdca26\"], [1.0, \"#f0f921\"]], \"type\": \"surface\"}], \"table\": [{\"cells\": {\"fill\": {\"color\": \"#EBF0F8\"}, \"line\": {\"color\": \"white\"}}, \"header\": {\"fill\": {\"color\": \"#C8D4E3\"}, \"line\": {\"color\": \"white\"}}, \"type\": \"table\"}]}, \"layout\": {\"annotationdefaults\": {\"arrowcolor\": \"#2a3f5f\", \"arrowhead\": 0, \"arrowwidth\": 1}, \"coloraxis\": {\"colorbar\": {\"outlinewidth\": 0, \"ticks\": \"\"}}, \"colorscale\": {\"diverging\": [[0, \"#8e0152\"], [0.1, \"#c51b7d\"], [0.2, \"#de77ae\"], [0.3, \"#f1b6da\"], [0.4, \"#fde0ef\"], [0.5, \"#f7f7f7\"], [0.6, \"#e6f5d0\"], [0.7, \"#b8e186\"], [0.8, \"#7fbc41\"], [0.9, \"#4d9221\"], [1, \"#276419\"]], \"sequential\": [[0.0, \"#0d0887\"], [0.1111111111111111, \"#46039f\"], [0.2222222222222222, \"#7201a8\"], [0.3333333333333333, \"#9c179e\"], [0.4444444444444444, \"#bd3786\"], [0.5555555555555556, \"#d8576b\"], [0.6666666666666666, \"#ed7953\"], [0.7777777777777778, \"#fb9f3a\"], [0.8888888888888888, \"#fdca26\"], [1.0, \"#f0f921\"]], \"sequentialminus\": [[0.0, \"#0d0887\"], [0.1111111111111111, \"#46039f\"], [0.2222222222222222, \"#7201a8\"], [0.3333333333333333, \"#9c179e\"], [0.4444444444444444, \"#bd3786\"], [0.5555555555555556, \"#d8576b\"], [0.6666666666666666, \"#ed7953\"], [0.7777777777777778, \"#fb9f3a\"], [0.8888888888888888, \"#fdca26\"], [1.0, \"#f0f921\"]]}, \"colorway\": [\"#636efa\", \"#EF553B\", \"#00cc96\", \"#ab63fa\", \"#FFA15A\", \"#19d3f3\", \"#FF6692\", \"#B6E880\", \"#FF97FF\", \"#FECB52\"], \"font\": {\"color\": \"#2a3f5f\"}, \"geo\": {\"bgcolor\": \"white\", \"lakecolor\": \"white\", \"landcolor\": \"#E5ECF6\", \"showlakes\": true, \"showland\": true, \"subunitcolor\": \"white\"}, \"hoverlabel\": {\"align\": \"left\"}, \"hovermode\": \"closest\", \"mapbox\": {\"style\": \"light\"}, \"paper_bgcolor\": \"white\", \"plot_bgcolor\": \"#E5ECF6\", \"polar\": {\"angularaxis\": {\"gridcolor\": \"white\", \"linecolor\": \"white\", \"ticks\": \"\"}, \"bgcolor\": \"#E5ECF6\", \"radialaxis\": {\"gridcolor\": \"white\", \"linecolor\": \"white\", \"ticks\": \"\"}}, \"scene\": {\"xaxis\": {\"backgroundcolor\": \"#E5ECF6\", \"gridcolor\": \"white\", \"gridwidth\": 2, \"linecolor\": \"white\", \"showbackground\": true, \"ticks\": \"\", \"zerolinecolor\": \"white\"}, \"yaxis\": {\"backgroundcolor\": \"#E5ECF6\", \"gridcolor\": \"white\", \"gridwidth\": 2, \"linecolor\": \"white\", \"showbackground\": true, \"ticks\": \"\", \"zerolinecolor\": \"white\"}, \"zaxis\": {\"backgroundcolor\": \"#E5ECF6\", \"gridcolor\": \"white\", \"gridwidth\": 2, \"linecolor\": \"white\", \"showbackground\": true, \"ticks\": \"\", \"zerolinecolor\": \"white\"}}, \"shapedefaults\": {\"line\": {\"color\": \"#2a3f5f\"}}, \"ternary\": {\"aaxis\": {\"gridcolor\": \"white\", \"linecolor\": \"white\", \"ticks\": \"\"}, \"baxis\": {\"gridcolor\": \"white\", \"linecolor\": \"white\", \"ticks\": \"\"}, \"bgcolor\": \"#E5ECF6\", \"caxis\": {\"gridcolor\": \"white\", \"linecolor\": \"white\", \"ticks\": \"\"}}, \"title\": {\"x\": 0.05}, \"xaxis\": {\"automargin\": true, \"gridcolor\": \"white\", \"linecolor\": \"white\", \"ticks\": \"\", \"title\": {\"standoff\": 15}, \"zerolinecolor\": \"white\", \"zerolinewidth\": 2}, \"yaxis\": {\"automargin\": true, \"gridcolor\": \"white\", \"linecolor\": \"white\", \"ticks\": \"\", \"title\": {\"standoff\": 15}, \"zerolinecolor\": \"white\", \"zerolinewidth\": 2}}}, \"title\": {\"text\": \"Population of Animals\"}, \"xaxis\": {\"anchor\": \"y\", \"domain\": [0.0, 1.0], \"title\": {\"text\": \"Type of Animals\"}}, \"yaxis\": {\"anchor\": \"x\", \"domain\": [0.0, 1.0], \"title\": {\"text\": \"Population\"}}},\n",
              "                        {\"responsive\": true}\n",
              "                    ).then(function(){\n",
              "                            \n",
              "var gd = document.getElementById('a1555b63-4460-4ced-b185-383b9a710b58');\n",
              "var x = new MutationObserver(function (mutations, observer) {{\n",
              "        var display = window.getComputedStyle(gd).display;\n",
              "        if (!display || display === 'none') {{\n",
              "            console.log([gd, 'removed!']);\n",
              "            Plotly.purge(gd);\n",
              "            observer.disconnect();\n",
              "        }}\n",
              "}});\n",
              "\n",
              "// Listen for the removal of the full notebook cells\n",
              "var notebookContainer = gd.closest('#notebook-container');\n",
              "if (notebookContainer) {{\n",
              "    x.observe(notebookContainer, {childList: true});\n",
              "}}\n",
              "\n",
              "// Listen for the clearing of the current output cell\n",
              "var outputEl = gd.closest('.output');\n",
              "if (outputEl) {{\n",
              "    x.observe(outputEl, {childList: true});\n",
              "}}\n",
              "\n",
              "                        })\n",
              "                };\n",
              "                \n",
              "            </script>\n",
              "        </div>\n",
              "</body>\n",
              "</html>"
            ]
          },
          "metadata": {}
        }
      ]
    },
    {
      "cell_type": "markdown",
      "metadata": {
        "id": "gdbOrTAOF9wG"
      },
      "source": [
        "Here we see that there are more different species of birds and insects compared to other types of animals. "
      ]
    },
    {
      "cell_type": "code",
      "metadata": {
        "id": "V4Ee4iJXJlJ7",
        "colab": {
          "base_uri": "https://localhost:8080/"
        },
        "outputId": "48da8ceb-740a-4510-a00d-1f47dc352630"
      },
      "source": [
        "species['Conservation Status'].value_counts(dropna = False)"
      ],
      "execution_count": 185,
      "outputs": [
        {
          "output_type": "execute_result",
          "data": {
            "text/plain": [
              "NaN                    79689\n",
              "Species of Concern      3101\n",
              "Endangered               190\n",
              "Under Review             127\n",
              "Threatened               123\n",
              "In Recovery               66\n",
              "Proposed Endangered       16\n",
              "Breeder                    7\n",
              "Resident                   5\n",
              "Proposed Threatened        3\n",
              "Migratory                  2\n",
              "Name: Conservation Status, dtype: int64"
            ]
          },
          "metadata": {},
          "execution_count": 185
        }
      ]
    },
    {
      "cell_type": "markdown",
      "metadata": {
        "id": "uuM-CtCEK01E"
      },
      "source": [
        "Here we can observe that the conservation status values contain more NaN than specified values. There are 96% of missing values for this column. In this case NaNs mean that the species is not at-risk in any way."
      ]
    },
    {
      "cell_type": "code",
      "metadata": {
        "id": "U2Fb7MFuJraQ",
        "colab": {
          "base_uri": "https://localhost:8080/"
        },
        "outputId": "15a81bfe-8e48-4154-923d-aeb5d54ea674"
      },
      "source": [
        "species['Seasonality'].value_counts(dropna = False)"
      ],
      "execution_count": 186,
      "outputs": [
        {
          "output_type": "execute_result",
          "data": {
            "text/plain": [
              "NaN                                     63452\n",
              "Breeder                                 12181\n",
              "Resident                                 3110\n",
              "Migratory                                2794\n",
              "Vagrant                                  1549\n",
              "Breeder, Winter                            64\n",
              "Rare                                       35\n",
              "Summer                                     26\n",
              "Migratory, Winter                          24\n",
              "Winter                                     20\n",
              "Breeder, Resident                          20\n",
              "Breeder, Migratory                         13\n",
              "Resident, Winter                            9\n",
              "Uncommon                                    5\n",
              "Migratory, Vagrant                          4\n",
              "Common                                      4\n",
              "Summer, Vagrant                             3\n",
              "Breeder, Resident, Summer                   3\n",
              "Unknown                                     3\n",
              "Migratory, Summer                           3\n",
              "Breeder, Summer                             2\n",
              "Resident, Summer                            2\n",
              "Breeder, Resident, Summer, Winter           1\n",
              "Breeder, Resident, Migratory, Summer        1\n",
              "Winter, Vagrant                             1\n",
              "Name: Seasonality, dtype: int64"
            ]
          },
          "metadata": {},
          "execution_count": 186
        }
      ]
    },
    {
      "cell_type": "markdown",
      "metadata": {
        "id": "d7vCLRFJLNrd"
      },
      "source": [
        "Seasonality in this column has also a lot of missing values. But in this case the blank values represent that the specie that is found in the park all year long. \n"
      ]
    },
    {
      "cell_type": "markdown",
      "metadata": {
        "id": "mVMTyCEySYuD"
      },
      "source": [
        "## Assigning Our Own Category Labels \n",
        "\n",
        "Here we assigned each park to one of four broad biome categories: “Tropical”, “Desert”, “Alpine”, and “Forested”. To determine each park’s classification, we referenced information on the NPS website and location data. Of course, some parks span multiple biomes and as such their classifications were ambiguous. This feature was purely used as a benchmark to visually compare our expected categories with the clusters assigned via our k-means model. It was not used as a feature in any of our models. \n",
        "\n",
        "Desert, Alpine, Forested, Tropical \n",
        "\n",
        "Parks tough to classify:\n",
        "* Channel Islands - A set of islands isolated off the coast of Southern California, the channel islands have a very unique ecosystem that does not fit well into any of our categories. We classified it as a desert park, since it lacks much forest or alpine environments. It is also fairly dry (unlike tropical parks). However it contains more plant life than a tradiational \"desert\" and conatins many marine species. \n",
        "\n",
        "* Great Basin - while the lower park elevations consist of desert ecosystems, the park is largely known for its alpine environments so we classified it as alpine. \n",
        "* Haleakala and Hawaii Volcanoes - both these parks have both tropical rainforest and alpine complonents. However since most of the biodiversity found in the park is found in the tropical zones we classified them as tropical\n"
      ]
    },
    {
      "cell_type": "code",
      "metadata": {
        "colab": {
          "base_uri": "https://localhost:8080/"
        },
        "id": "P3daUnKlaavp",
        "outputId": "2830036a-ef7e-43bb-aba9-8c66dcd4a438"
      },
      "source": [
        "parks_categories = {'Acadia ': \"Forested\",\n",
        " 'Arches ': \"Desert\",\n",
        " 'Badlands ': \"Desert\",\n",
        " 'Big Bend ': \"Desert\",\n",
        " 'Biscayne ': \"Tropical\",\n",
        " 'Black Canyon of the Gunnison ': \"Desert\",\n",
        " 'Bryce Canyon ': \"Desert\",\n",
        " 'Canyonlands ': \"Desert\",\n",
        " 'Capitol Reef ': \"Desert\",\n",
        " 'Carlsbad Caverns ': \"Desert\",\n",
        " 'Channel Islands ': \"Desert\",\n",
        " 'Congaree ': \"Forested\",\n",
        " 'Crater Lake ': \"Alpine\",\n",
        " 'Cuyahoga Valley ': \"Forested\",\n",
        " 'Death Valley ': \"Desert\",\n",
        " 'Denali ': \"Alpine\",\n",
        " 'Dry Tortugas ': \"Tropical\",\n",
        " 'Everglades ': \"Tropical\",\n",
        " 'Gates Of The Arctic ': \"Alpine\",\n",
        " 'Glacier ': \"Alpine\",\n",
        " 'Glacier Bay ': \"Alpine\",\n",
        " 'Grand Canyon ': \"Desert\",\n",
        " 'Grand Teton ': \"Alpine\",\n",
        " 'Great Basin ': \"Alpine\",\n",
        " 'Great Sand Dunes ': \"Alpine\",\n",
        " 'Great Smoky Mountains ': \"Forested\",\n",
        " 'Guadalupe Mountains ': \"Desert\",\n",
        " 'Haleakala ': \"Tropical\",\n",
        " 'Hawaii Volcanoes ': \"Tropical\",\n",
        " 'Hot Springs ': \"Forested\",\n",
        " 'Isle Royale ': \"Forested\",\n",
        " 'Joshua Tree ': \"Desert\",\n",
        " 'Katmai ': \"Alpine\",\n",
        " 'Kenai Fjords ': \"Alpine\",\n",
        " 'Kobuk Valley ': \"Alpine\",\n",
        " 'Lake Clark ': \"Alpine\",\n",
        " 'Lassen Volcanic ': \"Alpine\",\n",
        " 'Mammoth Cave ': \"Forested\",\n",
        " 'Mesa Verde ': \"Desert\",\n",
        " 'Mount Rainier ': \"Alpine\",\n",
        " 'North Cascades ': \"Alpine\",\n",
        " 'Olympic ': \"Alpine\",\n",
        " 'Petrified Forest ': \"Desert\",\n",
        " 'Pinnacles ': \"Desert\",\n",
        " 'Redwood ': \"Forested\",\n",
        " 'Rocky Mountain ': \"Alpine\",\n",
        " 'Saguaro ': \"Desert\",\n",
        " 'Sequoia and Kings Canyon ': \"Alpine\",\n",
        " 'Shenandoah ': \"Forested\",\n",
        " 'Theodore Roosevelt ': \"Desert\",\n",
        " 'Voyageurs ': \"Forested\",\n",
        " 'Wind Cave ': \"Forested\",\n",
        " 'Wrangell - St Elias ': \"Alpine\",\n",
        " 'Yellowstone ': \"Forested\",\n",
        " 'Yosemite ': \"Alpine\",\n",
        " 'Zion ': \"Desert\"}\n",
        "\n",
        "parks[\"Park_Type\"] = parks[\"Park Name\"].map(parks_categories)\n",
        "parks[\"Park_Type\"].value_counts()"
      ],
      "execution_count": 187,
      "outputs": [
        {
          "output_type": "execute_result",
          "data": {
            "text/plain": [
              "Alpine      20\n",
              "Desert      19\n",
              "Forested    12\n",
              "Tropical     5\n",
              "Name: Park_Type, dtype: int64"
            ]
          },
          "metadata": {},
          "execution_count": 187
        }
      ]
    },
    {
      "cell_type": "code",
      "metadata": {
        "colab": {
          "base_uri": "https://localhost:8080/",
          "height": 542
        },
        "id": "duZl9xhkpBX8",
        "outputId": "bf0c5223-b8ba-411b-91a5-7aa9e2b013bb"
      },
      "source": [
        "fig = px.scatter_geo(parks, \n",
        "                     locationmode=\"USA-states\",\n",
        "                     lat = \"Latitude\",\n",
        "                     lon=\"Longitude\",\n",
        "                     text=\"Park Name\",\n",
        "                     color=\"Park_Type\",\n",
        "                     scope=\"usa\",\n",
        "                     color_discrete_sequence=[\"#158f00\", \"#fa6000\", \"#00d7eb\", \"#32328b\"],\n",
        "                     title=\"Map of US National Parks by Type\"\n",
        "                     )\n",
        "\n",
        "fig.update_traces(marker=dict(size=7)),\n",
        "fig.update_layout(title={\n",
        "        'text': \"Map of US National Parks by Type\",\n",
        "        'y':0.9,\n",
        "        'x':0.47,\n",
        "        'xanchor': 'center',\n",
        "        'yanchor': 'top'}\n",
        "        )\n",
        "fig.update_geos(\n",
        "    resolution=50,\n",
        "    showland=True, landcolor=\"#f9f1ec\",\n",
        "    showocean=False, oceancolor=\"#d6e9f8\",\n",
        "    showlakes=True, lakecolor=\"#d6e9f8\",\n",
        "    showrivers=True, rivercolor=\"#d6e9f8\"\n",
        ")\n",
        "fig.show()"
      ],
      "execution_count": 188,
      "outputs": [
        {
          "output_type": "display_data",
          "data": {
            "text/html": [
              "<html>\n",
              "<head><meta charset=\"utf-8\" /></head>\n",
              "<body>\n",
              "    <div>\n",
              "            <script src=\"https://cdnjs.cloudflare.com/ajax/libs/mathjax/2.7.5/MathJax.js?config=TeX-AMS-MML_SVG\"></script><script type=\"text/javascript\">if (window.MathJax) {MathJax.Hub.Config({SVG: {font: \"STIX-Web\"}});}</script>\n",
              "                <script type=\"text/javascript\">window.PlotlyConfig = {MathJaxConfig: 'local'};</script>\n",
              "        <script src=\"https://cdn.plot.ly/plotly-latest.min.js\"></script>    \n",
              "            <div id=\"c9904802-db1c-409a-8edd-da3c520b4e28\" class=\"plotly-graph-div\" style=\"height:525px; width:100%;\"></div>\n",
              "            <script type=\"text/javascript\">\n",
              "                \n",
              "                    window.PLOTLYENV=window.PLOTLYENV || {};\n",
              "                    \n",
              "                if (document.getElementById(\"c9904802-db1c-409a-8edd-da3c520b4e28\")) {\n",
              "                    Plotly.newPlot(\n",
              "                        'c9904802-db1c-409a-8edd-da3c520b4e28',\n",
              "                        [{\"geo\": \"geo\", \"hoverlabel\": {\"namelength\": 0}, \"hovertemplate\": \"Park_Type=Forested<br>Park Name=%{text}<br>Latitude=%{lat}<br>Longitude=%{lon}\", \"lat\": [44.35, 33.78, 41.24, 35.68, 34.51, 48.1, 37.18, 41.3, 38.53, 48.5, 43.57, 44.6], \"legendgroup\": \"Park_Type=Forested\", \"locationmode\": \"USA-states\", \"lon\": [-68.21, -80.78, -81.55, -83.53, -93.05, -88.55, -86.1, -124.0, -78.35, -92.88, -103.48, -110.5], \"marker\": {\"color\": \"#158f00\", \"size\": 7}, \"name\": \"Park_Type=Forested\", \"showlegend\": true, \"text\": [\"Acadia \", \"Congaree \", \"Cuyahoga Valley \", \"Great Smoky Mountains \", \"Hot Springs \", \"Isle Royale \", \"Mammoth Cave \", \"Redwood \", \"Shenandoah \", \"Voyageurs \", \"Wind Cave \", \"Yellowstone \"], \"type\": \"scattergeo\"}, {\"geo\": \"geo\", \"hoverlabel\": {\"namelength\": 0}, \"hovertemplate\": \"Park_Type=Desert<br>Park Name=%{text}<br>Latitude=%{lat}<br>Longitude=%{lon}\", \"lat\": [38.68, 43.75, 29.25, 38.57, 37.57, 38.2, 38.2, 32.17, 34.01, 36.24, 36.06, 31.92, 33.79, 37.18, 35.07, 36.48, 32.25, 46.97, 37.3], \"legendgroup\": \"Park_Type=Desert\", \"locationmode\": \"USA-states\", \"lon\": [-109.57, -102.5, -103.25, -107.72, -112.18, -109.93, -111.17, -104.44, -119.42, -116.82, -112.14, -104.87, -115.9, -108.49, -109.78, -121.16, -110.5, -103.45, -113.05], \"marker\": {\"color\": \"#fa6000\", \"size\": 7}, \"name\": \"Park_Type=Desert\", \"showlegend\": true, \"text\": [\"Arches \", \"Badlands \", \"Big Bend \", \"Black Canyon of the Gunnison \", \"Bryce Canyon \", \"Canyonlands \", \"Capitol Reef \", \"Carlsbad Caverns \", \"Channel Islands \", \"Death Valley \", \"Grand Canyon \", \"Guadalupe Mountains \", \"Joshua Tree \", \"Mesa Verde \", \"Petrified Forest \", \"Pinnacles \", \"Saguaro \", \"Theodore Roosevelt \", \"Zion \"], \"type\": \"scattergeo\"}, {\"geo\": \"geo\", \"hoverlabel\": {\"namelength\": 0}, \"hovertemplate\": \"Park_Type=Tropical<br>Park Name=%{text}<br>Latitude=%{lat}<br>Longitude=%{lon}\", \"lat\": [25.65, 24.63, 25.32, 20.72, 19.38], \"legendgroup\": \"Park_Type=Tropical\", \"locationmode\": \"USA-states\", \"lon\": [-80.08, -82.87, -80.93, -156.17, -155.2], \"marker\": {\"color\": \"#00d7eb\", \"size\": 7}, \"name\": \"Park_Type=Tropical\", \"showlegend\": true, \"text\": [\"Biscayne \", \"Dry Tortugas \", \"Everglades \", \"Haleakala \", \"Hawaii Volcanoes \"], \"type\": \"scattergeo\"}, {\"geo\": \"geo\", \"hoverlabel\": {\"namelength\": 0}, \"hovertemplate\": \"Park_Type=Alpine<br>Park Name=%{text}<br>Latitude=%{lat}<br>Longitude=%{lon}\", \"lat\": [42.94, 63.33, 67.78, 48.8, 58.5, 38.98, 37.73, 43.73, 58.5, 59.92, 67.55, 60.97, 40.49, 46.85, 48.7, 47.97, 40.4, 36.43, 61.0, 37.83], \"legendgroup\": \"Park_Type=Alpine\", \"locationmode\": \"USA-states\", \"lon\": [-122.1, -150.5, -153.3, -114.0, -137.0, -114.3, -105.51, -110.8, -155.0, -149.65, -159.28, -153.42, -121.51, -121.75, -121.2, -123.5, -105.58, -118.68, -142.0, -119.5], \"marker\": {\"color\": \"#32328b\", \"size\": 7}, \"name\": \"Park_Type=Alpine\", \"showlegend\": true, \"text\": [\"Crater Lake \", \"Denali \", \"Gates Of The Arctic \", \"Glacier \", \"Glacier Bay \", \"Great Basin \", \"Great Sand Dunes \", \"Grand Teton \", \"Katmai \", \"Kenai Fjords \", \"Kobuk Valley \", \"Lake Clark \", \"Lassen Volcanic \", \"Mount Rainier \", \"North Cascades \", \"Olympic \", \"Rocky Mountain \", \"Sequoia and Kings Canyon \", \"Wrangell - St Elias \", \"Yosemite \"], \"type\": \"scattergeo\"}],\n",
              "                        {\"geo\": {\"center\": {}, \"domain\": {\"x\": [0.0, 1.0], \"y\": [0.0, 1.0]}, \"lakecolor\": \"#d6e9f8\", \"landcolor\": \"#f9f1ec\", \"oceancolor\": \"#d6e9f8\", \"resolution\": 50, \"rivercolor\": \"#d6e9f8\", \"scope\": \"usa\", \"showlakes\": true, \"showland\": true, \"showocean\": false, \"showrivers\": true}, \"legend\": {\"tracegroupgap\": 0}, \"template\": {\"data\": {\"bar\": [{\"error_x\": {\"color\": \"#2a3f5f\"}, \"error_y\": {\"color\": \"#2a3f5f\"}, \"marker\": {\"line\": {\"color\": \"#E5ECF6\", \"width\": 0.5}}, \"type\": \"bar\"}], \"barpolar\": [{\"marker\": {\"line\": {\"color\": \"#E5ECF6\", \"width\": 0.5}}, \"type\": \"barpolar\"}], \"carpet\": [{\"aaxis\": {\"endlinecolor\": \"#2a3f5f\", \"gridcolor\": \"white\", \"linecolor\": \"white\", \"minorgridcolor\": \"white\", \"startlinecolor\": \"#2a3f5f\"}, \"baxis\": {\"endlinecolor\": \"#2a3f5f\", \"gridcolor\": \"white\", \"linecolor\": \"white\", \"minorgridcolor\": \"white\", \"startlinecolor\": \"#2a3f5f\"}, \"type\": \"carpet\"}], \"choropleth\": [{\"colorbar\": {\"outlinewidth\": 0, \"ticks\": \"\"}, \"type\": \"choropleth\"}], \"contour\": [{\"colorbar\": {\"outlinewidth\": 0, \"ticks\": \"\"}, \"colorscale\": [[0.0, \"#0d0887\"], [0.1111111111111111, \"#46039f\"], [0.2222222222222222, \"#7201a8\"], [0.3333333333333333, \"#9c179e\"], [0.4444444444444444, \"#bd3786\"], [0.5555555555555556, \"#d8576b\"], [0.6666666666666666, \"#ed7953\"], [0.7777777777777778, \"#fb9f3a\"], [0.8888888888888888, \"#fdca26\"], [1.0, \"#f0f921\"]], \"type\": \"contour\"}], \"contourcarpet\": [{\"colorbar\": {\"outlinewidth\": 0, \"ticks\": \"\"}, \"type\": \"contourcarpet\"}], \"heatmap\": [{\"colorbar\": {\"outlinewidth\": 0, \"ticks\": \"\"}, \"colorscale\": [[0.0, \"#0d0887\"], [0.1111111111111111, \"#46039f\"], [0.2222222222222222, \"#7201a8\"], [0.3333333333333333, \"#9c179e\"], [0.4444444444444444, \"#bd3786\"], [0.5555555555555556, \"#d8576b\"], [0.6666666666666666, \"#ed7953\"], [0.7777777777777778, \"#fb9f3a\"], [0.8888888888888888, \"#fdca26\"], [1.0, \"#f0f921\"]], \"type\": \"heatmap\"}], \"heatmapgl\": [{\"colorbar\": {\"outlinewidth\": 0, \"ticks\": \"\"}, \"colorscale\": [[0.0, \"#0d0887\"], [0.1111111111111111, \"#46039f\"], [0.2222222222222222, \"#7201a8\"], [0.3333333333333333, \"#9c179e\"], [0.4444444444444444, \"#bd3786\"], [0.5555555555555556, \"#d8576b\"], [0.6666666666666666, \"#ed7953\"], [0.7777777777777778, \"#fb9f3a\"], [0.8888888888888888, \"#fdca26\"], [1.0, \"#f0f921\"]], \"type\": \"heatmapgl\"}], \"histogram\": [{\"marker\": {\"colorbar\": {\"outlinewidth\": 0, \"ticks\": \"\"}}, \"type\": \"histogram\"}], \"histogram2d\": [{\"colorbar\": {\"outlinewidth\": 0, \"ticks\": \"\"}, \"colorscale\": [[0.0, \"#0d0887\"], [0.1111111111111111, \"#46039f\"], [0.2222222222222222, \"#7201a8\"], [0.3333333333333333, \"#9c179e\"], [0.4444444444444444, \"#bd3786\"], [0.5555555555555556, \"#d8576b\"], [0.6666666666666666, \"#ed7953\"], [0.7777777777777778, \"#fb9f3a\"], [0.8888888888888888, \"#fdca26\"], [1.0, \"#f0f921\"]], \"type\": \"histogram2d\"}], \"histogram2dcontour\": [{\"colorbar\": {\"outlinewidth\": 0, \"ticks\": \"\"}, \"colorscale\": [[0.0, \"#0d0887\"], [0.1111111111111111, \"#46039f\"], [0.2222222222222222, \"#7201a8\"], [0.3333333333333333, \"#9c179e\"], [0.4444444444444444, \"#bd3786\"], [0.5555555555555556, \"#d8576b\"], [0.6666666666666666, \"#ed7953\"], [0.7777777777777778, \"#fb9f3a\"], [0.8888888888888888, \"#fdca26\"], [1.0, \"#f0f921\"]], \"type\": \"histogram2dcontour\"}], \"mesh3d\": [{\"colorbar\": {\"outlinewidth\": 0, \"ticks\": \"\"}, \"type\": \"mesh3d\"}], \"parcoords\": [{\"line\": {\"colorbar\": {\"outlinewidth\": 0, \"ticks\": \"\"}}, \"type\": \"parcoords\"}], \"pie\": [{\"automargin\": true, \"type\": \"pie\"}], \"scatter\": [{\"marker\": {\"colorbar\": {\"outlinewidth\": 0, \"ticks\": \"\"}}, \"type\": \"scatter\"}], \"scatter3d\": [{\"line\": {\"colorbar\": {\"outlinewidth\": 0, \"ticks\": \"\"}}, \"marker\": {\"colorbar\": {\"outlinewidth\": 0, \"ticks\": \"\"}}, \"type\": \"scatter3d\"}], \"scattercarpet\": [{\"marker\": {\"colorbar\": {\"outlinewidth\": 0, \"ticks\": \"\"}}, \"type\": \"scattercarpet\"}], \"scattergeo\": [{\"marker\": {\"colorbar\": {\"outlinewidth\": 0, \"ticks\": \"\"}}, \"type\": \"scattergeo\"}], \"scattergl\": [{\"marker\": {\"colorbar\": {\"outlinewidth\": 0, \"ticks\": \"\"}}, \"type\": \"scattergl\"}], \"scattermapbox\": [{\"marker\": {\"colorbar\": {\"outlinewidth\": 0, \"ticks\": \"\"}}, \"type\": \"scattermapbox\"}], \"scatterpolar\": [{\"marker\": {\"colorbar\": {\"outlinewidth\": 0, \"ticks\": \"\"}}, \"type\": \"scatterpolar\"}], \"scatterpolargl\": [{\"marker\": {\"colorbar\": {\"outlinewidth\": 0, \"ticks\": \"\"}}, \"type\": \"scatterpolargl\"}], \"scatterternary\": [{\"marker\": {\"colorbar\": {\"outlinewidth\": 0, \"ticks\": \"\"}}, \"type\": \"scatterternary\"}], \"surface\": [{\"colorbar\": {\"outlinewidth\": 0, \"ticks\": \"\"}, \"colorscale\": [[0.0, \"#0d0887\"], [0.1111111111111111, \"#46039f\"], [0.2222222222222222, \"#7201a8\"], [0.3333333333333333, \"#9c179e\"], [0.4444444444444444, \"#bd3786\"], [0.5555555555555556, \"#d8576b\"], [0.6666666666666666, \"#ed7953\"], [0.7777777777777778, \"#fb9f3a\"], [0.8888888888888888, \"#fdca26\"], [1.0, \"#f0f921\"]], \"type\": \"surface\"}], \"table\": [{\"cells\": {\"fill\": {\"color\": \"#EBF0F8\"}, \"line\": {\"color\": \"white\"}}, \"header\": {\"fill\": {\"color\": \"#C8D4E3\"}, \"line\": {\"color\": \"white\"}}, \"type\": \"table\"}]}, \"layout\": {\"annotationdefaults\": {\"arrowcolor\": \"#2a3f5f\", \"arrowhead\": 0, \"arrowwidth\": 1}, \"coloraxis\": {\"colorbar\": {\"outlinewidth\": 0, \"ticks\": \"\"}}, \"colorscale\": {\"diverging\": [[0, \"#8e0152\"], [0.1, \"#c51b7d\"], [0.2, \"#de77ae\"], [0.3, \"#f1b6da\"], [0.4, \"#fde0ef\"], [0.5, \"#f7f7f7\"], [0.6, \"#e6f5d0\"], [0.7, \"#b8e186\"], [0.8, \"#7fbc41\"], [0.9, \"#4d9221\"], [1, \"#276419\"]], \"sequential\": [[0.0, \"#0d0887\"], [0.1111111111111111, \"#46039f\"], [0.2222222222222222, \"#7201a8\"], [0.3333333333333333, \"#9c179e\"], [0.4444444444444444, \"#bd3786\"], [0.5555555555555556, \"#d8576b\"], [0.6666666666666666, \"#ed7953\"], [0.7777777777777778, \"#fb9f3a\"], [0.8888888888888888, \"#fdca26\"], [1.0, \"#f0f921\"]], \"sequentialminus\": [[0.0, \"#0d0887\"], [0.1111111111111111, \"#46039f\"], [0.2222222222222222, \"#7201a8\"], [0.3333333333333333, \"#9c179e\"], [0.4444444444444444, \"#bd3786\"], [0.5555555555555556, \"#d8576b\"], [0.6666666666666666, \"#ed7953\"], [0.7777777777777778, \"#fb9f3a\"], [0.8888888888888888, \"#fdca26\"], [1.0, \"#f0f921\"]]}, \"colorway\": [\"#636efa\", \"#EF553B\", \"#00cc96\", \"#ab63fa\", \"#FFA15A\", \"#19d3f3\", \"#FF6692\", \"#B6E880\", \"#FF97FF\", \"#FECB52\"], \"font\": {\"color\": \"#2a3f5f\"}, \"geo\": {\"bgcolor\": \"white\", \"lakecolor\": \"white\", \"landcolor\": \"#E5ECF6\", \"showlakes\": true, \"showland\": true, \"subunitcolor\": \"white\"}, \"hoverlabel\": {\"align\": \"left\"}, \"hovermode\": \"closest\", \"mapbox\": {\"style\": \"light\"}, \"paper_bgcolor\": \"white\", \"plot_bgcolor\": \"#E5ECF6\", \"polar\": {\"angularaxis\": {\"gridcolor\": \"white\", \"linecolor\": \"white\", \"ticks\": \"\"}, \"bgcolor\": \"#E5ECF6\", \"radialaxis\": {\"gridcolor\": \"white\", \"linecolor\": \"white\", \"ticks\": \"\"}}, \"scene\": {\"xaxis\": {\"backgroundcolor\": \"#E5ECF6\", \"gridcolor\": \"white\", \"gridwidth\": 2, \"linecolor\": \"white\", \"showbackground\": true, \"ticks\": \"\", \"zerolinecolor\": \"white\"}, \"yaxis\": {\"backgroundcolor\": \"#E5ECF6\", \"gridcolor\": \"white\", \"gridwidth\": 2, \"linecolor\": \"white\", \"showbackground\": true, \"ticks\": \"\", \"zerolinecolor\": \"white\"}, \"zaxis\": {\"backgroundcolor\": \"#E5ECF6\", \"gridcolor\": \"white\", \"gridwidth\": 2, \"linecolor\": \"white\", \"showbackground\": true, \"ticks\": \"\", \"zerolinecolor\": \"white\"}}, \"shapedefaults\": {\"line\": {\"color\": \"#2a3f5f\"}}, \"ternary\": {\"aaxis\": {\"gridcolor\": \"white\", \"linecolor\": \"white\", \"ticks\": \"\"}, \"baxis\": {\"gridcolor\": \"white\", \"linecolor\": \"white\", \"ticks\": \"\"}, \"bgcolor\": \"#E5ECF6\", \"caxis\": {\"gridcolor\": \"white\", \"linecolor\": \"white\", \"ticks\": \"\"}}, \"title\": {\"x\": 0.05}, \"xaxis\": {\"automargin\": true, \"gridcolor\": \"white\", \"linecolor\": \"white\", \"ticks\": \"\", \"title\": {\"standoff\": 15}, \"zerolinecolor\": \"white\", \"zerolinewidth\": 2}, \"yaxis\": {\"automargin\": true, \"gridcolor\": \"white\", \"linecolor\": \"white\", \"ticks\": \"\", \"title\": {\"standoff\": 15}, \"zerolinecolor\": \"white\", \"zerolinewidth\": 2}}}, \"title\": {\"text\": \"Map of US National Parks by Type\", \"x\": 0.47, \"xanchor\": \"center\", \"y\": 0.9, \"yanchor\": \"top\"}},\n",
              "                        {\"responsive\": true}\n",
              "                    ).then(function(){\n",
              "                            \n",
              "var gd = document.getElementById('c9904802-db1c-409a-8edd-da3c520b4e28');\n",
              "var x = new MutationObserver(function (mutations, observer) {{\n",
              "        var display = window.getComputedStyle(gd).display;\n",
              "        if (!display || display === 'none') {{\n",
              "            console.log([gd, 'removed!']);\n",
              "            Plotly.purge(gd);\n",
              "            observer.disconnect();\n",
              "        }}\n",
              "}});\n",
              "\n",
              "// Listen for the removal of the full notebook cells\n",
              "var notebookContainer = gd.closest('#notebook-container');\n",
              "if (notebookContainer) {{\n",
              "    x.observe(notebookContainer, {childList: true});\n",
              "}}\n",
              "\n",
              "// Listen for the clearing of the current output cell\n",
              "var outputEl = gd.closest('.output');\n",
              "if (outputEl) {{\n",
              "    x.observe(outputEl, {childList: true});\n",
              "}}\n",
              "\n",
              "                        })\n",
              "                };\n",
              "                \n",
              "            </script>\n",
              "        </div>\n",
              "</body>\n",
              "</html>"
            ]
          },
          "metadata": {}
        }
      ]
    },
    {
      "cell_type": "markdown",
      "metadata": {
        "id": "Cx_nM3huF2je"
      },
      "source": [
        "## Species per Acre"
      ]
    },
    {
      "cell_type": "markdown",
      "metadata": {
        "id": "Pky3HLTRM3f-"
      },
      "source": [
        "To better compare biodiversity accross various parks, we want to normalize by park size. Since it would not be reasonable to directly compare the number of species in a massive park like Wrangell-St. Elias with a smaller park like Mesa Verde. \n",
        "\n",
        "To do this, first we count the number of species in each park:"
      ]
    },
    {
      "cell_type": "code",
      "metadata": {
        "id": "gMYjCtNrvU_z",
        "colab": {
          "base_uri": "https://localhost:8080/",
          "height": 206
        },
        "outputId": "64843a7f-19a1-44a4-e87b-05bcdf798d57"
      },
      "source": [
        "species_per_park = species[[\"Park Name\", \"Scientific Name\"]].groupby(\"Park Name\", as_index=False).count()\n",
        "species_per_park = species_per_park.rename(columns={\"Scientific Name\" : \"Num_Species\"})\n",
        "species_per_park.head()"
      ],
      "execution_count": 189,
      "outputs": [
        {
          "output_type": "execute_result",
          "data": {
            "text/html": [
              "<div>\n",
              "<style scoped>\n",
              "    .dataframe tbody tr th:only-of-type {\n",
              "        vertical-align: middle;\n",
              "    }\n",
              "\n",
              "    .dataframe tbody tr th {\n",
              "        vertical-align: top;\n",
              "    }\n",
              "\n",
              "    .dataframe thead th {\n",
              "        text-align: right;\n",
              "    }\n",
              "</style>\n",
              "<table border=\"1\" class=\"dataframe\">\n",
              "  <thead>\n",
              "    <tr style=\"text-align: right;\">\n",
              "      <th></th>\n",
              "      <th>Park Name</th>\n",
              "      <th>Num_Species</th>\n",
              "    </tr>\n",
              "  </thead>\n",
              "  <tbody>\n",
              "    <tr>\n",
              "      <th>0</th>\n",
              "      <td>Acadia</td>\n",
              "      <td>1173</td>\n",
              "    </tr>\n",
              "    <tr>\n",
              "      <th>1</th>\n",
              "      <td>Arches</td>\n",
              "      <td>750</td>\n",
              "    </tr>\n",
              "    <tr>\n",
              "      <th>2</th>\n",
              "      <td>Badlands</td>\n",
              "      <td>910</td>\n",
              "    </tr>\n",
              "    <tr>\n",
              "      <th>3</th>\n",
              "      <td>Big Bend</td>\n",
              "      <td>2011</td>\n",
              "    </tr>\n",
              "    <tr>\n",
              "      <th>4</th>\n",
              "      <td>Biscayne</td>\n",
              "      <td>1331</td>\n",
              "    </tr>\n",
              "  </tbody>\n",
              "</table>\n",
              "</div>"
            ],
            "text/plain": [
              "   Park Name  Num_Species\n",
              "0    Acadia          1173\n",
              "1    Arches           750\n",
              "2  Badlands           910\n",
              "3  Big Bend          2011\n",
              "4  Biscayne          1331"
            ]
          },
          "metadata": {},
          "execution_count": 189
        }
      ]
    },
    {
      "cell_type": "markdown",
      "metadata": {
        "id": "gK16QuvMNmmS"
      },
      "source": [
        "Then we divide by the acreage in each park and plot the number of species per acre:"
      ]
    },
    {
      "cell_type": "code",
      "metadata": {
        "id": "MO9E__xAxrWW",
        "colab": {
          "base_uri": "https://localhost:8080/",
          "height": 832
        },
        "outputId": "2faa23e8-7355-4393-98ce-c5c8e8368636"
      },
      "source": [
        "# Merge the number of species per park calculated above, and standardize it by dividing by acreage\n",
        "species_per_acre = parks.merge(species_per_park, on=[\"Park Name\", \"Park Name\"])\n",
        "species_per_acre[\"Species_Per_Acre\"] = species_per_acre[\"Num_Species\"] / species_per_acre[\"Acres\"]\n",
        "species_per_acre = species_per_acre[[\"Park Name\", \"Species_Per_Acre\"]]\n",
        "species_per_acre = species_per_acre.sort_values(\"Species_Per_Acre\", ascending=False)\n",
        "display(species_per_acre.head())\n",
        "\n",
        "# plot bar chart of number of species per acre: \n",
        "plt.figure(figsize=(20, 8))\n",
        "plt.bar(x=species_per_acre[\"Park Name\"],\n",
        "        height=species_per_acre[\"Species_Per_Acre\"], color='#636EFA'\n",
        "        )\n",
        "plt.xticks(rotation='vertical');\n",
        "plt.title(\"Number of Species Per Acre\")\n",
        "plt.ylabel(\"Number of Unique Species / Acre\");\n"
      ],
      "execution_count": 190,
      "outputs": [
        {
          "output_type": "display_data",
          "data": {
            "text/html": [
              "<div>\n",
              "<style scoped>\n",
              "    .dataframe tbody tr th:only-of-type {\n",
              "        vertical-align: middle;\n",
              "    }\n",
              "\n",
              "    .dataframe tbody tr th {\n",
              "        vertical-align: top;\n",
              "    }\n",
              "\n",
              "    .dataframe thead th {\n",
              "        text-align: right;\n",
              "    }\n",
              "</style>\n",
              "<table border=\"1\" class=\"dataframe\">\n",
              "  <thead>\n",
              "    <tr style=\"text-align: right;\">\n",
              "      <th></th>\n",
              "      <th>Park Name</th>\n",
              "      <th>Species_Per_Acre</th>\n",
              "    </tr>\n",
              "  </thead>\n",
              "  <tbody>\n",
              "    <tr>\n",
              "      <th>29</th>\n",
              "      <td>Hot Springs</td>\n",
              "      <td>0.122523</td>\n",
              "    </tr>\n",
              "    <tr>\n",
              "      <th>11</th>\n",
              "      <td>Congaree</td>\n",
              "      <td>0.078995</td>\n",
              "    </tr>\n",
              "    <tr>\n",
              "      <th>27</th>\n",
              "      <td>Haleakala</td>\n",
              "      <td>0.071767</td>\n",
              "    </tr>\n",
              "    <tr>\n",
              "      <th>13</th>\n",
              "      <td>Cuyahoga Valley</td>\n",
              "      <td>0.054234</td>\n",
              "    </tr>\n",
              "    <tr>\n",
              "      <th>43</th>\n",
              "      <td>Pinnacles</td>\n",
              "      <td>0.048147</td>\n",
              "    </tr>\n",
              "  </tbody>\n",
              "</table>\n",
              "</div>"
            ],
            "text/plain": [
              "           Park Name  Species_Per_Acre\n",
              "29      Hot Springs           0.122523\n",
              "11         Congaree           0.078995\n",
              "27        Haleakala           0.071767\n",
              "13  Cuyahoga Valley           0.054234\n",
              "43        Pinnacles           0.048147"
            ]
          },
          "metadata": {}
        },
        {
          "output_type": "display_data",
          "data": {
            "image/png": "[encoded data removed]",
            "text/plain": [
              "<Figure size 1440x576 with 1 Axes>"
            ]
          },
          "metadata": {
            "needs_background": "light"
          }
        }
      ]
    },
    {
      "cell_type": "markdown",
      "metadata": {
        "id": "URte3Hy_OP5W"
      },
      "source": [
        "This bar chart provides us with a few interesting insights. For one, it is clear that parks located in more northern climates such as Denali, Kenai Fjords, and Gates of the Artic have fairly low biodiversity per acre. The same can be said for parks with a primarily desert ecosystem such as Joshua Tree and Death Valley. Parks in the tropics such as Haleakala or Congaree generally have higher biodiversity per acre. However, it also appears that exceptionally small parks such as Hot Springs NP (which is less than 6000 acreas) somewhat skews this metric. Since a small park in a very biodiverse region might contain roughly the same number of species as a larger park within that same region, but the small park would have a much larger num_species/acre score.  "
      ]
    },
    {
      "cell_type": "markdown",
      "metadata": {
        "id": "zUl8Fp7ps8q0"
      },
      "source": [
        "## Percentage At-Risk Species Per Park"
      ]
    },
    {
      "cell_type": "markdown",
      "metadata": {
        "id": "UpovXkZsfjPq"
      },
      "source": [
        "In order to get a better idea of what parks are most in danger of biodiversity loss, we calculate the percentage of species in a park that are \"at-risk\". We use the term at-risk to refer to any species with a conservation status indicating that the species' numbers are below the level indicative of a healthy population. This includes \"Species of Concern\", \"Threatened\", \"Endangered\", etc. \n",
        "\n",
        "We start by extracting all the species that are at risk and looking at how many of each designation there are. \"Species of Concern\" is by far the most common at-risk designation in the dataset. "
      ]
    },
    {
      "cell_type": "code",
      "metadata": {
        "id": "lue7HnK3tBjP",
        "colab": {
          "base_uri": "https://localhost:8080/"
        },
        "outputId": "e56f21b4-7059-4668-ed80-67c434ed3291"
      },
      "source": [
        "types_of_at_risk = [\"Species of Concern\", \"Endangered\", \"Threatened\", \"In Recovery\", \"Proposed Endangered\", \"Proposed Threatened\", \"Extinct\"]\n",
        "at_risk_species = species[species[\"Conservation Status\"].str.contains(\"|\".join(types_of_at_risk), na=False)]\n",
        "at_risk_species[\"Conservation Status\"].value_counts()"
      ],
      "execution_count": 191,
      "outputs": [
        {
          "output_type": "execute_result",
          "data": {
            "text/plain": [
              "Species of Concern     3101\n",
              "Endangered              190\n",
              "Threatened              123\n",
              "In Recovery              66\n",
              "Proposed Endangered      16\n",
              "Proposed Threatened       3\n",
              "Name: Conservation Status, dtype: int64"
            ]
          },
          "metadata": {},
          "execution_count": 191
        }
      ]
    },
    {
      "cell_type": "markdown",
      "metadata": {
        "id": "6g8MxaiJjVar"
      },
      "source": [
        "Next we determine the number of species that are at-risk in each park:"
      ]
    },
    {
      "cell_type": "code",
      "metadata": {
        "id": "dcmss715tHVO",
        "colab": {
          "base_uri": "https://localhost:8080/",
          "height": 237
        },
        "outputId": "c6a3529b-6bc4-4c3b-a716-e6e6047f1cfb"
      },
      "source": [
        "at_risk_per_park = at_risk_species[[\"Park Name\", \"Scientific Name\"]].groupby(\"Park Name\").count()\n",
        "at_risk_per_park = at_risk_per_park.rename(columns={\"Scientific Name\" : \"Num_At_Risk\"})\n",
        "at_risk_per_park.head()"
      ],
      "execution_count": 192,
      "outputs": [
        {
          "output_type": "execute_result",
          "data": {
            "text/html": [
              "<div>\n",
              "<style scoped>\n",
              "    .dataframe tbody tr th:only-of-type {\n",
              "        vertical-align: middle;\n",
              "    }\n",
              "\n",
              "    .dataframe tbody tr th {\n",
              "        vertical-align: top;\n",
              "    }\n",
              "\n",
              "    .dataframe thead th {\n",
              "        text-align: right;\n",
              "    }\n",
              "</style>\n",
              "<table border=\"1\" class=\"dataframe\">\n",
              "  <thead>\n",
              "    <tr style=\"text-align: right;\">\n",
              "      <th></th>\n",
              "      <th>Num_At_Risk</th>\n",
              "    </tr>\n",
              "    <tr>\n",
              "      <th>Park Name</th>\n",
              "      <th></th>\n",
              "    </tr>\n",
              "  </thead>\n",
              "  <tbody>\n",
              "    <tr>\n",
              "      <th>Acadia</th>\n",
              "      <td>48</td>\n",
              "    </tr>\n",
              "    <tr>\n",
              "      <th>Arches</th>\n",
              "      <td>52</td>\n",
              "    </tr>\n",
              "    <tr>\n",
              "      <th>Badlands</th>\n",
              "      <td>56</td>\n",
              "    </tr>\n",
              "    <tr>\n",
              "      <th>Big Bend</th>\n",
              "      <td>128</td>\n",
              "    </tr>\n",
              "    <tr>\n",
              "      <th>Biscayne</th>\n",
              "      <td>59</td>\n",
              "    </tr>\n",
              "  </tbody>\n",
              "</table>\n",
              "</div>"
            ],
            "text/plain": [
              "           Num_At_Risk\n",
              "Park Name             \n",
              "Acadia              48\n",
              "Arches              52\n",
              "Badlands            56\n",
              "Big Bend           128\n",
              "Biscayne            59"
            ]
          },
          "metadata": {},
          "execution_count": 192
        }
      ]
    },
    {
      "cell_type": "markdown",
      "metadata": {
        "id": "VgxGISwfjx_N"
      },
      "source": [
        "Then we divide the total number of species in each park by the number of at risk species:"
      ]
    },
    {
      "cell_type": "code",
      "metadata": {
        "id": "XmOTtxritRd_",
        "colab": {
          "base_uri": "https://localhost:8080/",
          "height": 206
        },
        "outputId": "d53b2c09-940a-4ae0-9c7f-40df8a630788"
      },
      "source": [
        "percent_at_risk_per_park = species_per_park.join(at_risk_per_park, on=\"Park Name\")\n",
        "percent_at_risk_per_park[\"Percent_At_Risk\"] = percent_at_risk_per_park[\"Num_At_Risk\"] / percent_at_risk_per_park[\"Num_Species\"]\n",
        "percent_at_risk_per_park = percent_at_risk_per_park.sort_values(\"Percent_At_Risk\", ascending=False)\n",
        "percent_at_risk_per_park.head()"
      ],
      "execution_count": 193,
      "outputs": [
        {
          "output_type": "execute_result",
          "data": {
            "text/html": [
              "<div>\n",
              "<style scoped>\n",
              "    .dataframe tbody tr th:only-of-type {\n",
              "        vertical-align: middle;\n",
              "    }\n",
              "\n",
              "    .dataframe tbody tr th {\n",
              "        vertical-align: top;\n",
              "    }\n",
              "\n",
              "    .dataframe thead th {\n",
              "        text-align: right;\n",
              "    }\n",
              "</style>\n",
              "<table border=\"1\" class=\"dataframe\">\n",
              "  <thead>\n",
              "    <tr style=\"text-align: right;\">\n",
              "      <th></th>\n",
              "      <th>Park Name</th>\n",
              "      <th>Num_Species</th>\n",
              "      <th>Num_At_Risk</th>\n",
              "      <th>Percent_At_Risk</th>\n",
              "    </tr>\n",
              "  </thead>\n",
              "  <tbody>\n",
              "    <tr>\n",
              "      <th>31</th>\n",
              "      <td>Joshua Tree</td>\n",
              "      <td>862</td>\n",
              "      <td>79</td>\n",
              "      <td>0.091647</td>\n",
              "    </tr>\n",
              "    <tr>\n",
              "      <th>42</th>\n",
              "      <td>Petrified Forest</td>\n",
              "      <td>734</td>\n",
              "      <td>63</td>\n",
              "      <td>0.085831</td>\n",
              "    </tr>\n",
              "    <tr>\n",
              "      <th>7</th>\n",
              "      <td>Canyonlands</td>\n",
              "      <td>866</td>\n",
              "      <td>68</td>\n",
              "      <td>0.078522</td>\n",
              "    </tr>\n",
              "    <tr>\n",
              "      <th>5</th>\n",
              "      <td>Black Canyon of the Gunnison</td>\n",
              "      <td>689</td>\n",
              "      <td>51</td>\n",
              "      <td>0.074020</td>\n",
              "    </tr>\n",
              "    <tr>\n",
              "      <th>10</th>\n",
              "      <td>Channel Islands</td>\n",
              "      <td>1847</td>\n",
              "      <td>136</td>\n",
              "      <td>0.073633</td>\n",
              "    </tr>\n",
              "  </tbody>\n",
              "</table>\n",
              "</div>"
            ],
            "text/plain": [
              "                        Park Name  Num_Species  Num_At_Risk  Percent_At_Risk\n",
              "31                   Joshua Tree           862           79         0.091647\n",
              "42              Petrified Forest           734           63         0.085831\n",
              "7                    Canyonlands           866           68         0.078522\n",
              "5   Black Canyon of the Gunnison           689           51         0.074020\n",
              "10               Channel Islands          1847          136         0.073633"
            ]
          },
          "metadata": {},
          "execution_count": 193
        }
      ]
    },
    {
      "cell_type": "markdown",
      "metadata": {
        "id": "CFCRyJUMj71r"
      },
      "source": [
        "Finally we graph the percentage of species that are at-risk at each park:"
      ]
    },
    {
      "cell_type": "code",
      "metadata": {
        "id": "dETKmgRcvgwE",
        "colab": {
          "base_uri": "https://localhost:8080/",
          "height": 642
        },
        "outputId": "b6f5e472-da15-4e27-a695-4bb25cdfc0f7"
      },
      "source": [
        "plt.figure(figsize=(20, 8))\n",
        "plt.bar(x=percent_at_risk_per_park[\"Park Name\"],\n",
        "        height=percent_at_risk_per_park[\"Percent_At_Risk\"],\n",
        "        color='#636EFA'\n",
        "        )\n",
        "plt.xticks(rotation='vertical');\n",
        "plt.title(\"Percentage of At-Risk Species at Each Park\")\n",
        "plt.ylabel(\"(Num At Risk Species) / (Total Species)\");"
      ],
      "execution_count": 194,
      "outputs": [
        {
          "output_type": "display_data",
          "data": {
            "image/png": "[encoded data removed]",
            "text/plain": [
              "<Figure size 1440x576 with 1 Axes>"
            ]
          },
          "metadata": {
            "needs_background": "light"
          }
        }
      ]
    },
    {
      "cell_type": "markdown",
      "metadata": {
        "id": "96yyB4Uhlzfp"
      },
      "source": [
        "It appears that parks located primarily in the desert tend to have a larger percentage of at-risk species than others. The three parks with the higher percentage of at-risk species, Joshua Tree, Petrified Forest, and Canyonlands are all found in the deserts of the southwestern United States.  \n",
        "\n",
        "\n"
      ]
    },
    {
      "cell_type": "markdown",
      "metadata": {
        "id": "aK6LLfzXC6g7"
      },
      "source": [
        "## Visitation Per Park"
      ]
    },
    {
      "cell_type": "code",
      "metadata": {
        "id": "ivJNV-x1xsa4",
        "colab": {
          "base_uri": "https://localhost:8080/",
          "height": 206
        },
        "outputId": "68862530-a383-4ea4-fd80-aaeb2fb6012b"
      },
      "source": [
        "avg_visitation = visitation[[\"Park Name\", \"Average\"]]\n",
        "\n",
        "avg_visitation = parks.merge(avg_visitation, on=\"Park Name\", how=\"left\")\n",
        "avg_visitation = avg_visitation.rename(columns={'Average':'AVG_Visitation'})\n",
        "avg_visitation['AVG_Visitation'] = avg_visitation['AVG_Visitation'].str.replace(',','')\n",
        "avg_visitation['AVG_Visitation'] = pd.to_numeric(avg_visitation['AVG_Visitation'])\n",
        "avg_visitation.dropna(inplace=True)\n",
        "avg_visitation = avg_visitation[[\"Park Name\", \"AVG_Visitation\"]]\n",
        "avg_visitation = avg_visitation.sort_values('AVG_Visitation', ascending=False)\n",
        "avg_visitation.head()"
      ],
      "execution_count": 195,
      "outputs": [
        {
          "output_type": "execute_result",
          "data": {
            "text/html": [
              "<div>\n",
              "<style scoped>\n",
              "    .dataframe tbody tr th:only-of-type {\n",
              "        vertical-align: middle;\n",
              "    }\n",
              "\n",
              "    .dataframe tbody tr th {\n",
              "        vertical-align: top;\n",
              "    }\n",
              "\n",
              "    .dataframe thead th {\n",
              "        text-align: right;\n",
              "    }\n",
              "</style>\n",
              "<table border=\"1\" class=\"dataframe\">\n",
              "  <thead>\n",
              "    <tr style=\"text-align: right;\">\n",
              "      <th></th>\n",
              "      <th>Park Name</th>\n",
              "      <th>AVG_Visitation</th>\n",
              "    </tr>\n",
              "  </thead>\n",
              "  <tbody>\n",
              "    <tr>\n",
              "      <th>24</th>\n",
              "      <td>Great Smoky Mountains</td>\n",
              "      <td>10757765.0</td>\n",
              "    </tr>\n",
              "    <tr>\n",
              "      <th>22</th>\n",
              "      <td>Grand Canyon</td>\n",
              "      <td>5103793.0</td>\n",
              "    </tr>\n",
              "    <tr>\n",
              "      <th>54</th>\n",
              "      <td>Yosemite</td>\n",
              "      <td>3959522.0</td>\n",
              "    </tr>\n",
              "    <tr>\n",
              "      <th>45</th>\n",
              "      <td>Rocky Mountain</td>\n",
              "      <td>3850891.0</td>\n",
              "    </tr>\n",
              "    <tr>\n",
              "      <th>53</th>\n",
              "      <td>Yellowstone</td>\n",
              "      <td>3795657.0</td>\n",
              "    </tr>\n",
              "  </tbody>\n",
              "</table>\n",
              "</div>"
            ],
            "text/plain": [
              "                 Park Name  AVG_Visitation\n",
              "24  Great Smoky Mountains       10757765.0\n",
              "22           Grand Canyon        5103793.0\n",
              "54               Yosemite        3959522.0\n",
              "45         Rocky Mountain        3850891.0\n",
              "53            Yellowstone        3795657.0"
            ]
          },
          "metadata": {},
          "execution_count": 195
        }
      ]
    },
    {
      "cell_type": "code",
      "metadata": {
        "id": "vYXBLI-tMgGo",
        "colab": {
          "base_uri": "https://localhost:8080/",
          "height": 642
        },
        "outputId": "6cebbcbf-5b45-4ca1-8fc0-2bb064e93bf6"
      },
      "source": [
        "plt.figure(figsize=(20, 8))\n",
        "plt.bar(x=avg_visitation[\"Park Name\"],\n",
        "        height=avg_visitation[\"AVG_Visitation\"],\n",
        "        color='#636EFA'\n",
        "        )\n",
        "plt.xticks(rotation='vertical');\n",
        "plt.title(\"Visitation at Each Park\")\n",
        "plt.ylabel(\"Visitors / Year\");"
      ],
      "execution_count": 196,
      "outputs": [
        {
          "output_type": "display_data",
          "data": {
            "image/png": "[encoded data removed]",
            "text/plain": [
              "<Figure size 1440x576 with 1 Axes>"
            ]
          },
          "metadata": {
            "needs_background": "light"
          }
        }
      ]
    },
    {
      "cell_type": "markdown",
      "source": [
        "In the bar graph plotted above the visitation in each park is mapped having quite an outlier which is the Great Smoky Mountain having the most visitation through the years. This makes sense as this a National Park that it is located in the center of the country making it quite accesible for all of the states to visit this National Park. It is also insightful since the least visitated parks are in Alaska, which makes sense since Alaska is quite distanced from the rest of the states. "
      ],
      "metadata": {
        "id": "RZCyhMTZJd__"
      }
    },
    {
      "cell_type": "markdown",
      "metadata": {
        "id": "P_IVcrfIFhyk"
      },
      "source": [
        "## Mapping the Parks based on the days which exceeded the Ozone standard Quality in 2021"
      ]
    },
    {
      "cell_type": "markdown",
      "metadata": {
        "id": "5Gjr09LqJFuo"
      },
      "source": [
        "We decided to plot the number of days where the ozone standard quality  was exceeded in order to visualize the distribution of these days in a geographical map. \n",
        "\n"
      ]
    },
    {
      "cell_type": "code",
      "metadata": {
        "id": "64H6P5zjJPJF"
      },
      "source": [
        "#Merge Visitation, ozone and Parks \n",
        "ozone_visitation = visitation.merge(ozone, on='Park Name')\n",
        "ozone_visitation_park_data = ozone_visitation.merge(parks,on='Park Name')\n",
        "ozone_visitation_park_data = ozone_visitation_park_data.merge(avg_visitation, how='left', on=\"Park Name\")"
      ],
      "execution_count": 197,
      "outputs": []
    },
    {
      "cell_type": "code",
      "metadata": {
        "colab": {
          "base_uri": "https://localhost:8080/",
          "height": 112
        },
        "id": "9X5Hs_XhKrzn",
        "outputId": "57a00254-f760-4673-eed8-1bab3351ee28"
      },
      "source": [
        "#Keep the relevant data \n",
        "ozone_visitation_parks = ozone_visitation_park_data[['Park Name', 'Total', 'Acres', 'AVG_Visitation', 'State', 'Latitude', 'Longitude']]\n",
        "ozone_visitation_parks.head(2)"
      ],
      "execution_count": 198,
      "outputs": [
        {
          "output_type": "execute_result",
          "data": {
            "text/html": [
              "<div>\n",
              "<style scoped>\n",
              "    .dataframe tbody tr th:only-of-type {\n",
              "        vertical-align: middle;\n",
              "    }\n",
              "\n",
              "    .dataframe tbody tr th {\n",
              "        vertical-align: top;\n",
              "    }\n",
              "\n",
              "    .dataframe thead th {\n",
              "        text-align: right;\n",
              "    }\n",
              "</style>\n",
              "<table border=\"1\" class=\"dataframe\">\n",
              "  <thead>\n",
              "    <tr style=\"text-align: right;\">\n",
              "      <th></th>\n",
              "      <th>Park Name</th>\n",
              "      <th>Total</th>\n",
              "      <th>Acres</th>\n",
              "      <th>AVG_Visitation</th>\n",
              "      <th>State</th>\n",
              "      <th>Latitude</th>\n",
              "      <th>Longitude</th>\n",
              "    </tr>\n",
              "  </thead>\n",
              "  <tbody>\n",
              "    <tr>\n",
              "      <th>0</th>\n",
              "      <td>Acadia</td>\n",
              "      <td>3</td>\n",
              "      <td>47390</td>\n",
              "      <td>2889149.0</td>\n",
              "      <td>ME</td>\n",
              "      <td>44.35</td>\n",
              "      <td>-68.21</td>\n",
              "    </tr>\n",
              "    <tr>\n",
              "      <th>1</th>\n",
              "      <td>Acadia</td>\n",
              "      <td>2</td>\n",
              "      <td>47390</td>\n",
              "      <td>2889149.0</td>\n",
              "      <td>ME</td>\n",
              "      <td>44.35</td>\n",
              "      <td>-68.21</td>\n",
              "    </tr>\n",
              "  </tbody>\n",
              "</table>\n",
              "</div>"
            ],
            "text/plain": [
              "  Park Name  Total  Acres  AVG_Visitation State  Latitude  Longitude\n",
              "0   Acadia       3  47390       2889149.0    ME     44.35     -68.21\n",
              "1   Acadia       2  47390       2889149.0    ME     44.35     -68.21"
            ]
          },
          "metadata": {},
          "execution_count": 198
        }
      ]
    },
    {
      "cell_type": "markdown",
      "metadata": {
        "id": "2Zs-zJZaLVEN"
      },
      "source": [
        "Plot of a map where we can hover over each Park and see their particular data for each park.  The color and size of each square represents how many days each park had where the ozone exceeded the healthy levels."
      ]
    },
    {
      "cell_type": "code",
      "metadata": {
        "id": "11kibeNyFid3",
        "colab": {
          "base_uri": "https://localhost:8080/",
          "height": 681
        },
        "outputId": "7b573467-d0bd-4902-f27b-fc730136d2df"
      },
      "source": [
        "ozone_visitation_parks['text'] = ozone_visitation_parks['Park Name'] + '' + + ozone_visitation_parks['State'].astype(str) + ' Size in Acres ' + ozone_visitation_parks['Acres'].astype(str) + '   Avg Visitation: '+ ozone_visitation_parks['AVG_Visitation'].astype(str) + '   Total Days: '+ ozone_visitation_parks['Total'].astype(str)\n",
        "fig = go.Figure(data=go.Scattergeo(\n",
        "        lon = ozone_visitation_parks['Longitude'],\n",
        "        lat = ozone_visitation_parks['Latitude'],\n",
        "        text = ozone_visitation_parks['text'],\n",
        "        mode = 'markers',\n",
        "        marker = dict(\n",
        "            size = ozone_visitation_parks['Total'],\n",
        "            sizemin=4,\n",
        "            opacity = 0.8,\n",
        "            autocolorscale = False,\n",
        "            symbol = 'square',\n",
        "            line = dict(\n",
        "                width=1,\n",
        "                color='black'\n",
        "            ),\n",
        "            colorscale = 'Reds',\n",
        "            cmin = 0,\n",
        "            color = ozone_visitation_parks['Total'],\n",
        "            cmax = ozone_visitation_parks['Total'].max(),\n",
        "            colorbar_title=\"Number of days where ozone levels have exceeded the standard in 2021\"\n",
        "        )))\n",
        "\n",
        "fig.update_layout(\n",
        "        title = 'Hover for Data of each park',\n",
        "           geo = dict(\n",
        "            scope='usa',\n",
        "            projection_type='albers usa',\n",
        "            showland = True,\n",
        "            landcolor = \"rgb(250, 250, 250)\",\n",
        "            subunitcolor = \"rgb(217, 217, 217)\",\n",
        "            countrycolor = \"rgb(217, 217, 217)\",\n",
        "            countrywidth = 0.5,\n",
        "            subunitwidth = 0.5\n",
        "        )\n",
        "    )\n",
        "fig.show()"
      ],
      "execution_count": 199,
      "outputs": [
        {
          "output_type": "stream",
          "name": "stderr",
          "text": [
            "/usr/local/lib/python3.7/dist-packages/ipykernel_launcher.py:1: SettingWithCopyWarning:\n",
            "\n",
            "\n",
            "A value is trying to be set on a copy of a slice from a DataFrame.\n",
            "Try using .loc[row_indexer,col_indexer] = value instead\n",
            "\n",
            "See the caveats in the documentation: https://pandas.pydata.org/pandas-docs/stable/user_guide/indexing.html#returning-a-view-versus-a-copy\n",
            "\n"
          ]
        },
        {
          "output_type": "display_data",
          "data": {
            "text/html": [
              "<html>\n",
              "<head><meta charset=\"utf-8\" /></head>\n",
              "<body>\n",
              "    <div>\n",
              "            <script src=\"https://cdnjs.cloudflare.com/ajax/libs/mathjax/2.7.5/MathJax.js?config=TeX-AMS-MML_SVG\"></script><script type=\"text/javascript\">if (window.MathJax) {MathJax.Hub.Config({SVG: {font: \"STIX-Web\"}});}</script>\n",
              "                <script type=\"text/javascript\">window.PlotlyConfig = {MathJaxConfig: 'local'};</script>\n",
              "        <script src=\"https://cdn.plot.ly/plotly-latest.min.js\"></script>    \n",
              "            <div id=\"91bd8866-f4d6-4db7-bf38-270cab22af3a\" class=\"plotly-graph-div\" style=\"height:525px; width:100%;\"></div>\n",
              "            <script type=\"text/javascript\">\n",
              "                \n",
              "                    window.PLOTLYENV=window.PLOTLYENV || {};\n",
              "                    \n",
              "                if (document.getElementById(\"91bd8866-f4d6-4db7-bf38-270cab22af3a\")) {\n",
              "                    Plotly.newPlot(\n",
              "                        '91bd8866-f4d6-4db7-bf38-270cab22af3a',\n",
              "                        [{\"lat\": [44.35, 44.35, 29.25, 38.2, 32.17, 36.24, 63.33, 48.8, 36.06, 43.73, 38.98, 35.68, 35.68, 35.68, 35.68, 35.68, 31.92, 33.79, 33.79, 40.49, 37.18, 37.18, 35.07, 36.48, 40.4, 38.53, 46.97, 48.5, 43.57, 44.6, 37.83, 37.3], \"lon\": [-68.21, -68.21, -103.25, -109.93, -104.44, -116.82, -150.5, -114.0, -112.14, -110.8, -114.3, -83.53, -83.53, -83.53, -83.53, -83.53, -104.87, -115.9, -115.9, -121.51, -86.1, -108.49, -109.78, -121.16, -105.58, -78.35, -103.45, -92.88, -103.48, -110.5, -119.5, -113.05], \"marker\": {\"autocolorscale\": false, \"cmax\": 37, \"cmin\": 0, \"color\": [3, 2, 0, 2, 14, 8, 0, 0, 0, 0, 2, 0, 0, 0, 1, 0, 4, 37, 0, 9, 0, 2, 1, 0, 14, 0, 1, 0, 0, 1, 17, 2], \"colorbar\": {\"title\": {\"text\": \"Number of days where ozone levels have exceeded the standard in 2021\"}}, \"colorscale\": [[0.0, \"rgb(255,245,240)\"], [0.125, \"rgb(254,224,210)\"], [0.25, \"rgb(252,187,161)\"], [0.375, \"rgb(252,146,114)\"], [0.5, \"rgb(251,106,74)\"], [0.625, \"rgb(239,59,44)\"], [0.75, \"rgb(203,24,29)\"], [0.875, \"rgb(165,15,21)\"], [1.0, \"rgb(103,0,13)\"]], \"line\": {\"color\": \"black\", \"width\": 1}, \"opacity\": 0.8, \"size\": [3, 2, 0, 2, 14, 8, 0, 0, 0, 0, 2, 0, 0, 0, 1, 0, 4, 37, 0, 9, 0, 2, 1, 0, 14, 0, 1, 0, 0, 1, 17, 2], \"sizemin\": 4, \"symbol\": \"square\"}, \"mode\": \"markers\", \"text\": [\"Acadia ME Size in Acres 47390   Avg Visitation: 2889149.0   Total Days: 3\", \"Acadia ME Size in Acres 47390   Avg Visitation: 2889149.0   Total Days: 2\", \"Big Bend TX Size in Acres 801163   Avg Visitation: 379312.0   Total Days: 0\", \"Canyonlands UT Size in Acres 337598   Avg Visitation: 605185.0   Total Days: 2\", \"Carlsbad Caverns NM Size in Acres 46766   Avg Visitation: 405489.0   Total Days: 14\", \"Death Valley CA, NV Size in Acres 4740912   Avg Visitation: 1197030.0   Total Days: 8\", \"Denali AK Size in Acres 3372402   Avg Visitation: 489889.0   Total Days: 0\", \"Glacier MT Size in Acres 1013572   Avg Visitation: 2487676.0   Total Days: 0\", \"Grand Canyon AZ Size in Acres 1217403   Avg Visitation: 5103793.0   Total Days: 0\", \"Grand Teton WY Size in Acres 309995   Avg Visitation: 3069628.0   Total Days: 0\", \"Great Basin NV Size in Acres 77180   Avg Visitation: 122086.0   Total Days: 2\", \"Great Smoky Mountains TN, NC Size in Acres 521490   Avg Visitation: 10757765.0   Total Days: 0\", \"Great Smoky Mountains TN, NC Size in Acres 521490   Avg Visitation: 10757765.0   Total Days: 0\", \"Great Smoky Mountains TN, NC Size in Acres 521490   Avg Visitation: 10757765.0   Total Days: 0\", \"Great Smoky Mountains TN, NC Size in Acres 521490   Avg Visitation: 10757765.0   Total Days: 1\", \"Great Smoky Mountains TN, NC Size in Acres 521490   Avg Visitation: 10757765.0   Total Days: 0\", \"Guadalupe Mountains TX Size in Acres 86416   Avg Visitation: 171351.0   Total Days: 4\", \"Joshua Tree CA Size in Acres 789745   Avg Visitation: 2148073.0   Total Days: 37\", \"Joshua Tree CA Size in Acres 789745   Avg Visitation: 2148073.0   Total Days: 0\", \"Lassen Volcanic CA Size in Acres 106372   Avg Visitation: 468947.0   Total Days: 9\", \"Mammoth Cave KY Size in Acres 52830   Avg Visitation: 512499.0   Total Days: 0\", \"Mesa Verde CO Size in Acres 52122   Avg Visitation: 517473.0   Total Days: 2\", \"Petrified Forest AZ Size in Acres 93533   Avg Visitation: 649761.0   Total Days: 1\", \"Pinnacles CA Size in Acres 26606   Avg Visitation: 227255.0   Total Days: 0\", \"Rocky Mountain CO Size in Acres 265828   Avg Visitation: 3850891.0   Total Days: 14\", \"Shenandoah VA Size in Acres 199045   Avg Visitation: 1338665.0   Total Days: 0\", \"Theodore Roosevelt ND Size in Acres 70447   Avg Visitation: 634290.0   Total Days: 1\", \"Voyageurs MN Size in Acres 218200   Avg Visitation: 231777.0   Total Days: 0\", \"Wind Cave SD Size in Acres 28295   Avg Visitation: 570029.0   Total Days: 0\", \"Yellowstone WY, MT, ID Size in Acres 2219791   Avg Visitation: 3795657.0   Total Days: 1\", \"Yosemite CA Size in Acres 761266   Avg Visitation: 3959522.0   Total Days: 17\", \"Zion UT Size in Acres 146598   Avg Visitation: 3664454.0   Total Days: 2\"], \"type\": \"scattergeo\"}],\n",
              "                        {\"geo\": {\"countrycolor\": \"rgb(217, 217, 217)\", \"countrywidth\": 0.5, \"landcolor\": \"rgb(250, 250, 250)\", \"projection\": {\"type\": \"albers usa\"}, \"scope\": \"usa\", \"showland\": true, \"subunitcolor\": \"rgb(217, 217, 217)\", \"subunitwidth\": 0.5}, \"template\": {\"data\": {\"bar\": [{\"error_x\": {\"color\": \"#2a3f5f\"}, \"error_y\": {\"color\": \"#2a3f5f\"}, \"marker\": {\"line\": {\"color\": \"#E5ECF6\", \"width\": 0.5}}, \"type\": \"bar\"}], \"barpolar\": [{\"marker\": {\"line\": {\"color\": \"#E5ECF6\", \"width\": 0.5}}, \"type\": \"barpolar\"}], \"carpet\": [{\"aaxis\": {\"endlinecolor\": \"#2a3f5f\", \"gridcolor\": \"white\", \"linecolor\": \"white\", \"minorgridcolor\": \"white\", \"startlinecolor\": \"#2a3f5f\"}, \"baxis\": {\"endlinecolor\": \"#2a3f5f\", \"gridcolor\": \"white\", \"linecolor\": \"white\", \"minorgridcolor\": \"white\", \"startlinecolor\": \"#2a3f5f\"}, \"type\": \"carpet\"}], \"choropleth\": [{\"colorbar\": {\"outlinewidth\": 0, \"ticks\": \"\"}, \"type\": \"choropleth\"}], \"contour\": [{\"colorbar\": {\"outlinewidth\": 0, \"ticks\": \"\"}, \"colorscale\": [[0.0, \"#0d0887\"], [0.1111111111111111, \"#46039f\"], [0.2222222222222222, \"#7201a8\"], [0.3333333333333333, \"#9c179e\"], [0.4444444444444444, \"#bd3786\"], [0.5555555555555556, \"#d8576b\"], [0.6666666666666666, \"#ed7953\"], [0.7777777777777778, \"#fb9f3a\"], [0.8888888888888888, \"#fdca26\"], [1.0, \"#f0f921\"]], \"type\": \"contour\"}], \"contourcarpet\": [{\"colorbar\": {\"outlinewidth\": 0, \"ticks\": \"\"}, \"type\": \"contourcarpet\"}], \"heatmap\": [{\"colorbar\": {\"outlinewidth\": 0, \"ticks\": \"\"}, \"colorscale\": [[0.0, \"#0d0887\"], [0.1111111111111111, \"#46039f\"], [0.2222222222222222, \"#7201a8\"], [0.3333333333333333, \"#9c179e\"], [0.4444444444444444, \"#bd3786\"], [0.5555555555555556, \"#d8576b\"], [0.6666666666666666, \"#ed7953\"], [0.7777777777777778, \"#fb9f3a\"], [0.8888888888888888, \"#fdca26\"], [1.0, \"#f0f921\"]], \"type\": \"heatmap\"}], \"heatmapgl\": [{\"colorbar\": {\"outlinewidth\": 0, \"ticks\": \"\"}, \"colorscale\": [[0.0, \"#0d0887\"], [0.1111111111111111, \"#46039f\"], [0.2222222222222222, \"#7201a8\"], [0.3333333333333333, \"#9c179e\"], [0.4444444444444444, \"#bd3786\"], [0.5555555555555556, \"#d8576b\"], [0.6666666666666666, \"#ed7953\"], [0.7777777777777778, \"#fb9f3a\"], [0.8888888888888888, \"#fdca26\"], [1.0, \"#f0f921\"]], \"type\": \"heatmapgl\"}], \"histogram\": [{\"marker\": {\"colorbar\": {\"outlinewidth\": 0, \"ticks\": \"\"}}, \"type\": \"histogram\"}], \"histogram2d\": [{\"colorbar\": {\"outlinewidth\": 0, \"ticks\": \"\"}, \"colorscale\": [[0.0, \"#0d0887\"], [0.1111111111111111, \"#46039f\"], [0.2222222222222222, \"#7201a8\"], [0.3333333333333333, \"#9c179e\"], [0.4444444444444444, \"#bd3786\"], [0.5555555555555556, \"#d8576b\"], [0.6666666666666666, \"#ed7953\"], [0.7777777777777778, \"#fb9f3a\"], [0.8888888888888888, \"#fdca26\"], [1.0, \"#f0f921\"]], \"type\": \"histogram2d\"}], \"histogram2dcontour\": [{\"colorbar\": {\"outlinewidth\": 0, \"ticks\": \"\"}, \"colorscale\": [[0.0, \"#0d0887\"], [0.1111111111111111, \"#46039f\"], [0.2222222222222222, \"#7201a8\"], [0.3333333333333333, \"#9c179e\"], [0.4444444444444444, \"#bd3786\"], [0.5555555555555556, \"#d8576b\"], [0.6666666666666666, \"#ed7953\"], [0.7777777777777778, \"#fb9f3a\"], [0.8888888888888888, \"#fdca26\"], [1.0, \"#f0f921\"]], \"type\": \"histogram2dcontour\"}], \"mesh3d\": [{\"colorbar\": {\"outlinewidth\": 0, \"ticks\": \"\"}, \"type\": \"mesh3d\"}], \"parcoords\": [{\"line\": {\"colorbar\": {\"outlinewidth\": 0, \"ticks\": \"\"}}, \"type\": \"parcoords\"}], \"pie\": [{\"automargin\": true, \"type\": \"pie\"}], \"scatter\": [{\"marker\": {\"colorbar\": {\"outlinewidth\": 0, \"ticks\": \"\"}}, \"type\": \"scatter\"}], \"scatter3d\": [{\"line\": {\"colorbar\": {\"outlinewidth\": 0, \"ticks\": \"\"}}, \"marker\": {\"colorbar\": {\"outlinewidth\": 0, \"ticks\": \"\"}}, \"type\": \"scatter3d\"}], \"scattercarpet\": [{\"marker\": {\"colorbar\": {\"outlinewidth\": 0, \"ticks\": \"\"}}, \"type\": \"scattercarpet\"}], \"scattergeo\": [{\"marker\": {\"colorbar\": {\"outlinewidth\": 0, \"ticks\": \"\"}}, \"type\": \"scattergeo\"}], \"scattergl\": [{\"marker\": {\"colorbar\": {\"outlinewidth\": 0, \"ticks\": \"\"}}, \"type\": \"scattergl\"}], \"scattermapbox\": [{\"marker\": {\"colorbar\": {\"outlinewidth\": 0, \"ticks\": \"\"}}, \"type\": \"scattermapbox\"}], \"scatterpolar\": [{\"marker\": {\"colorbar\": {\"outlinewidth\": 0, \"ticks\": \"\"}}, \"type\": \"scatterpolar\"}], \"scatterpolargl\": [{\"marker\": {\"colorbar\": {\"outlinewidth\": 0, \"ticks\": \"\"}}, \"type\": \"scatterpolargl\"}], \"scatterternary\": [{\"marker\": {\"colorbar\": {\"outlinewidth\": 0, \"ticks\": \"\"}}, \"type\": \"scatterternary\"}], \"surface\": [{\"colorbar\": {\"outlinewidth\": 0, \"ticks\": \"\"}, \"colorscale\": [[0.0, \"#0d0887\"], [0.1111111111111111, \"#46039f\"], [0.2222222222222222, \"#7201a8\"], [0.3333333333333333, \"#9c179e\"], [0.4444444444444444, \"#bd3786\"], [0.5555555555555556, \"#d8576b\"], [0.6666666666666666, \"#ed7953\"], [0.7777777777777778, \"#fb9f3a\"], [0.8888888888888888, \"#fdca26\"], [1.0, \"#f0f921\"]], \"type\": \"surface\"}], \"table\": [{\"cells\": {\"fill\": {\"color\": \"#EBF0F8\"}, \"line\": {\"color\": \"white\"}}, \"header\": {\"fill\": {\"color\": \"#C8D4E3\"}, \"line\": {\"color\": \"white\"}}, \"type\": \"table\"}]}, \"layout\": {\"annotationdefaults\": {\"arrowcolor\": \"#2a3f5f\", \"arrowhead\": 0, \"arrowwidth\": 1}, \"coloraxis\": {\"colorbar\": {\"outlinewidth\": 0, \"ticks\": \"\"}}, \"colorscale\": {\"diverging\": [[0, \"#8e0152\"], [0.1, \"#c51b7d\"], [0.2, \"#de77ae\"], [0.3, \"#f1b6da\"], [0.4, \"#fde0ef\"], [0.5, \"#f7f7f7\"], [0.6, \"#e6f5d0\"], [0.7, \"#b8e186\"], [0.8, \"#7fbc41\"], [0.9, \"#4d9221\"], [1, \"#276419\"]], \"sequential\": [[0.0, \"#0d0887\"], [0.1111111111111111, \"#46039f\"], [0.2222222222222222, \"#7201a8\"], [0.3333333333333333, \"#9c179e\"], [0.4444444444444444, \"#bd3786\"], [0.5555555555555556, \"#d8576b\"], [0.6666666666666666, \"#ed7953\"], [0.7777777777777778, \"#fb9f3a\"], [0.8888888888888888, \"#fdca26\"], [1.0, \"#f0f921\"]], \"sequentialminus\": [[0.0, \"#0d0887\"], [0.1111111111111111, \"#46039f\"], [0.2222222222222222, \"#7201a8\"], [0.3333333333333333, \"#9c179e\"], [0.4444444444444444, \"#bd3786\"], [0.5555555555555556, \"#d8576b\"], [0.6666666666666666, \"#ed7953\"], [0.7777777777777778, \"#fb9f3a\"], [0.8888888888888888, \"#fdca26\"], [1.0, \"#f0f921\"]]}, \"colorway\": [\"#636efa\", \"#EF553B\", \"#00cc96\", \"#ab63fa\", \"#FFA15A\", \"#19d3f3\", \"#FF6692\", \"#B6E880\", \"#FF97FF\", \"#FECB52\"], \"font\": {\"color\": \"#2a3f5f\"}, \"geo\": {\"bgcolor\": \"white\", \"lakecolor\": \"white\", \"landcolor\": \"#E5ECF6\", \"showlakes\": true, \"showland\": true, \"subunitcolor\": \"white\"}, \"hoverlabel\": {\"align\": \"left\"}, \"hovermode\": \"closest\", \"mapbox\": {\"style\": \"light\"}, \"paper_bgcolor\": \"white\", \"plot_bgcolor\": \"#E5ECF6\", \"polar\": {\"angularaxis\": {\"gridcolor\": \"white\", \"linecolor\": \"white\", \"ticks\": \"\"}, \"bgcolor\": \"#E5ECF6\", \"radialaxis\": {\"gridcolor\": \"white\", \"linecolor\": \"white\", \"ticks\": \"\"}}, \"scene\": {\"xaxis\": {\"backgroundcolor\": \"#E5ECF6\", \"gridcolor\": \"white\", \"gridwidth\": 2, \"linecolor\": \"white\", \"showbackground\": true, \"ticks\": \"\", \"zerolinecolor\": \"white\"}, \"yaxis\": {\"backgroundcolor\": \"#E5ECF6\", \"gridcolor\": \"white\", \"gridwidth\": 2, \"linecolor\": \"white\", \"showbackground\": true, \"ticks\": \"\", \"zerolinecolor\": \"white\"}, \"zaxis\": {\"backgroundcolor\": \"#E5ECF6\", \"gridcolor\": \"white\", \"gridwidth\": 2, \"linecolor\": \"white\", \"showbackground\": true, \"ticks\": \"\", \"zerolinecolor\": \"white\"}}, \"shapedefaults\": {\"line\": {\"color\": \"#2a3f5f\"}}, \"ternary\": {\"aaxis\": {\"gridcolor\": \"white\", \"linecolor\": \"white\", \"ticks\": \"\"}, \"baxis\": {\"gridcolor\": \"white\", \"linecolor\": \"white\", \"ticks\": \"\"}, \"bgcolor\": \"#E5ECF6\", \"caxis\": {\"gridcolor\": \"white\", \"linecolor\": \"white\", \"ticks\": \"\"}}, \"title\": {\"x\": 0.05}, \"xaxis\": {\"automargin\": true, \"gridcolor\": \"white\", \"linecolor\": \"white\", \"ticks\": \"\", \"title\": {\"standoff\": 15}, \"zerolinecolor\": \"white\", \"zerolinewidth\": 2}, \"yaxis\": {\"automargin\": true, \"gridcolor\": \"white\", \"linecolor\": \"white\", \"ticks\": \"\", \"title\": {\"standoff\": 15}, \"zerolinecolor\": \"white\", \"zerolinewidth\": 2}}}, \"title\": {\"text\": \"Hover for Data of each park\"}},\n",
              "                        {\"responsive\": true}\n",
              "                    ).then(function(){\n",
              "                            \n",
              "var gd = document.getElementById('91bd8866-f4d6-4db7-bf38-270cab22af3a');\n",
              "var x = new MutationObserver(function (mutations, observer) {{\n",
              "        var display = window.getComputedStyle(gd).display;\n",
              "        if (!display || display === 'none') {{\n",
              "            console.log([gd, 'removed!']);\n",
              "            Plotly.purge(gd);\n",
              "            observer.disconnect();\n",
              "        }}\n",
              "}});\n",
              "\n",
              "// Listen for the removal of the full notebook cells\n",
              "var notebookContainer = gd.closest('#notebook-container');\n",
              "if (notebookContainer) {{\n",
              "    x.observe(notebookContainer, {childList: true});\n",
              "}}\n",
              "\n",
              "// Listen for the clearing of the current output cell\n",
              "var outputEl = gd.closest('.output');\n",
              "if (outputEl) {{\n",
              "    x.observe(outputEl, {childList: true});\n",
              "}}\n",
              "\n",
              "                        })\n",
              "                };\n",
              "                \n",
              "            </script>\n",
              "        </div>\n",
              "</body>\n",
              "</html>"
            ]
          },
          "metadata": {}
        }
      ]
    },
    {
      "cell_type": "markdown",
      "metadata": {
        "id": "bt3Y_ZePOqCD"
      },
      "source": [
        "In this map we are able to spot that the days of bad ozone show an interesting relationship with Latitude. There are a couple of insights we are able to see the lower in latitude squares such as Yosemite, Carlsband Caverns, Rocky Mountains are lower in the United States and have more days of lower air quality. Although this is not the rule, further exploration needs to be performed since there are other National Parks such as Petrified Forest who only has one day of bad air quality. \n"
      ]
    },
    {
      "cell_type": "markdown",
      "metadata": {
        "id": "s16x227VHbEH"
      },
      "source": [
        "## Species at Risk vs Ozone Days by Park Type\n"
      ]
    },
    {
      "cell_type": "code",
      "metadata": {
        "id": "Y-Q3VUl7SrqR",
        "colab": {
          "base_uri": "https://localhost:8080/",
          "height": 112
        },
        "outputId": "e701d956-47a7-458d-b559-9937522916be"
      },
      "source": [
        "#Keep relevant data \n",
        "ozone_risk_latitude = ozone_visitation_park_data[['Park Name', 'Total', 'Park_Type']]\n",
        "\n",
        "#Merge the number at risk species \n",
        "ozone_risk_latitude = ozone_risk_latitude.merge(percent_at_risk_per_park, on='Park Name') \n",
        "ozone_risk_latitude.head(2)"
      ],
      "execution_count": 200,
      "outputs": [
        {
          "output_type": "execute_result",
          "data": {
            "text/html": [
              "<div>\n",
              "<style scoped>\n",
              "    .dataframe tbody tr th:only-of-type {\n",
              "        vertical-align: middle;\n",
              "    }\n",
              "\n",
              "    .dataframe tbody tr th {\n",
              "        vertical-align: top;\n",
              "    }\n",
              "\n",
              "    .dataframe thead th {\n",
              "        text-align: right;\n",
              "    }\n",
              "</style>\n",
              "<table border=\"1\" class=\"dataframe\">\n",
              "  <thead>\n",
              "    <tr style=\"text-align: right;\">\n",
              "      <th></th>\n",
              "      <th>Park Name</th>\n",
              "      <th>Total</th>\n",
              "      <th>Park_Type</th>\n",
              "      <th>Num_Species</th>\n",
              "      <th>Num_At_Risk</th>\n",
              "      <th>Percent_At_Risk</th>\n",
              "    </tr>\n",
              "  </thead>\n",
              "  <tbody>\n",
              "    <tr>\n",
              "      <th>0</th>\n",
              "      <td>Acadia</td>\n",
              "      <td>3</td>\n",
              "      <td>Forested</td>\n",
              "      <td>1173</td>\n",
              "      <td>48</td>\n",
              "      <td>0.040921</td>\n",
              "    </tr>\n",
              "    <tr>\n",
              "      <th>1</th>\n",
              "      <td>Acadia</td>\n",
              "      <td>2</td>\n",
              "      <td>Forested</td>\n",
              "      <td>1173</td>\n",
              "      <td>48</td>\n",
              "      <td>0.040921</td>\n",
              "    </tr>\n",
              "  </tbody>\n",
              "</table>\n",
              "</div>"
            ],
            "text/plain": [
              "  Park Name  Total Park_Type  Num_Species  Num_At_Risk  Percent_At_Risk\n",
              "0   Acadia       3  Forested         1173           48         0.040921\n",
              "1   Acadia       2  Forested         1173           48         0.040921"
            ]
          },
          "metadata": {},
          "execution_count": 200
        }
      ]
    },
    {
      "cell_type": "code",
      "metadata": {
        "id": "Zj0se5vWHv5t",
        "colab": {
          "base_uri": "https://localhost:8080/",
          "height": 542
        },
        "outputId": "a5343034-6a06-41e7-ae4f-c564692507f3"
      },
      "source": [
        "#Since this data is collected at each site and there are a couple of sites that have several data, we keep the first \n",
        "ozone_risk_latitude['Park Name'] = ozone_risk_latitude['Park Name'].drop_duplicates(keep='first')\n",
        "\n",
        "fig = px.scatter(ozone_risk_latitude, x=\"Park Name\", y=\"Total\", size=\"Percent_At_Risk\", color=\"Park_Type\" , \n",
        "                 labels = {'Total': 'Total Days with unhealthy ozone'},\n",
        "                 size_max=40) \n",
        "fig.show()"
      ],
      "execution_count": 201,
      "outputs": [
        {
          "output_type": "display_data",
          "data": {
            "text/html": [
              "<html>\n",
              "<head><meta charset=\"utf-8\" /></head>\n",
              "<body>\n",
              "    <div>\n",
              "            <script src=\"https://cdnjs.cloudflare.com/ajax/libs/mathjax/2.7.5/MathJax.js?config=TeX-AMS-MML_SVG\"></script><script type=\"text/javascript\">if (window.MathJax) {MathJax.Hub.Config({SVG: {font: \"STIX-Web\"}});}</script>\n",
              "                <script type=\"text/javascript\">window.PlotlyConfig = {MathJaxConfig: 'local'};</script>\n",
              "        <script src=\"https://cdn.plot.ly/plotly-latest.min.js\"></script>    \n",
              "            <div id=\"9838bcce-fe62-49e8-bc50-e12c0c0516e3\" class=\"plotly-graph-div\" style=\"height:525px; width:100%;\"></div>\n",
              "            <script type=\"text/javascript\">\n",
              "                \n",
              "                    window.PLOTLYENV=window.PLOTLYENV || {};\n",
              "                    \n",
              "                if (document.getElementById(\"9838bcce-fe62-49e8-bc50-e12c0c0516e3\")) {\n",
              "                    Plotly.newPlot(\n",
              "                        '9838bcce-fe62-49e8-bc50-e12c0c0516e3',\n",
              "                        [{\"hoverlabel\": {\"namelength\": 0}, \"hovertemplate\": \"Park_Type=Forested<br>Park Name=%{x}<br>Total Days with unhealthy ozone=%{y}<br>Percent_At_Risk=%{marker.size}\", \"legendgroup\": \"Park_Type=Forested\", \"marker\": {\"color\": \"#636efa\", \"size\": [0.04092071611253197, 0.04092071611253197, 0.022376543209876542, 0.022376543209876542, 0.022376543209876542, 0.022376543209876542, 0.022376543209876542, 0.025244719216898505, 0.021664766248574687, 0.04472573839662447, 0.05288007554296506, 0.023269175524274634], \"sizemode\": \"area\", \"sizeref\": 5.727958236658933e-05, \"symbol\": \"circle\"}, \"mode\": \"markers\", \"name\": \"Park_Type=Forested\", \"showlegend\": true, \"type\": \"scatter\", \"x\": [\"Acadia \", null, \"Great Smoky Mountains \", null, null, null, null, \"Mammoth Cave \", \"Shenandoah \", \"Voyageurs \", \"Wind Cave \", \"Yellowstone \"], \"xaxis\": \"x\", \"y\": [3, 2, 0, 0, 0, 1, 0, 0, 0, 0, 0, 1], \"yaxis\": \"y\"}, {\"hoverlabel\": {\"namelength\": 0}, \"hovertemplate\": \"Park_Type=Desert<br>Park Name=%{x}<br>Total Days with unhealthy ozone=%{y}<br>Percent_At_Risk=%{marker.size}\", \"legendgroup\": \"Park_Type=Desert\", \"marker\": {\"color\": \"#EF553B\", \"size\": [0.06364992541024365, 0.07852193995381063, 0.06517168885774352, 0.06657608695652174, 0.04600389863547758, 0.04996837444655281, 0.09164733178654293, 0.09164733178654293, 0.06205035971223022, 0.08583106267029973, 0.047619047619047616, 0.03866809881847476, 0.05770690964312832], \"sizemode\": \"area\", \"sizeref\": 5.727958236658933e-05, \"symbol\": \"circle\"}, \"mode\": \"markers\", \"name\": \"Park_Type=Desert\", \"showlegend\": true, \"type\": \"scatter\", \"x\": [\"Big Bend \", \"Canyonlands \", \"Carlsbad Caverns \", \"Death Valley \", \"Grand Canyon \", \"Guadalupe Mountains \", \"Joshua Tree \", null, \"Mesa Verde \", \"Petrified Forest \", \"Pinnacles \", \"Theodore Roosevelt \", \"Zion \"], \"xaxis\": \"x\", \"y\": [0, 2, 14, 8, 0, 4, 37, 0, 2, 1, 0, 1, 2], \"yaxis\": \"y\"}, {\"hoverlabel\": {\"namelength\": 0}, \"hovertemplate\": \"Park_Type=Alpine<br>Park Name=%{x}<br>Total Days with unhealthy ozone=%{y}<br>Percent_At_Risk=%{marker.size}\", \"legendgroup\": \"Park_Type=Alpine\", \"marker\": {\"color\": \"#00cc96\", \"size\": [0.02694610778443114, 0.028726061615320566, 0.036051026067665005, 0.05170630816959669, 0.04411764705882353, 0.020882452004041766, 0.04514435695538058], \"sizemode\": \"area\", \"sizeref\": 5.727958236658933e-05, \"symbol\": \"circle\"}, \"mode\": \"markers\", \"name\": \"Park_Type=Alpine\", \"showlegend\": true, \"type\": \"scatter\", \"x\": [\"Denali \", \"Glacier \", \"Grand Teton \", \"Great Basin \", \"Lassen Volcanic \", \"Rocky Mountain \", \"Yosemite \"], \"xaxis\": \"x\", \"y\": [0, 0, 0, 2, 9, 14, 17], \"yaxis\": \"y\"}],\n",
              "                        {\"legend\": {\"itemsizing\": \"constant\", \"tracegroupgap\": 0}, \"margin\": {\"t\": 60}, \"template\": {\"data\": {\"bar\": [{\"error_x\": {\"color\": \"#2a3f5f\"}, \"error_y\": {\"color\": \"#2a3f5f\"}, \"marker\": {\"line\": {\"color\": \"#E5ECF6\", \"width\": 0.5}}, \"type\": \"bar\"}], \"barpolar\": [{\"marker\": {\"line\": {\"color\": \"#E5ECF6\", \"width\": 0.5}}, \"type\": \"barpolar\"}], \"carpet\": [{\"aaxis\": {\"endlinecolor\": \"#2a3f5f\", \"gridcolor\": \"white\", \"linecolor\": \"white\", \"minorgridcolor\": \"white\", \"startlinecolor\": \"#2a3f5f\"}, \"baxis\": {\"endlinecolor\": \"#2a3f5f\", \"gridcolor\": \"white\", \"linecolor\": \"white\", \"minorgridcolor\": \"white\", \"startlinecolor\": \"#2a3f5f\"}, \"type\": \"carpet\"}], \"choropleth\": [{\"colorbar\": {\"outlinewidth\": 0, \"ticks\": \"\"}, \"type\": \"choropleth\"}], \"contour\": [{\"colorbar\": {\"outlinewidth\": 0, \"ticks\": \"\"}, \"colorscale\": [[0.0, \"#0d0887\"], [0.1111111111111111, \"#46039f\"], [0.2222222222222222, \"#7201a8\"], [0.3333333333333333, \"#9c179e\"], [0.4444444444444444, \"#bd3786\"], [0.5555555555555556, \"#d8576b\"], [0.6666666666666666, \"#ed7953\"], [0.7777777777777778, \"#fb9f3a\"], [0.8888888888888888, \"#fdca26\"], [1.0, \"#f0f921\"]], \"type\": \"contour\"}], \"contourcarpet\": [{\"colorbar\": {\"outlinewidth\": 0, \"ticks\": \"\"}, \"type\": \"contourcarpet\"}], \"heatmap\": [{\"colorbar\": {\"outlinewidth\": 0, \"ticks\": \"\"}, \"colorscale\": [[0.0, \"#0d0887\"], [0.1111111111111111, \"#46039f\"], [0.2222222222222222, \"#7201a8\"], [0.3333333333333333, \"#9c179e\"], [0.4444444444444444, \"#bd3786\"], [0.5555555555555556, \"#d8576b\"], [0.6666666666666666, \"#ed7953\"], [0.7777777777777778, \"#fb9f3a\"], [0.8888888888888888, \"#fdca26\"], [1.0, \"#f0f921\"]], \"type\": \"heatmap\"}], \"heatmapgl\": [{\"colorbar\": {\"outlinewidth\": 0, \"ticks\": \"\"}, \"colorscale\": [[0.0, \"#0d0887\"], [0.1111111111111111, \"#46039f\"], [0.2222222222222222, \"#7201a8\"], [0.3333333333333333, \"#9c179e\"], [0.4444444444444444, \"#bd3786\"], [0.5555555555555556, \"#d8576b\"], [0.6666666666666666, \"#ed7953\"], [0.7777777777777778, \"#fb9f3a\"], [0.8888888888888888, \"#fdca26\"], [1.0, \"#f0f921\"]], \"type\": \"heatmapgl\"}], \"histogram\": [{\"marker\": {\"colorbar\": {\"outlinewidth\": 0, \"ticks\": \"\"}}, \"type\": \"histogram\"}], \"histogram2d\": [{\"colorbar\": {\"outlinewidth\": 0, \"ticks\": \"\"}, \"colorscale\": [[0.0, \"#0d0887\"], [0.1111111111111111, \"#46039f\"], [0.2222222222222222, \"#7201a8\"], [0.3333333333333333, \"#9c179e\"], [0.4444444444444444, \"#bd3786\"], [0.5555555555555556, \"#d8576b\"], [0.6666666666666666, \"#ed7953\"], [0.7777777777777778, \"#fb9f3a\"], [0.8888888888888888, \"#fdca26\"], [1.0, \"#f0f921\"]], \"type\": \"histogram2d\"}], \"histogram2dcontour\": [{\"colorbar\": {\"outlinewidth\": 0, \"ticks\": \"\"}, \"colorscale\": [[0.0, \"#0d0887\"], [0.1111111111111111, \"#46039f\"], [0.2222222222222222, \"#7201a8\"], [0.3333333333333333, \"#9c179e\"], [0.4444444444444444, \"#bd3786\"], [0.5555555555555556, \"#d8576b\"], [0.6666666666666666, \"#ed7953\"], [0.7777777777777778, \"#fb9f3a\"], [0.8888888888888888, \"#fdca26\"], [1.0, \"#f0f921\"]], \"type\": \"histogram2dcontour\"}], \"mesh3d\": [{\"colorbar\": {\"outlinewidth\": 0, \"ticks\": \"\"}, \"type\": \"mesh3d\"}], \"parcoords\": [{\"line\": {\"colorbar\": {\"outlinewidth\": 0, \"ticks\": \"\"}}, \"type\": \"parcoords\"}], \"pie\": [{\"automargin\": true, \"type\": \"pie\"}], \"scatter\": [{\"marker\": {\"colorbar\": {\"outlinewidth\": 0, \"ticks\": \"\"}}, \"type\": \"scatter\"}], \"scatter3d\": [{\"line\": {\"colorbar\": {\"outlinewidth\": 0, \"ticks\": \"\"}}, \"marker\": {\"colorbar\": {\"outlinewidth\": 0, \"ticks\": \"\"}}, \"type\": \"scatter3d\"}], \"scattercarpet\": [{\"marker\": {\"colorbar\": {\"outlinewidth\": 0, \"ticks\": \"\"}}, \"type\": \"scattercarpet\"}], \"scattergeo\": [{\"marker\": {\"colorbar\": {\"outlinewidth\": 0, \"ticks\": \"\"}}, \"type\": \"scattergeo\"}], \"scattergl\": [{\"marker\": {\"colorbar\": {\"outlinewidth\": 0, \"ticks\": \"\"}}, \"type\": \"scattergl\"}], \"scattermapbox\": [{\"marker\": {\"colorbar\": {\"outlinewidth\": 0, \"ticks\": \"\"}}, \"type\": \"scattermapbox\"}], \"scatterpolar\": [{\"marker\": {\"colorbar\": {\"outlinewidth\": 0, \"ticks\": \"\"}}, \"type\": \"scatterpolar\"}], \"scatterpolargl\": [{\"marker\": {\"colorbar\": {\"outlinewidth\": 0, \"ticks\": \"\"}}, \"type\": \"scatterpolargl\"}], \"scatterternary\": [{\"marker\": {\"colorbar\": {\"outlinewidth\": 0, \"ticks\": \"\"}}, \"type\": \"scatterternary\"}], \"surface\": [{\"colorbar\": {\"outlinewidth\": 0, \"ticks\": \"\"}, \"colorscale\": [[0.0, \"#0d0887\"], [0.1111111111111111, \"#46039f\"], [0.2222222222222222, \"#7201a8\"], [0.3333333333333333, \"#9c179e\"], [0.4444444444444444, \"#bd3786\"], [0.5555555555555556, \"#d8576b\"], [0.6666666666666666, \"#ed7953\"], [0.7777777777777778, \"#fb9f3a\"], [0.8888888888888888, \"#fdca26\"], [1.0, \"#f0f921\"]], \"type\": \"surface\"}], \"table\": [{\"cells\": {\"fill\": {\"color\": \"#EBF0F8\"}, \"line\": {\"color\": \"white\"}}, \"header\": {\"fill\": {\"color\": \"#C8D4E3\"}, \"line\": {\"color\": \"white\"}}, \"type\": \"table\"}]}, \"layout\": {\"annotationdefaults\": {\"arrowcolor\": \"#2a3f5f\", \"arrowhead\": 0, \"arrowwidth\": 1}, \"coloraxis\": {\"colorbar\": {\"outlinewidth\": 0, \"ticks\": \"\"}}, \"colorscale\": {\"diverging\": [[0, \"#8e0152\"], [0.1, \"#c51b7d\"], [0.2, \"#de77ae\"], [0.3, \"#f1b6da\"], [0.4, \"#fde0ef\"], [0.5, \"#f7f7f7\"], [0.6, \"#e6f5d0\"], [0.7, \"#b8e186\"], [0.8, \"#7fbc41\"], [0.9, \"#4d9221\"], [1, \"#276419\"]], \"sequential\": [[0.0, \"#0d0887\"], [0.1111111111111111, \"#46039f\"], [0.2222222222222222, \"#7201a8\"], [0.3333333333333333, \"#9c179e\"], [0.4444444444444444, \"#bd3786\"], [0.5555555555555556, \"#d8576b\"], [0.6666666666666666, \"#ed7953\"], [0.7777777777777778, \"#fb9f3a\"], [0.8888888888888888, \"#fdca26\"], [1.0, \"#f0f921\"]], \"sequentialminus\": [[0.0, \"#0d0887\"], [0.1111111111111111, \"#46039f\"], [0.2222222222222222, \"#7201a8\"], [0.3333333333333333, \"#9c179e\"], [0.4444444444444444, \"#bd3786\"], [0.5555555555555556, \"#d8576b\"], [0.6666666666666666, \"#ed7953\"], [0.7777777777777778, \"#fb9f3a\"], [0.8888888888888888, \"#fdca26\"], [1.0, \"#f0f921\"]]}, \"colorway\": [\"#636efa\", \"#EF553B\", \"#00cc96\", \"#ab63fa\", \"#FFA15A\", \"#19d3f3\", \"#FF6692\", \"#B6E880\", \"#FF97FF\", \"#FECB52\"], \"font\": {\"color\": \"#2a3f5f\"}, \"geo\": {\"bgcolor\": \"white\", \"lakecolor\": \"white\", \"landcolor\": \"#E5ECF6\", \"showlakes\": true, \"showland\": true, \"subunitcolor\": \"white\"}, \"hoverlabel\": {\"align\": \"left\"}, \"hovermode\": \"closest\", \"mapbox\": {\"style\": \"light\"}, \"paper_bgcolor\": \"white\", \"plot_bgcolor\": \"#E5ECF6\", \"polar\": {\"angularaxis\": {\"gridcolor\": \"white\", \"linecolor\": \"white\", \"ticks\": \"\"}, \"bgcolor\": \"#E5ECF6\", \"radialaxis\": {\"gridcolor\": \"white\", \"linecolor\": \"white\", \"ticks\": \"\"}}, \"scene\": {\"xaxis\": {\"backgroundcolor\": \"#E5ECF6\", \"gridcolor\": \"white\", \"gridwidth\": 2, \"linecolor\": \"white\", \"showbackground\": true, \"ticks\": \"\", \"zerolinecolor\": \"white\"}, \"yaxis\": {\"backgroundcolor\": \"#E5ECF6\", \"gridcolor\": \"white\", \"gridwidth\": 2, \"linecolor\": \"white\", \"showbackground\": true, \"ticks\": \"\", \"zerolinecolor\": \"white\"}, \"zaxis\": {\"backgroundcolor\": \"#E5ECF6\", \"gridcolor\": \"white\", \"gridwidth\": 2, \"linecolor\": \"white\", \"showbackground\": true, \"ticks\": \"\", \"zerolinecolor\": \"white\"}}, \"shapedefaults\": {\"line\": {\"color\": \"#2a3f5f\"}}, \"ternary\": {\"aaxis\": {\"gridcolor\": \"white\", \"linecolor\": \"white\", \"ticks\": \"\"}, \"baxis\": {\"gridcolor\": \"white\", \"linecolor\": \"white\", \"ticks\": \"\"}, \"bgcolor\": \"#E5ECF6\", \"caxis\": {\"gridcolor\": \"white\", \"linecolor\": \"white\", \"ticks\": \"\"}}, \"title\": {\"x\": 0.05}, \"xaxis\": {\"automargin\": true, \"gridcolor\": \"white\", \"linecolor\": \"white\", \"ticks\": \"\", \"title\": {\"standoff\": 15}, \"zerolinecolor\": \"white\", \"zerolinewidth\": 2}, \"yaxis\": {\"automargin\": true, \"gridcolor\": \"white\", \"linecolor\": \"white\", \"ticks\": \"\", \"title\": {\"standoff\": 15}, \"zerolinecolor\": \"white\", \"zerolinewidth\": 2}}}, \"xaxis\": {\"anchor\": \"y\", \"domain\": [0.0, 1.0], \"title\": {\"text\": \"Park Name\"}}, \"yaxis\": {\"anchor\": \"x\", \"domain\": [0.0, 1.0], \"title\": {\"text\": \"Total Days with unhealthy ozone\"}}},\n",
              "                        {\"responsive\": true}\n",
              "                    ).then(function(){\n",
              "                            \n",
              "var gd = document.getElementById('9838bcce-fe62-49e8-bc50-e12c0c0516e3');\n",
              "var x = new MutationObserver(function (mutations, observer) {{\n",
              "        var display = window.getComputedStyle(gd).display;\n",
              "        if (!display || display === 'none') {{\n",
              "            console.log([gd, 'removed!']);\n",
              "            Plotly.purge(gd);\n",
              "            observer.disconnect();\n",
              "        }}\n",
              "}});\n",
              "\n",
              "// Listen for the removal of the full notebook cells\n",
              "var notebookContainer = gd.closest('#notebook-container');\n",
              "if (notebookContainer) {{\n",
              "    x.observe(notebookContainer, {childList: true});\n",
              "}}\n",
              "\n",
              "// Listen for the clearing of the current output cell\n",
              "var outputEl = gd.closest('.output');\n",
              "if (outputEl) {{\n",
              "    x.observe(outputEl, {childList: true});\n",
              "}}\n",
              "\n",
              "                        })\n",
              "                };\n",
              "                \n",
              "            </script>\n",
              "        </div>\n",
              "</body>\n",
              "</html>"
            ]
          },
          "metadata": {}
        }
      ]
    },
    {
      "cell_type": "markdown",
      "metadata": {
        "id": "tl5r8DYUTt58"
      },
      "source": [
        "In this graph a relationship between the total days of unhealthy ozone and the percent of species at risk is portrayed. We can take some interesting insights from this graph. The first one is that Forested National Parks have lesser days with unhealthy ozone. The second one is that National Parks classified as deserts have evidential more species at risk than the other two categories. Lastly some of the outliers are displayed such as Joshua for the  park with the most poor ozone days and also the highest percert of species at risk."
      ]
    },
    {
      "cell_type": "markdown",
      "metadata": {
        "id": "sWAxL431KSrq"
      },
      "source": [
        "## Analyze which month has more days with bad days of ozone "
      ]
    },
    {
      "cell_type": "markdown",
      "metadata": {
        "id": "hpVDP-gVTWe1"
      },
      "source": [
        "Since we have a summary of days with exceeded ozone and we decided to map the months in which are the months with the most terrible air quality."
      ]
    },
    {
      "cell_type": "code",
      "metadata": {
        "id": "Bzcbm_UQKagp",
        "colab": {
          "base_uri": "https://localhost:8080/",
          "height": 542
        },
        "outputId": "e10fbfd2-c822-4f69-e40e-00c7322f0131"
      },
      "source": [
        "ozone_melt = pd.melt(ozone_visitation_park_data, id_vars =['Park Name'], value_vars =['January', 'February', 'March', 'April', 'May', 'June', 'July', 'August', 'September', 'October', 'November', 'December'])\n",
        "ozone_melt = ozone_melt.rename(columns={'variable': 'Month'})\n",
        "ozone_melt = ozone_melt.groupby('Month').sum()\n",
        "\n",
        "fig = px.bar(ozone_melt, x=ozone_melt.index, y=\"value\", color=ozone_melt.index,\n",
        "                 title=\"Total Days with unhealthy ozone by Month\",\n",
        "                 labels={\"x\": \"Months\", \n",
        "                         \"value\": 'Total Days with unhealthy ozone'} \n",
        "                )\n",
        "\n",
        "fig.show()"
      ],
      "execution_count": 202,
      "outputs": [
        {
          "output_type": "display_data",
          "data": {
            "text/html": [
              "<html>\n",
              "<head><meta charset=\"utf-8\" /></head>\n",
              "<body>\n",
              "    <div>\n",
              "            <script src=\"https://cdnjs.cloudflare.com/ajax/libs/mathjax/2.7.5/MathJax.js?config=TeX-AMS-MML_SVG\"></script><script type=\"text/javascript\">if (window.MathJax) {MathJax.Hub.Config({SVG: {font: \"STIX-Web\"}});}</script>\n",
              "                <script type=\"text/javascript\">window.PlotlyConfig = {MathJaxConfig: 'local'};</script>\n",
              "        <script src=\"https://cdn.plot.ly/plotly-latest.min.js\"></script>    \n",
              "            <div id=\"902c00ae-da4f-4a03-af44-7e5fe13a709b\" class=\"plotly-graph-div\" style=\"height:525px; width:100%;\"></div>\n",
              "            <script type=\"text/javascript\">\n",
              "                \n",
              "                    window.PLOTLYENV=window.PLOTLYENV || {};\n",
              "                    \n",
              "                if (document.getElementById(\"902c00ae-da4f-4a03-af44-7e5fe13a709b\")) {\n",
              "                    Plotly.newPlot(\n",
              "                        '902c00ae-da4f-4a03-af44-7e5fe13a709b',\n",
              "                        [{\"alignmentgroup\": \"True\", \"hoverlabel\": {\"namelength\": 0}, \"hovertemplate\": \"color=April<br>Months=%{x}<br>Total Days with unhealthy ozone=%{y}\", \"legendgroup\": \"color=April\", \"marker\": {\"color\": \"#636efa\"}, \"name\": \"color=April\", \"offsetgroup\": \"color=April\", \"orientation\": \"v\", \"showlegend\": true, \"textposition\": \"auto\", \"type\": \"bar\", \"x\": [\"April\"], \"xaxis\": \"x\", \"y\": [2.0], \"yaxis\": \"y\"}, {\"alignmentgroup\": \"True\", \"hoverlabel\": {\"namelength\": 0}, \"hovertemplate\": \"color=August<br>Months=%{x}<br>Total Days with unhealthy ozone=%{y}\", \"legendgroup\": \"color=August\", \"marker\": {\"color\": \"#EF553B\"}, \"name\": \"color=August\", \"offsetgroup\": \"color=August\", \"orientation\": \"v\", \"showlegend\": true, \"textposition\": \"auto\", \"type\": \"bar\", \"x\": [\"August\"], \"xaxis\": \"x\", \"y\": [52.0], \"yaxis\": \"y\"}, {\"alignmentgroup\": \"True\", \"hoverlabel\": {\"namelength\": 0}, \"hovertemplate\": \"color=December<br>Months=%{x}<br>Total Days with unhealthy ozone=%{y}\", \"legendgroup\": \"color=December\", \"marker\": {\"color\": \"#00cc96\"}, \"name\": \"color=December\", \"offsetgroup\": \"color=December\", \"orientation\": \"v\", \"showlegend\": true, \"textposition\": \"auto\", \"type\": \"bar\", \"x\": [\"December\"], \"xaxis\": \"x\", \"y\": [0.0], \"yaxis\": \"y\"}, {\"alignmentgroup\": \"True\", \"hoverlabel\": {\"namelength\": 0}, \"hovertemplate\": \"color=February<br>Months=%{x}<br>Total Days with unhealthy ozone=%{y}\", \"legendgroup\": \"color=February\", \"marker\": {\"color\": \"#ab63fa\"}, \"name\": \"color=February\", \"offsetgroup\": \"color=February\", \"orientation\": \"v\", \"showlegend\": true, \"textposition\": \"auto\", \"type\": \"bar\", \"x\": [\"February\"], \"xaxis\": \"x\", \"y\": [0.0], \"yaxis\": \"y\"}, {\"alignmentgroup\": \"True\", \"hoverlabel\": {\"namelength\": 0}, \"hovertemplate\": \"color=January<br>Months=%{x}<br>Total Days with unhealthy ozone=%{y}\", \"legendgroup\": \"color=January\", \"marker\": {\"color\": \"#FFA15A\"}, \"name\": \"color=January\", \"offsetgroup\": \"color=January\", \"orientation\": \"v\", \"showlegend\": true, \"textposition\": \"auto\", \"type\": \"bar\", \"x\": [\"January\"], \"xaxis\": \"x\", \"y\": [0.0], \"yaxis\": \"y\"}, {\"alignmentgroup\": \"True\", \"hoverlabel\": {\"namelength\": 0}, \"hovertemplate\": \"color=July<br>Months=%{x}<br>Total Days with unhealthy ozone=%{y}\", \"legendgroup\": \"color=July\", \"marker\": {\"color\": \"#19d3f3\"}, \"name\": \"color=July\", \"offsetgroup\": \"color=July\", \"orientation\": \"v\", \"showlegend\": true, \"textposition\": \"auto\", \"type\": \"bar\", \"x\": [\"July\"], \"xaxis\": \"x\", \"y\": [30.0], \"yaxis\": \"y\"}, {\"alignmentgroup\": \"True\", \"hoverlabel\": {\"namelength\": 0}, \"hovertemplate\": \"color=June<br>Months=%{x}<br>Total Days with unhealthy ozone=%{y}\", \"legendgroup\": \"color=June\", \"marker\": {\"color\": \"#FF6692\"}, \"name\": \"color=June\", \"offsetgroup\": \"color=June\", \"orientation\": \"v\", \"showlegend\": true, \"textposition\": \"auto\", \"type\": \"bar\", \"x\": [\"June\"], \"xaxis\": \"x\", \"y\": [17.0], \"yaxis\": \"y\"}, {\"alignmentgroup\": \"True\", \"hoverlabel\": {\"namelength\": 0}, \"hovertemplate\": \"color=March<br>Months=%{x}<br>Total Days with unhealthy ozone=%{y}\", \"legendgroup\": \"color=March\", \"marker\": {\"color\": \"#B6E880\"}, \"name\": \"color=March\", \"offsetgroup\": \"color=March\", \"orientation\": \"v\", \"showlegend\": true, \"textposition\": \"auto\", \"type\": \"bar\", \"x\": [\"March\"], \"xaxis\": \"x\", \"y\": [0.0], \"yaxis\": \"y\"}, {\"alignmentgroup\": \"True\", \"hoverlabel\": {\"namelength\": 0}, \"hovertemplate\": \"color=May<br>Months=%{x}<br>Total Days with unhealthy ozone=%{y}\", \"legendgroup\": \"color=May\", \"marker\": {\"color\": \"#FF97FF\"}, \"name\": \"color=May\", \"offsetgroup\": \"color=May\", \"orientation\": \"v\", \"showlegend\": true, \"textposition\": \"auto\", \"type\": \"bar\", \"x\": [\"May\"], \"xaxis\": \"x\", \"y\": [10.0], \"yaxis\": \"y\"}, {\"alignmentgroup\": \"True\", \"hoverlabel\": {\"namelength\": 0}, \"hovertemplate\": \"color=November<br>Months=%{x}<br>Total Days with unhealthy ozone=%{y}\", \"legendgroup\": \"color=November\", \"marker\": {\"color\": \"#FECB52\"}, \"name\": \"color=November\", \"offsetgroup\": \"color=November\", \"orientation\": \"v\", \"showlegend\": true, \"textposition\": \"auto\", \"type\": \"bar\", \"x\": [\"November\"], \"xaxis\": \"x\", \"y\": [0.0], \"yaxis\": \"y\"}, {\"alignmentgroup\": \"True\", \"hoverlabel\": {\"namelength\": 0}, \"hovertemplate\": \"color=October<br>Months=%{x}<br>Total Days with unhealthy ozone=%{y}\", \"legendgroup\": \"color=October\", \"marker\": {\"color\": \"#636efa\"}, \"name\": \"color=October\", \"offsetgroup\": \"color=October\", \"orientation\": \"v\", \"showlegend\": true, \"textposition\": \"auto\", \"type\": \"bar\", \"x\": [\"October\"], \"xaxis\": \"x\", \"y\": [1.0], \"yaxis\": \"y\"}, {\"alignmentgroup\": \"True\", \"hoverlabel\": {\"namelength\": 0}, \"hovertemplate\": \"color=September<br>Months=%{x}<br>Total Days with unhealthy ozone=%{y}\", \"legendgroup\": \"color=September\", \"marker\": {\"color\": \"#EF553B\"}, \"name\": \"color=September\", \"offsetgroup\": \"color=September\", \"orientation\": \"v\", \"showlegend\": true, \"textposition\": \"auto\", \"type\": \"bar\", \"x\": [\"September\"], \"xaxis\": \"x\", \"y\": [8.0], \"yaxis\": \"y\"}],\n",
              "                        {\"barmode\": \"relative\", \"legend\": {\"tracegroupgap\": 0}, \"template\": {\"data\": {\"bar\": [{\"error_x\": {\"color\": \"#2a3f5f\"}, \"error_y\": {\"color\": \"#2a3f5f\"}, \"marker\": {\"line\": {\"color\": \"#E5ECF6\", \"width\": 0.5}}, \"type\": \"bar\"}], \"barpolar\": [{\"marker\": {\"line\": {\"color\": \"#E5ECF6\", \"width\": 0.5}}, \"type\": \"barpolar\"}], \"carpet\": [{\"aaxis\": {\"endlinecolor\": \"#2a3f5f\", \"gridcolor\": \"white\", \"linecolor\": \"white\", \"minorgridcolor\": \"white\", \"startlinecolor\": \"#2a3f5f\"}, \"baxis\": {\"endlinecolor\": \"#2a3f5f\", \"gridcolor\": \"white\", \"linecolor\": \"white\", \"minorgridcolor\": \"white\", \"startlinecolor\": \"#2a3f5f\"}, \"type\": \"carpet\"}], \"choropleth\": [{\"colorbar\": {\"outlinewidth\": 0, \"ticks\": \"\"}, \"type\": \"choropleth\"}], \"contour\": [{\"colorbar\": {\"outlinewidth\": 0, \"ticks\": \"\"}, \"colorscale\": [[0.0, \"#0d0887\"], [0.1111111111111111, \"#46039f\"], [0.2222222222222222, \"#7201a8\"], [0.3333333333333333, \"#9c179e\"], [0.4444444444444444, \"#bd3786\"], [0.5555555555555556, \"#d8576b\"], [0.6666666666666666, \"#ed7953\"], [0.7777777777777778, \"#fb9f3a\"], [0.8888888888888888, \"#fdca26\"], [1.0, \"#f0f921\"]], \"type\": \"contour\"}], \"contourcarpet\": [{\"colorbar\": {\"outlinewidth\": 0, \"ticks\": \"\"}, \"type\": \"contourcarpet\"}], \"heatmap\": [{\"colorbar\": {\"outlinewidth\": 0, \"ticks\": \"\"}, \"colorscale\": [[0.0, \"#0d0887\"], [0.1111111111111111, \"#46039f\"], [0.2222222222222222, \"#7201a8\"], [0.3333333333333333, \"#9c179e\"], [0.4444444444444444, \"#bd3786\"], [0.5555555555555556, \"#d8576b\"], [0.6666666666666666, \"#ed7953\"], [0.7777777777777778, \"#fb9f3a\"], [0.8888888888888888, \"#fdca26\"], [1.0, \"#f0f921\"]], \"type\": \"heatmap\"}], \"heatmapgl\": [{\"colorbar\": {\"outlinewidth\": 0, \"ticks\": \"\"}, \"colorscale\": [[0.0, \"#0d0887\"], [0.1111111111111111, \"#46039f\"], [0.2222222222222222, \"#7201a8\"], [0.3333333333333333, \"#9c179e\"], [0.4444444444444444, \"#bd3786\"], [0.5555555555555556, \"#d8576b\"], [0.6666666666666666, \"#ed7953\"], [0.7777777777777778, \"#fb9f3a\"], [0.8888888888888888, \"#fdca26\"], [1.0, \"#f0f921\"]], \"type\": \"heatmapgl\"}], \"histogram\": [{\"marker\": {\"colorbar\": {\"outlinewidth\": 0, \"ticks\": \"\"}}, \"type\": \"histogram\"}], \"histogram2d\": [{\"colorbar\": {\"outlinewidth\": 0, \"ticks\": \"\"}, \"colorscale\": [[0.0, \"#0d0887\"], [0.1111111111111111, \"#46039f\"], [0.2222222222222222, \"#7201a8\"], [0.3333333333333333, \"#9c179e\"], [0.4444444444444444, \"#bd3786\"], [0.5555555555555556, \"#d8576b\"], [0.6666666666666666, \"#ed7953\"], [0.7777777777777778, \"#fb9f3a\"], [0.8888888888888888, \"#fdca26\"], [1.0, \"#f0f921\"]], \"type\": \"histogram2d\"}], \"histogram2dcontour\": [{\"colorbar\": {\"outlinewidth\": 0, \"ticks\": \"\"}, \"colorscale\": [[0.0, \"#0d0887\"], [0.1111111111111111, \"#46039f\"], [0.2222222222222222, \"#7201a8\"], [0.3333333333333333, \"#9c179e\"], [0.4444444444444444, \"#bd3786\"], [0.5555555555555556, \"#d8576b\"], [0.6666666666666666, \"#ed7953\"], [0.7777777777777778, \"#fb9f3a\"], [0.8888888888888888, \"#fdca26\"], [1.0, \"#f0f921\"]], \"type\": \"histogram2dcontour\"}], \"mesh3d\": [{\"colorbar\": {\"outlinewidth\": 0, \"ticks\": \"\"}, \"type\": \"mesh3d\"}], \"parcoords\": [{\"line\": {\"colorbar\": {\"outlinewidth\": 0, \"ticks\": \"\"}}, \"type\": \"parcoords\"}], \"pie\": [{\"automargin\": true, \"type\": \"pie\"}], \"scatter\": [{\"marker\": {\"colorbar\": {\"outlinewidth\": 0, \"ticks\": \"\"}}, \"type\": \"scatter\"}], \"scatter3d\": [{\"line\": {\"colorbar\": {\"outlinewidth\": 0, \"ticks\": \"\"}}, \"marker\": {\"colorbar\": {\"outlinewidth\": 0, \"ticks\": \"\"}}, \"type\": \"scatter3d\"}], \"scattercarpet\": [{\"marker\": {\"colorbar\": {\"outlinewidth\": 0, \"ticks\": \"\"}}, \"type\": \"scattercarpet\"}], \"scattergeo\": [{\"marker\": {\"colorbar\": {\"outlinewidth\": 0, \"ticks\": \"\"}}, \"type\": \"scattergeo\"}], \"scattergl\": [{\"marker\": {\"colorbar\": {\"outlinewidth\": 0, \"ticks\": \"\"}}, \"type\": \"scattergl\"}], \"scattermapbox\": [{\"marker\": {\"colorbar\": {\"outlinewidth\": 0, \"ticks\": \"\"}}, \"type\": \"scattermapbox\"}], \"scatterpolar\": [{\"marker\": {\"colorbar\": {\"outlinewidth\": 0, \"ticks\": \"\"}}, \"type\": \"scatterpolar\"}], \"scatterpolargl\": [{\"marker\": {\"colorbar\": {\"outlinewidth\": 0, \"ticks\": \"\"}}, \"type\": \"scatterpolargl\"}], \"scatterternary\": [{\"marker\": {\"colorbar\": {\"outlinewidth\": 0, \"ticks\": \"\"}}, \"type\": \"scatterternary\"}], \"surface\": [{\"colorbar\": {\"outlinewidth\": 0, \"ticks\": \"\"}, \"colorscale\": [[0.0, \"#0d0887\"], [0.1111111111111111, \"#46039f\"], [0.2222222222222222, \"#7201a8\"], [0.3333333333333333, \"#9c179e\"], [0.4444444444444444, \"#bd3786\"], [0.5555555555555556, \"#d8576b\"], [0.6666666666666666, \"#ed7953\"], [0.7777777777777778, \"#fb9f3a\"], [0.8888888888888888, \"#fdca26\"], [1.0, \"#f0f921\"]], \"type\": \"surface\"}], \"table\": [{\"cells\": {\"fill\": {\"color\": \"#EBF0F8\"}, \"line\": {\"color\": \"white\"}}, \"header\": {\"fill\": {\"color\": \"#C8D4E3\"}, \"line\": {\"color\": \"white\"}}, \"type\": \"table\"}]}, \"layout\": {\"annotationdefaults\": {\"arrowcolor\": \"#2a3f5f\", \"arrowhead\": 0, \"arrowwidth\": 1}, \"coloraxis\": {\"colorbar\": {\"outlinewidth\": 0, \"ticks\": \"\"}}, \"colorscale\": {\"diverging\": [[0, \"#8e0152\"], [0.1, \"#c51b7d\"], [0.2, \"#de77ae\"], [0.3, \"#f1b6da\"], [0.4, \"#fde0ef\"], [0.5, \"#f7f7f7\"], [0.6, \"#e6f5d0\"], [0.7, \"#b8e186\"], [0.8, \"#7fbc41\"], [0.9, \"#4d9221\"], [1, \"#276419\"]], \"sequential\": [[0.0, \"#0d0887\"], [0.1111111111111111, \"#46039f\"], [0.2222222222222222, \"#7201a8\"], [0.3333333333333333, \"#9c179e\"], [0.4444444444444444, \"#bd3786\"], [0.5555555555555556, \"#d8576b\"], [0.6666666666666666, \"#ed7953\"], [0.7777777777777778, \"#fb9f3a\"], [0.8888888888888888, \"#fdca26\"], [1.0, \"#f0f921\"]], \"sequentialminus\": [[0.0, \"#0d0887\"], [0.1111111111111111, \"#46039f\"], [0.2222222222222222, \"#7201a8\"], [0.3333333333333333, \"#9c179e\"], [0.4444444444444444, \"#bd3786\"], [0.5555555555555556, \"#d8576b\"], [0.6666666666666666, \"#ed7953\"], [0.7777777777777778, \"#fb9f3a\"], [0.8888888888888888, \"#fdca26\"], [1.0, \"#f0f921\"]]}, \"colorway\": [\"#636efa\", \"#EF553B\", \"#00cc96\", \"#ab63fa\", \"#FFA15A\", \"#19d3f3\", \"#FF6692\", \"#B6E880\", \"#FF97FF\", \"#FECB52\"], \"font\": {\"color\": \"#2a3f5f\"}, \"geo\": {\"bgcolor\": \"white\", \"lakecolor\": \"white\", \"landcolor\": \"#E5ECF6\", \"showlakes\": true, \"showland\": true, \"subunitcolor\": \"white\"}, \"hoverlabel\": {\"align\": \"left\"}, \"hovermode\": \"closest\", \"mapbox\": {\"style\": \"light\"}, \"paper_bgcolor\": \"white\", \"plot_bgcolor\": \"#E5ECF6\", \"polar\": {\"angularaxis\": {\"gridcolor\": \"white\", \"linecolor\": \"white\", \"ticks\": \"\"}, \"bgcolor\": \"#E5ECF6\", \"radialaxis\": {\"gridcolor\": \"white\", \"linecolor\": \"white\", \"ticks\": \"\"}}, \"scene\": {\"xaxis\": {\"backgroundcolor\": \"#E5ECF6\", \"gridcolor\": \"white\", \"gridwidth\": 2, \"linecolor\": \"white\", \"showbackground\": true, \"ticks\": \"\", \"zerolinecolor\": \"white\"}, \"yaxis\": {\"backgroundcolor\": \"#E5ECF6\", \"gridcolor\": \"white\", \"gridwidth\": 2, \"linecolor\": \"white\", \"showbackground\": true, \"ticks\": \"\", \"zerolinecolor\": \"white\"}, \"zaxis\": {\"backgroundcolor\": \"#E5ECF6\", \"gridcolor\": \"white\", \"gridwidth\": 2, \"linecolor\": \"white\", \"showbackground\": true, \"ticks\": \"\", \"zerolinecolor\": \"white\"}}, \"shapedefaults\": {\"line\": {\"color\": \"#2a3f5f\"}}, \"ternary\": {\"aaxis\": {\"gridcolor\": \"white\", \"linecolor\": \"white\", \"ticks\": \"\"}, \"baxis\": {\"gridcolor\": \"white\", \"linecolor\": \"white\", \"ticks\": \"\"}, \"bgcolor\": \"#E5ECF6\", \"caxis\": {\"gridcolor\": \"white\", \"linecolor\": \"white\", \"ticks\": \"\"}}, \"title\": {\"x\": 0.05}, \"xaxis\": {\"automargin\": true, \"gridcolor\": \"white\", \"linecolor\": \"white\", \"ticks\": \"\", \"title\": {\"standoff\": 15}, \"zerolinecolor\": \"white\", \"zerolinewidth\": 2}, \"yaxis\": {\"automargin\": true, \"gridcolor\": \"white\", \"linecolor\": \"white\", \"ticks\": \"\", \"title\": {\"standoff\": 15}, \"zerolinecolor\": \"white\", \"zerolinewidth\": 2}}}, \"title\": {\"text\": \"Total Days with unhealthy ozone by Month\"}, \"xaxis\": {\"anchor\": \"y\", \"domain\": [0.0, 1.0], \"title\": {\"text\": \"Months\"}}, \"yaxis\": {\"anchor\": \"x\", \"domain\": [0.0, 1.0], \"title\": {\"text\": \"Total Days with unhealthy ozone\"}}},\n",
              "                        {\"responsive\": true}\n",
              "                    ).then(function(){\n",
              "                            \n",
              "var gd = document.getElementById('902c00ae-da4f-4a03-af44-7e5fe13a709b');\n",
              "var x = new MutationObserver(function (mutations, observer) {{\n",
              "        var display = window.getComputedStyle(gd).display;\n",
              "        if (!display || display === 'none') {{\n",
              "            console.log([gd, 'removed!']);\n",
              "            Plotly.purge(gd);\n",
              "            observer.disconnect();\n",
              "        }}\n",
              "}});\n",
              "\n",
              "// Listen for the removal of the full notebook cells\n",
              "var notebookContainer = gd.closest('#notebook-container');\n",
              "if (notebookContainer) {{\n",
              "    x.observe(notebookContainer, {childList: true});\n",
              "}}\n",
              "\n",
              "// Listen for the clearing of the current output cell\n",
              "var outputEl = gd.closest('.output');\n",
              "if (outputEl) {{\n",
              "    x.observe(outputEl, {childList: true});\n",
              "}}\n",
              "\n",
              "                        })\n",
              "                };\n",
              "                \n",
              "            </script>\n",
              "        </div>\n",
              "</body>\n",
              "</html>"
            ]
          },
          "metadata": {}
        }
      ]
    },
    {
      "cell_type": "markdown",
      "metadata": {
        "id": "0evzatyLXQ06"
      },
      "source": [
        "Given our data set we are able to identify that the months in the summer June, July and August are the ones with the worst air quality. "
      ]
    },
    {
      "cell_type": "markdown",
      "metadata": {
        "id": "5P8N_GbCW722"
      },
      "source": [
        "## Non-native vs native species per park \n",
        "\n",
        "\n",
        "\n",
        "\n"
      ]
    },
    {
      "cell_type": "markdown",
      "metadata": {
        "id": "fg8ZyzB7XOJh"
      },
      "source": [
        "Explore Nativeness of creatures\n",
        "\n"
      ]
    },
    {
      "cell_type": "code",
      "metadata": {
        "id": "c9ERI0zzXFlU",
        "colab": {
          "base_uri": "https://localhost:8080/"
        },
        "outputId": "cf1c4305-dd4d-4764-95b7-1735b93d1e8f"
      },
      "source": [
        "species['Nativeness'].value_counts()"
      ],
      "execution_count": 203,
      "outputs": [
        {
          "output_type": "execute_result",
          "data": {
            "text/plain": [
              "Native           64502\n",
              "Not Native        8694\n",
              "Unknown           5772\n",
              "Present             47\n",
              "Not Confirmed        4\n",
              "Name: Nativeness, dtype: int64"
            ]
          },
          "metadata": {},
          "execution_count": 203
        }
      ]
    },
    {
      "cell_type": "code",
      "metadata": {
        "id": "Suyjz_boZGSe",
        "colab": {
          "base_uri": "https://localhost:8080/"
        },
        "outputId": "4dda4bad-d7d9-48ff-8af0-26df11fe8880"
      },
      "source": [
        "new_species = species[(species['Nativeness'] != 'Unknown')&(species['Nativeness'] != 'Not Confirmed')]\n",
        "new_species['Nativeness'].value_counts()"
      ],
      "execution_count": 204,
      "outputs": [
        {
          "output_type": "execute_result",
          "data": {
            "text/plain": [
              "Native        64502\n",
              "Not Native     8694\n",
              "Present          47\n",
              "Name: Nativeness, dtype: int64"
            ]
          },
          "metadata": {},
          "execution_count": 204
        }
      ]
    },
    {
      "cell_type": "code",
      "metadata": {
        "id": "ik0GDNKaaCAH",
        "colab": {
          "base_uri": "https://localhost:8080/",
          "height": 602
        },
        "outputId": "9643f3f9-aa97-44e9-a33d-33a20c20994e"
      },
      "source": [
        "\n",
        "fig, ax = plt.subplots(figsize=(30,7))\n",
        "ax.set_title('Non-native vs Native species per park species')\n",
        "t_species = new_species.groupby(['Park Name','Nativeness']).size().unstack().reset_index().plot.bar(x = 'Park Name', y = ['Native', 'Not Native'], ax=ax)\n"
      ],
      "execution_count": 205,
      "outputs": [
        {
          "output_type": "display_data",
          "data": {
            "image/png": "[encoded data removed]",
            "text/plain": [
              "<Figure size 2160x504 with 1 Axes>"
            ]
          },
          "metadata": {
            "needs_background": "light"
          }
        }
      ]
    },
    {
      "cell_type": "markdown",
      "source": [
        "In this graph we plotted out how each national park is species is populated. We can see from this graph that the predominant nativeness in all of the parks is the native specie."
      ],
      "metadata": {
        "id": "UUXKuZ4UriDt"
      }
    },
    {
      "cell_type": "code",
      "metadata": {
        "id": "rU3-x9f2DdBc",
        "colab": {
          "base_uri": "https://localhost:8080/",
          "height": 542
        },
        "outputId": "7cb8e2d4-4b17-43cf-feaf-fab73732c827"
      },
      "source": [
        "native_prop = new_species[new_species['Nativeness']=='Native'].groupby('Park Name').size()/new_species.groupby('Park Name').size()\n",
        "native_prop = pd.DataFrame(native_prop, columns=['Native_Proportion'])\n",
        "native_prop.reset_index(inplace = True)\n",
        "native_prop = native_prop.sort_values(by=\"Native_Proportion\", ascending=False)\n",
        "\n",
        "\n",
        "fig = px.bar(native_prop, x=\"Park Name\", y=\"Native_Proportion\", title=\"Proportion of Species in Each Park that are Native\")\n",
        "fig.show()"
      ],
      "execution_count": 206,
      "outputs": [
        {
          "output_type": "display_data",
          "data": {
            "text/html": [
              "<html>\n",
              "<head><meta charset=\"utf-8\" /></head>\n",
              "<body>\n",
              "    <div>\n",
              "            <script src=\"https://cdnjs.cloudflare.com/ajax/libs/mathjax/2.7.5/MathJax.js?config=TeX-AMS-MML_SVG\"></script><script type=\"text/javascript\">if (window.MathJax) {MathJax.Hub.Config({SVG: {font: \"STIX-Web\"}});}</script>\n",
              "                <script type=\"text/javascript\">window.PlotlyConfig = {MathJaxConfig: 'local'};</script>\n",
              "        <script src=\"https://cdn.plot.ly/plotly-latest.min.js\"></script>    \n",
              "            <div id=\"dd7093da-df8b-4ffb-ac91-01486fc51d87\" class=\"plotly-graph-div\" style=\"height:525px; width:100%;\"></div>\n",
              "            <script type=\"text/javascript\">\n",
              "                \n",
              "                    window.PLOTLYENV=window.PLOTLYENV || {};\n",
              "                    \n",
              "                if (document.getElementById(\"dd7093da-df8b-4ffb-ac91-01486fc51d87\")) {\n",
              "                    Plotly.newPlot(\n",
              "                        'dd7093da-df8b-4ffb-ac91-01486fc51d87',\n",
              "                        [{\"alignmentgroup\": \"True\", \"hoverlabel\": {\"namelength\": 0}, \"hovertemplate\": \"Park Name=%{x}<br>Native_Proportion=%{y}\", \"legendgroup\": \"\", \"marker\": {\"color\": \"#636efa\"}, \"name\": \"\", \"offsetgroup\": \"\", \"orientation\": \"v\", \"showlegend\": false, \"textposition\": \"auto\", \"type\": \"bar\", \"x\": [\"Gates Of The Arctic \", \"Kobuk Valley \", \"Katmai \", \"Denali \", \"Wrangell - St Elias \", \"Lake Clark \", \"Guadalupe Mountains \", \"Glacier Bay \", \"Joshua Tree \", \"Kenai Fjords \", \"Crater Lake \", \"Lassen Volcanic \", \"Carlsbad Caverns \", \"Big Bend \", \"Saguaro \", \"Great Sand Dunes \", \"Death Valley \", \"Great Basin \", \"Bryce Canyon \", \"Petrified Forest \", \"Olympic \", \"Grand Teton \", \"Grand Canyon \", \"Canyonlands \", \"Yosemite \", \"Black Canyon of the Gunnison \", \"Voyageurs \", \"Arches \", \"North Cascades \", \"Mesa Verde \", \"Capitol Reef \", \"Zion \", \"Isle Royale \", \"Channel Islands \", \"Sequoia and Kings Canyon \", \"Glacier \", \"Pinnacles \", \"Cuyahoga Valley \", \"Yellowstone \", \"Wind Cave \", \"Hot Springs \", \"Shenandoah \", \"Theodore Roosevelt \", \"Redwood \", \"Biscayne \", \"Everglades \", \"Acadia \", \"Mount Rainier \", \"Mammoth Cave \", \"Dry Tortugas \", \"Badlands \", \"Rocky Mountain \", \"Hawaii Volcanoes \", \"Haleakala \", \"Great Smoky Mountains \", \"Congaree \"], \"xaxis\": \"x\", \"y\": [0.9986168741355463, 0.9981949458483754, 0.981651376146789, 0.977977977977978, 0.976158940397351, 0.9753593429158111, 0.9683143219264893, 0.9672846237731734, 0.9623529411764706, 0.9608482871125612, 0.9527629233511586, 0.9502487562189055, 0.9502452697967765, 0.9457981103928393, 0.9322355921469284, 0.928235294117647, 0.928122819260293, 0.9249217935349322, 0.9238578680203046, 0.9237057220708447, 0.9166666666666666, 0.9100062932662052, 0.9083759339362957, 0.9053117782909931, 0.8976793248945147, 0.8896952104499274, 0.889267461669506, 0.8878504672897196, 0.8861313868613139, 0.8857913669064749, 0.8854435831180018, 0.8844984802431611, 0.8800342759211653, 0.8787222523010287, 0.8751375137513752, 0.8712955122777307, 0.8582010582010582, 0.8429613011777902, 0.8427487352445194, 0.8305439330543933, 0.8073959938366718, 0.7934246575342466, 0.7906215921483097, 0.7896461336828309, 0.7880952380952381, 0.773415591699383, 0.7631806395851339, 0.7505438723712835, 0.7490965410428497, 0.7068607068607069, 0.6880530973451328, 0.6283457656867047, 0.5951506245407788, 0.5888450148075025, 0.5757653717519938, 0.5348282442748091], \"yaxis\": \"y\"}],\n",
              "                        {\"barmode\": \"relative\", \"legend\": {\"tracegroupgap\": 0}, \"template\": {\"data\": {\"bar\": [{\"error_x\": {\"color\": \"#2a3f5f\"}, \"error_y\": {\"color\": \"#2a3f5f\"}, \"marker\": {\"line\": {\"color\": \"#E5ECF6\", \"width\": 0.5}}, \"type\": \"bar\"}], \"barpolar\": [{\"marker\": {\"line\": {\"color\": \"#E5ECF6\", \"width\": 0.5}}, \"type\": \"barpolar\"}], \"carpet\": [{\"aaxis\": {\"endlinecolor\": \"#2a3f5f\", \"gridcolor\": \"white\", \"linecolor\": \"white\", \"minorgridcolor\": \"white\", \"startlinecolor\": \"#2a3f5f\"}, \"baxis\": {\"endlinecolor\": \"#2a3f5f\", \"gridcolor\": \"white\", \"linecolor\": \"white\", \"minorgridcolor\": \"white\", \"startlinecolor\": \"#2a3f5f\"}, \"type\": \"carpet\"}], \"choropleth\": [{\"colorbar\": {\"outlinewidth\": 0, \"ticks\": \"\"}, \"type\": \"choropleth\"}], \"contour\": [{\"colorbar\": {\"outlinewidth\": 0, \"ticks\": \"\"}, \"colorscale\": [[0.0, \"#0d0887\"], [0.1111111111111111, \"#46039f\"], [0.2222222222222222, \"#7201a8\"], [0.3333333333333333, \"#9c179e\"], [0.4444444444444444, \"#bd3786\"], [0.5555555555555556, \"#d8576b\"], [0.6666666666666666, \"#ed7953\"], [0.7777777777777778, \"#fb9f3a\"], [0.8888888888888888, \"#fdca26\"], [1.0, \"#f0f921\"]], \"type\": \"contour\"}], \"contourcarpet\": [{\"colorbar\": {\"outlinewidth\": 0, \"ticks\": \"\"}, \"type\": \"contourcarpet\"}], \"heatmap\": [{\"colorbar\": {\"outlinewidth\": 0, \"ticks\": \"\"}, \"colorscale\": [[0.0, \"#0d0887\"], [0.1111111111111111, \"#46039f\"], [0.2222222222222222, \"#7201a8\"], [0.3333333333333333, \"#9c179e\"], [0.4444444444444444, \"#bd3786\"], [0.5555555555555556, \"#d8576b\"], [0.6666666666666666, \"#ed7953\"], [0.7777777777777778, \"#fb9f3a\"], [0.8888888888888888, \"#fdca26\"], [1.0, \"#f0f921\"]], \"type\": \"heatmap\"}], \"heatmapgl\": [{\"colorbar\": {\"outlinewidth\": 0, \"ticks\": \"\"}, \"colorscale\": [[0.0, \"#0d0887\"], [0.1111111111111111, \"#46039f\"], [0.2222222222222222, \"#7201a8\"], [0.3333333333333333, \"#9c179e\"], [0.4444444444444444, \"#bd3786\"], [0.5555555555555556, \"#d8576b\"], [0.6666666666666666, \"#ed7953\"], [0.7777777777777778, \"#fb9f3a\"], [0.8888888888888888, \"#fdca26\"], [1.0, \"#f0f921\"]], \"type\": \"heatmapgl\"}], \"histogram\": [{\"marker\": {\"colorbar\": {\"outlinewidth\": 0, \"ticks\": \"\"}}, \"type\": \"histogram\"}], \"histogram2d\": [{\"colorbar\": {\"outlinewidth\": 0, \"ticks\": \"\"}, \"colorscale\": [[0.0, \"#0d0887\"], [0.1111111111111111, \"#46039f\"], [0.2222222222222222, \"#7201a8\"], [0.3333333333333333, \"#9c179e\"], [0.4444444444444444, \"#bd3786\"], [0.5555555555555556, \"#d8576b\"], [0.6666666666666666, \"#ed7953\"], [0.7777777777777778, \"#fb9f3a\"], [0.8888888888888888, \"#fdca26\"], [1.0, \"#f0f921\"]], \"type\": \"histogram2d\"}], \"histogram2dcontour\": [{\"colorbar\": {\"outlinewidth\": 0, \"ticks\": \"\"}, \"colorscale\": [[0.0, \"#0d0887\"], [0.1111111111111111, \"#46039f\"], [0.2222222222222222, \"#7201a8\"], [0.3333333333333333, \"#9c179e\"], [0.4444444444444444, \"#bd3786\"], [0.5555555555555556, \"#d8576b\"], [0.6666666666666666, \"#ed7953\"], [0.7777777777777778, \"#fb9f3a\"], [0.8888888888888888, \"#fdca26\"], [1.0, \"#f0f921\"]], \"type\": \"histogram2dcontour\"}], \"mesh3d\": [{\"colorbar\": {\"outlinewidth\": 0, \"ticks\": \"\"}, \"type\": \"mesh3d\"}], \"parcoords\": [{\"line\": {\"colorbar\": {\"outlinewidth\": 0, \"ticks\": \"\"}}, \"type\": \"parcoords\"}], \"pie\": [{\"automargin\": true, \"type\": \"pie\"}], \"scatter\": [{\"marker\": {\"colorbar\": {\"outlinewidth\": 0, \"ticks\": \"\"}}, \"type\": \"scatter\"}], \"scatter3d\": [{\"line\": {\"colorbar\": {\"outlinewidth\": 0, \"ticks\": \"\"}}, \"marker\": {\"colorbar\": {\"outlinewidth\": 0, \"ticks\": \"\"}}, \"type\": \"scatter3d\"}], \"scattercarpet\": [{\"marker\": {\"colorbar\": {\"outlinewidth\": 0, \"ticks\": \"\"}}, \"type\": \"scattercarpet\"}], \"scattergeo\": [{\"marker\": {\"colorbar\": {\"outlinewidth\": 0, \"ticks\": \"\"}}, \"type\": \"scattergeo\"}], \"scattergl\": [{\"marker\": {\"colorbar\": {\"outlinewidth\": 0, \"ticks\": \"\"}}, \"type\": \"scattergl\"}], \"scattermapbox\": [{\"marker\": {\"colorbar\": {\"outlinewidth\": 0, \"ticks\": \"\"}}, \"type\": \"scattermapbox\"}], \"scatterpolar\": [{\"marker\": {\"colorbar\": {\"outlinewidth\": 0, \"ticks\": \"\"}}, \"type\": \"scatterpolar\"}], \"scatterpolargl\": [{\"marker\": {\"colorbar\": {\"outlinewidth\": 0, \"ticks\": \"\"}}, \"type\": \"scatterpolargl\"}], \"scatterternary\": [{\"marker\": {\"colorbar\": {\"outlinewidth\": 0, \"ticks\": \"\"}}, \"type\": \"scatterternary\"}], \"surface\": [{\"colorbar\": {\"outlinewidth\": 0, \"ticks\": \"\"}, \"colorscale\": [[0.0, \"#0d0887\"], [0.1111111111111111, \"#46039f\"], [0.2222222222222222, \"#7201a8\"], [0.3333333333333333, \"#9c179e\"], [0.4444444444444444, \"#bd3786\"], [0.5555555555555556, \"#d8576b\"], [0.6666666666666666, \"#ed7953\"], [0.7777777777777778, \"#fb9f3a\"], [0.8888888888888888, \"#fdca26\"], [1.0, \"#f0f921\"]], \"type\": \"surface\"}], \"table\": [{\"cells\": {\"fill\": {\"color\": \"#EBF0F8\"}, \"line\": {\"color\": \"white\"}}, \"header\": {\"fill\": {\"color\": \"#C8D4E3\"}, \"line\": {\"color\": \"white\"}}, \"type\": \"table\"}]}, \"layout\": {\"annotationdefaults\": {\"arrowcolor\": \"#2a3f5f\", \"arrowhead\": 0, \"arrowwidth\": 1}, \"coloraxis\": {\"colorbar\": {\"outlinewidth\": 0, \"ticks\": \"\"}}, \"colorscale\": {\"diverging\": [[0, \"#8e0152\"], [0.1, \"#c51b7d\"], [0.2, \"#de77ae\"], [0.3, \"#f1b6da\"], [0.4, \"#fde0ef\"], [0.5, \"#f7f7f7\"], [0.6, \"#e6f5d0\"], [0.7, \"#b8e186\"], [0.8, \"#7fbc41\"], [0.9, \"#4d9221\"], [1, \"#276419\"]], \"sequential\": [[0.0, \"#0d0887\"], [0.1111111111111111, \"#46039f\"], [0.2222222222222222, \"#7201a8\"], [0.3333333333333333, \"#9c179e\"], [0.4444444444444444, \"#bd3786\"], [0.5555555555555556, \"#d8576b\"], [0.6666666666666666, \"#ed7953\"], [0.7777777777777778, \"#fb9f3a\"], [0.8888888888888888, \"#fdca26\"], [1.0, \"#f0f921\"]], \"sequentialminus\": [[0.0, \"#0d0887\"], [0.1111111111111111, \"#46039f\"], [0.2222222222222222, \"#7201a8\"], [0.3333333333333333, \"#9c179e\"], [0.4444444444444444, \"#bd3786\"], [0.5555555555555556, \"#d8576b\"], [0.6666666666666666, \"#ed7953\"], [0.7777777777777778, \"#fb9f3a\"], [0.8888888888888888, \"#fdca26\"], [1.0, \"#f0f921\"]]}, \"colorway\": [\"#636efa\", \"#EF553B\", \"#00cc96\", \"#ab63fa\", \"#FFA15A\", \"#19d3f3\", \"#FF6692\", \"#B6E880\", \"#FF97FF\", \"#FECB52\"], \"font\": {\"color\": \"#2a3f5f\"}, \"geo\": {\"bgcolor\": \"white\", \"lakecolor\": \"white\", \"landcolor\": \"#E5ECF6\", \"showlakes\": true, \"showland\": true, \"subunitcolor\": \"white\"}, \"hoverlabel\": {\"align\": \"left\"}, \"hovermode\": \"closest\", \"mapbox\": {\"style\": \"light\"}, \"paper_bgcolor\": \"white\", \"plot_bgcolor\": \"#E5ECF6\", \"polar\": {\"angularaxis\": {\"gridcolor\": \"white\", \"linecolor\": \"white\", \"ticks\": \"\"}, \"bgcolor\": \"#E5ECF6\", \"radialaxis\": {\"gridcolor\": \"white\", \"linecolor\": \"white\", \"ticks\": \"\"}}, \"scene\": {\"xaxis\": {\"backgroundcolor\": \"#E5ECF6\", \"gridcolor\": \"white\", \"gridwidth\": 2, \"linecolor\": \"white\", \"showbackground\": true, \"ticks\": \"\", \"zerolinecolor\": \"white\"}, \"yaxis\": {\"backgroundcolor\": \"#E5ECF6\", \"gridcolor\": \"white\", \"gridwidth\": 2, \"linecolor\": \"white\", \"showbackground\": true, \"ticks\": \"\", \"zerolinecolor\": \"white\"}, \"zaxis\": {\"backgroundcolor\": \"#E5ECF6\", \"gridcolor\": \"white\", \"gridwidth\": 2, \"linecolor\": \"white\", \"showbackground\": true, \"ticks\": \"\", \"zerolinecolor\": \"white\"}}, \"shapedefaults\": {\"line\": {\"color\": \"#2a3f5f\"}}, \"ternary\": {\"aaxis\": {\"gridcolor\": \"white\", \"linecolor\": \"white\", \"ticks\": \"\"}, \"baxis\": {\"gridcolor\": \"white\", \"linecolor\": \"white\", \"ticks\": \"\"}, \"bgcolor\": \"#E5ECF6\", \"caxis\": {\"gridcolor\": \"white\", \"linecolor\": \"white\", \"ticks\": \"\"}}, \"title\": {\"x\": 0.05}, \"xaxis\": {\"automargin\": true, \"gridcolor\": \"white\", \"linecolor\": \"white\", \"ticks\": \"\", \"title\": {\"standoff\": 15}, \"zerolinecolor\": \"white\", \"zerolinewidth\": 2}, \"yaxis\": {\"automargin\": true, \"gridcolor\": \"white\", \"linecolor\": \"white\", \"ticks\": \"\", \"title\": {\"standoff\": 15}, \"zerolinecolor\": \"white\", \"zerolinewidth\": 2}}}, \"title\": {\"text\": \"Proportion of Species in Each Park that are Native\"}, \"xaxis\": {\"anchor\": \"y\", \"domain\": [0.0, 1.0], \"title\": {\"text\": \"Park Name\"}}, \"yaxis\": {\"anchor\": \"x\", \"domain\": [0.0, 1.0], \"title\": {\"text\": \"Native_Proportion\"}}},\n",
              "                        {\"responsive\": true}\n",
              "                    ).then(function(){\n",
              "                            \n",
              "var gd = document.getElementById('dd7093da-df8b-4ffb-ac91-01486fc51d87');\n",
              "var x = new MutationObserver(function (mutations, observer) {{\n",
              "        var display = window.getComputedStyle(gd).display;\n",
              "        if (!display || display === 'none') {{\n",
              "            console.log([gd, 'removed!']);\n",
              "            Plotly.purge(gd);\n",
              "            observer.disconnect();\n",
              "        }}\n",
              "}});\n",
              "\n",
              "// Listen for the removal of the full notebook cells\n",
              "var notebookContainer = gd.closest('#notebook-container');\n",
              "if (notebookContainer) {{\n",
              "    x.observe(notebookContainer, {childList: true});\n",
              "}}\n",
              "\n",
              "// Listen for the clearing of the current output cell\n",
              "var outputEl = gd.closest('.output');\n",
              "if (outputEl) {{\n",
              "    x.observe(outputEl, {childList: true});\n",
              "}}\n",
              "\n",
              "                        })\n",
              "                };\n",
              "                \n",
              "            </script>\n",
              "        </div>\n",
              "</body>\n",
              "</html>"
            ]
          },
          "metadata": {}
        }
      ]
    },
    {
      "cell_type": "markdown",
      "source": [
        "The bar graph presented above demostrates which are the parks with the highest native proportion and which are the least, taking the intresting insight that the parks with the most nativeness are the parks located in Alaska."
      ],
      "metadata": {
        "id": "YXS01fZhr7Yg"
      }
    },
    {
      "cell_type": "markdown",
      "metadata": {
        "id": "sojjmN5ehgri"
      },
      "source": [
        "## Types of Species in Each Park "
      ]
    },
    {
      "cell_type": "markdown",
      "metadata": {
        "id": "TTiuPlVGfOKz"
      },
      "source": [
        "The population of these parks is made up of both plants and animals. To get a better understanding of the population in each park we decided to create this feature which determines which percentage of the population of the park are animals."
      ]
    },
    {
      "cell_type": "code",
      "metadata": {
        "id": "CuQ9yjNEye__",
        "colab": {
          "base_uri": "https://localhost:8080/",
          "height": 542
        },
        "outputId": "0ad00c4e-92cd-4e8a-ecc0-3c09c1f75d6a"
      },
      "source": [
        "species_categories = species[[\"Park Name\", \"Category\"]]\n",
        "species_categories = species_categories.groupby([ \"Park Name\", \"Category\"]).size()\n",
        "species_categories = species_categories.reset_index()\n",
        "species_categories = species_categories.rename({0 : \"Count\"}, axis=1)\n",
        "\n",
        "fig = px.bar(species_categories, x=\"Park Name\", y=\"Count\", color=\"Category\", title =\"Count of species by category\", labels = {'Count': 'Count of Species'})\n",
        "fig.show()\n"
      ],
      "execution_count": 207,
      "outputs": [
        {
          "output_type": "display_data",
          "data": {
            "text/html": [
              "<html>\n",
              "<head><meta charset=\"utf-8\" /></head>\n",
              "<body>\n",
              "    <div>\n",
              "            <script src=\"https://cdnjs.cloudflare.com/ajax/libs/mathjax/2.7.5/MathJax.js?config=TeX-AMS-MML_SVG\"></script><script type=\"text/javascript\">if (window.MathJax) {MathJax.Hub.Config({SVG: {font: \"STIX-Web\"}});}</script>\n",
              "                <script type=\"text/javascript\">window.PlotlyConfig = {MathJaxConfig: 'local'};</script>\n",
              "        <script src=\"https://cdn.plot.ly/plotly-latest.min.js\"></script>    \n",
              "            <div id=\"949045f6-b4bb-4267-89be-3c3b2cd28036\" class=\"plotly-graph-div\" style=\"height:525px; width:100%;\"></div>\n",
              "            <script type=\"text/javascript\">\n",
              "                \n",
              "                    window.PLOTLYENV=window.PLOTLYENV || {};\n",
              "                    \n",
              "                if (document.getElementById(\"949045f6-b4bb-4267-89be-3c3b2cd28036\")) {\n",
              "                    Plotly.newPlot(\n",
              "                        '949045f6-b4bb-4267-89be-3c3b2cd28036',\n",
              "                        [{\"alignmentgroup\": \"True\", \"hoverlabel\": {\"namelength\": 0}, \"hovertemplate\": \"Category=Amphibian<br>Park Name=%{x}<br>Count of Species=%{y}\", \"legendgroup\": \"Category=Amphibian\", \"marker\": {\"color\": \"#636efa\"}, \"name\": \"Category=Amphibian\", \"offsetgroup\": \"Category=Amphibian\", \"orientation\": \"v\", \"showlegend\": true, \"textposition\": \"auto\", \"type\": \"bar\", \"x\": [\"Acadia \", \"Arches \", \"Badlands \", \"Big Bend \", \"Biscayne \", \"Black Canyon of the Gunnison \", \"Bryce Canyon \", \"Canyonlands \", \"Capitol Reef \", \"Carlsbad Caverns \", \"Channel Islands \", \"Congaree \", \"Crater Lake \", \"Cuyahoga Valley \", \"Death Valley \", \"Denali \", \"Everglades \", \"Gates Of The Arctic \", \"Glacier \", \"Glacier Bay \", \"Grand Canyon \", \"Grand Teton \", \"Great Basin \", \"Great Sand Dunes \", \"Great Smoky Mountains \", \"Guadalupe Mountains \", \"Haleakala \", \"Hawaii Volcanoes \", \"Hot Springs \", \"Isle Royale \", \"Joshua Tree \", \"Katmai \", \"Kobuk Valley \", \"Lake Clark \", \"Lassen Volcanic \", \"Mammoth Cave \", \"Mesa Verde \", \"Mount Rainier \", \"North Cascades \", \"Olympic \", \"Petrified Forest \", \"Pinnacles \", \"Redwood \", \"Rocky Mountain \", \"Saguaro \", \"Sequoia and Kings Canyon \", \"Shenandoah \", \"Theodore Roosevelt \", \"Voyageurs \", \"Wind Cave \", \"Wrangell - St Elias \", \"Yellowstone \", \"Yosemite \", \"Zion \"], \"xaxis\": \"x\", \"y\": [11, 5, 5, 11, 8, 1, 3, 6, 5, 8, 3, 32, 7, 18, 5, 1, 17, 1, 6, 1, 9, 6, 1, 6, 41, 9, 3, 4, 13, 8, 2, 1, 1, 1, 5, 27, 3, 14, 12, 13, 7, 7, 19, 4, 8, 12, 24, 6, 10, 6, 2, 4, 12, 7], \"yaxis\": \"y\"}, {\"alignmentgroup\": \"True\", \"hoverlabel\": {\"namelength\": 0}, \"hovertemplate\": \"Category=Bird<br>Park Name=%{x}<br>Count of Species=%{y}\", \"legendgroup\": \"Category=Bird\", \"marker\": {\"color\": \"#EF553B\"}, \"name\": \"Category=Bird\", \"offsetgroup\": \"Category=Bird\", \"orientation\": \"v\", \"showlegend\": true, \"textposition\": \"auto\", \"type\": \"bar\", \"x\": [\"Acadia \", \"Arches \", \"Badlands \", \"Big Bend \", \"Biscayne \", \"Black Canyon of the Gunnison \", \"Bryce Canyon \", \"Canyonlands \", \"Capitol Reef \", \"Carlsbad Caverns \", \"Channel Islands \", \"Congaree \", \"Crater Lake \", \"Cuyahoga Valley \", \"Death Valley \", \"Denali \", \"Dry Tortugas \", \"Everglades \", \"Gates Of The Arctic \", \"Glacier \", \"Glacier Bay \", \"Grand Canyon \", \"Grand Teton \", \"Great Basin \", \"Great Sand Dunes \", \"Great Smoky Mountains \", \"Guadalupe Mountains \", \"Haleakala \", \"Hawaii Volcanoes \", \"Hot Springs \", \"Isle Royale \", \"Joshua Tree \", \"Katmai \", \"Kenai Fjords \", \"Kobuk Valley \", \"Lake Clark \", \"Lassen Volcanic \", \"Mammoth Cave \", \"Mesa Verde \", \"Mount Rainier \", \"North Cascades \", \"Olympic \", \"Petrified Forest \", \"Pinnacles \", \"Redwood \", \"Rocky Mountain \", \"Saguaro \", \"Sequoia and Kings Canyon \", \"Shenandoah \", \"Theodore Roosevelt \", \"Voyageurs \", \"Wind Cave \", \"Wrangell - St Elias \", \"Yellowstone \", \"Yosemite \", \"Zion \"], \"xaxis\": \"x\", \"y\": [214, 178, 206, 412, 228, 142, 164, 202, 233, 362, 354, 191, 148, 241, 386, 153, 280, 358, 121, 242, 243, 447, 180, 188, 197, 206, 240, 39, 62, 106, 243, 246, 160, 143, 109, 158, 168, 159, 210, 148, 218, 248, 226, 159, 287, 258, 215, 212, 196, 161, 233, 221, 191, 289, 269, 209], \"yaxis\": \"y\"}, {\"alignmentgroup\": \"True\", \"hoverlabel\": {\"namelength\": 0}, \"hovertemplate\": \"Category=Fish<br>Park Name=%{x}<br>Count of Species=%{y}\", \"legendgroup\": \"Category=Fish\", \"marker\": {\"color\": \"#00cc96\"}, \"name\": \"Category=Fish\", \"offsetgroup\": \"Category=Fish\", \"orientation\": \"v\", \"showlegend\": true, \"textposition\": \"auto\", \"type\": \"bar\", \"x\": [\"Acadia \", \"Arches \", \"Badlands \", \"Big Bend \", \"Biscayne \", \"Black Canyon of the Gunnison \", \"Bryce Canyon \", \"Canyonlands \", \"Capitol Reef \", \"Carlsbad Caverns \", \"Channel Islands \", \"Congaree \", \"Crater Lake \", \"Cuyahoga Valley \", \"Death Valley \", \"Denali \", \"Dry Tortugas \", \"Everglades \", \"Gates Of The Arctic \", \"Glacier \", \"Glacier Bay \", \"Grand Canyon \", \"Grand Teton \", \"Great Basin \", \"Great Sand Dunes \", \"Great Smoky Mountains \", \"Guadalupe Mountains \", \"Haleakala \", \"Hawaii Volcanoes \", \"Hot Springs \", \"Isle Royale \", \"Katmai \", \"Kenai Fjords \", \"Kobuk Valley \", \"Lake Clark \", \"Lassen Volcanic \", \"Mammoth Cave \", \"Mount Rainier \", \"North Cascades \", \"Olympic \", \"Pinnacles \", \"Redwood \", \"Rocky Mountain \", \"Sequoia and Kings Canyon \", \"Shenandoah \", \"Theodore Roosevelt \", \"Voyageurs \", \"Wind Cave \", \"Wrangell - St Elias \", \"Yellowstone \", \"Yosemite \", \"Zion \"], \"xaxis\": \"x\", \"y\": [33, 10, 15, 41, 549, 12, 1, 33, 10, 5, 256, 60, 6, 64, 8, 14, 261, 297, 1, 26, 102, 24, 20, 5, 4, 71, 3, 4, 4, 28, 53, 31, 32, 16, 43, 9, 79, 15, 28, 85, 2, 93, 10, 11, 41, 29, 54, 7, 88, 18, 10, 9], \"yaxis\": \"y\"}, {\"alignmentgroup\": \"True\", \"hoverlabel\": {\"namelength\": 0}, \"hovertemplate\": \"Category=Mammal<br>Park Name=%{x}<br>Count of Species=%{y}\", \"legendgroup\": \"Category=Mammal\", \"marker\": {\"color\": \"#ab63fa\"}, \"name\": \"Category=Mammal\", \"offsetgroup\": \"Category=Mammal\", \"orientation\": \"v\", \"showlegend\": true, \"textposition\": \"auto\", \"type\": \"bar\", \"x\": [\"Acadia \", \"Arches \", \"Badlands \", \"Big Bend \", \"Biscayne \", \"Black Canyon of the Gunnison \", \"Bryce Canyon \", \"Canyonlands \", \"Capitol Reef \", \"Carlsbad Caverns \", \"Channel Islands \", \"Congaree \", \"Crater Lake \", \"Cuyahoga Valley \", \"Death Valley \", \"Denali \", \"Dry Tortugas \", \"Everglades \", \"Gates Of The Arctic \", \"Glacier \", \"Glacier Bay \", \"Grand Canyon \", \"Grand Teton \", \"Great Basin \", \"Great Sand Dunes \", \"Great Smoky Mountains \", \"Guadalupe Mountains \", \"Haleakala \", \"Hawaii Volcanoes \", \"Hot Springs \", \"Isle Royale \", \"Joshua Tree \", \"Katmai \", \"Kenai Fjords \", \"Kobuk Valley \", \"Lake Clark \", \"Lassen Volcanic \", \"Mammoth Cave \", \"Mesa Verde \", \"Mount Rainier \", \"North Cascades \", \"Olympic \", \"Petrified Forest \", \"Pinnacles \", \"Redwood \", \"Rocky Mountain \", \"Saguaro \", \"Sequoia and Kings Canyon \", \"Shenandoah \", \"Theodore Roosevelt \", \"Voyageurs \", \"Wind Cave \", \"Wrangell - St Elias \", \"Yellowstone \", \"Yosemite \", \"Zion \"], \"xaxis\": \"x\", \"y\": [37, 44, 37, 80, 26, 50, 56, 49, 58, 68, 42, 35, 63, 41, 48, 37, 6, 35, 38, 60, 42, 90, 56, 55, 48, 69, 69, 13, 14, 38, 18, 54, 33, 30, 28, 36, 57, 44, 65, 57, 64, 66, 32, 49, 85, 57, 69, 71, 55, 37, 41, 53, 44, 66, 84, 68], \"yaxis\": \"y\"}, {\"alignmentgroup\": \"True\", \"hoverlabel\": {\"namelength\": 0}, \"hovertemplate\": \"Category=Reptile<br>Park Name=%{x}<br>Count of Species=%{y}\", \"legendgroup\": \"Category=Reptile\", \"marker\": {\"color\": \"#FFA15A\"}, \"name\": \"Category=Reptile\", \"offsetgroup\": \"Category=Reptile\", \"orientation\": \"v\", \"showlegend\": true, \"textposition\": \"auto\", \"type\": \"bar\", \"x\": [\"Acadia \", \"Arches \", \"Badlands \", \"Big Bend \", \"Biscayne \", \"Black Canyon of the Gunnison \", \"Bryce Canyon \", \"Canyonlands \", \"Capitol Reef \", \"Carlsbad Caverns \", \"Channel Islands \", \"Congaree \", \"Crater Lake \", \"Cuyahoga Valley \", \"Death Valley \", \"Dry Tortugas \", \"Everglades \", \"Glacier \", \"Grand Canyon \", \"Grand Teton \", \"Great Basin \", \"Great Sand Dunes \", \"Great Smoky Mountains \", \"Guadalupe Mountains \", \"Haleakala \", \"Hawaii Volcanoes \", \"Hot Springs \", \"Isle Royale \", \"Joshua Tree \", \"Lassen Volcanic \", \"Mammoth Cave \", \"Mesa Verde \", \"Mount Rainier \", \"North Cascades \", \"Olympic \", \"Petrified Forest \", \"Pinnacles \", \"Redwood \", \"Rocky Mountain \", \"Saguaro \", \"Sequoia and Kings Canyon \", \"Shenandoah \", \"Theodore Roosevelt \", \"Voyageurs \", \"Wind Cave \", \"Yellowstone \", \"Yosemite \", \"Zion \"], \"xaxis\": \"x\", \"y\": [7, 14, 6, 59, 32, 9, 8, 19, 16, 43, 10, 32, 1, 19, 35, 1, 57, 3, 57, 4, 13, 5, 39, 43, 9, 11, 18, 3, 49, 8, 32, 16, 5, 7, 4, 16, 21, 24, 1, 51, 21, 24, 9, 4, 11, 6, 22, 29], \"yaxis\": \"y\"}, {\"alignmentgroup\": \"True\", \"hoverlabel\": {\"namelength\": 0}, \"hovertemplate\": \"Category=Vascular Plant<br>Park Name=%{x}<br>Count of Species=%{y}\", \"legendgroup\": \"Category=Vascular Plant\", \"marker\": {\"color\": \"#19d3f3\"}, \"name\": \"Category=Vascular Plant\", \"offsetgroup\": \"Category=Vascular Plant\", \"orientation\": \"v\", \"showlegend\": true, \"textposition\": \"auto\", \"type\": \"bar\", \"x\": [\"Acadia \", \"Arches \", \"Badlands \", \"Big Bend \", \"Biscayne \", \"Black Canyon of the Gunnison \", \"Bryce Canyon \", \"Canyonlands \", \"Capitol Reef \", \"Carlsbad Caverns \", \"Channel Islands \", \"Congaree \", \"Crater Lake \", \"Cuyahoga Valley \", \"Death Valley \", \"Denali \", \"Dry Tortugas \", \"Everglades \", \"Gates Of The Arctic \", \"Glacier \", \"Glacier Bay \", \"Grand Canyon \", \"Grand Teton \", \"Great Basin \", \"Great Sand Dunes \", \"Great Smoky Mountains \", \"Guadalupe Mountains \", \"Haleakala \", \"Hawaii Volcanoes \", \"Hot Springs \", \"Isle Royale \", \"Joshua Tree \", \"Katmai \", \"Kenai Fjords \", \"Kobuk Valley \", \"Lake Clark \", \"Lassen Volcanic \", \"Mammoth Cave \", \"Mesa Verde \", \"Mount Rainier \", \"North Cascades \", \"Olympic \", \"Petrified Forest \", \"Pinnacles \", \"Redwood \", \"Rocky Mountain \", \"Saguaro \", \"Sequoia and Kings Canyon \", \"Shenandoah \", \"Theodore Roosevelt \", \"Voyageurs \", \"Wind Cave \", \"Wrangell - St Elias \", \"Yellowstone \", \"Yosemite \", \"Zion \"], \"xaxis\": \"x\", \"y\": [871, 499, 497, 1361, 443, 475, 558, 557, 841, 941, 810, 855, 897, 1161, 984, 797, 155, 1029, 563, 1169, 531, 1737, 1375, 704, 591, 1619, 1016, 799, 914, 391, 808, 499, 537, 403, 401, 736, 765, 1272, 818, 909, 1195, 864, 451, 633, 1029, 1070, 1235, 1492, 1408, 579, 790, 593, 1119, 1344, 1508, 995], \"yaxis\": \"y\"}, {\"alignmentgroup\": \"True\", \"hoverlabel\": {\"namelength\": 0}, \"hovertemplate\": \"Category=Fungi<br>Park Name=%{x}<br>Count of Species=%{y}\", \"legendgroup\": \"Category=Fungi\", \"marker\": {\"color\": \"#FF6692\"}, \"name\": \"Category=Fungi\", \"offsetgroup\": \"Category=Fungi\", \"orientation\": \"v\", \"showlegend\": true, \"textposition\": \"auto\", \"type\": \"bar\", \"x\": [\"Badlands \", \"Congaree \", \"Glacier \", \"Glacier Bay \", \"Great Basin \", \"Great Smoky Mountains \", \"Guadalupe Mountains \", \"Haleakala \", \"Hawaii Volcanoes \", \"Joshua Tree \", \"Katmai \", \"Kenai Fjords \", \"Mount Rainier \", \"North Cascades \", \"Petrified Forest \", \"Pinnacles \", \"Rocky Mountain \", \"Saguaro \", \"Shenandoah \", \"Theodore Roosevelt \", \"Voyageurs \", \"Wind Cave \", \"Yellowstone \"], \"xaxis\": \"x\", \"y\": [49, 277, 276, 2, 1, 606, 65, 64, 7, 12, 4, 2, 1, 539, 1, 27, 298, 1, 712, 1, 3, 43, 10], \"yaxis\": \"y\"}, {\"alignmentgroup\": \"True\", \"hoverlabel\": {\"namelength\": 0}, \"hovertemplate\": \"Category=Insect<br>Park Name=%{x}<br>Count of Species=%{y}\", \"legendgroup\": \"Category=Insect\", \"marker\": {\"color\": \"#B6E880\"}, \"name\": \"Category=Insect\", \"offsetgroup\": \"Category=Insect\", \"orientation\": \"v\", \"showlegend\": true, \"textposition\": \"auto\", \"type\": \"bar\", \"x\": [\"Badlands \", \"Biscayne \", \"Channel Islands \", \"Congaree \", \"Cuyahoga Valley \", \"Death Valley \", \"Glacier \", \"Glacier Bay \", \"Grand Canyon \", \"Grand Teton \", \"Great Sand Dunes \", \"Great Smoky Mountains \", \"Guadalupe Mountains \", \"Haleakala \", \"Hawaii Volcanoes \", \"Hot Springs \", \"Katmai \", \"Kenai Fjords \", \"Lake Clark \", \"Mammoth Cave \", \"Mount Rainier \", \"North Cascades \", \"Olympic \", \"Pinnacles \", \"Rocky Mountain \", \"Shenandoah \", \"Theodore Roosevelt \", \"Voyageurs \", \"Wind Cave \", \"Wrangell - St Elias \", \"Yellowstone \"], \"xaxis\": \"x\", \"y\": [93, 11, 2, 474, 211, 6, 191, 34, 56, 151, 1, 646, 80, 863, 1264, 12, 2, 2, 3, 270, 46, 549, 87, 323, 587, 165, 42, 32, 100, 58, 1559], \"yaxis\": \"y\"}, {\"alignmentgroup\": \"True\", \"hoverlabel\": {\"namelength\": 0}, \"hovertemplate\": \"Category=Invertebrate<br>Park Name=%{x}<br>Count of Species=%{y}\", \"legendgroup\": \"Category=Invertebrate\", \"marker\": {\"color\": \"#FF97FF\"}, \"name\": \"Category=Invertebrate\", \"offsetgroup\": \"Category=Invertebrate\", \"orientation\": \"v\", \"showlegend\": true, \"textposition\": \"auto\", \"type\": \"bar\", \"x\": [\"Badlands \", \"Biscayne \", \"Channel Islands \", \"Congaree \", \"Cuyahoga Valley \", \"Dry Tortugas \", \"Glacier \", \"Glacier Bay \", \"Grand Canyon \", \"Grand Teton \", \"Great Smoky Mountains \", \"Guadalupe Mountains \", \"Haleakala \", \"Hawaii Volcanoes \", \"Hot Springs \", \"Isle Royale \", \"Katmai \", \"Kenai Fjords \", \"Lake Clark \", \"Lassen Volcanic \", \"Mammoth Cave \", \"Pinnacles \", \"Rocky Mountain \", \"Theodore Roosevelt \", \"Voyageurs \", \"Wrangell - St Elias \", \"Yellowstone \"], \"xaxis\": \"x\", \"y\": [1, 34, 196, 13, 12, 42, 2, 74, 1, 5, 7, 3, 30, 165, 22, 21, 23, 30, 5, 8, 54, 31, 48, 3, 7, 1, 54], \"yaxis\": \"y\"}, {\"alignmentgroup\": \"True\", \"hoverlabel\": {\"namelength\": 0}, \"hovertemplate\": \"Category=Spider/Scorpion<br>Park Name=%{x}<br>Count of Species=%{y}\", \"legendgroup\": \"Category=Spider/Scorpion\", \"marker\": {\"color\": \"#FECB52\"}, \"name\": \"Category=Spider/Scorpion\", \"offsetgroup\": \"Category=Spider/Scorpion\", \"orientation\": \"v\", \"showlegend\": true, \"textposition\": \"auto\", \"type\": \"bar\", \"x\": [\"Badlands \", \"Channel Islands \", \"Congaree \", \"Cuyahoga Valley \", \"Glacier Bay \", \"Grand Canyon \", \"Grand Teton \", \"Great Smoky Mountains \", \"Haleakala \", \"Hawaii Volcanoes \", \"Mammoth Cave \", \"North Cascades \", \"Pinnacles \", \"Rocky Mountain \", \"Shenandoah \", \"Yellowstone \"], \"xaxis\": \"x\", \"y\": [1, 1, 21, 2, 3, 142, 1, 24, 43, 86, 2, 32, 10, 22, 4, 40], \"yaxis\": \"y\"}, {\"alignmentgroup\": \"True\", \"hoverlabel\": {\"namelength\": 0}, \"hovertemplate\": \"Category=Nonvascular Plant<br>Park Name=%{x}<br>Count of Species=%{y}\", \"legendgroup\": \"Category=Nonvascular Plant\", \"marker\": {\"color\": \"#636efa\"}, \"name\": \"Category=Nonvascular Plant\", \"offsetgroup\": \"Category=Nonvascular Plant\", \"orientation\": \"v\", \"showlegend\": true, \"textposition\": \"auto\", \"type\": \"bar\", \"x\": [\"Big Bend \", \"Channel Islands \", \"Congaree \", \"Crater Lake \", \"Glacier \", \"Glacier Bay \", \"Great Sand Dunes \", \"Great Smoky Mountains \", \"Guadalupe Mountains \", \"Haleakala \", \"Hawaii Volcanoes \", \"Hot Springs \", \"Isle Royale \", \"Katmai \", \"Lake Clark \", \"Mammoth Cave \", \"Mount Rainier \", \"North Cascades \", \"Petrified Forest \", \"Rocky Mountain \", \"Shenandoah \", \"Theodore Roosevelt \", \"Voyageurs \", \"Wrangell - St Elias \"], \"xaxis\": \"x\", \"y\": [47, 68, 7, 1, 399, 49, 1, 528, 2, 170, 118, 18, 1, 2, 1, 1, 186, 385, 1, 415, 1, 61, 11, 7], \"yaxis\": \"y\"}, {\"alignmentgroup\": \"True\", \"hoverlabel\": {\"namelength\": 0}, \"hovertemplate\": \"Category=Algae<br>Park Name=%{x}<br>Count of Species=%{y}\", \"legendgroup\": \"Category=Algae\", \"marker\": {\"color\": \"#EF553B\"}, \"name\": \"Category=Algae\", \"offsetgroup\": \"Category=Algae\", \"orientation\": \"v\", \"showlegend\": true, \"textposition\": \"auto\", \"type\": \"bar\", \"x\": [\"Channel Islands \", \"Congaree \", \"Glacier \", \"Glacier Bay \", \"Hot Springs \", \"Rocky Mountain \", \"Yellowstone \"], \"xaxis\": \"x\", \"y\": [61, 74, 2, 57, 24, 150, 1], \"yaxis\": \"y\"}, {\"alignmentgroup\": \"True\", \"hoverlabel\": {\"namelength\": 0}, \"hovertemplate\": \"Category=Crab/Lobster/Shrimp<br>Park Name=%{x}<br>Count of Species=%{y}\", \"legendgroup\": \"Category=Crab/Lobster/Shrimp\", \"marker\": {\"color\": \"#00cc96\"}, \"name\": \"Category=Crab/Lobster/Shrimp\", \"offsetgroup\": \"Category=Crab/Lobster/Shrimp\", \"orientation\": \"v\", \"showlegend\": true, \"textposition\": \"auto\", \"type\": \"bar\", \"x\": [\"Channel Islands \", \"Congaree \", \"Cuyahoga Valley \", \"Glacier \", \"Glacier Bay \", \"Grand Teton \", \"Great Smoky Mountains \", \"Guadalupe Mountains \", \"Haleakala \", \"Hawaii Volcanoes \", \"Hot Springs \", \"Isle Royale \", \"Lake Clark \", \"Mammoth Cave \", \"Pinnacles \", \"Rocky Mountain \", \"Shenandoah \", \"Theodore Roosevelt \", \"Yellowstone \"], \"xaxis\": \"x\", \"y\": [11, 6, 7, 6, 87, 1, 1, 4, 15, 56, 8, 14, 1, 1, 8, 39, 1, 1, 45], \"yaxis\": \"y\"}, {\"alignmentgroup\": \"True\", \"hoverlabel\": {\"namelength\": 0}, \"hovertemplate\": \"Category=Slug/Snail<br>Park Name=%{x}<br>Count of Species=%{y}\", \"legendgroup\": \"Category=Slug/Snail\", \"marker\": {\"color\": \"#ab63fa\"}, \"name\": \"Category=Slug/Snail\", \"offsetgroup\": \"Category=Slug/Snail\", \"orientation\": \"v\", \"showlegend\": true, \"textposition\": \"auto\", \"type\": \"bar\", \"x\": [\"Channel Islands \", \"Congaree \", \"Cuyahoga Valley \", \"Glacier \", \"Glacier Bay \", \"Grand Canyon \", \"Grand Teton \", \"Great Smoky Mountains \", \"Guadalupe Mountains \", \"Haleakala \", \"Hawaii Volcanoes \", \"Hot Springs \", \"Katmai \", \"Kenai Fjords \", \"Pinnacles \", \"Rocky Mountain \", \"Theodore Roosevelt \", \"Wind Cave \", \"Wrangell - St Elias \", \"Yellowstone \"], \"xaxis\": \"x\", \"y\": [33, 20, 11, 20, 25, 2, 4, 31, 47, 36, 44, 2, 6, 3, 11, 10, 2, 25, 1, 45], \"yaxis\": \"y\"}],\n",
              "                        {\"barmode\": \"relative\", \"legend\": {\"tracegroupgap\": 0}, \"template\": {\"data\": {\"bar\": [{\"error_x\": {\"color\": \"#2a3f5f\"}, \"error_y\": {\"color\": \"#2a3f5f\"}, \"marker\": {\"line\": {\"color\": \"#E5ECF6\", \"width\": 0.5}}, \"type\": \"bar\"}], \"barpolar\": [{\"marker\": {\"line\": {\"color\": \"#E5ECF6\", \"width\": 0.5}}, \"type\": \"barpolar\"}], \"carpet\": [{\"aaxis\": {\"endlinecolor\": \"#2a3f5f\", \"gridcolor\": \"white\", \"linecolor\": \"white\", \"minorgridcolor\": \"white\", \"startlinecolor\": \"#2a3f5f\"}, \"baxis\": {\"endlinecolor\": \"#2a3f5f\", \"gridcolor\": \"white\", \"linecolor\": \"white\", \"minorgridcolor\": \"white\", \"startlinecolor\": \"#2a3f5f\"}, \"type\": \"carpet\"}], \"choropleth\": [{\"colorbar\": {\"outlinewidth\": 0, \"ticks\": \"\"}, \"type\": \"choropleth\"}], \"contour\": [{\"colorbar\": {\"outlinewidth\": 0, \"ticks\": \"\"}, \"colorscale\": [[0.0, \"#0d0887\"], [0.1111111111111111, \"#46039f\"], [0.2222222222222222, \"#7201a8\"], [0.3333333333333333, \"#9c179e\"], [0.4444444444444444, \"#bd3786\"], [0.5555555555555556, \"#d8576b\"], [0.6666666666666666, \"#ed7953\"], [0.7777777777777778, \"#fb9f3a\"], [0.8888888888888888, \"#fdca26\"], [1.0, \"#f0f921\"]], \"type\": \"contour\"}], \"contourcarpet\": [{\"colorbar\": {\"outlinewidth\": 0, \"ticks\": \"\"}, \"type\": \"contourcarpet\"}], \"heatmap\": [{\"colorbar\": {\"outlinewidth\": 0, \"ticks\": \"\"}, \"colorscale\": [[0.0, \"#0d0887\"], [0.1111111111111111, \"#46039f\"], [0.2222222222222222, \"#7201a8\"], [0.3333333333333333, \"#9c179e\"], [0.4444444444444444, \"#bd3786\"], [0.5555555555555556, \"#d8576b\"], [0.6666666666666666, \"#ed7953\"], [0.7777777777777778, \"#fb9f3a\"], [0.8888888888888888, \"#fdca26\"], [1.0, \"#f0f921\"]], \"type\": \"heatmap\"}], \"heatmapgl\": [{\"colorbar\": {\"outlinewidth\": 0, \"ticks\": \"\"}, \"colorscale\": [[0.0, \"#0d0887\"], [0.1111111111111111, \"#46039f\"], [0.2222222222222222, \"#7201a8\"], [0.3333333333333333, \"#9c179e\"], [0.4444444444444444, \"#bd3786\"], [0.5555555555555556, \"#d8576b\"], [0.6666666666666666, \"#ed7953\"], [0.7777777777777778, \"#fb9f3a\"], [0.8888888888888888, \"#fdca26\"], [1.0, \"#f0f921\"]], \"type\": \"heatmapgl\"}], \"histogram\": [{\"marker\": {\"colorbar\": {\"outlinewidth\": 0, \"ticks\": \"\"}}, \"type\": \"histogram\"}], \"histogram2d\": [{\"colorbar\": {\"outlinewidth\": 0, \"ticks\": \"\"}, \"colorscale\": [[0.0, \"#0d0887\"], [0.1111111111111111, \"#46039f\"], [0.2222222222222222, \"#7201a8\"], [0.3333333333333333, \"#9c179e\"], [0.4444444444444444, \"#bd3786\"], [0.5555555555555556, \"#d8576b\"], [0.6666666666666666, \"#ed7953\"], [0.7777777777777778, \"#fb9f3a\"], [0.8888888888888888, \"#fdca26\"], [1.0, \"#f0f921\"]], \"type\": \"histogram2d\"}], \"histogram2dcontour\": [{\"colorbar\": {\"outlinewidth\": 0, \"ticks\": \"\"}, \"colorscale\": [[0.0, \"#0d0887\"], [0.1111111111111111, \"#46039f\"], [0.2222222222222222, \"#7201a8\"], [0.3333333333333333, \"#9c179e\"], [0.4444444444444444, \"#bd3786\"], [0.5555555555555556, \"#d8576b\"], [0.6666666666666666, \"#ed7953\"], [0.7777777777777778, \"#fb9f3a\"], [0.8888888888888888, \"#fdca26\"], [1.0, \"#f0f921\"]], \"type\": \"histogram2dcontour\"}], \"mesh3d\": [{\"colorbar\": {\"outlinewidth\": 0, \"ticks\": \"\"}, \"type\": \"mesh3d\"}], \"parcoords\": [{\"line\": {\"colorbar\": {\"outlinewidth\": 0, \"ticks\": \"\"}}, \"type\": \"parcoords\"}], \"pie\": [{\"automargin\": true, \"type\": \"pie\"}], \"scatter\": [{\"marker\": {\"colorbar\": {\"outlinewidth\": 0, \"ticks\": \"\"}}, \"type\": \"scatter\"}], \"scatter3d\": [{\"line\": {\"colorbar\": {\"outlinewidth\": 0, \"ticks\": \"\"}}, \"marker\": {\"colorbar\": {\"outlinewidth\": 0, \"ticks\": \"\"}}, \"type\": \"scatter3d\"}], \"scattercarpet\": [{\"marker\": {\"colorbar\": {\"outlinewidth\": 0, \"ticks\": \"\"}}, \"type\": \"scattercarpet\"}], \"scattergeo\": [{\"marker\": {\"colorbar\": {\"outlinewidth\": 0, \"ticks\": \"\"}}, \"type\": \"scattergeo\"}], \"scattergl\": [{\"marker\": {\"colorbar\": {\"outlinewidth\": 0, \"ticks\": \"\"}}, \"type\": \"scattergl\"}], \"scattermapbox\": [{\"marker\": {\"colorbar\": {\"outlinewidth\": 0, \"ticks\": \"\"}}, \"type\": \"scattermapbox\"}], \"scatterpolar\": [{\"marker\": {\"colorbar\": {\"outlinewidth\": 0, \"ticks\": \"\"}}, \"type\": \"scatterpolar\"}], \"scatterpolargl\": [{\"marker\": {\"colorbar\": {\"outlinewidth\": 0, \"ticks\": \"\"}}, \"type\": \"scatterpolargl\"}], \"scatterternary\": [{\"marker\": {\"colorbar\": {\"outlinewidth\": 0, \"ticks\": \"\"}}, \"type\": \"scatterternary\"}], \"surface\": [{\"colorbar\": {\"outlinewidth\": 0, \"ticks\": \"\"}, \"colorscale\": [[0.0, \"#0d0887\"], [0.1111111111111111, \"#46039f\"], [0.2222222222222222, \"#7201a8\"], [0.3333333333333333, \"#9c179e\"], [0.4444444444444444, \"#bd3786\"], [0.5555555555555556, \"#d8576b\"], [0.6666666666666666, \"#ed7953\"], [0.7777777777777778, \"#fb9f3a\"], [0.8888888888888888, \"#fdca26\"], [1.0, \"#f0f921\"]], \"type\": \"surface\"}], \"table\": [{\"cells\": {\"fill\": {\"color\": \"#EBF0F8\"}, \"line\": {\"color\": \"white\"}}, \"header\": {\"fill\": {\"color\": \"#C8D4E3\"}, \"line\": {\"color\": \"white\"}}, \"type\": \"table\"}]}, \"layout\": {\"annotationdefaults\": {\"arrowcolor\": \"#2a3f5f\", \"arrowhead\": 0, \"arrowwidth\": 1}, \"coloraxis\": {\"colorbar\": {\"outlinewidth\": 0, \"ticks\": \"\"}}, \"colorscale\": {\"diverging\": [[0, \"#8e0152\"], [0.1, \"#c51b7d\"], [0.2, \"#de77ae\"], [0.3, \"#f1b6da\"], [0.4, \"#fde0ef\"], [0.5, \"#f7f7f7\"], [0.6, \"#e6f5d0\"], [0.7, \"#b8e186\"], [0.8, \"#7fbc41\"], [0.9, \"#4d9221\"], [1, \"#276419\"]], \"sequential\": [[0.0, \"#0d0887\"], [0.1111111111111111, \"#46039f\"], [0.2222222222222222, \"#7201a8\"], [0.3333333333333333, \"#9c179e\"], [0.4444444444444444, \"#bd3786\"], [0.5555555555555556, \"#d8576b\"], [0.6666666666666666, \"#ed7953\"], [0.7777777777777778, \"#fb9f3a\"], [0.8888888888888888, \"#fdca26\"], [1.0, \"#f0f921\"]], \"sequentialminus\": [[0.0, \"#0d0887\"], [0.1111111111111111, \"#46039f\"], [0.2222222222222222, \"#7201a8\"], [0.3333333333333333, \"#9c179e\"], [0.4444444444444444, \"#bd3786\"], [0.5555555555555556, \"#d8576b\"], [0.6666666666666666, \"#ed7953\"], [0.7777777777777778, \"#fb9f3a\"], [0.8888888888888888, \"#fdca26\"], [1.0, \"#f0f921\"]]}, \"colorway\": [\"#636efa\", \"#EF553B\", \"#00cc96\", \"#ab63fa\", \"#FFA15A\", \"#19d3f3\", \"#FF6692\", \"#B6E880\", \"#FF97FF\", \"#FECB52\"], \"font\": {\"color\": \"#2a3f5f\"}, \"geo\": {\"bgcolor\": \"white\", \"lakecolor\": \"white\", \"landcolor\": \"#E5ECF6\", \"showlakes\": true, \"showland\": true, \"subunitcolor\": \"white\"}, \"hoverlabel\": {\"align\": \"left\"}, \"hovermode\": \"closest\", \"mapbox\": {\"style\": \"light\"}, \"paper_bgcolor\": \"white\", \"plot_bgcolor\": \"#E5ECF6\", \"polar\": {\"angularaxis\": {\"gridcolor\": \"white\", \"linecolor\": \"white\", \"ticks\": \"\"}, \"bgcolor\": \"#E5ECF6\", \"radialaxis\": {\"gridcolor\": \"white\", \"linecolor\": \"white\", \"ticks\": \"\"}}, \"scene\": {\"xaxis\": {\"backgroundcolor\": \"#E5ECF6\", \"gridcolor\": \"white\", \"gridwidth\": 2, \"linecolor\": \"white\", \"showbackground\": true, \"ticks\": \"\", \"zerolinecolor\": \"white\"}, \"yaxis\": {\"backgroundcolor\": \"#E5ECF6\", \"gridcolor\": \"white\", \"gridwidth\": 2, \"linecolor\": \"white\", \"showbackground\": true, \"ticks\": \"\", \"zerolinecolor\": \"white\"}, \"zaxis\": {\"backgroundcolor\": \"#E5ECF6\", \"gridcolor\": \"white\", \"gridwidth\": 2, \"linecolor\": \"white\", \"showbackground\": true, \"ticks\": \"\", \"zerolinecolor\": \"white\"}}, \"shapedefaults\": {\"line\": {\"color\": \"#2a3f5f\"}}, \"ternary\": {\"aaxis\": {\"gridcolor\": \"white\", \"linecolor\": \"white\", \"ticks\": \"\"}, \"baxis\": {\"gridcolor\": \"white\", \"linecolor\": \"white\", \"ticks\": \"\"}, \"bgcolor\": \"#E5ECF6\", \"caxis\": {\"gridcolor\": \"white\", \"linecolor\": \"white\", \"ticks\": \"\"}}, \"title\": {\"x\": 0.05}, \"xaxis\": {\"automargin\": true, \"gridcolor\": \"white\", \"linecolor\": \"white\", \"ticks\": \"\", \"title\": {\"standoff\": 15}, \"zerolinecolor\": \"white\", \"zerolinewidth\": 2}, \"yaxis\": {\"automargin\": true, \"gridcolor\": \"white\", \"linecolor\": \"white\", \"ticks\": \"\", \"title\": {\"standoff\": 15}, \"zerolinecolor\": \"white\", \"zerolinewidth\": 2}}}, \"title\": {\"text\": \"Count of species by category\"}, \"xaxis\": {\"anchor\": \"y\", \"domain\": [0.0, 1.0], \"title\": {\"text\": \"Park Name\"}}, \"yaxis\": {\"anchor\": \"x\", \"domain\": [0.0, 1.0], \"title\": {\"text\": \"Count of Species\"}}},\n",
              "                        {\"responsive\": true}\n",
              "                    ).then(function(){\n",
              "                            \n",
              "var gd = document.getElementById('949045f6-b4bb-4267-89be-3c3b2cd28036');\n",
              "var x = new MutationObserver(function (mutations, observer) {{\n",
              "        var display = window.getComputedStyle(gd).display;\n",
              "        if (!display || display === 'none') {{\n",
              "            console.log([gd, 'removed!']);\n",
              "            Plotly.purge(gd);\n",
              "            observer.disconnect();\n",
              "        }}\n",
              "}});\n",
              "\n",
              "// Listen for the removal of the full notebook cells\n",
              "var notebookContainer = gd.closest('#notebook-container');\n",
              "if (notebookContainer) {{\n",
              "    x.observe(notebookContainer, {childList: true});\n",
              "}}\n",
              "\n",
              "// Listen for the clearing of the current output cell\n",
              "var outputEl = gd.closest('.output');\n",
              "if (outputEl) {{\n",
              "    x.observe(outputEl, {childList: true});\n",
              "}}\n",
              "\n",
              "                        })\n",
              "                };\n",
              "                \n",
              "            </script>\n",
              "        </div>\n",
              "</body>\n",
              "</html>"
            ]
          },
          "metadata": {}
        }
      ]
    },
    {
      "cell_type": "markdown",
      "source": [
        "The particular insight of this graph is the midlle area as we are able to identify that vascular plants are the most dominant category acress the parks."
      ],
      "metadata": {
        "id": "DoptK3LHtas5"
      }
    },
    {
      "cell_type": "markdown",
      "metadata": {
        "id": "OsOBQgYbgt7w"
      },
      "source": [
        "Determine animal vs plants population"
      ]
    },
    {
      "cell_type": "code",
      "metadata": {
        "id": "gamJU93Lzgad",
        "colab": {
          "base_uri": "https://localhost:8080/",
          "height": 542
        },
        "outputId": "4bafee78-68cf-4de7-cacb-f0c5067b96ab"
      },
      "source": [
        "plants_vs_animals = species[[\"Park Name\", \"Category\"]]\n",
        "plants_vs_animals = plants_vs_animals.groupby([ \"Park Name\", \"Category\"]).size()\n",
        "plants_vs_animals = plants_vs_animals.unstack().fillna(0)\n",
        "\n",
        "plants_vs_animals[\"Plants\"] = plants_vs_animals[[\"Algae\", \"Fungi\", \"Nonvascular Plant\", \"Vascular Plant\"]].sum(axis=1)\n",
        "plants_vs_animals[\"Animals\"] = plants_vs_animals[[\"Amphibian\", \"Bird\", \"Crab/Lobster/Shrimp\", \"Fish\", \"Insect\", \"Invertebrate\", \"Mammal\", \"Reptile\", \"Slug/Snail\", \"Spider/Scorpion\"]].sum(axis=1)\n",
        "\n",
        "plants_vs_animals = plants_vs_animals[[\"Plants\", \"Animals\"]].reset_index()\n",
        "plants_vs_animals_melted = pd.melt(plants_vs_animals, id_vars='Park Name', )\n",
        "plants_vs_animals_melted\n",
        "\n",
        "fig = px.bar(plants_vs_animals_melted, x=\"Park Name\", y=\"value\", color=\"Category\", barmode='group', labels={'value':'Count of Species'})\n",
        "fig.show()"
      ],
      "execution_count": 209,
      "outputs": [
        {
          "output_type": "display_data",
          "data": {
            "text/html": [
              "<html>\n",
              "<head><meta charset=\"utf-8\" /></head>\n",
              "<body>\n",
              "    <div>\n",
              "            <script src=\"https://cdnjs.cloudflare.com/ajax/libs/mathjax/2.7.5/MathJax.js?config=TeX-AMS-MML_SVG\"></script><script type=\"text/javascript\">if (window.MathJax) {MathJax.Hub.Config({SVG: {font: \"STIX-Web\"}});}</script>\n",
              "                <script type=\"text/javascript\">window.PlotlyConfig = {MathJaxConfig: 'local'};</script>\n",
              "        <script src=\"https://cdn.plot.ly/plotly-latest.min.js\"></script>    \n",
              "            <div id=\"487b9a91-0487-4a80-a7d4-614623688402\" class=\"plotly-graph-div\" style=\"height:525px; width:100%;\"></div>\n",
              "            <script type=\"text/javascript\">\n",
              "                \n",
              "                    window.PLOTLYENV=window.PLOTLYENV || {};\n",
              "                    \n",
              "                if (document.getElementById(\"487b9a91-0487-4a80-a7d4-614623688402\")) {\n",
              "                    Plotly.newPlot(\n",
              "                        '487b9a91-0487-4a80-a7d4-614623688402',\n",
              "                        [{\"alignmentgroup\": \"True\", \"hoverlabel\": {\"namelength\": 0}, \"hovertemplate\": \"Category=Plants<br>Park Name=%{x}<br>Count of Species=%{y}\", \"legendgroup\": \"Category=Plants\", \"marker\": {\"color\": \"#636efa\"}, \"name\": \"Category=Plants\", \"offsetgroup\": \"Category=Plants\", \"orientation\": \"v\", \"showlegend\": true, \"textposition\": \"auto\", \"type\": \"bar\", \"x\": [\"Acadia \", \"Arches \", \"Badlands \", \"Big Bend \", \"Biscayne \", \"Black Canyon of the Gunnison \", \"Bryce Canyon \", \"Canyonlands \", \"Capitol Reef \", \"Carlsbad Caverns \", \"Channel Islands \", \"Congaree \", \"Crater Lake \", \"Cuyahoga Valley \", \"Death Valley \", \"Denali \", \"Dry Tortugas \", \"Everglades \", \"Gates Of The Arctic \", \"Glacier \", \"Glacier Bay \", \"Grand Canyon \", \"Grand Teton \", \"Great Basin \", \"Great Sand Dunes \", \"Great Smoky Mountains \", \"Guadalupe Mountains \", \"Haleakala \", \"Hawaii Volcanoes \", \"Hot Springs \", \"Isle Royale \", \"Joshua Tree \", \"Katmai \", \"Kenai Fjords \", \"Kobuk Valley \", \"Lake Clark \", \"Lassen Volcanic \", \"Mammoth Cave \", \"Mesa Verde \", \"Mount Rainier \", \"North Cascades \", \"Olympic \", \"Petrified Forest \", \"Pinnacles \", \"Redwood \", \"Rocky Mountain \", \"Saguaro \", \"Sequoia and Kings Canyon \", \"Shenandoah \", \"Theodore Roosevelt \", \"Voyageurs \", \"Wind Cave \", \"Wrangell - St Elias \", \"Yellowstone \", \"Yosemite \", \"Zion \"], \"xaxis\": \"x\", \"y\": [871.0, 499.0, 546.0, 1408.0, 443.0, 475.0, 558.0, 557.0, 841.0, 941.0, 939.0, 1213.0, 898.0, 1161.0, 984.0, 797.0, 155.0, 1029.0, 563.0, 1846.0, 639.0, 1737.0, 1375.0, 705.0, 592.0, 2753.0, 1083.0, 1033.0, 1039.0, 433.0, 809.0, 511.0, 543.0, 405.0, 401.0, 737.0, 765.0, 1273.0, 818.0, 1096.0, 2119.0, 864.0, 453.0, 660.0, 1029.0, 1933.0, 1236.0, 1492.0, 2121.0, 641.0, 804.0, 636.0, 1126.0, 1355.0, 1508.0, 995.0], \"yaxis\": \"y\"}, {\"alignmentgroup\": \"True\", \"hoverlabel\": {\"namelength\": 0}, \"hovertemplate\": \"Category=Animals<br>Park Name=%{x}<br>Count of Species=%{y}\", \"legendgroup\": \"Category=Animals\", \"marker\": {\"color\": \"#EF553B\"}, \"name\": \"Category=Animals\", \"offsetgroup\": \"Category=Animals\", \"orientation\": \"v\", \"showlegend\": true, \"textposition\": \"auto\", \"type\": \"bar\", \"x\": [\"Acadia \", \"Arches \", \"Badlands \", \"Big Bend \", \"Biscayne \", \"Black Canyon of the Gunnison \", \"Bryce Canyon \", \"Canyonlands \", \"Capitol Reef \", \"Carlsbad Caverns \", \"Channel Islands \", \"Congaree \", \"Crater Lake \", \"Cuyahoga Valley \", \"Death Valley \", \"Denali \", \"Dry Tortugas \", \"Everglades \", \"Gates Of The Arctic \", \"Glacier \", \"Glacier Bay \", \"Grand Canyon \", \"Grand Teton \", \"Great Basin \", \"Great Sand Dunes \", \"Great Smoky Mountains \", \"Guadalupe Mountains \", \"Haleakala \", \"Hawaii Volcanoes \", \"Hot Springs \", \"Isle Royale \", \"Joshua Tree \", \"Katmai \", \"Kenai Fjords \", \"Kobuk Valley \", \"Lake Clark \", \"Lassen Volcanic \", \"Mammoth Cave \", \"Mesa Verde \", \"Mount Rainier \", \"North Cascades \", \"Olympic \", \"Petrified Forest \", \"Pinnacles \", \"Redwood \", \"Rocky Mountain \", \"Saguaro \", \"Sequoia and Kings Canyon \", \"Shenandoah \", \"Theodore Roosevelt \", \"Voyageurs \", \"Wind Cave \", \"Wrangell - St Elias \", \"Yellowstone \", \"Yosemite \", \"Zion \"], \"xaxis\": \"x\", \"y\": [302.0, 251.0, 364.0, 603.0, 888.0, 214.0, 232.0, 309.0, 322.0, 486.0, 908.0, 884.0, 225.0, 626.0, 488.0, 205.0, 590.0, 764.0, 161.0, 556.0, 611.0, 828.0, 428.0, 262.0, 261.0, 1135.0, 498.0, 1055.0, 1710.0, 247.0, 360.0, 351.0, 256.0, 240.0, 154.0, 247.0, 255.0, 668.0, 294.0, 285.0, 910.0, 503.0, 281.0, 621.0, 508.0, 1036.0, 343.0, 327.0, 510.0, 290.0, 381.0, 423.0, 385.0, 2126.0, 397.0, 322.0], \"yaxis\": \"y\"}],\n",
              "                        {\"barmode\": \"group\", \"legend\": {\"tracegroupgap\": 0}, \"margin\": {\"t\": 60}, \"template\": {\"data\": {\"bar\": [{\"error_x\": {\"color\": \"#2a3f5f\"}, \"error_y\": {\"color\": \"#2a3f5f\"}, \"marker\": {\"line\": {\"color\": \"#E5ECF6\", \"width\": 0.5}}, \"type\": \"bar\"}], \"barpolar\": [{\"marker\": {\"line\": {\"color\": \"#E5ECF6\", \"width\": 0.5}}, \"type\": \"barpolar\"}], \"carpet\": [{\"aaxis\": {\"endlinecolor\": \"#2a3f5f\", \"gridcolor\": \"white\", \"linecolor\": \"white\", \"minorgridcolor\": \"white\", \"startlinecolor\": \"#2a3f5f\"}, \"baxis\": {\"endlinecolor\": \"#2a3f5f\", \"gridcolor\": \"white\", \"linecolor\": \"white\", \"minorgridcolor\": \"white\", \"startlinecolor\": \"#2a3f5f\"}, \"type\": \"carpet\"}], \"choropleth\": [{\"colorbar\": {\"outlinewidth\": 0, \"ticks\": \"\"}, \"type\": \"choropleth\"}], \"contour\": [{\"colorbar\": {\"outlinewidth\": 0, \"ticks\": \"\"}, \"colorscale\": [[0.0, \"#0d0887\"], [0.1111111111111111, \"#46039f\"], [0.2222222222222222, \"#7201a8\"], [0.3333333333333333, \"#9c179e\"], [0.4444444444444444, \"#bd3786\"], [0.5555555555555556, \"#d8576b\"], [0.6666666666666666, \"#ed7953\"], [0.7777777777777778, \"#fb9f3a\"], [0.8888888888888888, \"#fdca26\"], [1.0, \"#f0f921\"]], \"type\": \"contour\"}], \"contourcarpet\": [{\"colorbar\": {\"outlinewidth\": 0, \"ticks\": \"\"}, \"type\": \"contourcarpet\"}], \"heatmap\": [{\"colorbar\": {\"outlinewidth\": 0, \"ticks\": \"\"}, \"colorscale\": [[0.0, \"#0d0887\"], [0.1111111111111111, \"#46039f\"], [0.2222222222222222, \"#7201a8\"], [0.3333333333333333, \"#9c179e\"], [0.4444444444444444, \"#bd3786\"], [0.5555555555555556, \"#d8576b\"], [0.6666666666666666, \"#ed7953\"], [0.7777777777777778, \"#fb9f3a\"], [0.8888888888888888, \"#fdca26\"], [1.0, \"#f0f921\"]], \"type\": \"heatmap\"}], \"heatmapgl\": [{\"colorbar\": {\"outlinewidth\": 0, \"ticks\": \"\"}, \"colorscale\": [[0.0, \"#0d0887\"], [0.1111111111111111, \"#46039f\"], [0.2222222222222222, \"#7201a8\"], [0.3333333333333333, \"#9c179e\"], [0.4444444444444444, \"#bd3786\"], [0.5555555555555556, \"#d8576b\"], [0.6666666666666666, \"#ed7953\"], [0.7777777777777778, \"#fb9f3a\"], [0.8888888888888888, \"#fdca26\"], [1.0, \"#f0f921\"]], \"type\": \"heatmapgl\"}], \"histogram\": [{\"marker\": {\"colorbar\": {\"outlinewidth\": 0, \"ticks\": \"\"}}, \"type\": \"histogram\"}], \"histogram2d\": [{\"colorbar\": {\"outlinewidth\": 0, \"ticks\": \"\"}, \"colorscale\": [[0.0, \"#0d0887\"], [0.1111111111111111, \"#46039f\"], [0.2222222222222222, \"#7201a8\"], [0.3333333333333333, \"#9c179e\"], [0.4444444444444444, \"#bd3786\"], [0.5555555555555556, \"#d8576b\"], [0.6666666666666666, \"#ed7953\"], [0.7777777777777778, \"#fb9f3a\"], [0.8888888888888888, \"#fdca26\"], [1.0, \"#f0f921\"]], \"type\": \"histogram2d\"}], \"histogram2dcontour\": [{\"colorbar\": {\"outlinewidth\": 0, \"ticks\": \"\"}, \"colorscale\": [[0.0, \"#0d0887\"], [0.1111111111111111, \"#46039f\"], [0.2222222222222222, \"#7201a8\"], [0.3333333333333333, \"#9c179e\"], [0.4444444444444444, \"#bd3786\"], [0.5555555555555556, \"#d8576b\"], [0.6666666666666666, \"#ed7953\"], [0.7777777777777778, \"#fb9f3a\"], [0.8888888888888888, \"#fdca26\"], [1.0, \"#f0f921\"]], \"type\": \"histogram2dcontour\"}], \"mesh3d\": [{\"colorbar\": {\"outlinewidth\": 0, \"ticks\": \"\"}, \"type\": \"mesh3d\"}], \"parcoords\": [{\"line\": {\"colorbar\": {\"outlinewidth\": 0, \"ticks\": \"\"}}, \"type\": \"parcoords\"}], \"pie\": [{\"automargin\": true, \"type\": \"pie\"}], \"scatter\": [{\"marker\": {\"colorbar\": {\"outlinewidth\": 0, \"ticks\": \"\"}}, \"type\": \"scatter\"}], \"scatter3d\": [{\"line\": {\"colorbar\": {\"outlinewidth\": 0, \"ticks\": \"\"}}, \"marker\": {\"colorbar\": {\"outlinewidth\": 0, \"ticks\": \"\"}}, \"type\": \"scatter3d\"}], \"scattercarpet\": [{\"marker\": {\"colorbar\": {\"outlinewidth\": 0, \"ticks\": \"\"}}, \"type\": \"scattercarpet\"}], \"scattergeo\": [{\"marker\": {\"colorbar\": {\"outlinewidth\": 0, \"ticks\": \"\"}}, \"type\": \"scattergeo\"}], \"scattergl\": [{\"marker\": {\"colorbar\": {\"outlinewidth\": 0, \"ticks\": \"\"}}, \"type\": \"scattergl\"}], \"scattermapbox\": [{\"marker\": {\"colorbar\": {\"outlinewidth\": 0, \"ticks\": \"\"}}, \"type\": \"scattermapbox\"}], \"scatterpolar\": [{\"marker\": {\"colorbar\": {\"outlinewidth\": 0, \"ticks\": \"\"}}, \"type\": \"scatterpolar\"}], \"scatterpolargl\": [{\"marker\": {\"colorbar\": {\"outlinewidth\": 0, \"ticks\": \"\"}}, \"type\": \"scatterpolargl\"}], \"scatterternary\": [{\"marker\": {\"colorbar\": {\"outlinewidth\": 0, \"ticks\": \"\"}}, \"type\": \"scatterternary\"}], \"surface\": [{\"colorbar\": {\"outlinewidth\": 0, \"ticks\": \"\"}, \"colorscale\": [[0.0, \"#0d0887\"], [0.1111111111111111, \"#46039f\"], [0.2222222222222222, \"#7201a8\"], [0.3333333333333333, \"#9c179e\"], [0.4444444444444444, \"#bd3786\"], [0.5555555555555556, \"#d8576b\"], [0.6666666666666666, \"#ed7953\"], [0.7777777777777778, \"#fb9f3a\"], [0.8888888888888888, \"#fdca26\"], [1.0, \"#f0f921\"]], \"type\": \"surface\"}], \"table\": [{\"cells\": {\"fill\": {\"color\": \"#EBF0F8\"}, \"line\": {\"color\": \"white\"}}, \"header\": {\"fill\": {\"color\": \"#C8D4E3\"}, \"line\": {\"color\": \"white\"}}, \"type\": \"table\"}]}, \"layout\": {\"annotationdefaults\": {\"arrowcolor\": \"#2a3f5f\", \"arrowhead\": 0, \"arrowwidth\": 1}, \"coloraxis\": {\"colorbar\": {\"outlinewidth\": 0, \"ticks\": \"\"}}, \"colorscale\": {\"diverging\": [[0, \"#8e0152\"], [0.1, \"#c51b7d\"], [0.2, \"#de77ae\"], [0.3, \"#f1b6da\"], [0.4, \"#fde0ef\"], [0.5, \"#f7f7f7\"], [0.6, \"#e6f5d0\"], [0.7, \"#b8e186\"], [0.8, \"#7fbc41\"], [0.9, \"#4d9221\"], [1, \"#276419\"]], \"sequential\": [[0.0, \"#0d0887\"], [0.1111111111111111, \"#46039f\"], [0.2222222222222222, \"#7201a8\"], [0.3333333333333333, \"#9c179e\"], [0.4444444444444444, \"#bd3786\"], [0.5555555555555556, \"#d8576b\"], [0.6666666666666666, \"#ed7953\"], [0.7777777777777778, \"#fb9f3a\"], [0.8888888888888888, \"#fdca26\"], [1.0, \"#f0f921\"]], \"sequentialminus\": [[0.0, \"#0d0887\"], [0.1111111111111111, \"#46039f\"], [0.2222222222222222, \"#7201a8\"], [0.3333333333333333, \"#9c179e\"], [0.4444444444444444, \"#bd3786\"], [0.5555555555555556, \"#d8576b\"], [0.6666666666666666, \"#ed7953\"], [0.7777777777777778, \"#fb9f3a\"], [0.8888888888888888, \"#fdca26\"], [1.0, \"#f0f921\"]]}, \"colorway\": [\"#636efa\", \"#EF553B\", \"#00cc96\", \"#ab63fa\", \"#FFA15A\", \"#19d3f3\", \"#FF6692\", \"#B6E880\", \"#FF97FF\", \"#FECB52\"], \"font\": {\"color\": \"#2a3f5f\"}, \"geo\": {\"bgcolor\": \"white\", \"lakecolor\": \"white\", \"landcolor\": \"#E5ECF6\", \"showlakes\": true, \"showland\": true, \"subunitcolor\": \"white\"}, \"hoverlabel\": {\"align\": \"left\"}, \"hovermode\": \"closest\", \"mapbox\": {\"style\": \"light\"}, \"paper_bgcolor\": \"white\", \"plot_bgcolor\": \"#E5ECF6\", \"polar\": {\"angularaxis\": {\"gridcolor\": \"white\", \"linecolor\": \"white\", \"ticks\": \"\"}, \"bgcolor\": \"#E5ECF6\", \"radialaxis\": {\"gridcolor\": \"white\", \"linecolor\": \"white\", \"ticks\": \"\"}}, \"scene\": {\"xaxis\": {\"backgroundcolor\": \"#E5ECF6\", \"gridcolor\": \"white\", \"gridwidth\": 2, \"linecolor\": \"white\", \"showbackground\": true, \"ticks\": \"\", \"zerolinecolor\": \"white\"}, \"yaxis\": {\"backgroundcolor\": \"#E5ECF6\", \"gridcolor\": \"white\", \"gridwidth\": 2, \"linecolor\": \"white\", \"showbackground\": true, \"ticks\": \"\", \"zerolinecolor\": \"white\"}, \"zaxis\": {\"backgroundcolor\": \"#E5ECF6\", \"gridcolor\": \"white\", \"gridwidth\": 2, \"linecolor\": \"white\", \"showbackground\": true, \"ticks\": \"\", \"zerolinecolor\": \"white\"}}, \"shapedefaults\": {\"line\": {\"color\": \"#2a3f5f\"}}, \"ternary\": {\"aaxis\": {\"gridcolor\": \"white\", \"linecolor\": \"white\", \"ticks\": \"\"}, \"baxis\": {\"gridcolor\": \"white\", \"linecolor\": \"white\", \"ticks\": \"\"}, \"bgcolor\": \"#E5ECF6\", \"caxis\": {\"gridcolor\": \"white\", \"linecolor\": \"white\", \"ticks\": \"\"}}, \"title\": {\"x\": 0.05}, \"xaxis\": {\"automargin\": true, \"gridcolor\": \"white\", \"linecolor\": \"white\", \"ticks\": \"\", \"title\": {\"standoff\": 15}, \"zerolinecolor\": \"white\", \"zerolinewidth\": 2}, \"yaxis\": {\"automargin\": true, \"gridcolor\": \"white\", \"linecolor\": \"white\", \"ticks\": \"\", \"title\": {\"standoff\": 15}, \"zerolinecolor\": \"white\", \"zerolinewidth\": 2}}}, \"xaxis\": {\"anchor\": \"y\", \"domain\": [0.0, 1.0], \"title\": {\"text\": \"Park Name\"}}, \"yaxis\": {\"anchor\": \"x\", \"domain\": [0.0, 1.0], \"title\": {\"text\": \"Count of Species\"}}},\n",
              "                        {\"responsive\": true}\n",
              "                    ).then(function(){\n",
              "                            \n",
              "var gd = document.getElementById('487b9a91-0487-4a80-a7d4-614623688402');\n",
              "var x = new MutationObserver(function (mutations, observer) {{\n",
              "        var display = window.getComputedStyle(gd).display;\n",
              "        if (!display || display === 'none') {{\n",
              "            console.log([gd, 'removed!']);\n",
              "            Plotly.purge(gd);\n",
              "            observer.disconnect();\n",
              "        }}\n",
              "}});\n",
              "\n",
              "// Listen for the removal of the full notebook cells\n",
              "var notebookContainer = gd.closest('#notebook-container');\n",
              "if (notebookContainer) {{\n",
              "    x.observe(notebookContainer, {childList: true});\n",
              "}}\n",
              "\n",
              "// Listen for the clearing of the current output cell\n",
              "var outputEl = gd.closest('.output');\n",
              "if (outputEl) {{\n",
              "    x.observe(outputEl, {childList: true});\n",
              "}}\n",
              "\n",
              "                        })\n",
              "                };\n",
              "                \n",
              "            </script>\n",
              "        </div>\n",
              "</body>\n",
              "</html>"
            ]
          },
          "metadata": {}
        }
      ]
    },
    {
      "cell_type": "markdown",
      "source": [
        "Not all the species are the same which is why it was of much importance to distinguish the animals from the plants and determine their population. In this graph we can clearly see that in most parks the plants are the predominant type. Although some exceptions are found such as the Hawaii volcanoes and Yellowstone."
      ],
      "metadata": {
        "id": "Mnwk-K2eLALa"
      }
    },
    {
      "cell_type": "markdown",
      "metadata": {
        "id": "dBx_Z-_RgtSR"
      },
      "source": [
        "Getting the percentage of animals in the entire population."
      ]
    },
    {
      "cell_type": "code",
      "metadata": {
        "id": "CDL0DoRr7nmO",
        "colab": {
          "base_uri": "https://localhost:8080/",
          "height": 542
        },
        "outputId": "bc05a130-9b8e-4a43-bbee-749084d12a0c"
      },
      "source": [
        "#determine what percentage of species in the park are animals \n",
        "percent_animals_vs_plants = plants_vs_animals\n",
        "percent_animals_vs_plants[\"Percent_Animals\"] = percent_animals_vs_plants[\"Animals\"] / (percent_animals_vs_plants[\"Plants\"] + percent_animals_vs_plants[\"Animals\"])\n",
        "percent_animals_vs_plants = percent_animals_vs_plants[[\"Park Name\", \"Percent_Animals\"]]\n",
        "percent_animals_vs_plants = percent_animals_vs_plants.sort_values(\"Percent_Animals\", ascending=False)\n",
        "\n",
        "fig = px.bar(percent_animals_vs_plants, x=\"Park Name\", y=\"Percent_Animals\", title=\"Proportion of Species in Each Park that are Animals\")\n",
        "fig.show()"
      ],
      "execution_count": 210,
      "outputs": [
        {
          "output_type": "display_data",
          "data": {
            "text/html": [
              "<html>\n",
              "<head><meta charset=\"utf-8\" /></head>\n",
              "<body>\n",
              "    <div>\n",
              "            <script src=\"https://cdnjs.cloudflare.com/ajax/libs/mathjax/2.7.5/MathJax.js?config=TeX-AMS-MML_SVG\"></script><script type=\"text/javascript\">if (window.MathJax) {MathJax.Hub.Config({SVG: {font: \"STIX-Web\"}});}</script>\n",
              "                <script type=\"text/javascript\">window.PlotlyConfig = {MathJaxConfig: 'local'};</script>\n",
              "        <script src=\"https://cdn.plot.ly/plotly-latest.min.js\"></script>    \n",
              "            <div id=\"ffa2bb27-8433-4c6b-8264-5ee588619c8f\" class=\"plotly-graph-div\" style=\"height:525px; width:100%;\"></div>\n",
              "            <script type=\"text/javascript\">\n",
              "                \n",
              "                    window.PLOTLYENV=window.PLOTLYENV || {};\n",
              "                    \n",
              "                if (document.getElementById(\"ffa2bb27-8433-4c6b-8264-5ee588619c8f\")) {\n",
              "                    Plotly.newPlot(\n",
              "                        'ffa2bb27-8433-4c6b-8264-5ee588619c8f',\n",
              "                        [{\"alignmentgroup\": \"True\", \"hoverlabel\": {\"namelength\": 0}, \"hovertemplate\": \"Park Name=%{x}<br>Percent_Animals=%{y}\", \"legendgroup\": \"\", \"marker\": {\"color\": \"#636efa\"}, \"name\": \"\", \"offsetgroup\": \"\", \"orientation\": \"v\", \"showlegend\": false, \"textposition\": \"auto\", \"type\": \"bar\", \"x\": [\"Dry Tortugas \", \"Biscayne \", \"Hawaii Volcanoes \", \"Yellowstone \", \"Haleakala \", \"Channel Islands \", \"Glacier Bay \", \"Pinnacles \", \"Everglades \", \"Congaree \", \"Joshua Tree \", \"Badlands \", \"Wind Cave \", \"Petrified Forest \", \"Kenai Fjords \", \"Olympic \", \"Hot Springs \", \"Canyonlands \", \"Cuyahoga Valley \", \"Rocky Mountain \", \"Mammoth Cave \", \"Carlsbad Caverns \", \"Arches \", \"Death Valley \", \"Redwood \", \"Grand Canyon \", \"Voyageurs \", \"Katmai \", \"Guadalupe Mountains \", \"Theodore Roosevelt \", \"Black Canyon of the Gunnison \", \"Isle Royale \", \"Great Sand Dunes \", \"North Cascades \", \"Big Bend \", \"Bryce Canyon \", \"Great Smoky Mountains \", \"Kobuk Valley \", \"Capitol Reef \", \"Great Basin \", \"Mesa Verde \", \"Acadia \", \"Wrangell - St Elias \", \"Lake Clark \", \"Lassen Volcanic \", \"Zion \", \"Grand Teton \", \"Glacier \", \"Gates Of The Arctic \", \"Saguaro \", \"Yosemite \", \"Mount Rainier \", \"Denali \", \"Crater Lake \", \"Shenandoah \", \"Sequoia and Kings Canyon \"], \"xaxis\": \"x\", \"y\": [0.7919463087248322, 0.667167543200601, 0.6220443797744635, 0.610744039069233, 0.5052681992337165, 0.4916080129940444, 0.4888, 0.4847775175644028, 0.42610150585610707, 0.4215546018121125, 0.4071925754060325, 0.4, 0.39943342776203966, 0.38283378746594005, 0.37209302325581395, 0.36795903438185806, 0.36323529411764705, 0.3568129330254042, 0.35030777839955235, 0.3489390367126979, 0.3441524987120041, 0.3405746320953048, 0.33466666666666667, 0.33152173913043476, 0.3305139882888744, 0.32280701754385965, 0.32151898734177214, 0.32040050062578224, 0.31499051233396586, 0.31149301825993553, 0.31059506531204645, 0.30795551753635586, 0.305978898007034, 0.30042918454935624, 0.29985082048731976, 0.2936708860759494, 0.2919238683127572, 0.2774774774774775, 0.2768701633705933, 0.27094105480868663, 0.2643884892086331, 0.257459505541347, 0.25479814692256786, 0.25101626016260165, 0.25, 0.24449506454062261, 0.23738214087631726, 0.231473771856786, 0.2223756906077348, 0.21722609246358454, 0.2083989501312336, 0.20637219406227372, 0.20459081836327345, 0.20035618878005343, 0.19384264538198404, 0.17976910390324355], \"yaxis\": \"y\"}],\n",
              "                        {\"barmode\": \"relative\", \"legend\": {\"tracegroupgap\": 0}, \"template\": {\"data\": {\"bar\": [{\"error_x\": {\"color\": \"#2a3f5f\"}, \"error_y\": {\"color\": \"#2a3f5f\"}, \"marker\": {\"line\": {\"color\": \"#E5ECF6\", \"width\": 0.5}}, \"type\": \"bar\"}], \"barpolar\": [{\"marker\": {\"line\": {\"color\": \"#E5ECF6\", \"width\": 0.5}}, \"type\": \"barpolar\"}], \"carpet\": [{\"aaxis\": {\"endlinecolor\": \"#2a3f5f\", \"gridcolor\": \"white\", \"linecolor\": \"white\", \"minorgridcolor\": \"white\", \"startlinecolor\": \"#2a3f5f\"}, \"baxis\": {\"endlinecolor\": \"#2a3f5f\", \"gridcolor\": \"white\", \"linecolor\": \"white\", \"minorgridcolor\": \"white\", \"startlinecolor\": \"#2a3f5f\"}, \"type\": \"carpet\"}], \"choropleth\": [{\"colorbar\": {\"outlinewidth\": 0, \"ticks\": \"\"}, \"type\": \"choropleth\"}], \"contour\": [{\"colorbar\": {\"outlinewidth\": 0, \"ticks\": \"\"}, \"colorscale\": [[0.0, \"#0d0887\"], [0.1111111111111111, \"#46039f\"], [0.2222222222222222, \"#7201a8\"], [0.3333333333333333, \"#9c179e\"], [0.4444444444444444, \"#bd3786\"], [0.5555555555555556, \"#d8576b\"], [0.6666666666666666, \"#ed7953\"], [0.7777777777777778, \"#fb9f3a\"], [0.8888888888888888, \"#fdca26\"], [1.0, \"#f0f921\"]], \"type\": \"contour\"}], \"contourcarpet\": [{\"colorbar\": {\"outlinewidth\": 0, \"ticks\": \"\"}, \"type\": \"contourcarpet\"}], \"heatmap\": [{\"colorbar\": {\"outlinewidth\": 0, \"ticks\": \"\"}, \"colorscale\": [[0.0, \"#0d0887\"], [0.1111111111111111, \"#46039f\"], [0.2222222222222222, \"#7201a8\"], [0.3333333333333333, \"#9c179e\"], [0.4444444444444444, \"#bd3786\"], [0.5555555555555556, \"#d8576b\"], [0.6666666666666666, \"#ed7953\"], [0.7777777777777778, \"#fb9f3a\"], [0.8888888888888888, \"#fdca26\"], [1.0, \"#f0f921\"]], \"type\": \"heatmap\"}], \"heatmapgl\": [{\"colorbar\": {\"outlinewidth\": 0, \"ticks\": \"\"}, \"colorscale\": [[0.0, \"#0d0887\"], [0.1111111111111111, \"#46039f\"], [0.2222222222222222, \"#7201a8\"], [0.3333333333333333, \"#9c179e\"], [0.4444444444444444, \"#bd3786\"], [0.5555555555555556, \"#d8576b\"], [0.6666666666666666, \"#ed7953\"], [0.7777777777777778, \"#fb9f3a\"], [0.8888888888888888, \"#fdca26\"], [1.0, \"#f0f921\"]], \"type\": \"heatmapgl\"}], \"histogram\": [{\"marker\": {\"colorbar\": {\"outlinewidth\": 0, \"ticks\": \"\"}}, \"type\": \"histogram\"}], \"histogram2d\": [{\"colorbar\": {\"outlinewidth\": 0, \"ticks\": \"\"}, \"colorscale\": [[0.0, \"#0d0887\"], [0.1111111111111111, \"#46039f\"], [0.2222222222222222, \"#7201a8\"], [0.3333333333333333, \"#9c179e\"], [0.4444444444444444, \"#bd3786\"], [0.5555555555555556, \"#d8576b\"], [0.6666666666666666, \"#ed7953\"], [0.7777777777777778, \"#fb9f3a\"], [0.8888888888888888, \"#fdca26\"], [1.0, \"#f0f921\"]], \"type\": \"histogram2d\"}], \"histogram2dcontour\": [{\"colorbar\": {\"outlinewidth\": 0, \"ticks\": \"\"}, \"colorscale\": [[0.0, \"#0d0887\"], [0.1111111111111111, \"#46039f\"], [0.2222222222222222, \"#7201a8\"], [0.3333333333333333, \"#9c179e\"], [0.4444444444444444, \"#bd3786\"], [0.5555555555555556, \"#d8576b\"], [0.6666666666666666, \"#ed7953\"], [0.7777777777777778, \"#fb9f3a\"], [0.8888888888888888, \"#fdca26\"], [1.0, \"#f0f921\"]], \"type\": \"histogram2dcontour\"}], \"mesh3d\": [{\"colorbar\": {\"outlinewidth\": 0, \"ticks\": \"\"}, \"type\": \"mesh3d\"}], \"parcoords\": [{\"line\": {\"colorbar\": {\"outlinewidth\": 0, \"ticks\": \"\"}}, \"type\": \"parcoords\"}], \"pie\": [{\"automargin\": true, \"type\": \"pie\"}], \"scatter\": [{\"marker\": {\"colorbar\": {\"outlinewidth\": 0, \"ticks\": \"\"}}, \"type\": \"scatter\"}], \"scatter3d\": [{\"line\": {\"colorbar\": {\"outlinewidth\": 0, \"ticks\": \"\"}}, \"marker\": {\"colorbar\": {\"outlinewidth\": 0, \"ticks\": \"\"}}, \"type\": \"scatter3d\"}], \"scattercarpet\": [{\"marker\": {\"colorbar\": {\"outlinewidth\": 0, \"ticks\": \"\"}}, \"type\": \"scattercarpet\"}], \"scattergeo\": [{\"marker\": {\"colorbar\": {\"outlinewidth\": 0, \"ticks\": \"\"}}, \"type\": \"scattergeo\"}], \"scattergl\": [{\"marker\": {\"colorbar\": {\"outlinewidth\": 0, \"ticks\": \"\"}}, \"type\": \"scattergl\"}], \"scattermapbox\": [{\"marker\": {\"colorbar\": {\"outlinewidth\": 0, \"ticks\": \"\"}}, \"type\": \"scattermapbox\"}], \"scatterpolar\": [{\"marker\": {\"colorbar\": {\"outlinewidth\": 0, \"ticks\": \"\"}}, \"type\": \"scatterpolar\"}], \"scatterpolargl\": [{\"marker\": {\"colorbar\": {\"outlinewidth\": 0, \"ticks\": \"\"}}, \"type\": \"scatterpolargl\"}], \"scatterternary\": [{\"marker\": {\"colorbar\": {\"outlinewidth\": 0, \"ticks\": \"\"}}, \"type\": \"scatterternary\"}], \"surface\": [{\"colorbar\": {\"outlinewidth\": 0, \"ticks\": \"\"}, \"colorscale\": [[0.0, \"#0d0887\"], [0.1111111111111111, \"#46039f\"], [0.2222222222222222, \"#7201a8\"], [0.3333333333333333, \"#9c179e\"], [0.4444444444444444, \"#bd3786\"], [0.5555555555555556, \"#d8576b\"], [0.6666666666666666, \"#ed7953\"], [0.7777777777777778, \"#fb9f3a\"], [0.8888888888888888, \"#fdca26\"], [1.0, \"#f0f921\"]], \"type\": \"surface\"}], \"table\": [{\"cells\": {\"fill\": {\"color\": \"#EBF0F8\"}, \"line\": {\"color\": \"white\"}}, \"header\": {\"fill\": {\"color\": \"#C8D4E3\"}, \"line\": {\"color\": \"white\"}}, \"type\": \"table\"}]}, \"layout\": {\"annotationdefaults\": {\"arrowcolor\": \"#2a3f5f\", \"arrowhead\": 0, \"arrowwidth\": 1}, \"coloraxis\": {\"colorbar\": {\"outlinewidth\": 0, \"ticks\": \"\"}}, \"colorscale\": {\"diverging\": [[0, \"#8e0152\"], [0.1, \"#c51b7d\"], [0.2, \"#de77ae\"], [0.3, \"#f1b6da\"], [0.4, \"#fde0ef\"], [0.5, \"#f7f7f7\"], [0.6, \"#e6f5d0\"], [0.7, \"#b8e186\"], [0.8, \"#7fbc41\"], [0.9, \"#4d9221\"], [1, \"#276419\"]], \"sequential\": [[0.0, \"#0d0887\"], [0.1111111111111111, \"#46039f\"], [0.2222222222222222, \"#7201a8\"], [0.3333333333333333, \"#9c179e\"], [0.4444444444444444, \"#bd3786\"], [0.5555555555555556, \"#d8576b\"], [0.6666666666666666, \"#ed7953\"], [0.7777777777777778, \"#fb9f3a\"], [0.8888888888888888, \"#fdca26\"], [1.0, \"#f0f921\"]], \"sequentialminus\": [[0.0, \"#0d0887\"], [0.1111111111111111, \"#46039f\"], [0.2222222222222222, \"#7201a8\"], [0.3333333333333333, \"#9c179e\"], [0.4444444444444444, \"#bd3786\"], [0.5555555555555556, \"#d8576b\"], [0.6666666666666666, \"#ed7953\"], [0.7777777777777778, \"#fb9f3a\"], [0.8888888888888888, \"#fdca26\"], [1.0, \"#f0f921\"]]}, \"colorway\": [\"#636efa\", \"#EF553B\", \"#00cc96\", \"#ab63fa\", \"#FFA15A\", \"#19d3f3\", \"#FF6692\", \"#B6E880\", \"#FF97FF\", \"#FECB52\"], \"font\": {\"color\": \"#2a3f5f\"}, \"geo\": {\"bgcolor\": \"white\", \"lakecolor\": \"white\", \"landcolor\": \"#E5ECF6\", \"showlakes\": true, \"showland\": true, \"subunitcolor\": \"white\"}, \"hoverlabel\": {\"align\": \"left\"}, \"hovermode\": \"closest\", \"mapbox\": {\"style\": \"light\"}, \"paper_bgcolor\": \"white\", \"plot_bgcolor\": \"#E5ECF6\", \"polar\": {\"angularaxis\": {\"gridcolor\": \"white\", \"linecolor\": \"white\", \"ticks\": \"\"}, \"bgcolor\": \"#E5ECF6\", \"radialaxis\": {\"gridcolor\": \"white\", \"linecolor\": \"white\", \"ticks\": \"\"}}, \"scene\": {\"xaxis\": {\"backgroundcolor\": \"#E5ECF6\", \"gridcolor\": \"white\", \"gridwidth\": 2, \"linecolor\": \"white\", \"showbackground\": true, \"ticks\": \"\", \"zerolinecolor\": \"white\"}, \"yaxis\": {\"backgroundcolor\": \"#E5ECF6\", \"gridcolor\": \"white\", \"gridwidth\": 2, \"linecolor\": \"white\", \"showbackground\": true, \"ticks\": \"\", \"zerolinecolor\": \"white\"}, \"zaxis\": {\"backgroundcolor\": \"#E5ECF6\", \"gridcolor\": \"white\", \"gridwidth\": 2, \"linecolor\": \"white\", \"showbackground\": true, \"ticks\": \"\", \"zerolinecolor\": \"white\"}}, \"shapedefaults\": {\"line\": {\"color\": \"#2a3f5f\"}}, \"ternary\": {\"aaxis\": {\"gridcolor\": \"white\", \"linecolor\": \"white\", \"ticks\": \"\"}, \"baxis\": {\"gridcolor\": \"white\", \"linecolor\": \"white\", \"ticks\": \"\"}, \"bgcolor\": \"#E5ECF6\", \"caxis\": {\"gridcolor\": \"white\", \"linecolor\": \"white\", \"ticks\": \"\"}}, \"title\": {\"x\": 0.05}, \"xaxis\": {\"automargin\": true, \"gridcolor\": \"white\", \"linecolor\": \"white\", \"ticks\": \"\", \"title\": {\"standoff\": 15}, \"zerolinecolor\": \"white\", \"zerolinewidth\": 2}, \"yaxis\": {\"automargin\": true, \"gridcolor\": \"white\", \"linecolor\": \"white\", \"ticks\": \"\", \"title\": {\"standoff\": 15}, \"zerolinecolor\": \"white\", \"zerolinewidth\": 2}}}, \"title\": {\"text\": \"Proportion of Species in Each Park that are Animals\"}, \"xaxis\": {\"anchor\": \"y\", \"domain\": [0.0, 1.0], \"title\": {\"text\": \"Park Name\"}}, \"yaxis\": {\"anchor\": \"x\", \"domain\": [0.0, 1.0], \"title\": {\"text\": \"Percent_Animals\"}}},\n",
              "                        {\"responsive\": true}\n",
              "                    ).then(function(){\n",
              "                            \n",
              "var gd = document.getElementById('ffa2bb27-8433-4c6b-8264-5ee588619c8f');\n",
              "var x = new MutationObserver(function (mutations, observer) {{\n",
              "        var display = window.getComputedStyle(gd).display;\n",
              "        if (!display || display === 'none') {{\n",
              "            console.log([gd, 'removed!']);\n",
              "            Plotly.purge(gd);\n",
              "            observer.disconnect();\n",
              "        }}\n",
              "}});\n",
              "\n",
              "// Listen for the removal of the full notebook cells\n",
              "var notebookContainer = gd.closest('#notebook-container');\n",
              "if (notebookContainer) {{\n",
              "    x.observe(notebookContainer, {childList: true});\n",
              "}}\n",
              "\n",
              "// Listen for the clearing of the current output cell\n",
              "var outputEl = gd.closest('.output');\n",
              "if (outputEl) {{\n",
              "    x.observe(outputEl, {childList: true});\n",
              "}}\n",
              "\n",
              "                        })\n",
              "                };\n",
              "                \n",
              "            </script>\n",
              "        </div>\n",
              "</body>\n",
              "</html>"
            ]
          },
          "metadata": {}
        }
      ]
    },
    {
      "cell_type": "markdown",
      "source": [
        "In order to determine which are the parks with the most animals this bar plot was drawn and it is intresting to see how Dry Torgugas is the national park with the most animals. Dry Tortugas and Biscayne are the both home of plenty of aquatic species. It is is interesting how the rest of the parks maintain an approximate equal amount of species and being Sequoia the park with the least amount of animals. "
      ],
      "metadata": {
        "id": "wW7DLEMYuOx6"
      }
    },
    {
      "cell_type": "code",
      "metadata": {
        "colab": {
          "base_uri": "https://localhost:8080/",
          "height": 542
        },
        "id": "x11YLJxdNJDS",
        "outputId": "1f8767a6-f15f-467e-bf39-0b8ca2667cd8"
      },
      "source": [
        "percent_aquatic = species[[\"Park Name\", \"Category\"]]\n",
        "percent_aquatic = percent_aquatic.groupby([\"Park Name\", \"Category\"]).size()\n",
        "percent_aquatic = percent_aquatic.unstack().fillna(0)\n",
        "\n",
        "percent_aquatic[\"Aquatic\"] = percent_aquatic[[\"Amphibian\", \"Crab/Lobster/Shrimp\", \"Fish\"]].sum(axis=1)\n",
        "percent_aquatic[\"Terrestrial\"] = percent_aquatic[[\"Bird\", \"Insect\", \"Invertebrate\", \"Mammal\", \"Reptile\", \"Slug/Snail\", \"Spider/Scorpion\"]].sum(axis=1)\n",
        "percent_aquatic = percent_aquatic[[\"Aquatic\", \"Terrestrial\"]].reset_index()\n",
        "\n",
        "percent_aquatic[\"Percent_Aquatic\"] = percent_aquatic[\"Aquatic\"] / (percent_aquatic[\"Terrestrial\"] + percent_aquatic[\"Aquatic\"])\n",
        "percent_aquatic = percent_aquatic[[\"Park Name\", \"Percent_Aquatic\"]]\n",
        "percent_aquatic = percent_aquatic.sort_values(\"Percent_Aquatic\", ascending=False)\n",
        "\n",
        "fig = px.bar(percent_aquatic, x=\"Park Name\", y=\"Percent_Aquatic\", title=\"Proportion of Animal Species in Each Park that are Aquatic vs Terrestrial\")\n",
        "fig.show()\n"
      ],
      "execution_count": 211,
      "outputs": [
        {
          "output_type": "display_data",
          "data": {
            "text/html": [
              "<html>\n",
              "<head><meta charset=\"utf-8\" /></head>\n",
              "<body>\n",
              "    <div>\n",
              "            <script src=\"https://cdnjs.cloudflare.com/ajax/libs/mathjax/2.7.5/MathJax.js?config=TeX-AMS-MML_SVG\"></script><script type=\"text/javascript\">if (window.MathJax) {MathJax.Hub.Config({SVG: {font: \"STIX-Web\"}});}</script>\n",
              "                <script type=\"text/javascript\">window.PlotlyConfig = {MathJaxConfig: 'local'};</script>\n",
              "        <script src=\"https://cdn.plot.ly/plotly-latest.min.js\"></script>    \n",
              "            <div id=\"d2abda53-10d2-43ba-972c-7cdd3f9531c0\" class=\"plotly-graph-div\" style=\"height:525px; width:100%;\"></div>\n",
              "            <script type=\"text/javascript\">\n",
              "                \n",
              "                    window.PLOTLYENV=window.PLOTLYENV || {};\n",
              "                    \n",
              "                if (document.getElementById(\"d2abda53-10d2-43ba-972c-7cdd3f9531c0\")) {\n",
              "                    Plotly.newPlot(\n",
              "                        'd2abda53-10d2-43ba-972c-7cdd3f9531c0',\n",
              "                        [{\"alignmentgroup\": \"True\", \"hoverlabel\": {\"namelength\": 0}, \"hovertemplate\": \"Park Name=%{x}<br>Percent_Aquatic=%{y}\", \"legendgroup\": \"\", \"marker\": {\"color\": \"#636efa\"}, \"name\": \"\", \"offsetgroup\": \"\", \"orientation\": \"v\", \"showlegend\": false, \"textposition\": \"auto\", \"type\": \"bar\", \"x\": [\"Biscayne \", \"Dry Tortugas \", \"Everglades \", \"Glacier Bay \", \"Channel Islands \", \"Wrangell - St Elias \", \"Redwood \", \"Isle Royale \", \"Hot Springs \", \"Olympic \", \"Lake Clark \", \"Voyageurs \", \"Mammoth Cave \", \"Acadia \", \"Cuyahoga Valley \", \"Kenai Fjords \", \"Shenandoah \", \"Canyonlands \", \"Katmai \", \"Theodore Roosevelt \", \"Congaree \", \"Kobuk Valley \", \"Mount Rainier \", \"Great Smoky Mountains \", \"Big Bend \", \"Denali \", \"Sequoia and Kings Canyon \", \"Glacier \", \"Grand Teton \", \"Black Canyon of the Gunnison \", \"Arches \", \"Crater Lake \", \"Yosemite \", \"Badlands \", \"Lassen Volcanic \", \"Rocky Mountain \", \"Zion \", \"Capitol Reef \", \"North Cascades \", \"Grand Canyon \", \"Great Sand Dunes \", \"Hawaii Volcanoes \", \"Guadalupe Mountains \", \"Yellowstone \", \"Wind Cave \", \"Pinnacles \", \"Carlsbad Caverns \", \"Death Valley \", \"Petrified Forest \", \"Saguaro \", \"Great Basin \", \"Haleakala \", \"Bryce Canyon \", \"Gates Of The Arctic \", \"Mesa Verde \", \"Joshua Tree \"], \"xaxis\": \"x\", \"y\": [0.6272522522522522, 0.4423728813559322, 0.4109947643979058, 0.3109656301145663, 0.2973568281938326, 0.23376623376623376, 0.2204724409448819, 0.20833333333333334, 0.19838056680161945, 0.19483101391650098, 0.18218623481781376, 0.1679790026246719, 0.1601796407185629, 0.1456953642384106, 0.14217252396166133, 0.13333333333333333, 0.12941176470588237, 0.1262135922330097, 0.125, 0.12413793103448276, 0.11085972850678733, 0.11038961038961038, 0.10175438596491228, 0.09955947136563877, 0.08623548922056384, 0.07317073170731707, 0.07033639143730887, 0.0683453237410072, 0.0630841121495327, 0.06074766355140187, 0.05976095617529881, 0.057777777777777775, 0.055415617128463476, 0.054945054945054944, 0.054901960784313725, 0.05115830115830116, 0.049689440993788817, 0.046583850931677016, 0.04395604395604396, 0.03985507246376811, 0.038314176245210725, 0.03742690058479532, 0.0321285140562249, 0.03151458137347131, 0.030732860520094562, 0.027375201288244767, 0.026748971193415638, 0.02663934426229508, 0.02491103202846975, 0.023323615160349854, 0.022900763358778626, 0.02085308056872038, 0.017241379310344827, 0.012422360248447204, 0.01020408163265306, 0.005698005698005698], \"yaxis\": \"y\"}],\n",
              "                        {\"barmode\": \"relative\", \"legend\": {\"tracegroupgap\": 0}, \"template\": {\"data\": {\"bar\": [{\"error_x\": {\"color\": \"#2a3f5f\"}, \"error_y\": {\"color\": \"#2a3f5f\"}, \"marker\": {\"line\": {\"color\": \"#E5ECF6\", \"width\": 0.5}}, \"type\": \"bar\"}], \"barpolar\": [{\"marker\": {\"line\": {\"color\": \"#E5ECF6\", \"width\": 0.5}}, \"type\": \"barpolar\"}], \"carpet\": [{\"aaxis\": {\"endlinecolor\": \"#2a3f5f\", \"gridcolor\": \"white\", \"linecolor\": \"white\", \"minorgridcolor\": \"white\", \"startlinecolor\": \"#2a3f5f\"}, \"baxis\": {\"endlinecolor\": \"#2a3f5f\", \"gridcolor\": \"white\", \"linecolor\": \"white\", \"minorgridcolor\": \"white\", \"startlinecolor\": \"#2a3f5f\"}, \"type\": \"carpet\"}], \"choropleth\": [{\"colorbar\": {\"outlinewidth\": 0, \"ticks\": \"\"}, \"type\": \"choropleth\"}], \"contour\": [{\"colorbar\": {\"outlinewidth\": 0, \"ticks\": \"\"}, \"colorscale\": [[0.0, \"#0d0887\"], [0.1111111111111111, \"#46039f\"], [0.2222222222222222, \"#7201a8\"], [0.3333333333333333, \"#9c179e\"], [0.4444444444444444, \"#bd3786\"], [0.5555555555555556, \"#d8576b\"], [0.6666666666666666, \"#ed7953\"], [0.7777777777777778, \"#fb9f3a\"], [0.8888888888888888, \"#fdca26\"], [1.0, \"#f0f921\"]], \"type\": \"contour\"}], \"contourcarpet\": [{\"colorbar\": {\"outlinewidth\": 0, \"ticks\": \"\"}, \"type\": \"contourcarpet\"}], \"heatmap\": [{\"colorbar\": {\"outlinewidth\": 0, \"ticks\": \"\"}, \"colorscale\": [[0.0, \"#0d0887\"], [0.1111111111111111, \"#46039f\"], [0.2222222222222222, \"#7201a8\"], [0.3333333333333333, \"#9c179e\"], [0.4444444444444444, \"#bd3786\"], [0.5555555555555556, \"#d8576b\"], [0.6666666666666666, \"#ed7953\"], [0.7777777777777778, \"#fb9f3a\"], [0.8888888888888888, \"#fdca26\"], [1.0, \"#f0f921\"]], \"type\": \"heatmap\"}], \"heatmapgl\": [{\"colorbar\": {\"outlinewidth\": 0, \"ticks\": \"\"}, \"colorscale\": [[0.0, \"#0d0887\"], [0.1111111111111111, \"#46039f\"], [0.2222222222222222, \"#7201a8\"], [0.3333333333333333, \"#9c179e\"], [0.4444444444444444, \"#bd3786\"], [0.5555555555555556, \"#d8576b\"], [0.6666666666666666, \"#ed7953\"], [0.7777777777777778, \"#fb9f3a\"], [0.8888888888888888, \"#fdca26\"], [1.0, \"#f0f921\"]], \"type\": \"heatmapgl\"}], \"histogram\": [{\"marker\": {\"colorbar\": {\"outlinewidth\": 0, \"ticks\": \"\"}}, \"type\": \"histogram\"}], \"histogram2d\": [{\"colorbar\": {\"outlinewidth\": 0, \"ticks\": \"\"}, \"colorscale\": [[0.0, \"#0d0887\"], [0.1111111111111111, \"#46039f\"], [0.2222222222222222, \"#7201a8\"], [0.3333333333333333, \"#9c179e\"], [0.4444444444444444, \"#bd3786\"], [0.5555555555555556, \"#d8576b\"], [0.6666666666666666, \"#ed7953\"], [0.7777777777777778, \"#fb9f3a\"], [0.8888888888888888, \"#fdca26\"], [1.0, \"#f0f921\"]], \"type\": \"histogram2d\"}], \"histogram2dcontour\": [{\"colorbar\": {\"outlinewidth\": 0, \"ticks\": \"\"}, \"colorscale\": [[0.0, \"#0d0887\"], [0.1111111111111111, \"#46039f\"], [0.2222222222222222, \"#7201a8\"], [0.3333333333333333, \"#9c179e\"], [0.4444444444444444, \"#bd3786\"], [0.5555555555555556, \"#d8576b\"], [0.6666666666666666, \"#ed7953\"], [0.7777777777777778, \"#fb9f3a\"], [0.8888888888888888, \"#fdca26\"], [1.0, \"#f0f921\"]], \"type\": \"histogram2dcontour\"}], \"mesh3d\": [{\"colorbar\": {\"outlinewidth\": 0, \"ticks\": \"\"}, \"type\": \"mesh3d\"}], \"parcoords\": [{\"line\": {\"colorbar\": {\"outlinewidth\": 0, \"ticks\": \"\"}}, \"type\": \"parcoords\"}], \"pie\": [{\"automargin\": true, \"type\": \"pie\"}], \"scatter\": [{\"marker\": {\"colorbar\": {\"outlinewidth\": 0, \"ticks\": \"\"}}, \"type\": \"scatter\"}], \"scatter3d\": [{\"line\": {\"colorbar\": {\"outlinewidth\": 0, \"ticks\": \"\"}}, \"marker\": {\"colorbar\": {\"outlinewidth\": 0, \"ticks\": \"\"}}, \"type\": \"scatter3d\"}], \"scattercarpet\": [{\"marker\": {\"colorbar\": {\"outlinewidth\": 0, \"ticks\": \"\"}}, \"type\": \"scattercarpet\"}], \"scattergeo\": [{\"marker\": {\"colorbar\": {\"outlinewidth\": 0, \"ticks\": \"\"}}, \"type\": \"scattergeo\"}], \"scattergl\": [{\"marker\": {\"colorbar\": {\"outlinewidth\": 0, \"ticks\": \"\"}}, \"type\": \"scattergl\"}], \"scattermapbox\": [{\"marker\": {\"colorbar\": {\"outlinewidth\": 0, \"ticks\": \"\"}}, \"type\": \"scattermapbox\"}], \"scatterpolar\": [{\"marker\": {\"colorbar\": {\"outlinewidth\": 0, \"ticks\": \"\"}}, \"type\": \"scatterpolar\"}], \"scatterpolargl\": [{\"marker\": {\"colorbar\": {\"outlinewidth\": 0, \"ticks\": \"\"}}, \"type\": \"scatterpolargl\"}], \"scatterternary\": [{\"marker\": {\"colorbar\": {\"outlinewidth\": 0, \"ticks\": \"\"}}, \"type\": \"scatterternary\"}], \"surface\": [{\"colorbar\": {\"outlinewidth\": 0, \"ticks\": \"\"}, \"colorscale\": [[0.0, \"#0d0887\"], [0.1111111111111111, \"#46039f\"], [0.2222222222222222, \"#7201a8\"], [0.3333333333333333, \"#9c179e\"], [0.4444444444444444, \"#bd3786\"], [0.5555555555555556, \"#d8576b\"], [0.6666666666666666, \"#ed7953\"], [0.7777777777777778, \"#fb9f3a\"], [0.8888888888888888, \"#fdca26\"], [1.0, \"#f0f921\"]], \"type\": \"surface\"}], \"table\": [{\"cells\": {\"fill\": {\"color\": \"#EBF0F8\"}, \"line\": {\"color\": \"white\"}}, \"header\": {\"fill\": {\"color\": \"#C8D4E3\"}, \"line\": {\"color\": \"white\"}}, \"type\": \"table\"}]}, \"layout\": {\"annotationdefaults\": {\"arrowcolor\": \"#2a3f5f\", \"arrowhead\": 0, \"arrowwidth\": 1}, \"coloraxis\": {\"colorbar\": {\"outlinewidth\": 0, \"ticks\": \"\"}}, \"colorscale\": {\"diverging\": [[0, \"#8e0152\"], [0.1, \"#c51b7d\"], [0.2, \"#de77ae\"], [0.3, \"#f1b6da\"], [0.4, \"#fde0ef\"], [0.5, \"#f7f7f7\"], [0.6, \"#e6f5d0\"], [0.7, \"#b8e186\"], [0.8, \"#7fbc41\"], [0.9, \"#4d9221\"], [1, \"#276419\"]], \"sequential\": [[0.0, \"#0d0887\"], [0.1111111111111111, \"#46039f\"], [0.2222222222222222, \"#7201a8\"], [0.3333333333333333, \"#9c179e\"], [0.4444444444444444, \"#bd3786\"], [0.5555555555555556, \"#d8576b\"], [0.6666666666666666, \"#ed7953\"], [0.7777777777777778, \"#fb9f3a\"], [0.8888888888888888, \"#fdca26\"], [1.0, \"#f0f921\"]], \"sequentialminus\": [[0.0, \"#0d0887\"], [0.1111111111111111, \"#46039f\"], [0.2222222222222222, \"#7201a8\"], [0.3333333333333333, \"#9c179e\"], [0.4444444444444444, \"#bd3786\"], [0.5555555555555556, \"#d8576b\"], [0.6666666666666666, \"#ed7953\"], [0.7777777777777778, \"#fb9f3a\"], [0.8888888888888888, \"#fdca26\"], [1.0, \"#f0f921\"]]}, \"colorway\": [\"#636efa\", \"#EF553B\", \"#00cc96\", \"#ab63fa\", \"#FFA15A\", \"#19d3f3\", \"#FF6692\", \"#B6E880\", \"#FF97FF\", \"#FECB52\"], \"font\": {\"color\": \"#2a3f5f\"}, \"geo\": {\"bgcolor\": \"white\", \"lakecolor\": \"white\", \"landcolor\": \"#E5ECF6\", \"showlakes\": true, \"showland\": true, \"subunitcolor\": \"white\"}, \"hoverlabel\": {\"align\": \"left\"}, \"hovermode\": \"closest\", \"mapbox\": {\"style\": \"light\"}, \"paper_bgcolor\": \"white\", \"plot_bgcolor\": \"#E5ECF6\", \"polar\": {\"angularaxis\": {\"gridcolor\": \"white\", \"linecolor\": \"white\", \"ticks\": \"\"}, \"bgcolor\": \"#E5ECF6\", \"radialaxis\": {\"gridcolor\": \"white\", \"linecolor\": \"white\", \"ticks\": \"\"}}, \"scene\": {\"xaxis\": {\"backgroundcolor\": \"#E5ECF6\", \"gridcolor\": \"white\", \"gridwidth\": 2, \"linecolor\": \"white\", \"showbackground\": true, \"ticks\": \"\", \"zerolinecolor\": \"white\"}, \"yaxis\": {\"backgroundcolor\": \"#E5ECF6\", \"gridcolor\": \"white\", \"gridwidth\": 2, \"linecolor\": \"white\", \"showbackground\": true, \"ticks\": \"\", \"zerolinecolor\": \"white\"}, \"zaxis\": {\"backgroundcolor\": \"#E5ECF6\", \"gridcolor\": \"white\", \"gridwidth\": 2, \"linecolor\": \"white\", \"showbackground\": true, \"ticks\": \"\", \"zerolinecolor\": \"white\"}}, \"shapedefaults\": {\"line\": {\"color\": \"#2a3f5f\"}}, \"ternary\": {\"aaxis\": {\"gridcolor\": \"white\", \"linecolor\": \"white\", \"ticks\": \"\"}, \"baxis\": {\"gridcolor\": \"white\", \"linecolor\": \"white\", \"ticks\": \"\"}, \"bgcolor\": \"#E5ECF6\", \"caxis\": {\"gridcolor\": \"white\", \"linecolor\": \"white\", \"ticks\": \"\"}}, \"title\": {\"x\": 0.05}, \"xaxis\": {\"automargin\": true, \"gridcolor\": \"white\", \"linecolor\": \"white\", \"ticks\": \"\", \"title\": {\"standoff\": 15}, \"zerolinecolor\": \"white\", \"zerolinewidth\": 2}, \"yaxis\": {\"automargin\": true, \"gridcolor\": \"white\", \"linecolor\": \"white\", \"ticks\": \"\", \"title\": {\"standoff\": 15}, \"zerolinecolor\": \"white\", \"zerolinewidth\": 2}}}, \"title\": {\"text\": \"Proportion of Animal Species in Each Park that are Aquatic vs Terrestrial\"}, \"xaxis\": {\"anchor\": \"y\", \"domain\": [0.0, 1.0], \"title\": {\"text\": \"Park Name\"}}, \"yaxis\": {\"anchor\": \"x\", \"domain\": [0.0, 1.0], \"title\": {\"text\": \"Percent_Aquatic\"}}},\n",
              "                        {\"responsive\": true}\n",
              "                    ).then(function(){\n",
              "                            \n",
              "var gd = document.getElementById('d2abda53-10d2-43ba-972c-7cdd3f9531c0');\n",
              "var x = new MutationObserver(function (mutations, observer) {{\n",
              "        var display = window.getComputedStyle(gd).display;\n",
              "        if (!display || display === 'none') {{\n",
              "            console.log([gd, 'removed!']);\n",
              "            Plotly.purge(gd);\n",
              "            observer.disconnect();\n",
              "        }}\n",
              "}});\n",
              "\n",
              "// Listen for the removal of the full notebook cells\n",
              "var notebookContainer = gd.closest('#notebook-container');\n",
              "if (notebookContainer) {{\n",
              "    x.observe(notebookContainer, {childList: true});\n",
              "}}\n",
              "\n",
              "// Listen for the clearing of the current output cell\n",
              "var outputEl = gd.closest('.output');\n",
              "if (outputEl) {{\n",
              "    x.observe(outputEl, {childList: true});\n",
              "}}\n",
              "\n",
              "                        })\n",
              "                };\n",
              "                \n",
              "            </script>\n",
              "        </div>\n",
              "</body>\n",
              "</html>"
            ]
          },
          "metadata": {}
        }
      ]
    },
    {
      "cell_type": "markdown",
      "source": [
        "In this bar graph we are able to identify that the national parks located by the sea are the ones with the greatest percent of aquatic animals."
      ],
      "metadata": {
        "id": "Y3XlvDhdt8ol"
      }
    },
    {
      "cell_type": "markdown",
      "metadata": {
        "id": "1EiOncbarOwp"
      },
      "source": [
        "## Merge New Features into Parks Dataframe "
      ]
    },
    {
      "cell_type": "code",
      "metadata": {
        "id": "VnnN0svgUZW_",
        "colab": {
          "base_uri": "https://localhost:8080/",
          "height": 206
        },
        "outputId": "c8a556a6-4e71-4085-dfd3-44d6b1d1ee57"
      },
      "source": [
        "parks = parks.merge(native_prop, how='left', on='Park Name')\n",
        "parks = parks.merge(species_per_acre, how='left', on='Park Name')\n",
        "parks = parks.merge(percent_at_risk_per_park, how='left', on='Park Name')\n",
        "parks = parks.merge(avg_visitation, how='left', on=\"Park Name\")\n",
        "parks = parks.merge(percent_animals_vs_plants, how='left', on=\"Park Name\")\n",
        "parks = parks.merge(percent_aquatic, how='left', on=\"Park Name\")\n",
        "\n",
        "parks.dropna(inplace=True) # drops sequoia and kings canyon since they have no visitation data\n",
        "\n",
        "parks.head()"
      ],
      "execution_count": 212,
      "outputs": [
        {
          "output_type": "execute_result",
          "data": {
            "text/html": [
              "<div>\n",
              "<style scoped>\n",
              "    .dataframe tbody tr th:only-of-type {\n",
              "        vertical-align: middle;\n",
              "    }\n",
              "\n",
              "    .dataframe tbody tr th {\n",
              "        vertical-align: top;\n",
              "    }\n",
              "\n",
              "    .dataframe thead th {\n",
              "        text-align: right;\n",
              "    }\n",
              "</style>\n",
              "<table border=\"1\" class=\"dataframe\">\n",
              "  <thead>\n",
              "    <tr style=\"text-align: right;\">\n",
              "      <th></th>\n",
              "      <th>Park Code</th>\n",
              "      <th>Park Name</th>\n",
              "      <th>State</th>\n",
              "      <th>Acres</th>\n",
              "      <th>Latitude</th>\n",
              "      <th>Longitude</th>\n",
              "      <th>Park_Type</th>\n",
              "      <th>Native_Proportion</th>\n",
              "      <th>Species_Per_Acre</th>\n",
              "      <th>Num_Species</th>\n",
              "      <th>Num_At_Risk</th>\n",
              "      <th>Percent_At_Risk</th>\n",
              "      <th>AVG_Visitation</th>\n",
              "      <th>Percent_Animals</th>\n",
              "      <th>Percent_Aquatic</th>\n",
              "    </tr>\n",
              "  </thead>\n",
              "  <tbody>\n",
              "    <tr>\n",
              "      <th>0</th>\n",
              "      <td>ACAD</td>\n",
              "      <td>Acadia</td>\n",
              "      <td>ME</td>\n",
              "      <td>47390</td>\n",
              "      <td>44.35</td>\n",
              "      <td>-68.21</td>\n",
              "      <td>Forested</td>\n",
              "      <td>0.763181</td>\n",
              "      <td>0.024752</td>\n",
              "      <td>1173</td>\n",
              "      <td>48</td>\n",
              "      <td>0.040921</td>\n",
              "      <td>2889149.0</td>\n",
              "      <td>0.257460</td>\n",
              "      <td>0.145695</td>\n",
              "    </tr>\n",
              "    <tr>\n",
              "      <th>1</th>\n",
              "      <td>ARCH</td>\n",
              "      <td>Arches</td>\n",
              "      <td>UT</td>\n",
              "      <td>76519</td>\n",
              "      <td>38.68</td>\n",
              "      <td>-109.57</td>\n",
              "      <td>Desert</td>\n",
              "      <td>0.887850</td>\n",
              "      <td>0.009801</td>\n",
              "      <td>750</td>\n",
              "      <td>52</td>\n",
              "      <td>0.069333</td>\n",
              "      <td>1356430.0</td>\n",
              "      <td>0.334667</td>\n",
              "      <td>0.059761</td>\n",
              "    </tr>\n",
              "    <tr>\n",
              "      <th>2</th>\n",
              "      <td>BADL</td>\n",
              "      <td>Badlands</td>\n",
              "      <td>SD</td>\n",
              "      <td>242756</td>\n",
              "      <td>43.75</td>\n",
              "      <td>-102.50</td>\n",
              "      <td>Desert</td>\n",
              "      <td>0.688053</td>\n",
              "      <td>0.003749</td>\n",
              "      <td>910</td>\n",
              "      <td>56</td>\n",
              "      <td>0.061538</td>\n",
              "      <td>945143.0</td>\n",
              "      <td>0.400000</td>\n",
              "      <td>0.054945</td>\n",
              "    </tr>\n",
              "    <tr>\n",
              "      <th>3</th>\n",
              "      <td>BIBE</td>\n",
              "      <td>Big Bend</td>\n",
              "      <td>TX</td>\n",
              "      <td>801163</td>\n",
              "      <td>29.25</td>\n",
              "      <td>-103.25</td>\n",
              "      <td>Desert</td>\n",
              "      <td>0.945798</td>\n",
              "      <td>0.002510</td>\n",
              "      <td>2011</td>\n",
              "      <td>128</td>\n",
              "      <td>0.063650</td>\n",
              "      <td>379312.0</td>\n",
              "      <td>0.299851</td>\n",
              "      <td>0.086235</td>\n",
              "    </tr>\n",
              "    <tr>\n",
              "      <th>4</th>\n",
              "      <td>BISC</td>\n",
              "      <td>Biscayne</td>\n",
              "      <td>FL</td>\n",
              "      <td>172924</td>\n",
              "      <td>25.65</td>\n",
              "      <td>-80.08</td>\n",
              "      <td>Tropical</td>\n",
              "      <td>0.788095</td>\n",
              "      <td>0.007697</td>\n",
              "      <td>1331</td>\n",
              "      <td>59</td>\n",
              "      <td>0.044328</td>\n",
              "      <td>503466.0</td>\n",
              "      <td>0.667168</td>\n",
              "      <td>0.627252</td>\n",
              "    </tr>\n",
              "  </tbody>\n",
              "</table>\n",
              "</div>"
            ],
            "text/plain": [
              "  Park Code  Park Name State  ...  AVG_Visitation  Percent_Animals  Percent_Aquatic\n",
              "0      ACAD    Acadia     ME  ...       2889149.0         0.257460         0.145695\n",
              "1      ARCH    Arches     UT  ...       1356430.0         0.334667         0.059761\n",
              "2      BADL  Badlands     SD  ...        945143.0         0.400000         0.054945\n",
              "3      BIBE  Big Bend     TX  ...        379312.0         0.299851         0.086235\n",
              "4      BISC  Biscayne     FL  ...        503466.0         0.667168         0.627252\n",
              "\n",
              "[5 rows x 15 columns]"
            ]
          },
          "metadata": {},
          "execution_count": 212
        }
      ]
    },
    {
      "cell_type": "markdown",
      "metadata": {
        "id": "zf9-J_tqSRMQ"
      },
      "source": [
        "## Correlation Matrix"
      ]
    },
    {
      "cell_type": "code",
      "metadata": {
        "colab": {
          "base_uri": "https://localhost:8080/",
          "height": 800
        },
        "id": "AEy6wG0YZd4z",
        "outputId": "1b1c7672-c7c8-4056-8470-4900ea68e90e"
      },
      "source": [
        "#Reorganize the column order \n",
        "parks_correlation = parks[['Percent_At_Risk', 'State', 'Acres', 'Latitude', 'Longitude',\n",
        "       'Native_Proportion', 'Species_Per_Acre', \n",
        "       'AVG_Visitation', 'Percent_Animals', \"Percent_Aquatic\", 'Num_At_Risk']]\n",
        "\n",
        "plt.figure(figsize=(16,12))\n",
        "\n",
        "cmap = sns.diverging_palette(250, 15, s=75, l=40,\n",
        "                             n=9, center=\"light\", as_cmap=True)\n",
        "\n",
        "sns.heatmap(parks_correlation.corr(), center=0, annot=True,\n",
        "             fmt='.2f', square=True, cmap=cmap)"
      ],
      "execution_count": 213,
      "outputs": [
        {
          "output_type": "execute_result",
          "data": {
            "text/plain": [
              "<matplotlib.axes._subplots.AxesSubplot at 0x7fd3a40bd690>"
            ]
          },
          "metadata": {},
          "execution_count": 213
        },
        {
          "output_type": "display_data",
          "data": {
            "image/png": "[encoded data removed]",
            "text/plain": [
              "<Figure size 1152x864 with 2 Axes>"
            ]
          },
          "metadata": {
            "needs_background": "light"
          }
        }
      ]
    },
    {
      "cell_type": "markdown",
      "source": [
        "This is the correlation matrix between our features. There are several points of interest, specifically many variables that are both positively and negatively correlated to latitude. There is a significant positive correlation between latitude and both native proportion and acreage, but a significant negative correlation between latitude and the number of species at risk. This indicates that northern national parks tend to be larger in size, have a higher proportion of native species, and have a lower number of species at risk, which is a very interesting trend we will explore more in our modeling."
      ],
      "metadata": {
        "id": "rMu0rS3Ou8l5"
      }
    },
    {
      "cell_type": "markdown",
      "metadata": {
        "id": "cxhh_yz-Z_gj"
      },
      "source": [
        "## Feature Distributions Side by Side\n",
        "\n",
        "We compiled all of our feature distributions above into one plot to make it easier to compare"
      ]
    },
    {
      "cell_type": "code",
      "metadata": {
        "colab": {
          "base_uri": "https://localhost:8080/",
          "height": 1000
        },
        "id": "l2o-EB4K1sYN",
        "outputId": "063d7129-d8e8-4a5c-f20a-89c258013527"
      },
      "source": [
        "from plotly.subplots import make_subplots\n",
        "fig = make_subplots(\n",
        "    rows=4, cols=2,\n",
        "    subplot_titles=(\"Percent_At_Risk\",\"Species_Per_Acre\", \"Native_Proportion\", \n",
        "                    \"Percent_Animals\", \"Percent_Aquatic\", \"AVG_Visitation\", \"Ozone\")\n",
        ")\n",
        "fig.add_trace(go.Bar(x=parks['Park Name'],y=parks['Percent_At_Risk']),\n",
        "              row=1, col=1)\n",
        "fig.add_trace(go.Bar(x=parks['Park Name'],y=parks['Species_Per_Acre']),\n",
        "              row=1, col=2)\n",
        "fig.add_trace(go.Bar(x=parks['Park Name'],y=parks['Native_Proportion']),\n",
        "              row=2, col=1)\n",
        "fig.add_trace(go.Bar(x=parks['Park Name'],y=parks['Percent_Animals']),\n",
        "              row=2, col=2)\n",
        "fig.add_trace(go.Bar(x=parks['Park Name'],y=parks['Percent_Aquatic']),\n",
        "              row=3, col=1)\n",
        "fig.add_trace(go.Bar(x=parks['Park Name'],y=parks['AVG_Visitation']),\n",
        "              row=3, col=2)\n",
        "fig.add_trace(go.Bar(x=ozone_visitation['Park Name'],y=ozone_visitation['Total']),\n",
        "              row=4, col=1)\n",
        "\n",
        "fig.update_layout(height=1700, showlegend=False)\n",
        "\n",
        "fig.show()"
      ],
      "execution_count": 219,
      "outputs": [
        {
          "output_type": "display_data",
          "data": {
            "text/html": [
              "<html>\n",
              "<head><meta charset=\"utf-8\" /></head>\n",
              "<body>\n",
              "    <div>\n",
              "            <script src=\"https://cdnjs.cloudflare.com/ajax/libs/mathjax/2.7.5/MathJax.js?config=TeX-AMS-MML_SVG\"></script><script type=\"text/javascript\">if (window.MathJax) {MathJax.Hub.Config({SVG: {font: \"STIX-Web\"}});}</script>\n",
              "                <script type=\"text/javascript\">window.PlotlyConfig = {MathJaxConfig: 'local'};</script>\n",
              "        <script src=\"https://cdn.plot.ly/plotly-latest.min.js\"></script>    \n",
              "            <div id=\"4e42080d-8ef1-49d8-863c-4d3f0433a14e\" class=\"plotly-graph-div\" style=\"height:1700px; width:100%;\"></div>\n",
              "            <script type=\"text/javascript\">\n",
              "                \n",
              "                    window.PLOTLYENV=window.PLOTLYENV || {};\n",
              "                    \n",
              "                if (document.getElementById(\"4e42080d-8ef1-49d8-863c-4d3f0433a14e\")) {\n",
              "                    Plotly.newPlot(\n",
              "                        '4e42080d-8ef1-49d8-863c-4d3f0433a14e',\n",
              "                        [{\"type\": \"bar\", \"x\": [\"Acadia \", \"Arches \", \"Badlands \", \"Big Bend \", \"Biscayne \", \"Black Canyon of the Gunnison \", \"Bryce Canyon \", \"Canyonlands \", \"Capitol Reef \", \"Carlsbad Caverns \", \"Channel Islands \", \"Congaree \", \"Crater Lake \", \"Cuyahoga Valley \", \"Denali \", \"Death Valley \", \"Dry Tortugas \", \"Everglades \", \"Gates Of The Arctic \", \"Glacier \", \"Glacier Bay \", \"Great Basin \", \"Grand Canyon \", \"Great Sand Dunes \", \"Great Smoky Mountains \", \"Grand Teton \", \"Guadalupe Mountains \", \"Haleakala \", \"Hawaii Volcanoes \", \"Hot Springs \", \"Isle Royale \", \"Joshua Tree \", \"Katmai \", \"Kenai Fjords \", \"Kobuk Valley \", \"Lake Clark \", \"Lassen Volcanic \", \"Mammoth Cave \", \"Mesa Verde \", \"Mount Rainier \", \"North Cascades \", \"Olympic \", \"Petrified Forest \", \"Pinnacles \", \"Redwood \", \"Rocky Mountain \", \"Saguaro \", \"Shenandoah \", \"Theodore Roosevelt \", \"Voyageurs \", \"Wind Cave \", \"Wrangell - St Elias \", \"Yellowstone \", \"Yosemite \", \"Zion \"], \"xaxis\": \"x\", \"y\": [0.04092071611253197, 0.06933333333333333, 0.06153846153846154, 0.06364992541024365, 0.04432757325319309, 0.07402031930333818, 0.07215189873417721, 0.07852193995381063, 0.06706792777300086, 0.06517168885774352, 0.07363291824580401, 0.01764425369575584, 0.04452359750667854, 0.027420257414661444, 0.02694610778443114, 0.06657608695652174, 0.07114093959731543, 0.046848856664807585, 0.024861878453038673, 0.028726061615320566, 0.0336, 0.05170630816959669, 0.04600389863547758, 0.053927315357561546, 0.022376543209876542, 0.036051026067665005, 0.04996837444655281, 0.031130268199233715, 0.036376864314296105, 0.03529411764705882, 0.04790419161676647, 0.09164733178654293, 0.03879849812265332, 0.043410852713178294, 0.02882882882882883, 0.03048780487804878, 0.04411764705882353, 0.025244719216898505, 0.06205035971223022, 0.03475742215785663, 0.023109937273027403, 0.046086320409656184, 0.08583106267029973, 0.047619047619047616, 0.06180871828236825, 0.020882452004041766, 0.052564914502849905, 0.021664766248574687, 0.03866809881847476, 0.04472573839662447, 0.05288007554296506, 0.025810721376571807, 0.023269175524274634, 0.04514435695538058, 0.05770690964312832], \"yaxis\": \"y\"}, {\"type\": \"bar\", \"x\": [\"Acadia \", \"Arches \", \"Badlands \", \"Big Bend \", \"Biscayne \", \"Black Canyon of the Gunnison \", \"Bryce Canyon \", \"Canyonlands \", \"Capitol Reef \", \"Carlsbad Caverns \", \"Channel Islands \", \"Congaree \", \"Crater Lake \", \"Cuyahoga Valley \", \"Denali \", \"Death Valley \", \"Dry Tortugas \", \"Everglades \", \"Gates Of The Arctic \", \"Glacier \", \"Glacier Bay \", \"Great Basin \", \"Grand Canyon \", \"Great Sand Dunes \", \"Great Smoky Mountains \", \"Grand Teton \", \"Guadalupe Mountains \", \"Haleakala \", \"Hawaii Volcanoes \", \"Hot Springs \", \"Isle Royale \", \"Joshua Tree \", \"Katmai \", \"Kenai Fjords \", \"Kobuk Valley \", \"Lake Clark \", \"Lassen Volcanic \", \"Mammoth Cave \", \"Mesa Verde \", \"Mount Rainier \", \"North Cascades \", \"Olympic \", \"Petrified Forest \", \"Pinnacles \", \"Redwood \", \"Rocky Mountain \", \"Saguaro \", \"Shenandoah \", \"Theodore Roosevelt \", \"Voyageurs \", \"Wind Cave \", \"Wrangell - St Elias \", \"Yellowstone \", \"Yosemite \", \"Zion \"], \"xaxis\": \"x2\", \"y\": [0.02475205739607512, 0.00980148721232635, 0.0037486200135115094, 0.002510100940757374, 0.007697022969628276, 0.020910470409711685, 0.022045486256453188, 0.0025651810733475907, 0.004807692307692308, 0.03051362100671428, 0.007400996149238062, 0.07899495215851729, 0.006129109723616993, 0.05423368740515933, 0.00029711760341738616, 0.0003104887835926927, 0.011514505185391261, 0.0011885680042531246, 9.622671652380189e-05, 0.0023698365779638744, 0.0003876161297924858, 0.012529152630215082, 0.002106944044001863, 0.019844593337055648, 0.007455560029914284, 0.005816222842303908, 0.018295223106832067, 0.07176737471643638, 0.008499494482594433, 0.12252252252252252, 0.002044456881022753, 0.0010914915574014397, 0.00021744277499435302, 0.0009627109941595533, 0.0003170129723993084, 0.00037561079697816534, 0.00958898958372504, 0.036740488358887, 0.021334561221748975, 0.005861007957559681, 0.006000622051939356, 0.0014816003017392276, 0.007847497674617515, 0.04814703450349545, 0.013660765073947667, 0.01116887611538288, 0.017268153980752404, 0.013218116506317667, 0.01321560889746902, 0.0054307974335472044, 0.037427107262767274, 0.000181541887756892, 0.001568165651631167, 0.002502410458368034, 0.008983751483649162], \"yaxis\": \"y2\"}, {\"type\": \"bar\", \"x\": [\"Acadia \", \"Arches \", \"Badlands \", \"Big Bend \", \"Biscayne \", \"Black Canyon of the Gunnison \", \"Bryce Canyon \", \"Canyonlands \", \"Capitol Reef \", \"Carlsbad Caverns \", \"Channel Islands \", \"Congaree \", \"Crater Lake \", \"Cuyahoga Valley \", \"Denali \", \"Death Valley \", \"Dry Tortugas \", \"Everglades \", \"Gates Of The Arctic \", \"Glacier \", \"Glacier Bay \", \"Great Basin \", \"Grand Canyon \", \"Great Sand Dunes \", \"Great Smoky Mountains \", \"Grand Teton \", \"Guadalupe Mountains \", \"Haleakala \", \"Hawaii Volcanoes \", \"Hot Springs \", \"Isle Royale \", \"Joshua Tree \", \"Katmai \", \"Kenai Fjords \", \"Kobuk Valley \", \"Lake Clark \", \"Lassen Volcanic \", \"Mammoth Cave \", \"Mesa Verde \", \"Mount Rainier \", \"North Cascades \", \"Olympic \", \"Petrified Forest \", \"Pinnacles \", \"Redwood \", \"Rocky Mountain \", \"Saguaro \", \"Shenandoah \", \"Theodore Roosevelt \", \"Voyageurs \", \"Wind Cave \", \"Wrangell - St Elias \", \"Yellowstone \", \"Yosemite \", \"Zion \"], \"xaxis\": \"x3\", \"y\": [0.7631806395851339, 0.8878504672897196, 0.6880530973451328, 0.9457981103928393, 0.7880952380952381, 0.8896952104499274, 0.9238578680203046, 0.9053117782909931, 0.8854435831180018, 0.9502452697967765, 0.8787222523010287, 0.5348282442748091, 0.9527629233511586, 0.8429613011777902, 0.977977977977978, 0.928122819260293, 0.7068607068607069, 0.773415591699383, 0.9986168741355463, 0.8712955122777307, 0.9672846237731734, 0.9249217935349322, 0.9083759339362957, 0.928235294117647, 0.5757653717519938, 0.9100062932662052, 0.9683143219264893, 0.5888450148075025, 0.5951506245407788, 0.8073959938366718, 0.8800342759211653, 0.9623529411764706, 0.981651376146789, 0.9608482871125612, 0.9981949458483754, 0.9753593429158111, 0.9502487562189055, 0.7490965410428497, 0.8857913669064749, 0.7505438723712835, 0.8861313868613139, 0.9166666666666666, 0.9237057220708447, 0.8582010582010582, 0.7896461336828309, 0.6283457656867047, 0.9322355921469284, 0.7934246575342466, 0.7906215921483097, 0.889267461669506, 0.8305439330543933, 0.976158940397351, 0.8427487352445194, 0.8976793248945147, 0.8844984802431611], \"yaxis\": \"y3\"}, {\"type\": \"bar\", \"x\": [\"Acadia \", \"Arches \", \"Badlands \", \"Big Bend \", \"Biscayne \", \"Black Canyon of the Gunnison \", \"Bryce Canyon \", \"Canyonlands \", \"Capitol Reef \", \"Carlsbad Caverns \", \"Channel Islands \", \"Congaree \", \"Crater Lake \", \"Cuyahoga Valley \", \"Denali \", \"Death Valley \", \"Dry Tortugas \", \"Everglades \", \"Gates Of The Arctic \", \"Glacier \", \"Glacier Bay \", \"Great Basin \", \"Grand Canyon \", \"Great Sand Dunes \", \"Great Smoky Mountains \", \"Grand Teton \", \"Guadalupe Mountains \", \"Haleakala \", \"Hawaii Volcanoes \", \"Hot Springs \", \"Isle Royale \", \"Joshua Tree \", \"Katmai \", \"Kenai Fjords \", \"Kobuk Valley \", \"Lake Clark \", \"Lassen Volcanic \", \"Mammoth Cave \", \"Mesa Verde \", \"Mount Rainier \", \"North Cascades \", \"Olympic \", \"Petrified Forest \", \"Pinnacles \", \"Redwood \", \"Rocky Mountain \", \"Saguaro \", \"Shenandoah \", \"Theodore Roosevelt \", \"Voyageurs \", \"Wind Cave \", \"Wrangell - St Elias \", \"Yellowstone \", \"Yosemite \", \"Zion \"], \"xaxis\": \"x4\", \"y\": [0.257459505541347, 0.33466666666666667, 0.4, 0.29985082048731976, 0.667167543200601, 0.31059506531204645, 0.2936708860759494, 0.3568129330254042, 0.2768701633705933, 0.3405746320953048, 0.4916080129940444, 0.4215546018121125, 0.20035618878005343, 0.35030777839955235, 0.20459081836327345, 0.33152173913043476, 0.7919463087248322, 0.42610150585610707, 0.2223756906077348, 0.231473771856786, 0.4888, 0.27094105480868663, 0.32280701754385965, 0.305978898007034, 0.2919238683127572, 0.23738214087631726, 0.31499051233396586, 0.5052681992337165, 0.6220443797744635, 0.36323529411764705, 0.30795551753635586, 0.4071925754060325, 0.32040050062578224, 0.37209302325581395, 0.2774774774774775, 0.25101626016260165, 0.25, 0.3441524987120041, 0.2643884892086331, 0.20637219406227372, 0.30042918454935624, 0.36795903438185806, 0.38283378746594005, 0.4847775175644028, 0.3305139882888744, 0.3489390367126979, 0.21722609246358454, 0.19384264538198404, 0.31149301825993553, 0.32151898734177214, 0.39943342776203966, 0.25479814692256786, 0.610744039069233, 0.2083989501312336, 0.24449506454062261], \"yaxis\": \"y4\"}, {\"type\": \"bar\", \"x\": [\"Acadia \", \"Arches \", \"Badlands \", \"Big Bend \", \"Biscayne \", \"Black Canyon of the Gunnison \", \"Bryce Canyon \", \"Canyonlands \", \"Capitol Reef \", \"Carlsbad Caverns \", \"Channel Islands \", \"Congaree \", \"Crater Lake \", \"Cuyahoga Valley \", \"Denali \", \"Death Valley \", \"Dry Tortugas \", \"Everglades \", \"Gates Of The Arctic \", \"Glacier \", \"Glacier Bay \", \"Great Basin \", \"Grand Canyon \", \"Great Sand Dunes \", \"Great Smoky Mountains \", \"Grand Teton \", \"Guadalupe Mountains \", \"Haleakala \", \"Hawaii Volcanoes \", \"Hot Springs \", \"Isle Royale \", \"Joshua Tree \", \"Katmai \", \"Kenai Fjords \", \"Kobuk Valley \", \"Lake Clark \", \"Lassen Volcanic \", \"Mammoth Cave \", \"Mesa Verde \", \"Mount Rainier \", \"North Cascades \", \"Olympic \", \"Petrified Forest \", \"Pinnacles \", \"Redwood \", \"Rocky Mountain \", \"Saguaro \", \"Shenandoah \", \"Theodore Roosevelt \", \"Voyageurs \", \"Wind Cave \", \"Wrangell - St Elias \", \"Yellowstone \", \"Yosemite \", \"Zion \"], \"xaxis\": \"x5\", \"y\": [0.1456953642384106, 0.05976095617529881, 0.054945054945054944, 0.08623548922056384, 0.6272522522522522, 0.06074766355140187, 0.017241379310344827, 0.1262135922330097, 0.046583850931677016, 0.026748971193415638, 0.2973568281938326, 0.11085972850678733, 0.057777777777777775, 0.14217252396166133, 0.07317073170731707, 0.02663934426229508, 0.4423728813559322, 0.4109947643979058, 0.012422360248447204, 0.0683453237410072, 0.3109656301145663, 0.022900763358778626, 0.03985507246376811, 0.038314176245210725, 0.09955947136563877, 0.0630841121495327, 0.0321285140562249, 0.02085308056872038, 0.03742690058479532, 0.19838056680161945, 0.20833333333333334, 0.005698005698005698, 0.125, 0.13333333333333333, 0.11038961038961038, 0.18218623481781376, 0.054901960784313725, 0.1601796407185629, 0.01020408163265306, 0.10175438596491228, 0.04395604395604396, 0.19483101391650098, 0.02491103202846975, 0.027375201288244767, 0.2204724409448819, 0.05115830115830116, 0.023323615160349854, 0.12941176470588237, 0.12413793103448276, 0.1679790026246719, 0.030732860520094562, 0.23376623376623376, 0.03151458137347131, 0.055415617128463476, 0.049689440993788817], \"yaxis\": \"y5\"}, {\"type\": \"bar\", \"x\": [\"Acadia \", \"Arches \", \"Badlands \", \"Big Bend \", \"Biscayne \", \"Black Canyon of the Gunnison \", \"Bryce Canyon \", \"Canyonlands \", \"Capitol Reef \", \"Carlsbad Caverns \", \"Channel Islands \", \"Congaree \", \"Crater Lake \", \"Cuyahoga Valley \", \"Denali \", \"Death Valley \", \"Dry Tortugas \", \"Everglades \", \"Gates Of The Arctic \", \"Glacier \", \"Glacier Bay \", \"Great Basin \", \"Grand Canyon \", \"Great Sand Dunes \", \"Great Smoky Mountains \", \"Grand Teton \", \"Guadalupe Mountains \", \"Haleakala \", \"Hawaii Volcanoes \", \"Hot Springs \", \"Isle Royale \", \"Joshua Tree \", \"Katmai \", \"Kenai Fjords \", \"Kobuk Valley \", \"Lake Clark \", \"Lassen Volcanic \", \"Mammoth Cave \", \"Mesa Verde \", \"Mount Rainier \", \"North Cascades \", \"Olympic \", \"Petrified Forest \", \"Pinnacles \", \"Redwood \", \"Rocky Mountain \", \"Saguaro \", \"Shenandoah \", \"Theodore Roosevelt \", \"Voyageurs \", \"Wind Cave \", \"Wrangell - St Elias \", \"Yellowstone \", \"Yosemite \", \"Zion \"], \"xaxis\": \"x6\", \"y\": [2889149.0, 1356430.0, 945143.0, 379312.0, 503466.0, 255753.0, 1885060.0, 605185.0, 938365.0, 405489.0, 306302.0, 128594.0, 610781.0, 2277833.0, 489889.0, 1197030.0, 64234.0, 967891.0, 10115.0, 2487676.0, 478197.0, 122086.0, 5103793.0, 365609.0, 10757765.0, 3069628.0, 171351.0, 992934.0, 1492425.0, 1429540.0, 19394.0, 2148073.0, 43557.0, 292321.0, 13080.0, 14416.0, 468947.0, 512499.0, 517473.0, 1269110.0, 27046.0, 3102604.0, 649761.0, 227255.0, 431609.0, 3850891.0, 787465.0, 1338665.0, 634290.0, 231777.0, 570029.0, 69542.0, 3795657.0, 3959522.0, 3664454.0], \"yaxis\": \"y6\"}, {\"type\": \"bar\", \"x\": [\"Acadia \", \"Acadia \", \"Big Bend \", \"Canyonlands \", \"Carlsbad Caverns \", \"Death Valley \", \"Denali \", \"Glacier \", \"Grand Canyon \", \"Grand Teton \", \"Great Basin \", \"Great Smoky Mountains \", \"Great Smoky Mountains \", \"Great Smoky Mountains \", \"Great Smoky Mountains \", \"Great Smoky Mountains \", \"Guadalupe Mountains \", \"Joshua Tree \", \"Joshua Tree \", \"Lassen Volcanic \", \"Mammoth Cave \", \"Mesa Verde \", \"Petrified Forest \", \"Pinnacles \", \"Rocky Mountain \", \"Shenandoah \", \"Theodore Roosevelt \", \"Voyageurs \", \"Wind Cave \", \"Yellowstone \", \"Yosemite \", \"Zion \"], \"xaxis\": \"x7\", \"y\": [3, 2, 0, 2, 14, 8, 0, 0, 0, 0, 2, 0, 0, 0, 1, 0, 4, 37, 0, 9, 0, 2, 1, 0, 14, 0, 1, 0, 0, 1, 17, 2], \"yaxis\": \"y7\"}],\n",
              "                        {\"annotations\": [{\"font\": {\"size\": 16}, \"showarrow\": false, \"text\": \"Percent_At_Risk\", \"x\": 0.225, \"xanchor\": \"center\", \"xref\": \"paper\", \"y\": 1.0, \"yanchor\": \"bottom\", \"yref\": \"paper\"}, {\"font\": {\"size\": 16}, \"showarrow\": false, \"text\": \"Species_Per_Acre\", \"x\": 0.775, \"xanchor\": \"center\", \"xref\": \"paper\", \"y\": 1.0, \"yanchor\": \"bottom\", \"yref\": \"paper\"}, {\"font\": {\"size\": 16}, \"showarrow\": false, \"text\": \"Native_Proportion\", \"x\": 0.225, \"xanchor\": \"center\", \"xref\": \"paper\", \"y\": 0.71875, \"yanchor\": \"bottom\", \"yref\": \"paper\"}, {\"font\": {\"size\": 16}, \"showarrow\": false, \"text\": \"Percent_Animals\", \"x\": 0.775, \"xanchor\": \"center\", \"xref\": \"paper\", \"y\": 0.71875, \"yanchor\": \"bottom\", \"yref\": \"paper\"}, {\"font\": {\"size\": 16}, \"showarrow\": false, \"text\": \"Percent_Aquatic\", \"x\": 0.225, \"xanchor\": \"center\", \"xref\": \"paper\", \"y\": 0.4375, \"yanchor\": \"bottom\", \"yref\": \"paper\"}, {\"font\": {\"size\": 16}, \"showarrow\": false, \"text\": \"AVG_Visitation\", \"x\": 0.775, \"xanchor\": \"center\", \"xref\": \"paper\", \"y\": 0.4375, \"yanchor\": \"bottom\", \"yref\": \"paper\"}, {\"font\": {\"size\": 16}, \"showarrow\": false, \"text\": \"Ozone\", \"x\": 0.225, \"xanchor\": \"center\", \"xref\": \"paper\", \"y\": 0.15625, \"yanchor\": \"bottom\", \"yref\": \"paper\"}], \"height\": 1700, \"showlegend\": false, \"template\": {\"data\": {\"bar\": [{\"error_x\": {\"color\": \"#2a3f5f\"}, \"error_y\": {\"color\": \"#2a3f5f\"}, \"marker\": {\"line\": {\"color\": \"#E5ECF6\", \"width\": 0.5}}, \"type\": \"bar\"}], \"barpolar\": [{\"marker\": {\"line\": {\"color\": \"#E5ECF6\", \"width\": 0.5}}, \"type\": \"barpolar\"}], \"carpet\": [{\"aaxis\": {\"endlinecolor\": \"#2a3f5f\", \"gridcolor\": \"white\", \"linecolor\": \"white\", \"minorgridcolor\": \"white\", \"startlinecolor\": \"#2a3f5f\"}, \"baxis\": {\"endlinecolor\": \"#2a3f5f\", \"gridcolor\": \"white\", \"linecolor\": \"white\", \"minorgridcolor\": \"white\", \"startlinecolor\": \"#2a3f5f\"}, \"type\": \"carpet\"}], \"choropleth\": [{\"colorbar\": {\"outlinewidth\": 0, \"ticks\": \"\"}, \"type\": \"choropleth\"}], \"contour\": [{\"colorbar\": {\"outlinewidth\": 0, \"ticks\": \"\"}, \"colorscale\": [[0.0, \"#0d0887\"], [0.1111111111111111, \"#46039f\"], [0.2222222222222222, \"#7201a8\"], [0.3333333333333333, \"#9c179e\"], [0.4444444444444444, \"#bd3786\"], [0.5555555555555556, \"#d8576b\"], [0.6666666666666666, \"#ed7953\"], [0.7777777777777778, \"#fb9f3a\"], [0.8888888888888888, \"#fdca26\"], [1.0, \"#f0f921\"]], \"type\": \"contour\"}], \"contourcarpet\": [{\"colorbar\": {\"outlinewidth\": 0, \"ticks\": \"\"}, \"type\": \"contourcarpet\"}], \"heatmap\": [{\"colorbar\": {\"outlinewidth\": 0, \"ticks\": \"\"}, \"colorscale\": [[0.0, \"#0d0887\"], [0.1111111111111111, \"#46039f\"], [0.2222222222222222, \"#7201a8\"], [0.3333333333333333, \"#9c179e\"], [0.4444444444444444, \"#bd3786\"], [0.5555555555555556, \"#d8576b\"], [0.6666666666666666, \"#ed7953\"], [0.7777777777777778, \"#fb9f3a\"], [0.8888888888888888, \"#fdca26\"], [1.0, \"#f0f921\"]], \"type\": \"heatmap\"}], \"heatmapgl\": [{\"colorbar\": {\"outlinewidth\": 0, \"ticks\": \"\"}, \"colorscale\": [[0.0, \"#0d0887\"], [0.1111111111111111, \"#46039f\"], [0.2222222222222222, \"#7201a8\"], [0.3333333333333333, \"#9c179e\"], [0.4444444444444444, \"#bd3786\"], [0.5555555555555556, \"#d8576b\"], [0.6666666666666666, \"#ed7953\"], [0.7777777777777778, \"#fb9f3a\"], [0.8888888888888888, \"#fdca26\"], [1.0, \"#f0f921\"]], \"type\": \"heatmapgl\"}], \"histogram\": [{\"marker\": {\"colorbar\": {\"outlinewidth\": 0, \"ticks\": \"\"}}, \"type\": \"histogram\"}], \"histogram2d\": [{\"colorbar\": {\"outlinewidth\": 0, \"ticks\": \"\"}, \"colorscale\": [[0.0, \"#0d0887\"], [0.1111111111111111, \"#46039f\"], [0.2222222222222222, \"#7201a8\"], [0.3333333333333333, \"#9c179e\"], [0.4444444444444444, \"#bd3786\"], [0.5555555555555556, \"#d8576b\"], [0.6666666666666666, \"#ed7953\"], [0.7777777777777778, \"#fb9f3a\"], [0.8888888888888888, \"#fdca26\"], [1.0, \"#f0f921\"]], \"type\": \"histogram2d\"}], \"histogram2dcontour\": [{\"colorbar\": {\"outlinewidth\": 0, \"ticks\": \"\"}, \"colorscale\": [[0.0, \"#0d0887\"], [0.1111111111111111, \"#46039f\"], [0.2222222222222222, \"#7201a8\"], [0.3333333333333333, \"#9c179e\"], [0.4444444444444444, \"#bd3786\"], [0.5555555555555556, \"#d8576b\"], [0.6666666666666666, \"#ed7953\"], [0.7777777777777778, \"#fb9f3a\"], [0.8888888888888888, \"#fdca26\"], [1.0, \"#f0f921\"]], \"type\": \"histogram2dcontour\"}], \"mesh3d\": [{\"colorbar\": {\"outlinewidth\": 0, \"ticks\": \"\"}, \"type\": \"mesh3d\"}], \"parcoords\": [{\"line\": {\"colorbar\": {\"outlinewidth\": 0, \"ticks\": \"\"}}, \"type\": \"parcoords\"}], \"pie\": [{\"automargin\": true, \"type\": \"pie\"}], \"scatter\": [{\"marker\": {\"colorbar\": {\"outlinewidth\": 0, \"ticks\": \"\"}}, \"type\": \"scatter\"}], \"scatter3d\": [{\"line\": {\"colorbar\": {\"outlinewidth\": 0, \"ticks\": \"\"}}, \"marker\": {\"colorbar\": {\"outlinewidth\": 0, \"ticks\": \"\"}}, \"type\": \"scatter3d\"}], \"scattercarpet\": [{\"marker\": {\"colorbar\": {\"outlinewidth\": 0, \"ticks\": \"\"}}, \"type\": \"scattercarpet\"}], \"scattergeo\": [{\"marker\": {\"colorbar\": {\"outlinewidth\": 0, \"ticks\": \"\"}}, \"type\": \"scattergeo\"}], \"scattergl\": [{\"marker\": {\"colorbar\": {\"outlinewidth\": 0, \"ticks\": \"\"}}, \"type\": \"scattergl\"}], \"scattermapbox\": [{\"marker\": {\"colorbar\": {\"outlinewidth\": 0, \"ticks\": \"\"}}, \"type\": \"scattermapbox\"}], \"scatterpolar\": [{\"marker\": {\"colorbar\": {\"outlinewidth\": 0, \"ticks\": \"\"}}, \"type\": \"scatterpolar\"}], \"scatterpolargl\": [{\"marker\": {\"colorbar\": {\"outlinewidth\": 0, \"ticks\": \"\"}}, \"type\": \"scatterpolargl\"}], \"scatterternary\": [{\"marker\": {\"colorbar\": {\"outlinewidth\": 0, \"ticks\": \"\"}}, \"type\": \"scatterternary\"}], \"surface\": [{\"colorbar\": {\"outlinewidth\": 0, \"ticks\": \"\"}, \"colorscale\": [[0.0, \"#0d0887\"], [0.1111111111111111, \"#46039f\"], [0.2222222222222222, \"#7201a8\"], [0.3333333333333333, \"#9c179e\"], [0.4444444444444444, \"#bd3786\"], [0.5555555555555556, \"#d8576b\"], [0.6666666666666666, \"#ed7953\"], [0.7777777777777778, \"#fb9f3a\"], [0.8888888888888888, \"#fdca26\"], [1.0, \"#f0f921\"]], \"type\": \"surface\"}], \"table\": [{\"cells\": {\"fill\": {\"color\": \"#EBF0F8\"}, \"line\": {\"color\": \"white\"}}, \"header\": {\"fill\": {\"color\": \"#C8D4E3\"}, \"line\": {\"color\": \"white\"}}, \"type\": \"table\"}]}, \"layout\": {\"annotationdefaults\": {\"arrowcolor\": \"#2a3f5f\", \"arrowhead\": 0, \"arrowwidth\": 1}, \"coloraxis\": {\"colorbar\": {\"outlinewidth\": 0, \"ticks\": \"\"}}, \"colorscale\": {\"diverging\": [[0, \"#8e0152\"], [0.1, \"#c51b7d\"], [0.2, \"#de77ae\"], [0.3, \"#f1b6da\"], [0.4, \"#fde0ef\"], [0.5, \"#f7f7f7\"], [0.6, \"#e6f5d0\"], [0.7, \"#b8e186\"], [0.8, \"#7fbc41\"], [0.9, \"#4d9221\"], [1, \"#276419\"]], \"sequential\": [[0.0, \"#0d0887\"], [0.1111111111111111, \"#46039f\"], [0.2222222222222222, \"#7201a8\"], [0.3333333333333333, \"#9c179e\"], [0.4444444444444444, \"#bd3786\"], [0.5555555555555556, \"#d8576b\"], [0.6666666666666666, \"#ed7953\"], [0.7777777777777778, \"#fb9f3a\"], [0.8888888888888888, \"#fdca26\"], [1.0, \"#f0f921\"]], \"sequentialminus\": [[0.0, \"#0d0887\"], [0.1111111111111111, \"#46039f\"], [0.2222222222222222, \"#7201a8\"], [0.3333333333333333, \"#9c179e\"], [0.4444444444444444, \"#bd3786\"], [0.5555555555555556, \"#d8576b\"], [0.6666666666666666, \"#ed7953\"], [0.7777777777777778, \"#fb9f3a\"], [0.8888888888888888, \"#fdca26\"], [1.0, \"#f0f921\"]]}, \"colorway\": [\"#636efa\", \"#EF553B\", \"#00cc96\", \"#ab63fa\", \"#FFA15A\", \"#19d3f3\", \"#FF6692\", \"#B6E880\", \"#FF97FF\", \"#FECB52\"], \"font\": {\"color\": \"#2a3f5f\"}, \"geo\": {\"bgcolor\": \"white\", \"lakecolor\": \"white\", \"landcolor\": \"#E5ECF6\", \"showlakes\": true, \"showland\": true, \"subunitcolor\": \"white\"}, \"hoverlabel\": {\"align\": \"left\"}, \"hovermode\": \"closest\", \"mapbox\": {\"style\": \"light\"}, \"paper_bgcolor\": \"white\", \"plot_bgcolor\": \"#E5ECF6\", \"polar\": {\"angularaxis\": {\"gridcolor\": \"white\", \"linecolor\": \"white\", \"ticks\": \"\"}, \"bgcolor\": \"#E5ECF6\", \"radialaxis\": {\"gridcolor\": \"white\", \"linecolor\": \"white\", \"ticks\": \"\"}}, \"scene\": {\"xaxis\": {\"backgroundcolor\": \"#E5ECF6\", \"gridcolor\": \"white\", \"gridwidth\": 2, \"linecolor\": \"white\", \"showbackground\": true, \"ticks\": \"\", \"zerolinecolor\": \"white\"}, \"yaxis\": {\"backgroundcolor\": \"#E5ECF6\", \"gridcolor\": \"white\", \"gridwidth\": 2, \"linecolor\": \"white\", \"showbackground\": true, \"ticks\": \"\", \"zerolinecolor\": \"white\"}, \"zaxis\": {\"backgroundcolor\": \"#E5ECF6\", \"gridcolor\": \"white\", \"gridwidth\": 2, \"linecolor\": \"white\", \"showbackground\": true, \"ticks\": \"\", \"zerolinecolor\": \"white\"}}, \"shapedefaults\": {\"line\": {\"color\": \"#2a3f5f\"}}, \"ternary\": {\"aaxis\": {\"gridcolor\": \"white\", \"linecolor\": \"white\", \"ticks\": \"\"}, \"baxis\": {\"gridcolor\": \"white\", \"linecolor\": \"white\", \"ticks\": \"\"}, \"bgcolor\": \"#E5ECF6\", \"caxis\": {\"gridcolor\": \"white\", \"linecolor\": \"white\", \"ticks\": \"\"}}, \"title\": {\"x\": 0.05}, \"xaxis\": {\"automargin\": true, \"gridcolor\": \"white\", \"linecolor\": \"white\", \"ticks\": \"\", \"title\": {\"standoff\": 15}, \"zerolinecolor\": \"white\", \"zerolinewidth\": 2}, \"yaxis\": {\"automargin\": true, \"gridcolor\": \"white\", \"linecolor\": \"white\", \"ticks\": \"\", \"title\": {\"standoff\": 15}, \"zerolinecolor\": \"white\", \"zerolinewidth\": 2}}}, \"xaxis\": {\"anchor\": \"y\", \"domain\": [0.0, 0.45]}, \"xaxis2\": {\"anchor\": \"y2\", \"domain\": [0.55, 1.0]}, \"xaxis3\": {\"anchor\": \"y3\", \"domain\": [0.0, 0.45]}, \"xaxis4\": {\"anchor\": \"y4\", \"domain\": [0.55, 1.0]}, \"xaxis5\": {\"anchor\": \"y5\", \"domain\": [0.0, 0.45]}, \"xaxis6\": {\"anchor\": \"y6\", \"domain\": [0.55, 1.0]}, \"xaxis7\": {\"anchor\": \"y7\", \"domain\": [0.0, 0.45]}, \"xaxis8\": {\"anchor\": \"y8\", \"domain\": [0.55, 1.0]}, \"yaxis\": {\"anchor\": \"x\", \"domain\": [0.84375, 1.0]}, \"yaxis2\": {\"anchor\": \"x2\", \"domain\": [0.84375, 1.0]}, \"yaxis3\": {\"anchor\": \"x3\", \"domain\": [0.5625, 0.71875]}, \"yaxis4\": {\"anchor\": \"x4\", \"domain\": [0.5625, 0.71875]}, \"yaxis5\": {\"anchor\": \"x5\", \"domain\": [0.28125, 0.4375]}, \"yaxis6\": {\"anchor\": \"x6\", \"domain\": [0.28125, 0.4375]}, \"yaxis7\": {\"anchor\": \"x7\", \"domain\": [0.0, 0.15625]}, \"yaxis8\": {\"anchor\": \"x8\", \"domain\": [0.0, 0.15625]}},\n",
              "                        {\"responsive\": true}\n",
              "                    ).then(function(){\n",
              "                            \n",
              "var gd = document.getElementById('4e42080d-8ef1-49d8-863c-4d3f0433a14e');\n",
              "var x = new MutationObserver(function (mutations, observer) {{\n",
              "        var display = window.getComputedStyle(gd).display;\n",
              "        if (!display || display === 'none') {{\n",
              "            console.log([gd, 'removed!']);\n",
              "            Plotly.purge(gd);\n",
              "            observer.disconnect();\n",
              "        }}\n",
              "}});\n",
              "\n",
              "// Listen for the removal of the full notebook cells\n",
              "var notebookContainer = gd.closest('#notebook-container');\n",
              "if (notebookContainer) {{\n",
              "    x.observe(notebookContainer, {childList: true});\n",
              "}}\n",
              "\n",
              "// Listen for the clearing of the current output cell\n",
              "var outputEl = gd.closest('.output');\n",
              "if (outputEl) {{\n",
              "    x.observe(outputEl, {childList: true});\n",
              "}}\n",
              "\n",
              "                        })\n",
              "                };\n",
              "                \n",
              "            </script>\n",
              "        </div>\n",
              "</body>\n",
              "</html>"
            ]
          },
          "metadata": {}
        }
      ]
    },
    {
      "cell_type": "markdown",
      "metadata": {
        "id": "U3s86zXZ1nKY"
      },
      "source": [
        "# Modelling"
      ]
    },
    {
      "cell_type": "markdown",
      "metadata": {
        "id": "RhQx1dGDAGmi"
      },
      "source": [
        "## Principal Component Analysis"
      ]
    },
    {
      "cell_type": "code",
      "metadata": {
        "id": "xd7nBla-Ygv4",
        "colab": {
          "base_uri": "https://localhost:8080/",
          "height": 206
        },
        "outputId": "ee180367-605d-489b-a971-753ff902d520"
      },
      "source": [
        "parks_pca = parks[['Acres','Latitude','Longitude','AVG_Visitation','Native_Proportion','Species_Per_Acre', \"Percent_Animals\", \"Percent_Aquatic\"]]\n",
        "parks_pca.head()"
      ],
      "execution_count": 220,
      "outputs": [
        {
          "output_type": "execute_result",
          "data": {
            "text/html": [
              "<div>\n",
              "<style scoped>\n",
              "    .dataframe tbody tr th:only-of-type {\n",
              "        vertical-align: middle;\n",
              "    }\n",
              "\n",
              "    .dataframe tbody tr th {\n",
              "        vertical-align: top;\n",
              "    }\n",
              "\n",
              "    .dataframe thead th {\n",
              "        text-align: right;\n",
              "    }\n",
              "</style>\n",
              "<table border=\"1\" class=\"dataframe\">\n",
              "  <thead>\n",
              "    <tr style=\"text-align: right;\">\n",
              "      <th></th>\n",
              "      <th>Acres</th>\n",
              "      <th>Latitude</th>\n",
              "      <th>Longitude</th>\n",
              "      <th>AVG_Visitation</th>\n",
              "      <th>Native_Proportion</th>\n",
              "      <th>Species_Per_Acre</th>\n",
              "      <th>Percent_Animals</th>\n",
              "      <th>Percent_Aquatic</th>\n",
              "    </tr>\n",
              "  </thead>\n",
              "  <tbody>\n",
              "    <tr>\n",
              "      <th>0</th>\n",
              "      <td>47390</td>\n",
              "      <td>44.35</td>\n",
              "      <td>-68.21</td>\n",
              "      <td>2889149.0</td>\n",
              "      <td>0.763181</td>\n",
              "      <td>0.024752</td>\n",
              "      <td>0.257460</td>\n",
              "      <td>0.145695</td>\n",
              "    </tr>\n",
              "    <tr>\n",
              "      <th>1</th>\n",
              "      <td>76519</td>\n",
              "      <td>38.68</td>\n",
              "      <td>-109.57</td>\n",
              "      <td>1356430.0</td>\n",
              "      <td>0.887850</td>\n",
              "      <td>0.009801</td>\n",
              "      <td>0.334667</td>\n",
              "      <td>0.059761</td>\n",
              "    </tr>\n",
              "    <tr>\n",
              "      <th>2</th>\n",
              "      <td>242756</td>\n",
              "      <td>43.75</td>\n",
              "      <td>-102.50</td>\n",
              "      <td>945143.0</td>\n",
              "      <td>0.688053</td>\n",
              "      <td>0.003749</td>\n",
              "      <td>0.400000</td>\n",
              "      <td>0.054945</td>\n",
              "    </tr>\n",
              "    <tr>\n",
              "      <th>3</th>\n",
              "      <td>801163</td>\n",
              "      <td>29.25</td>\n",
              "      <td>-103.25</td>\n",
              "      <td>379312.0</td>\n",
              "      <td>0.945798</td>\n",
              "      <td>0.002510</td>\n",
              "      <td>0.299851</td>\n",
              "      <td>0.086235</td>\n",
              "    </tr>\n",
              "    <tr>\n",
              "      <th>4</th>\n",
              "      <td>172924</td>\n",
              "      <td>25.65</td>\n",
              "      <td>-80.08</td>\n",
              "      <td>503466.0</td>\n",
              "      <td>0.788095</td>\n",
              "      <td>0.007697</td>\n",
              "      <td>0.667168</td>\n",
              "      <td>0.627252</td>\n",
              "    </tr>\n",
              "  </tbody>\n",
              "</table>\n",
              "</div>"
            ],
            "text/plain": [
              "    Acres  Latitude  ...  Percent_Animals  Percent_Aquatic\n",
              "0   47390     44.35  ...         0.257460         0.145695\n",
              "1   76519     38.68  ...         0.334667         0.059761\n",
              "2  242756     43.75  ...         0.400000         0.054945\n",
              "3  801163     29.25  ...         0.299851         0.086235\n",
              "4  172924     25.65  ...         0.667168         0.627252\n",
              "\n",
              "[5 rows x 8 columns]"
            ]
          },
          "metadata": {},
          "execution_count": 220
        }
      ]
    },
    {
      "cell_type": "code",
      "metadata": {
        "id": "p7A9aas-6zEA",
        "colab": {
          "base_uri": "https://localhost:8080/",
          "height": 206
        },
        "outputId": "6d4a15cb-f873-4d99-8e4b-018becb0e0c0"
      },
      "source": [
        "parks_pca_centered = parks_pca - np.mean(parks_pca, axis=0)\n",
        "parks_pca_centered_stds = np.std(parks_pca_centered, axis = 0)\n",
        "parks_standardized = parks_pca_centered/parks_pca_centered_stds\n",
        "parks_standardized.head()"
      ],
      "execution_count": 221,
      "outputs": [
        {
          "output_type": "execute_result",
          "data": {
            "text/html": [
              "<div>\n",
              "<style scoped>\n",
              "    .dataframe tbody tr th:only-of-type {\n",
              "        vertical-align: middle;\n",
              "    }\n",
              "\n",
              "    .dataframe tbody tr th {\n",
              "        vertical-align: top;\n",
              "    }\n",
              "\n",
              "    .dataframe thead th {\n",
              "        text-align: right;\n",
              "    }\n",
              "</style>\n",
              "<table border=\"1\" class=\"dataframe\">\n",
              "  <thead>\n",
              "    <tr style=\"text-align: right;\">\n",
              "      <th></th>\n",
              "      <th>Acres</th>\n",
              "      <th>Latitude</th>\n",
              "      <th>Longitude</th>\n",
              "      <th>AVG_Visitation</th>\n",
              "      <th>Native_Proportion</th>\n",
              "      <th>Species_Per_Acre</th>\n",
              "      <th>Percent_Animals</th>\n",
              "      <th>Percent_Aquatic</th>\n",
              "    </tr>\n",
              "  </thead>\n",
              "  <tbody>\n",
              "    <tr>\n",
              "      <th>0</th>\n",
              "      <td>-0.515824</td>\n",
              "      <td>0.278140</td>\n",
              "      <td>2.003108</td>\n",
              "      <td>0.894615</td>\n",
              "      <td>-0.832972</td>\n",
              "      <td>0.432501</td>\n",
              "      <td>-0.714627</td>\n",
              "      <td>0.269323</td>\n",
              "    </tr>\n",
              "    <tr>\n",
              "      <th>1</th>\n",
              "      <td>-0.498782</td>\n",
              "      <td>-0.242558</td>\n",
              "      <td>0.158989</td>\n",
              "      <td>0.033477</td>\n",
              "      <td>0.259845</td>\n",
              "      <td>-0.233967</td>\n",
              "      <td>-0.075908</td>\n",
              "      <td>-0.455749</td>\n",
              "    </tr>\n",
              "    <tr>\n",
              "      <th>2</th>\n",
              "      <td>-0.401524</td>\n",
              "      <td>0.223039</td>\n",
              "      <td>0.474219</td>\n",
              "      <td>-0.197599</td>\n",
              "      <td>-1.491517</td>\n",
              "      <td>-0.503793</td>\n",
              "      <td>0.464581</td>\n",
              "      <td>-0.496383</td>\n",
              "    </tr>\n",
              "    <tr>\n",
              "      <th>3</th>\n",
              "      <td>-0.074825</td>\n",
              "      <td>-1.108551</td>\n",
              "      <td>0.440779</td>\n",
              "      <td>-0.515504</td>\n",
              "      <td>0.767796</td>\n",
              "      <td>-0.559003</td>\n",
              "      <td>-0.363932</td>\n",
              "      <td>-0.232370</td>\n",
              "    </tr>\n",
              "    <tr>\n",
              "      <th>4</th>\n",
              "      <td>-0.442380</td>\n",
              "      <td>-1.439153</td>\n",
              "      <td>1.473860</td>\n",
              "      <td>-0.445749</td>\n",
              "      <td>-0.614579</td>\n",
              "      <td>-0.327780</td>\n",
              "      <td>2.674801</td>\n",
              "      <td>4.332461</td>\n",
              "    </tr>\n",
              "  </tbody>\n",
              "</table>\n",
              "</div>"
            ],
            "text/plain": [
              "      Acres  Latitude  ...  Percent_Animals  Percent_Aquatic\n",
              "0 -0.515824  0.278140  ...        -0.714627         0.269323\n",
              "1 -0.498782 -0.242558  ...        -0.075908        -0.455749\n",
              "2 -0.401524  0.223039  ...         0.464581        -0.496383\n",
              "3 -0.074825 -1.108551  ...        -0.363932        -0.232370\n",
              "4 -0.442380 -1.439153  ...         2.674801         4.332461\n",
              "\n",
              "[5 rows x 8 columns]"
            ]
          },
          "metadata": {},
          "execution_count": 221
        }
      ]
    },
    {
      "cell_type": "code",
      "metadata": {
        "id": "RO0MugG5TEmj"
      },
      "source": [
        "u, s, vt = np.linalg.svd(parks_standardized, full_matrices = False)"
      ],
      "execution_count": 222,
      "outputs": []
    },
    {
      "cell_type": "code",
      "metadata": {
        "id": "LmLjP6tNTF_s",
        "colab": {
          "base_uri": "https://localhost:8080/",
          "height": 206
        },
        "outputId": "0827bd7a-181c-45df-a8e5-cb9698aef970"
      },
      "source": [
        "parks_1st_2_pcs = pd.DataFrame(data = (u*s)[:,0:2],columns=['pc1','pc2'])\n",
        "parks_1st_2_pcs.head()"
      ],
      "execution_count": 223,
      "outputs": [
        {
          "output_type": "execute_result",
          "data": {
            "text/html": [
              "<div>\n",
              "<style scoped>\n",
              "    .dataframe tbody tr th:only-of-type {\n",
              "        vertical-align: middle;\n",
              "    }\n",
              "\n",
              "    .dataframe tbody tr th {\n",
              "        vertical-align: top;\n",
              "    }\n",
              "\n",
              "    .dataframe thead th {\n",
              "        text-align: right;\n",
              "    }\n",
              "</style>\n",
              "<table border=\"1\" class=\"dataframe\">\n",
              "  <thead>\n",
              "    <tr style=\"text-align: right;\">\n",
              "      <th></th>\n",
              "      <th>pc1</th>\n",
              "      <th>pc2</th>\n",
              "    </tr>\n",
              "  </thead>\n",
              "  <tbody>\n",
              "    <tr>\n",
              "      <th>0</th>\n",
              "      <td>-1.351118</td>\n",
              "      <td>0.963631</td>\n",
              "    </tr>\n",
              "    <tr>\n",
              "      <th>1</th>\n",
              "      <td>-0.107023</td>\n",
              "      <td>0.472836</td>\n",
              "    </tr>\n",
              "    <tr>\n",
              "      <th>2</th>\n",
              "      <td>-0.796347</td>\n",
              "      <td>0.114925</td>\n",
              "    </tr>\n",
              "    <tr>\n",
              "      <th>3</th>\n",
              "      <td>0.001014</td>\n",
              "      <td>0.152944</td>\n",
              "    </tr>\n",
              "    <tr>\n",
              "      <th>4</th>\n",
              "      <td>-3.075252</td>\n",
              "      <td>-4.219213</td>\n",
              "    </tr>\n",
              "  </tbody>\n",
              "</table>\n",
              "</div>"
            ],
            "text/plain": [
              "        pc1       pc2\n",
              "0 -1.351118  0.963631\n",
              "1 -0.107023  0.472836\n",
              "2 -0.796347  0.114925\n",
              "3  0.001014  0.152944\n",
              "4 -3.075252 -4.219213"
            ]
          },
          "metadata": {},
          "execution_count": 223
        }
      ]
    },
    {
      "cell_type": "code",
      "metadata": {
        "id": "ZEo9Pj0Nc3Q3",
        "colab": {
          "base_uri": "https://localhost:8080/",
          "height": 1000
        },
        "outputId": "986aa4bf-fea0-4130-d211-ca137344d092"
      },
      "source": [
        "\n",
        "park_names = list(parks['Park Name']) \n",
        "parks_1st_2_pcs['Park Name'] = park_names\n",
        "parks_1st_2_pcs['Percent_At_Risk'] = parks['Percent_At_Risk']\n",
        "\n",
        "fig = px.scatter(parks_1st_2_pcs, x=\"pc1\", y=\"pc2\", \n",
        "                 text='Park Name', \n",
        "                 color='Percent_At_Risk', \n",
        "                 color_continuous_scale=\"YlOrRd\",\n",
        "                 title=\"The First Two Principle Components Colored by the Percentage of At-Risk Species in Each Park\"\n",
        "                 ); \n",
        "\n",
        "fig.update_traces(textposition='top right', marker=dict(size=9));\n",
        "fig.update_layout(width=1500, height=1100);\n",
        "fig.show();"
      ],
      "execution_count": 224,
      "outputs": [
        {
          "output_type": "display_data",
          "data": {
            "text/html": [
              "<html>\n",
              "<head><meta charset=\"utf-8\" /></head>\n",
              "<body>\n",
              "    <div>\n",
              "            <script src=\"https://cdnjs.cloudflare.com/ajax/libs/mathjax/2.7.5/MathJax.js?config=TeX-AMS-MML_SVG\"></script><script type=\"text/javascript\">if (window.MathJax) {MathJax.Hub.Config({SVG: {font: \"STIX-Web\"}});}</script>\n",
              "                <script type=\"text/javascript\">window.PlotlyConfig = {MathJaxConfig: 'local'};</script>\n",
              "        <script src=\"https://cdn.plot.ly/plotly-latest.min.js\"></script>    \n",
              "            <div id=\"641eb009-b14d-4090-aa12-d30c4f8014bc\" class=\"plotly-graph-div\" style=\"height:1100px; width:1500px;\"></div>\n",
              "            <script type=\"text/javascript\">\n",
              "                \n",
              "                    window.PLOTLYENV=window.PLOTLYENV || {};\n",
              "                    \n",
              "                if (document.getElementById(\"641eb009-b14d-4090-aa12-d30c4f8014bc\")) {\n",
              "                    Plotly.newPlot(\n",
              "                        '641eb009-b14d-4090-aa12-d30c4f8014bc',\n",
              "                        [{\"hoverlabel\": {\"namelength\": 0}, \"hovertemplate\": \"pc1=%{x}<br>pc2=%{y}<br>Park Name=%{text}<br>Percent_At_Risk=%{marker.color}\", \"legendgroup\": \"\", \"marker\": {\"color\": [0.04092071611253197, 0.06933333333333333, 0.06153846153846154, 0.06364992541024365, 0.04432757325319309, 0.07402031930333818, 0.07215189873417721, 0.07852193995381063, 0.06706792777300086, 0.06517168885774352, 0.07363291824580401, 0.01764425369575584, 0.04452359750667854, 0.027420257414661444, 0.02694610778443114, 0.06657608695652174, 0.07114093959731543, 0.046848856664807585, 0.024861878453038673, 0.028726061615320566, 0.0336, 0.05170630816959669, 0.04600389863547758, 0.053927315357561546, 0.022376543209876542, 0.036051026067665005, 0.04996837444655281, 0.031130268199233715, 0.036376864314296105, 0.03529411764705882, 0.04790419161676647, 0.09164733178654293, 0.03879849812265332, 0.043410852713178294, 0.02882882882882883, 0.03048780487804878, 0.04411764705882353, 0.025244719216898505, 0.06205035971223022, 0.03475742215785663, 0.023109937273027403, 0.046086320409656184, 0.08583106267029973, 0.047619047619047616, 0.06180871828236825, 0.020882452004041766, 0.052564914502849905, null, 0.021664766248574687, 0.03866809881847476, 0.04472573839662447, 0.05288007554296506, 0.025810721376571807, 0.023269175524274634, 0.04514435695538058], \"coloraxis\": \"coloraxis\", \"size\": 9, \"symbol\": \"circle\"}, \"mode\": \"markers+text\", \"name\": \"\", \"showlegend\": false, \"text\": [\"Acadia \", \"Arches \", \"Badlands \", \"Big Bend \", \"Biscayne \", \"Black Canyon of the Gunnison \", \"Bryce Canyon \", \"Canyonlands \", \"Capitol Reef \", \"Carlsbad Caverns \", \"Channel Islands \", \"Congaree \", \"Crater Lake \", \"Cuyahoga Valley \", \"Denali \", \"Death Valley \", \"Dry Tortugas \", \"Everglades \", \"Gates Of The Arctic \", \"Glacier \", \"Glacier Bay \", \"Great Basin \", \"Grand Canyon \", \"Great Sand Dunes \", \"Great Smoky Mountains \", \"Grand Teton \", \"Guadalupe Mountains \", \"Haleakala \", \"Hawaii Volcanoes \", \"Hot Springs \", \"Isle Royale \", \"Joshua Tree \", \"Katmai \", \"Kenai Fjords \", \"Kobuk Valley \", \"Lake Clark \", \"Lassen Volcanic \", \"Mammoth Cave \", \"Mesa Verde \", \"Mount Rainier \", \"North Cascades \", \"Olympic \", \"Petrified Forest \", \"Pinnacles \", \"Redwood \", \"Rocky Mountain \", \"Saguaro \", \"Shenandoah \", \"Theodore Roosevelt \", \"Voyageurs \", \"Wind Cave \", \"Wrangell - St Elias \", \"Yellowstone \", \"Yosemite \", \"Zion \"], \"textposition\": \"top right\", \"type\": \"scatter\", \"x\": [-1.3511176460787415, -0.10702337089312898, -0.796346870894353, 0.0010143162377571513, -3.0752519691936984, -0.1495151491082319, -0.031001994177262907, 0.029009219431632396, 0.20151024622524732, -0.4300049188301287, -0.7193671534003633, -3.3827048487107896, 1.0493314742924147, -1.5301427806596462, 3.381475553554112, 1.3831369347040143, -3.5102524326739264, -1.859601217122951, 4.774868921227311, 0.8405323866134461, 1.8051418977727045, 0.4149791508821266, 0.02491671648929527, -0.027206691682422277, -2.522947973486622, 0.43754135314448867, -0.10502219641711763, -2.4477704937464555, -1.9163251906873493, -2.7451419762283606, 0.10923381425104992, 0.19122874109465238, 3.009855983639734, 2.0020200838427793, 3.222321787638775, 2.918647753251604, 0.7423244418227126, -1.6042404789708105, -0.05048995726226716, 0.3139418486769412, 0.913709506946841, 0.5766014904616925, -0.11049733204319959, -0.9030935291165001, -0.2780805192687602, -1.3258739770379235, 0.09811923849361939, -0.7932804458899864, -0.24494194127235544, 0.10976220561757138, -0.684253046800119, 3.997271531378971, -0.26050627123864434, 0.45140407625071316, -0.0378983010500762], \"xaxis\": \"x\", \"y\": [0.9636307768882324, 0.4728359418570678, 0.11492476904545033, 0.15294404822419685, -4.219213234714208, 0.38115069865038176, 1.0712718265855743, -0.25506279692658407, 0.6539114169561305, 0.5385606334172095, -1.8652127069603077, 0.0808328368056125, 0.7925201562980995, 0.5032105650346487, -0.03991108893065394, -0.12978064375559045, -3.8069967387182073, -2.043816726909653, -0.5421637998680059, 0.9329032007689677, -2.5499378889887327, 0.6534573099610973, 1.3216997205637135, 0.5483059283058379, 2.8142225625283785, 1.2175148502382955, 0.49630730882900453, 0.10953255576505366, -0.7368463883117794, 0.2589357284572727, -0.6156322178168282, 0.46246530621688825, -1.002136664349815, -0.7548559150052239, -0.5082754815073267, -0.8608230871636181, 0.5919558672918128, -0.05758122368144875, 0.9361863886164812, 0.7091081935106871, 0.2300992396314584, -0.27789378140371307, 0.2726263332288369, -0.12685555148165384, -0.6531581347576763, 1.110610063484793, 1.1131005057325938, 0.8652138144057582, 0.081830362299032, -0.35389783529099733, 0.31855618677557035, -1.9464257383526777, -0.40122187555759825, 1.5123376293479232, 1.4649367947302456], \"yaxis\": \"y\"}],\n",
              "                        {\"coloraxis\": {\"colorbar\": {\"title\": {\"text\": \"Percent_At_Risk\"}}, \"colorscale\": [[0.0, \"rgb(255,255,204)\"], [0.125, \"rgb(255,237,160)\"], [0.25, \"rgb(254,217,118)\"], [0.375, \"rgb(254,178,76)\"], [0.5, \"rgb(253,141,60)\"], [0.625, \"rgb(252,78,42)\"], [0.75, \"rgb(227,26,28)\"], [0.875, \"rgb(189,0,38)\"], [1.0, \"rgb(128,0,38)\"]]}, \"height\": 1100, \"legend\": {\"tracegroupgap\": 0}, \"template\": {\"data\": {\"bar\": [{\"error_x\": {\"color\": \"#2a3f5f\"}, \"error_y\": {\"color\": \"#2a3f5f\"}, \"marker\": {\"line\": {\"color\": \"#E5ECF6\", \"width\": 0.5}}, \"type\": \"bar\"}], \"barpolar\": [{\"marker\": {\"line\": {\"color\": \"#E5ECF6\", \"width\": 0.5}}, \"type\": \"barpolar\"}], \"carpet\": [{\"aaxis\": {\"endlinecolor\": \"#2a3f5f\", \"gridcolor\": \"white\", \"linecolor\": \"white\", \"minorgridcolor\": \"white\", \"startlinecolor\": \"#2a3f5f\"}, \"baxis\": {\"endlinecolor\": \"#2a3f5f\", \"gridcolor\": \"white\", \"linecolor\": \"white\", \"minorgridcolor\": \"white\", \"startlinecolor\": \"#2a3f5f\"}, \"type\": \"carpet\"}], \"choropleth\": [{\"colorbar\": {\"outlinewidth\": 0, \"ticks\": \"\"}, \"type\": \"choropleth\"}], \"contour\": [{\"colorbar\": {\"outlinewidth\": 0, \"ticks\": \"\"}, \"colorscale\": [[0.0, \"#0d0887\"], [0.1111111111111111, \"#46039f\"], [0.2222222222222222, \"#7201a8\"], [0.3333333333333333, \"#9c179e\"], [0.4444444444444444, \"#bd3786\"], [0.5555555555555556, \"#d8576b\"], [0.6666666666666666, \"#ed7953\"], [0.7777777777777778, \"#fb9f3a\"], [0.8888888888888888, \"#fdca26\"], [1.0, \"#f0f921\"]], \"type\": \"contour\"}], \"contourcarpet\": [{\"colorbar\": {\"outlinewidth\": 0, \"ticks\": \"\"}, \"type\": \"contourcarpet\"}], \"heatmap\": [{\"colorbar\": {\"outlinewidth\": 0, \"ticks\": \"\"}, \"colorscale\": [[0.0, \"#0d0887\"], [0.1111111111111111, \"#46039f\"], [0.2222222222222222, \"#7201a8\"], [0.3333333333333333, \"#9c179e\"], [0.4444444444444444, \"#bd3786\"], [0.5555555555555556, \"#d8576b\"], [0.6666666666666666, \"#ed7953\"], [0.7777777777777778, \"#fb9f3a\"], [0.8888888888888888, \"#fdca26\"], [1.0, \"#f0f921\"]], \"type\": \"heatmap\"}], \"heatmapgl\": [{\"colorbar\": {\"outlinewidth\": 0, \"ticks\": \"\"}, \"colorscale\": [[0.0, \"#0d0887\"], [0.1111111111111111, \"#46039f\"], [0.2222222222222222, \"#7201a8\"], [0.3333333333333333, \"#9c179e\"], [0.4444444444444444, \"#bd3786\"], [0.5555555555555556, \"#d8576b\"], [0.6666666666666666, \"#ed7953\"], [0.7777777777777778, \"#fb9f3a\"], [0.8888888888888888, \"#fdca26\"], [1.0, \"#f0f921\"]], \"type\": \"heatmapgl\"}], \"histogram\": [{\"marker\": {\"colorbar\": {\"outlinewidth\": 0, \"ticks\": \"\"}}, \"type\": \"histogram\"}], \"histogram2d\": [{\"colorbar\": {\"outlinewidth\": 0, \"ticks\": \"\"}, \"colorscale\": [[0.0, \"#0d0887\"], [0.1111111111111111, \"#46039f\"], [0.2222222222222222, \"#7201a8\"], [0.3333333333333333, \"#9c179e\"], [0.4444444444444444, \"#bd3786\"], [0.5555555555555556, \"#d8576b\"], [0.6666666666666666, \"#ed7953\"], [0.7777777777777778, \"#fb9f3a\"], [0.8888888888888888, \"#fdca26\"], [1.0, \"#f0f921\"]], \"type\": \"histogram2d\"}], \"histogram2dcontour\": [{\"colorbar\": {\"outlinewidth\": 0, \"ticks\": \"\"}, \"colorscale\": [[0.0, \"#0d0887\"], [0.1111111111111111, \"#46039f\"], [0.2222222222222222, \"#7201a8\"], [0.3333333333333333, \"#9c179e\"], [0.4444444444444444, \"#bd3786\"], [0.5555555555555556, \"#d8576b\"], [0.6666666666666666, \"#ed7953\"], [0.7777777777777778, \"#fb9f3a\"], [0.8888888888888888, \"#fdca26\"], [1.0, \"#f0f921\"]], \"type\": \"histogram2dcontour\"}], \"mesh3d\": [{\"colorbar\": {\"outlinewidth\": 0, \"ticks\": \"\"}, \"type\": \"mesh3d\"}], \"parcoords\": [{\"line\": {\"colorbar\": {\"outlinewidth\": 0, \"ticks\": \"\"}}, \"type\": \"parcoords\"}], \"pie\": [{\"automargin\": true, \"type\": \"pie\"}], \"scatter\": [{\"marker\": {\"colorbar\": {\"outlinewidth\": 0, \"ticks\": \"\"}}, \"type\": \"scatter\"}], \"scatter3d\": [{\"line\": {\"colorbar\": {\"outlinewidth\": 0, \"ticks\": \"\"}}, \"marker\": {\"colorbar\": {\"outlinewidth\": 0, \"ticks\": \"\"}}, \"type\": \"scatter3d\"}], \"scattercarpet\": [{\"marker\": {\"colorbar\": {\"outlinewidth\": 0, \"ticks\": \"\"}}, \"type\": \"scattercarpet\"}], \"scattergeo\": [{\"marker\": {\"colorbar\": {\"outlinewidth\": 0, \"ticks\": \"\"}}, \"type\": \"scattergeo\"}], \"scattergl\": [{\"marker\": {\"colorbar\": {\"outlinewidth\": 0, \"ticks\": \"\"}}, \"type\": \"scattergl\"}], \"scattermapbox\": [{\"marker\": {\"colorbar\": {\"outlinewidth\": 0, \"ticks\": \"\"}}, \"type\": \"scattermapbox\"}], \"scatterpolar\": [{\"marker\": {\"colorbar\": {\"outlinewidth\": 0, \"ticks\": \"\"}}, \"type\": \"scatterpolar\"}], \"scatterpolargl\": [{\"marker\": {\"colorbar\": {\"outlinewidth\": 0, \"ticks\": \"\"}}, \"type\": \"scatterpolargl\"}], \"scatterternary\": [{\"marker\": {\"colorbar\": {\"outlinewidth\": 0, \"ticks\": \"\"}}, \"type\": \"scatterternary\"}], \"surface\": [{\"colorbar\": {\"outlinewidth\": 0, \"ticks\": \"\"}, \"colorscale\": [[0.0, \"#0d0887\"], [0.1111111111111111, \"#46039f\"], [0.2222222222222222, \"#7201a8\"], [0.3333333333333333, \"#9c179e\"], [0.4444444444444444, \"#bd3786\"], [0.5555555555555556, \"#d8576b\"], [0.6666666666666666, \"#ed7953\"], [0.7777777777777778, \"#fb9f3a\"], [0.8888888888888888, \"#fdca26\"], [1.0, \"#f0f921\"]], \"type\": \"surface\"}], \"table\": [{\"cells\": {\"fill\": {\"color\": \"#EBF0F8\"}, \"line\": {\"color\": \"white\"}}, \"header\": {\"fill\": {\"color\": \"#C8D4E3\"}, \"line\": {\"color\": \"white\"}}, \"type\": \"table\"}]}, \"layout\": {\"annotationdefaults\": {\"arrowcolor\": \"#2a3f5f\", \"arrowhead\": 0, \"arrowwidth\": 1}, \"coloraxis\": {\"colorbar\": {\"outlinewidth\": 0, \"ticks\": \"\"}}, \"colorscale\": {\"diverging\": [[0, \"#8e0152\"], [0.1, \"#c51b7d\"], [0.2, \"#de77ae\"], [0.3, \"#f1b6da\"], [0.4, \"#fde0ef\"], [0.5, \"#f7f7f7\"], [0.6, \"#e6f5d0\"], [0.7, \"#b8e186\"], [0.8, \"#7fbc41\"], [0.9, \"#4d9221\"], [1, \"#276419\"]], \"sequential\": [[0.0, \"#0d0887\"], [0.1111111111111111, \"#46039f\"], [0.2222222222222222, \"#7201a8\"], [0.3333333333333333, \"#9c179e\"], [0.4444444444444444, \"#bd3786\"], [0.5555555555555556, \"#d8576b\"], [0.6666666666666666, \"#ed7953\"], [0.7777777777777778, \"#fb9f3a\"], [0.8888888888888888, \"#fdca26\"], [1.0, \"#f0f921\"]], \"sequentialminus\": [[0.0, \"#0d0887\"], [0.1111111111111111, \"#46039f\"], [0.2222222222222222, \"#7201a8\"], [0.3333333333333333, \"#9c179e\"], [0.4444444444444444, \"#bd3786\"], [0.5555555555555556, \"#d8576b\"], [0.6666666666666666, \"#ed7953\"], [0.7777777777777778, \"#fb9f3a\"], [0.8888888888888888, \"#fdca26\"], [1.0, \"#f0f921\"]]}, \"colorway\": [\"#636efa\", \"#EF553B\", \"#00cc96\", \"#ab63fa\", \"#FFA15A\", \"#19d3f3\", \"#FF6692\", \"#B6E880\", \"#FF97FF\", \"#FECB52\"], \"font\": {\"color\": \"#2a3f5f\"}, \"geo\": {\"bgcolor\": \"white\", \"lakecolor\": \"white\", \"landcolor\": \"#E5ECF6\", \"showlakes\": true, \"showland\": true, \"subunitcolor\": \"white\"}, \"hoverlabel\": {\"align\": \"left\"}, \"hovermode\": \"closest\", \"mapbox\": {\"style\": \"light\"}, \"paper_bgcolor\": \"white\", \"plot_bgcolor\": \"#E5ECF6\", \"polar\": {\"angularaxis\": {\"gridcolor\": \"white\", \"linecolor\": \"white\", \"ticks\": \"\"}, \"bgcolor\": \"#E5ECF6\", \"radialaxis\": {\"gridcolor\": \"white\", \"linecolor\": \"white\", \"ticks\": \"\"}}, \"scene\": {\"xaxis\": {\"backgroundcolor\": \"#E5ECF6\", \"gridcolor\": \"white\", \"gridwidth\": 2, \"linecolor\": \"white\", \"showbackground\": true, \"ticks\": \"\", \"zerolinecolor\": \"white\"}, \"yaxis\": {\"backgroundcolor\": \"#E5ECF6\", \"gridcolor\": \"white\", \"gridwidth\": 2, \"linecolor\": \"white\", \"showbackground\": true, \"ticks\": \"\", \"zerolinecolor\": \"white\"}, \"zaxis\": {\"backgroundcolor\": \"#E5ECF6\", \"gridcolor\": \"white\", \"gridwidth\": 2, \"linecolor\": \"white\", \"showbackground\": true, \"ticks\": \"\", \"zerolinecolor\": \"white\"}}, \"shapedefaults\": {\"line\": {\"color\": \"#2a3f5f\"}}, \"ternary\": {\"aaxis\": {\"gridcolor\": \"white\", \"linecolor\": \"white\", \"ticks\": \"\"}, \"baxis\": {\"gridcolor\": \"white\", \"linecolor\": \"white\", \"ticks\": \"\"}, \"bgcolor\": \"#E5ECF6\", \"caxis\": {\"gridcolor\": \"white\", \"linecolor\": \"white\", \"ticks\": \"\"}}, \"title\": {\"x\": 0.05}, \"xaxis\": {\"automargin\": true, \"gridcolor\": \"white\", \"linecolor\": \"white\", \"ticks\": \"\", \"title\": {\"standoff\": 15}, \"zerolinecolor\": \"white\", \"zerolinewidth\": 2}, \"yaxis\": {\"automargin\": true, \"gridcolor\": \"white\", \"linecolor\": \"white\", \"ticks\": \"\", \"title\": {\"standoff\": 15}, \"zerolinecolor\": \"white\", \"zerolinewidth\": 2}}}, \"title\": {\"text\": \"The First Two Principle Components Colored by the Percentage of At-Risk Species in Each Park\"}, \"width\": 1500, \"xaxis\": {\"anchor\": \"y\", \"domain\": [0.0, 1.0], \"title\": {\"text\": \"pc1\"}}, \"yaxis\": {\"anchor\": \"x\", \"domain\": [0.0, 1.0], \"title\": {\"text\": \"pc2\"}}},\n",
              "                        {\"responsive\": true}\n",
              "                    ).then(function(){\n",
              "                            \n",
              "var gd = document.getElementById('641eb009-b14d-4090-aa12-d30c4f8014bc');\n",
              "var x = new MutationObserver(function (mutations, observer) {{\n",
              "        var display = window.getComputedStyle(gd).display;\n",
              "        if (!display || display === 'none') {{\n",
              "            console.log([gd, 'removed!']);\n",
              "            Plotly.purge(gd);\n",
              "            observer.disconnect();\n",
              "        }}\n",
              "}});\n",
              "\n",
              "// Listen for the removal of the full notebook cells\n",
              "var notebookContainer = gd.closest('#notebook-container');\n",
              "if (notebookContainer) {{\n",
              "    x.observe(notebookContainer, {childList: true});\n",
              "}}\n",
              "\n",
              "// Listen for the clearing of the current output cell\n",
              "var outputEl = gd.closest('.output');\n",
              "if (outputEl) {{\n",
              "    x.observe(outputEl, {childList: true});\n",
              "}}\n",
              "\n",
              "                        })\n",
              "                };\n",
              "                \n",
              "            </script>\n",
              "        </div>\n",
              "</body>\n",
              "</html>"
            ]
          },
          "metadata": {}
        }
      ]
    },
    {
      "cell_type": "markdown",
      "metadata": {
        "id": "nHjX52e6eSv-"
      },
      "source": [
        "The plot above of the first two principal components shows commonalities in clusters by location, indicating that location (Latitude/Longitude) is a big factor in determining various factors about the biodiversity of our parks. As shown on the far right, Alaskan national parks are clustered together (Denali, Glacier Bay, Lake Clark, etc.), while parks in Utah such as Bryce Canyon, Capitol Reef, Arches, etc. are very close together.\n",
        "\n",
        "Here we see that the first principle component is largely driven by latitude. For example, Northern parks such as the Alaskan parks are all located to the right of the PCA plot, whereas southern parks such as those in Florida are concentrated to the left. The second principle component is less clear. Parks with a high number of annual visitors such as Great Smoky Mountains NP, Yosemite, and Zion seem to be found near the top of the plot. Additionally, parks with higher percentages of marine animals are found at the bottom of the plot. \n"
      ]
    },
    {
      "cell_type": "code",
      "metadata": {
        "id": "Ogr8msZgd9qV",
        "colab": {
          "base_uri": "https://localhost:8080/",
          "height": 312
        },
        "outputId": "acacc1ed-36bf-4bb5-bbdb-94e8547f8d04"
      },
      "source": [
        "plt.plot(range(8), s**2 / sum(s**2));\n",
        "plt.xticks(range(7), range(7));\n",
        "plt.xlabel('PC #');\n",
        "plt.ylabel('Fraction of Variance Explained');\n",
        "plt.title('Fraction of Variance Explained by each Principal Component')"
      ],
      "execution_count": 225,
      "outputs": [
        {
          "output_type": "execute_result",
          "data": {
            "text/plain": [
              "Text(0.5, 1.0, 'Fraction of Variance Explained by each Principal Component')"
            ]
          },
          "metadata": {},
          "execution_count": 225
        },
        {
          "output_type": "display_data",
          "data": {
            "image/png": "[encoded data removed]",
            "text/plain": [
              "<Figure size 432x288 with 1 Axes>"
            ]
          },
          "metadata": {
            "needs_background": "light"
          }
        }
      ]
    },
    {
      "cell_type": "code",
      "metadata": {
        "id": "rW91PcThyw-N"
      },
      "source": [
        "loadings = (u*s)*(s**2 / sum(s**2))**0.5"
      ],
      "execution_count": 226,
      "outputs": []
    },
    {
      "cell_type": "markdown",
      "source": [
        "We also plot and alternative PCA plot with loadings included and park category as color:"
      ],
      "metadata": {
        "id": "ybXPI_thVld2"
      }
    },
    {
      "cell_type": "code",
      "metadata": {
        "colab": {
          "base_uri": "https://localhost:8080/",
          "height": 1000
        },
        "id": "gD3jkGbOubG_",
        "outputId": "5d4bd8ff-54da-4280-9175-779a760fa93a"
      },
      "source": [
        "fig = px.scatter((u*s), x=0, y=1, color=parks['Park_Type'], title=\"Biplot with First Two PCs Colored by Park Type\")\n",
        "fig.update_xaxes(title_text='PC0')\n",
        "fig.update_yaxes(title_text='PC1')\n",
        "fig.update_layout(\n",
        "    autosize=False,\n",
        "    width=1400,\n",
        "    height=1200,)\n",
        "for i, feature in enumerate(parks_pca.columns):\n",
        "    fig.add_shape(\n",
        "        type='line',\n",
        "        x0=0, y0=0,\n",
        "        x1=loadings[i, 0],\n",
        "        y1=loadings[i, 1]\n",
        "    )\n",
        "    fig.add_annotation(\n",
        "        x=loadings[i, 0],\n",
        "        y=loadings[i, 1],\n",
        "        yshift=10,\n",
        "        ax=0, ay=0,\n",
        "        xanchor=\"auto\",\n",
        "        yanchor=\"bottom\",\n",
        "        text=feature,\n",
        "    )\n",
        "fig.show()"
      ],
      "execution_count": 227,
      "outputs": [
        {
          "output_type": "display_data",
          "data": {
            "text/html": [
              "<html>\n",
              "<head><meta charset=\"utf-8\" /></head>\n",
              "<body>\n",
              "    <div>\n",
              "            <script src=\"https://cdnjs.cloudflare.com/ajax/libs/mathjax/2.7.5/MathJax.js?config=TeX-AMS-MML_SVG\"></script><script type=\"text/javascript\">if (window.MathJax) {MathJax.Hub.Config({SVG: {font: \"STIX-Web\"}});}</script>\n",
              "                <script type=\"text/javascript\">window.PlotlyConfig = {MathJaxConfig: 'local'};</script>\n",
              "        <script src=\"https://cdn.plot.ly/plotly-latest.min.js\"></script>    \n",
              "            <div id=\"201fa783-957a-48f3-8a36-cebf631069af\" class=\"plotly-graph-div\" style=\"height:1200px; width:1400px;\"></div>\n",
              "            <script type=\"text/javascript\">\n",
              "                \n",
              "                    window.PLOTLYENV=window.PLOTLYENV || {};\n",
              "                    \n",
              "                if (document.getElementById(\"201fa783-957a-48f3-8a36-cebf631069af\")) {\n",
              "                    Plotly.newPlot(\n",
              "                        '201fa783-957a-48f3-8a36-cebf631069af',\n",
              "                        [{\"hoverlabel\": {\"namelength\": 0}, \"hovertemplate\": \"color=Forested<br>0=%{x}<br>1=%{y}\", \"legendgroup\": \"color=Forested\", \"marker\": {\"color\": \"#636efa\", \"symbol\": \"circle\"}, \"mode\": \"markers\", \"name\": \"color=Forested\", \"showlegend\": true, \"type\": \"scatter\", \"x\": [-1.3511176460787415, -3.3827048487107896, -1.5301427806596462, -2.522947973486622, -2.7451419762283606, 0.10923381425104992, -1.6042404789708105, -0.2780805192687602, -0.7932804458899864, 0.10976220561757138, -0.684253046800119, -0.26050627123864434], \"xaxis\": \"x\", \"y\": [0.9636307768882324, 0.0808328368056125, 0.5032105650346487, 2.8142225625283785, 0.2589357284572727, -0.6156322178168282, -0.05758122368144875, -0.6531581347576763, 0.8652138144057582, -0.35389783529099733, 0.31855618677557035, -0.40122187555759825], \"yaxis\": \"y\"}, {\"hoverlabel\": {\"namelength\": 0}, \"hovertemplate\": \"color=Desert<br>0=%{x}<br>1=%{y}\", \"legendgroup\": \"color=Desert\", \"marker\": {\"color\": \"#EF553B\", \"symbol\": \"circle\"}, \"mode\": \"markers\", \"name\": \"color=Desert\", \"showlegend\": true, \"type\": \"scatter\", \"x\": [-0.10702337089312898, -0.796346870894353, 0.0010143162377571513, -0.1495151491082319, -0.031001994177262907, 0.029009219431632396, 0.20151024622524732, -0.4300049188301287, -0.7193671534003633, 1.3831369347040143, 0.02491671648929527, -0.10502219641711763, 0.19122874109465238, -0.05048995726226716, -0.11049733204319959, -0.9030935291165001, 0.09811923849361939, -0.24494194127235544, -0.0378983010500762], \"xaxis\": \"x\", \"y\": [0.4728359418570678, 0.11492476904545033, 0.15294404822419685, 0.38115069865038176, 1.0712718265855743, -0.25506279692658407, 0.6539114169561305, 0.5385606334172095, -1.8652127069603077, -0.12978064375559045, 1.3216997205637135, 0.49630730882900453, 0.46246530621688825, 0.9361863886164812, 0.2726263332288369, -0.12685555148165384, 1.1131005057325938, 0.081830362299032, 1.4649367947302456], \"yaxis\": \"y\"}, {\"hoverlabel\": {\"namelength\": 0}, \"hovertemplate\": \"color=Tropical<br>0=%{x}<br>1=%{y}\", \"legendgroup\": \"color=Tropical\", \"marker\": {\"color\": \"#00cc96\", \"symbol\": \"circle\"}, \"mode\": \"markers\", \"name\": \"color=Tropical\", \"showlegend\": true, \"type\": \"scatter\", \"x\": [-3.0752519691936984, -3.5102524326739264, -1.859601217122951, -2.4477704937464555, -1.9163251906873493], \"xaxis\": \"x\", \"y\": [-4.219213234714208, -3.8069967387182073, -2.043816726909653, 0.10953255576505366, -0.7368463883117794], \"yaxis\": \"y\"}, {\"hoverlabel\": {\"namelength\": 0}, \"hovertemplate\": \"color=Alpine<br>0=%{x}<br>1=%{y}\", \"legendgroup\": \"color=Alpine\", \"marker\": {\"color\": \"#ab63fa\", \"symbol\": \"circle\"}, \"mode\": \"markers\", \"name\": \"color=Alpine\", \"showlegend\": true, \"type\": \"scatter\", \"x\": [1.0493314742924147, 3.381475553554112, 4.774868921227311, 0.8405323866134461, 1.8051418977727045, 0.4149791508821266, -0.027206691682422277, 0.43754135314448867, 3.009855983639734, 2.0020200838427793, 3.222321787638775, 2.918647753251604, 0.7423244418227126, 0.3139418486769412, 0.913709506946841, 0.5766014904616925, -1.3258739770379235, 3.997271531378971, 0.45140407625071316], \"xaxis\": \"x\", \"y\": [0.7925201562980995, -0.03991108893065394, -0.5421637998680059, 0.9329032007689677, -2.5499378889887327, 0.6534573099610973, 0.5483059283058379, 1.2175148502382955, -1.002136664349815, -0.7548559150052239, -0.5082754815073267, -0.8608230871636181, 0.5919558672918128, 0.7091081935106871, 0.2300992396314584, -0.27789378140371307, 1.110610063484793, -1.9464257383526777, 1.5123376293479232], \"yaxis\": \"y\"}],\n",
              "                        {\"annotations\": [{\"ax\": 0, \"ay\": 0, \"text\": \"Acres\", \"x\": -0.8246690602211677, \"xanchor\": \"auto\", \"y\": 0.4157875446381259, \"yanchor\": \"bottom\", \"yshift\": 10}, {\"ax\": 0, \"ay\": 0, \"text\": \"Latitude\", \"x\": -0.06532285545399096, \"xanchor\": \"auto\", \"y\": 0.20401931942882373, \"yanchor\": \"bottom\", \"yshift\": 10}, {\"ax\": 0, \"ay\": 0, \"text\": \"Longitude\", \"x\": -0.48605880290030684, \"xanchor\": \"auto\", \"y\": 0.04958775568980586, \"yanchor\": \"bottom\", \"yshift\": 10}, {\"ax\": 0, \"ay\": 0, \"text\": \"AVG_Visitation\", \"x\": 0.0006190987298448115, \"xanchor\": \"auto\", \"y\": 0.06599231967611774, \"yanchor\": \"bottom\", \"yshift\": 10}, {\"ax\": 0, \"ay\": 0, \"text\": \"Native_Proportion\", \"x\": -1.877012826187649, \"xanchor\": \"auto\", \"y\": -1.820506726478267, \"yanchor\": \"bottom\", \"yshift\": 10}, {\"ax\": 0, \"ay\": 0, \"text\": \"Species_Per_Acre\", \"x\": -0.09125816531355373, \"xanchor\": \"auto\", \"y\": 0.16445895765254254, \"yanchor\": \"bottom\", \"yshift\": 10}, {\"ax\": 0, \"ay\": 0, \"text\": \"Percent_Animals\", \"x\": -0.018922397673766696, \"xanchor\": \"auto\", \"y\": 0.4622325200678794, \"yanchor\": \"bottom\", \"yshift\": 10}, {\"ax\": 0, \"ay\": 0, \"text\": \"Percent_Aquatic\", \"x\": 0.01770608636180873, \"xanchor\": \"auto\", \"y\": -0.11005453188730796, \"yanchor\": \"bottom\", \"yshift\": 10}], \"autosize\": false, \"height\": 1200, \"legend\": {\"tracegroupgap\": 0}, \"shapes\": [{\"type\": \"line\", \"x0\": 0, \"x1\": -0.8246690602211677, \"y0\": 0, \"y1\": 0.4157875446381259}, {\"type\": \"line\", \"x0\": 0, \"x1\": -0.06532285545399096, \"y0\": 0, \"y1\": 0.20401931942882373}, {\"type\": \"line\", \"x0\": 0, \"x1\": -0.48605880290030684, \"y0\": 0, \"y1\": 0.04958775568980586}, {\"type\": \"line\", \"x0\": 0, \"x1\": 0.0006190987298448115, \"y0\": 0, \"y1\": 0.06599231967611774}, {\"type\": \"line\", \"x0\": 0, \"x1\": -1.877012826187649, \"y0\": 0, \"y1\": -1.820506726478267}, {\"type\": \"line\", \"x0\": 0, \"x1\": -0.09125816531355373, \"y0\": 0, \"y1\": 0.16445895765254254}, {\"type\": \"line\", \"x0\": 0, \"x1\": -0.018922397673766696, \"y0\": 0, \"y1\": 0.4622325200678794}, {\"type\": \"line\", \"x0\": 0, \"x1\": 0.01770608636180873, \"y0\": 0, \"y1\": -0.11005453188730796}], \"template\": {\"data\": {\"bar\": [{\"error_x\": {\"color\": \"#2a3f5f\"}, \"error_y\": {\"color\": \"#2a3f5f\"}, \"marker\": {\"line\": {\"color\": \"#E5ECF6\", \"width\": 0.5}}, \"type\": \"bar\"}], \"barpolar\": [{\"marker\": {\"line\": {\"color\": \"#E5ECF6\", \"width\": 0.5}}, \"type\": \"barpolar\"}], \"carpet\": [{\"aaxis\": {\"endlinecolor\": \"#2a3f5f\", \"gridcolor\": \"white\", \"linecolor\": \"white\", \"minorgridcolor\": \"white\", \"startlinecolor\": \"#2a3f5f\"}, \"baxis\": {\"endlinecolor\": \"#2a3f5f\", \"gridcolor\": \"white\", \"linecolor\": \"white\", \"minorgridcolor\": \"white\", \"startlinecolor\": \"#2a3f5f\"}, \"type\": \"carpet\"}], \"choropleth\": [{\"colorbar\": {\"outlinewidth\": 0, \"ticks\": \"\"}, \"type\": \"choropleth\"}], \"contour\": [{\"colorbar\": {\"outlinewidth\": 0, \"ticks\": \"\"}, \"colorscale\": [[0.0, \"#0d0887\"], [0.1111111111111111, \"#46039f\"], [0.2222222222222222, \"#7201a8\"], [0.3333333333333333, \"#9c179e\"], [0.4444444444444444, \"#bd3786\"], [0.5555555555555556, \"#d8576b\"], [0.6666666666666666, \"#ed7953\"], [0.7777777777777778, \"#fb9f3a\"], [0.8888888888888888, \"#fdca26\"], [1.0, \"#f0f921\"]], \"type\": \"contour\"}], \"contourcarpet\": [{\"colorbar\": {\"outlinewidth\": 0, \"ticks\": \"\"}, \"type\": \"contourcarpet\"}], \"heatmap\": [{\"colorbar\": {\"outlinewidth\": 0, \"ticks\": \"\"}, \"colorscale\": [[0.0, \"#0d0887\"], [0.1111111111111111, \"#46039f\"], [0.2222222222222222, \"#7201a8\"], [0.3333333333333333, \"#9c179e\"], [0.4444444444444444, \"#bd3786\"], [0.5555555555555556, \"#d8576b\"], [0.6666666666666666, \"#ed7953\"], [0.7777777777777778, \"#fb9f3a\"], [0.8888888888888888, \"#fdca26\"], [1.0, \"#f0f921\"]], \"type\": \"heatmap\"}], \"heatmapgl\": [{\"colorbar\": {\"outlinewidth\": 0, \"ticks\": \"\"}, \"colorscale\": [[0.0, \"#0d0887\"], [0.1111111111111111, \"#46039f\"], [0.2222222222222222, \"#7201a8\"], [0.3333333333333333, \"#9c179e\"], [0.4444444444444444, \"#bd3786\"], [0.5555555555555556, \"#d8576b\"], [0.6666666666666666, \"#ed7953\"], [0.7777777777777778, \"#fb9f3a\"], [0.8888888888888888, \"#fdca26\"], [1.0, \"#f0f921\"]], \"type\": \"heatmapgl\"}], \"histogram\": [{\"marker\": {\"colorbar\": {\"outlinewidth\": 0, \"ticks\": \"\"}}, \"type\": \"histogram\"}], \"histogram2d\": [{\"colorbar\": {\"outlinewidth\": 0, \"ticks\": \"\"}, \"colorscale\": [[0.0, \"#0d0887\"], [0.1111111111111111, \"#46039f\"], [0.2222222222222222, \"#7201a8\"], [0.3333333333333333, \"#9c179e\"], [0.4444444444444444, \"#bd3786\"], [0.5555555555555556, \"#d8576b\"], [0.6666666666666666, \"#ed7953\"], [0.7777777777777778, \"#fb9f3a\"], [0.8888888888888888, \"#fdca26\"], [1.0, \"#f0f921\"]], \"type\": \"histogram2d\"}], \"histogram2dcontour\": [{\"colorbar\": {\"outlinewidth\": 0, \"ticks\": \"\"}, \"colorscale\": [[0.0, \"#0d0887\"], [0.1111111111111111, \"#46039f\"], [0.2222222222222222, \"#7201a8\"], [0.3333333333333333, \"#9c179e\"], [0.4444444444444444, \"#bd3786\"], [0.5555555555555556, \"#d8576b\"], [0.6666666666666666, \"#ed7953\"], [0.7777777777777778, \"#fb9f3a\"], [0.8888888888888888, \"#fdca26\"], [1.0, \"#f0f921\"]], \"type\": \"histogram2dcontour\"}], \"mesh3d\": [{\"colorbar\": {\"outlinewidth\": 0, \"ticks\": \"\"}, \"type\": \"mesh3d\"}], \"parcoords\": [{\"line\": {\"colorbar\": {\"outlinewidth\": 0, \"ticks\": \"\"}}, \"type\": \"parcoords\"}], \"pie\": [{\"automargin\": true, \"type\": \"pie\"}], \"scatter\": [{\"marker\": {\"colorbar\": {\"outlinewidth\": 0, \"ticks\": \"\"}}, \"type\": \"scatter\"}], \"scatter3d\": [{\"line\": {\"colorbar\": {\"outlinewidth\": 0, \"ticks\": \"\"}}, \"marker\": {\"colorbar\": {\"outlinewidth\": 0, \"ticks\": \"\"}}, \"type\": \"scatter3d\"}], \"scattercarpet\": [{\"marker\": {\"colorbar\": {\"outlinewidth\": 0, \"ticks\": \"\"}}, \"type\": \"scattercarpet\"}], \"scattergeo\": [{\"marker\": {\"colorbar\": {\"outlinewidth\": 0, \"ticks\": \"\"}}, \"type\": \"scattergeo\"}], \"scattergl\": [{\"marker\": {\"colorbar\": {\"outlinewidth\": 0, \"ticks\": \"\"}}, \"type\": \"scattergl\"}], \"scattermapbox\": [{\"marker\": {\"colorbar\": {\"outlinewidth\": 0, \"ticks\": \"\"}}, \"type\": \"scattermapbox\"}], \"scatterpolar\": [{\"marker\": {\"colorbar\": {\"outlinewidth\": 0, \"ticks\": \"\"}}, \"type\": \"scatterpolar\"}], \"scatterpolargl\": [{\"marker\": {\"colorbar\": {\"outlinewidth\": 0, \"ticks\": \"\"}}, \"type\": \"scatterpolargl\"}], \"scatterternary\": [{\"marker\": {\"colorbar\": {\"outlinewidth\": 0, \"ticks\": \"\"}}, \"type\": \"scatterternary\"}], \"surface\": [{\"colorbar\": {\"outlinewidth\": 0, \"ticks\": \"\"}, \"colorscale\": [[0.0, \"#0d0887\"], [0.1111111111111111, \"#46039f\"], [0.2222222222222222, \"#7201a8\"], [0.3333333333333333, \"#9c179e\"], [0.4444444444444444, \"#bd3786\"], [0.5555555555555556, \"#d8576b\"], [0.6666666666666666, \"#ed7953\"], [0.7777777777777778, \"#fb9f3a\"], [0.8888888888888888, \"#fdca26\"], [1.0, \"#f0f921\"]], \"type\": \"surface\"}], \"table\": [{\"cells\": {\"fill\": {\"color\": \"#EBF0F8\"}, \"line\": {\"color\": \"white\"}}, \"header\": {\"fill\": {\"color\": \"#C8D4E3\"}, \"line\": {\"color\": \"white\"}}, \"type\": \"table\"}]}, \"layout\": {\"annotationdefaults\": {\"arrowcolor\": \"#2a3f5f\", \"arrowhead\": 0, \"arrowwidth\": 1}, \"coloraxis\": {\"colorbar\": {\"outlinewidth\": 0, \"ticks\": \"\"}}, \"colorscale\": {\"diverging\": [[0, \"#8e0152\"], [0.1, \"#c51b7d\"], [0.2, \"#de77ae\"], [0.3, \"#f1b6da\"], [0.4, \"#fde0ef\"], [0.5, \"#f7f7f7\"], [0.6, \"#e6f5d0\"], [0.7, \"#b8e186\"], [0.8, \"#7fbc41\"], [0.9, \"#4d9221\"], [1, \"#276419\"]], \"sequential\": [[0.0, \"#0d0887\"], [0.1111111111111111, \"#46039f\"], [0.2222222222222222, \"#7201a8\"], [0.3333333333333333, \"#9c179e\"], [0.4444444444444444, \"#bd3786\"], [0.5555555555555556, \"#d8576b\"], [0.6666666666666666, \"#ed7953\"], [0.7777777777777778, \"#fb9f3a\"], [0.8888888888888888, \"#fdca26\"], [1.0, \"#f0f921\"]], \"sequentialminus\": [[0.0, \"#0d0887\"], [0.1111111111111111, \"#46039f\"], [0.2222222222222222, \"#7201a8\"], [0.3333333333333333, \"#9c179e\"], [0.4444444444444444, \"#bd3786\"], [0.5555555555555556, \"#d8576b\"], [0.6666666666666666, \"#ed7953\"], [0.7777777777777778, \"#fb9f3a\"], [0.8888888888888888, \"#fdca26\"], [1.0, \"#f0f921\"]]}, \"colorway\": [\"#636efa\", \"#EF553B\", \"#00cc96\", \"#ab63fa\", \"#FFA15A\", \"#19d3f3\", \"#FF6692\", \"#B6E880\", \"#FF97FF\", \"#FECB52\"], \"font\": {\"color\": \"#2a3f5f\"}, \"geo\": {\"bgcolor\": \"white\", \"lakecolor\": \"white\", \"landcolor\": \"#E5ECF6\", \"showlakes\": true, \"showland\": true, \"subunitcolor\": \"white\"}, \"hoverlabel\": {\"align\": \"left\"}, \"hovermode\": \"closest\", \"mapbox\": {\"style\": \"light\"}, \"paper_bgcolor\": \"white\", \"plot_bgcolor\": \"#E5ECF6\", \"polar\": {\"angularaxis\": {\"gridcolor\": \"white\", \"linecolor\": \"white\", \"ticks\": \"\"}, \"bgcolor\": \"#E5ECF6\", \"radialaxis\": {\"gridcolor\": \"white\", \"linecolor\": \"white\", \"ticks\": \"\"}}, \"scene\": {\"xaxis\": {\"backgroundcolor\": \"#E5ECF6\", \"gridcolor\": \"white\", \"gridwidth\": 2, \"linecolor\": \"white\", \"showbackground\": true, \"ticks\": \"\", \"zerolinecolor\": \"white\"}, \"yaxis\": {\"backgroundcolor\": \"#E5ECF6\", \"gridcolor\": \"white\", \"gridwidth\": 2, \"linecolor\": \"white\", \"showbackground\": true, \"ticks\": \"\", \"zerolinecolor\": \"white\"}, \"zaxis\": {\"backgroundcolor\": \"#E5ECF6\", \"gridcolor\": \"white\", \"gridwidth\": 2, \"linecolor\": \"white\", \"showbackground\": true, \"ticks\": \"\", \"zerolinecolor\": \"white\"}}, \"shapedefaults\": {\"line\": {\"color\": \"#2a3f5f\"}}, \"ternary\": {\"aaxis\": {\"gridcolor\": \"white\", \"linecolor\": \"white\", \"ticks\": \"\"}, \"baxis\": {\"gridcolor\": \"white\", \"linecolor\": \"white\", \"ticks\": \"\"}, \"bgcolor\": \"#E5ECF6\", \"caxis\": {\"gridcolor\": \"white\", \"linecolor\": \"white\", \"ticks\": \"\"}}, \"title\": {\"x\": 0.05}, \"xaxis\": {\"automargin\": true, \"gridcolor\": \"white\", \"linecolor\": \"white\", \"ticks\": \"\", \"title\": {\"standoff\": 15}, \"zerolinecolor\": \"white\", \"zerolinewidth\": 2}, \"yaxis\": {\"automargin\": true, \"gridcolor\": \"white\", \"linecolor\": \"white\", \"ticks\": \"\", \"title\": {\"standoff\": 15}, \"zerolinecolor\": \"white\", \"zerolinewidth\": 2}}}, \"title\": {\"text\": \"Biplot with First Two PCs Colored by Park Type\"}, \"width\": 1400, \"xaxis\": {\"anchor\": \"y\", \"domain\": [0.0, 1.0], \"title\": {\"text\": \"PC0\"}}, \"yaxis\": {\"anchor\": \"x\", \"domain\": [0.0, 1.0], \"title\": {\"text\": \"PC1\"}}},\n",
              "                        {\"responsive\": true}\n",
              "                    ).then(function(){\n",
              "                            \n",
              "var gd = document.getElementById('201fa783-957a-48f3-8a36-cebf631069af');\n",
              "var x = new MutationObserver(function (mutations, observer) {{\n",
              "        var display = window.getComputedStyle(gd).display;\n",
              "        if (!display || display === 'none') {{\n",
              "            console.log([gd, 'removed!']);\n",
              "            Plotly.purge(gd);\n",
              "            observer.disconnect();\n",
              "        }}\n",
              "}});\n",
              "\n",
              "// Listen for the removal of the full notebook cells\n",
              "var notebookContainer = gd.closest('#notebook-container');\n",
              "if (notebookContainer) {{\n",
              "    x.observe(notebookContainer, {childList: true});\n",
              "}}\n",
              "\n",
              "// Listen for the clearing of the current output cell\n",
              "var outputEl = gd.closest('.output');\n",
              "if (outputEl) {{\n",
              "    x.observe(outputEl, {childList: true});\n",
              "}}\n",
              "\n",
              "                        })\n",
              "                };\n",
              "                \n",
              "            </script>\n",
              "        </div>\n",
              "</body>\n",
              "</html>"
            ]
          },
          "metadata": {}
        }
      ]
    },
    {
      "cell_type": "markdown",
      "source": [
        "This alternative representation of the first to PCs shows that parks are roughly clustering by the park biome types that we assigned. For instance, desert parks are clustering in the middle, forested parks on the left, and alpine parks on the right. "
      ],
      "metadata": {
        "id": "btrV4cjdAm5t"
      }
    },
    {
      "cell_type": "markdown",
      "metadata": {
        "id": "WswRc5QN0ZhD"
      },
      "source": [
        "## K-Means Clustering "
      ]
    },
    {
      "cell_type": "markdown",
      "source": [
        "K-Means is an unsupervised machine learning algorithm whose objective is to group similar data points together and discover underlying patterns. K-means looks for a fixed number of clusters in the dataset.  A cluster is defined as a collection of data points aggregated because of certain similarities. The selected loss function used for the k-means clustering is inertia which consists of the sum of squared distances from each data point to its center. \n"
      ],
      "metadata": {
        "id": "L66uQ7P8DiGK"
      }
    },
    {
      "cell_type": "code",
      "metadata": {
        "colab": {
          "base_uri": "https://localhost:8080/",
          "height": 237
        },
        "id": "H_Rjx1mt0cdz",
        "outputId": "cdc31aee-9a11-4fac-b731-4e65542bbcc1"
      },
      "source": [
        "parks_kmeans = parks[['Native_Proportion','Species_Per_Acre', \"Percent_Animals\", \"Percent_Aquatic\", \"Percent_At_Risk\"]]\n",
        "parks_kmeans = parks_kmeans.set_index(parks[\"Park Name\"])\n",
        "parks_kmeans.head()"
      ],
      "execution_count": 228,
      "outputs": [
        {
          "output_type": "execute_result",
          "data": {
            "text/html": [
              "<div>\n",
              "<style scoped>\n",
              "    .dataframe tbody tr th:only-of-type {\n",
              "        vertical-align: middle;\n",
              "    }\n",
              "\n",
              "    .dataframe tbody tr th {\n",
              "        vertical-align: top;\n",
              "    }\n",
              "\n",
              "    .dataframe thead th {\n",
              "        text-align: right;\n",
              "    }\n",
              "</style>\n",
              "<table border=\"1\" class=\"dataframe\">\n",
              "  <thead>\n",
              "    <tr style=\"text-align: right;\">\n",
              "      <th></th>\n",
              "      <th>Native_Proportion</th>\n",
              "      <th>Species_Per_Acre</th>\n",
              "      <th>Percent_Animals</th>\n",
              "      <th>Percent_Aquatic</th>\n",
              "      <th>Percent_At_Risk</th>\n",
              "    </tr>\n",
              "    <tr>\n",
              "      <th>Park Name</th>\n",
              "      <th></th>\n",
              "      <th></th>\n",
              "      <th></th>\n",
              "      <th></th>\n",
              "      <th></th>\n",
              "    </tr>\n",
              "  </thead>\n",
              "  <tbody>\n",
              "    <tr>\n",
              "      <th>Acadia</th>\n",
              "      <td>0.763181</td>\n",
              "      <td>0.024752</td>\n",
              "      <td>0.257460</td>\n",
              "      <td>0.145695</td>\n",
              "      <td>0.040921</td>\n",
              "    </tr>\n",
              "    <tr>\n",
              "      <th>Arches</th>\n",
              "      <td>0.887850</td>\n",
              "      <td>0.009801</td>\n",
              "      <td>0.334667</td>\n",
              "      <td>0.059761</td>\n",
              "      <td>0.069333</td>\n",
              "    </tr>\n",
              "    <tr>\n",
              "      <th>Badlands</th>\n",
              "      <td>0.688053</td>\n",
              "      <td>0.003749</td>\n",
              "      <td>0.400000</td>\n",
              "      <td>0.054945</td>\n",
              "      <td>0.061538</td>\n",
              "    </tr>\n",
              "    <tr>\n",
              "      <th>Big Bend</th>\n",
              "      <td>0.945798</td>\n",
              "      <td>0.002510</td>\n",
              "      <td>0.299851</td>\n",
              "      <td>0.086235</td>\n",
              "      <td>0.063650</td>\n",
              "    </tr>\n",
              "    <tr>\n",
              "      <th>Biscayne</th>\n",
              "      <td>0.788095</td>\n",
              "      <td>0.007697</td>\n",
              "      <td>0.667168</td>\n",
              "      <td>0.627252</td>\n",
              "      <td>0.044328</td>\n",
              "    </tr>\n",
              "  </tbody>\n",
              "</table>\n",
              "</div>"
            ],
            "text/plain": [
              "           Native_Proportion  ...  Percent_At_Risk\n",
              "Park Name                     ...                 \n",
              "Acadia              0.763181  ...         0.040921\n",
              "Arches              0.887850  ...         0.069333\n",
              "Badlands            0.688053  ...         0.061538\n",
              "Big Bend            0.945798  ...         0.063650\n",
              "Biscayne            0.788095  ...         0.044328\n",
              "\n",
              "[5 rows x 5 columns]"
            ]
          },
          "metadata": {},
          "execution_count": 228
        }
      ]
    },
    {
      "cell_type": "code",
      "metadata": {
        "colab": {
          "base_uri": "https://localhost:8080/",
          "height": 517
        },
        "id": "cXTGJMTX1B3w",
        "outputId": "927876d2-666a-4790-d2cb-65fd5a8afc8f"
      },
      "source": [
        "from sklearn.cluster import KMeans\n",
        "from sklearn.preprocessing import MinMaxScaler\n",
        "import plotly.graph_objects as go\n",
        "import numpy as np\n",
        "\n",
        "X= parks_kmeans.copy()\n",
        "scaler = MinMaxScaler()\n",
        "scaler.fit(X)\n",
        "X=scaler.transform(X)\n",
        "\n",
        "inertia = []\n",
        "for i in range(1,11):\n",
        "    kmeans1 = KMeans(\n",
        "        n_clusters=i, init=\"k-means++\",\n",
        "        n_init=10,\n",
        "        tol=1e-04, random_state=42\n",
        "    )\n",
        "    kmeans1.fit(X)\n",
        "    inertia.append(kmeans1.inertia_)\n",
        "fig = go.Figure(data=go.Scatter(x=np.arange(1,11),y=inertia))\n",
        "fig.update_layout(title=\"Inertia vs Cluster Number\",\n",
        "                  xaxis=dict(range=[0,11],title=\"Cluster Number\"),\n",
        "                  yaxis={'title':'Inertia'},\n",
        "                  width=500,\n",
        "                  height=500,\n",
        "                 annotations=[\n",
        "        dict(\n",
        "            x=4,\n",
        "            y=inertia[3],\n",
        "            xref=\"x\",\n",
        "            yref=\"y\",\n",
        "            text=\"Elbow!\",\n",
        "            showarrow=True,\n",
        "            arrowhead=7,\n",
        "            ax=20,\n",
        "            ay=-40\n",
        "        )\n",
        "    ])"
      ],
      "execution_count": 229,
      "outputs": [
        {
          "output_type": "display_data",
          "data": {
            "text/html": [
              "<html>\n",
              "<head><meta charset=\"utf-8\" /></head>\n",
              "<body>\n",
              "    <div>\n",
              "            <script src=\"https://cdnjs.cloudflare.com/ajax/libs/mathjax/2.7.5/MathJax.js?config=TeX-AMS-MML_SVG\"></script><script type=\"text/javascript\">if (window.MathJax) {MathJax.Hub.Config({SVG: {font: \"STIX-Web\"}});}</script>\n",
              "                <script type=\"text/javascript\">window.PlotlyConfig = {MathJaxConfig: 'local'};</script>\n",
              "        <script src=\"https://cdn.plot.ly/plotly-latest.min.js\"></script>    \n",
              "            <div id=\"d2b87f40-8aab-46fb-8c57-4c456440f4d3\" class=\"plotly-graph-div\" style=\"height:500px; width:500px;\"></div>\n",
              "            <script type=\"text/javascript\">\n",
              "                \n",
              "                    window.PLOTLYENV=window.PLOTLYENV || {};\n",
              "                    \n",
              "                if (document.getElementById(\"d2b87f40-8aab-46fb-8c57-4c456440f4d3\")) {\n",
              "                    Plotly.newPlot(\n",
              "                        'd2b87f40-8aab-46fb-8c57-4c456440f4d3',\n",
              "                        [{\"type\": \"scatter\", \"x\": [1, 2, 3, 4, 5, 6, 7, 8, 9, 10], \"y\": [12.739303939406417, 9.073658846812705, 7.147131277726665, 5.473573043863584, 4.614528479702509, 4.112123630988021, 3.5600565055016378, 3.3395090305352055, 2.8405185723992403, 2.5467855544324847]}],\n",
              "                        {\"annotations\": [{\"arrowhead\": 7, \"ax\": 20, \"ay\": -40, \"showarrow\": true, \"text\": \"Elbow!\", \"x\": 4, \"xref\": \"x\", \"y\": 5.473573043863584, \"yref\": \"y\"}], \"height\": 500, \"template\": {\"data\": {\"bar\": [{\"error_x\": {\"color\": \"#2a3f5f\"}, \"error_y\": {\"color\": \"#2a3f5f\"}, \"marker\": {\"line\": {\"color\": \"#E5ECF6\", \"width\": 0.5}}, \"type\": \"bar\"}], \"barpolar\": [{\"marker\": {\"line\": {\"color\": \"#E5ECF6\", \"width\": 0.5}}, \"type\": \"barpolar\"}], \"carpet\": [{\"aaxis\": {\"endlinecolor\": \"#2a3f5f\", \"gridcolor\": \"white\", \"linecolor\": \"white\", \"minorgridcolor\": \"white\", \"startlinecolor\": \"#2a3f5f\"}, \"baxis\": {\"endlinecolor\": \"#2a3f5f\", \"gridcolor\": \"white\", \"linecolor\": \"white\", \"minorgridcolor\": \"white\", \"startlinecolor\": \"#2a3f5f\"}, \"type\": \"carpet\"}], \"choropleth\": [{\"colorbar\": {\"outlinewidth\": 0, \"ticks\": \"\"}, \"type\": \"choropleth\"}], \"contour\": [{\"colorbar\": {\"outlinewidth\": 0, \"ticks\": \"\"}, \"colorscale\": [[0.0, \"#0d0887\"], [0.1111111111111111, \"#46039f\"], [0.2222222222222222, \"#7201a8\"], [0.3333333333333333, \"#9c179e\"], [0.4444444444444444, \"#bd3786\"], [0.5555555555555556, \"#d8576b\"], [0.6666666666666666, \"#ed7953\"], [0.7777777777777778, \"#fb9f3a\"], [0.8888888888888888, \"#fdca26\"], [1.0, \"#f0f921\"]], \"type\": \"contour\"}], \"contourcarpet\": [{\"colorbar\": {\"outlinewidth\": 0, \"ticks\": \"\"}, \"type\": \"contourcarpet\"}], \"heatmap\": [{\"colorbar\": {\"outlinewidth\": 0, \"ticks\": \"\"}, \"colorscale\": [[0.0, \"#0d0887\"], [0.1111111111111111, \"#46039f\"], [0.2222222222222222, \"#7201a8\"], [0.3333333333333333, \"#9c179e\"], [0.4444444444444444, \"#bd3786\"], [0.5555555555555556, \"#d8576b\"], [0.6666666666666666, \"#ed7953\"], [0.7777777777777778, \"#fb9f3a\"], [0.8888888888888888, \"#fdca26\"], [1.0, \"#f0f921\"]], \"type\": \"heatmap\"}], \"heatmapgl\": [{\"colorbar\": {\"outlinewidth\": 0, \"ticks\": \"\"}, \"colorscale\": [[0.0, \"#0d0887\"], [0.1111111111111111, \"#46039f\"], [0.2222222222222222, \"#7201a8\"], [0.3333333333333333, \"#9c179e\"], [0.4444444444444444, \"#bd3786\"], [0.5555555555555556, \"#d8576b\"], [0.6666666666666666, \"#ed7953\"], [0.7777777777777778, \"#fb9f3a\"], [0.8888888888888888, \"#fdca26\"], [1.0, \"#f0f921\"]], \"type\": \"heatmapgl\"}], \"histogram\": [{\"marker\": {\"colorbar\": {\"outlinewidth\": 0, \"ticks\": \"\"}}, \"type\": \"histogram\"}], \"histogram2d\": [{\"colorbar\": {\"outlinewidth\": 0, \"ticks\": \"\"}, \"colorscale\": [[0.0, \"#0d0887\"], [0.1111111111111111, \"#46039f\"], [0.2222222222222222, \"#7201a8\"], [0.3333333333333333, \"#9c179e\"], [0.4444444444444444, \"#bd3786\"], [0.5555555555555556, \"#d8576b\"], [0.6666666666666666, \"#ed7953\"], [0.7777777777777778, \"#fb9f3a\"], [0.8888888888888888, \"#fdca26\"], [1.0, \"#f0f921\"]], \"type\": \"histogram2d\"}], \"histogram2dcontour\": [{\"colorbar\": {\"outlinewidth\": 0, \"ticks\": \"\"}, \"colorscale\": [[0.0, \"#0d0887\"], [0.1111111111111111, \"#46039f\"], [0.2222222222222222, \"#7201a8\"], [0.3333333333333333, \"#9c179e\"], [0.4444444444444444, \"#bd3786\"], [0.5555555555555556, \"#d8576b\"], [0.6666666666666666, \"#ed7953\"], [0.7777777777777778, \"#fb9f3a\"], [0.8888888888888888, \"#fdca26\"], [1.0, \"#f0f921\"]], \"type\": \"histogram2dcontour\"}], \"mesh3d\": [{\"colorbar\": {\"outlinewidth\": 0, \"ticks\": \"\"}, \"type\": \"mesh3d\"}], \"parcoords\": [{\"line\": {\"colorbar\": {\"outlinewidth\": 0, \"ticks\": \"\"}}, \"type\": \"parcoords\"}], \"pie\": [{\"automargin\": true, \"type\": \"pie\"}], \"scatter\": [{\"marker\": {\"colorbar\": {\"outlinewidth\": 0, \"ticks\": \"\"}}, \"type\": \"scatter\"}], \"scatter3d\": [{\"line\": {\"colorbar\": {\"outlinewidth\": 0, \"ticks\": \"\"}}, \"marker\": {\"colorbar\": {\"outlinewidth\": 0, \"ticks\": \"\"}}, \"type\": \"scatter3d\"}], \"scattercarpet\": [{\"marker\": {\"colorbar\": {\"outlinewidth\": 0, \"ticks\": \"\"}}, \"type\": \"scattercarpet\"}], \"scattergeo\": [{\"marker\": {\"colorbar\": {\"outlinewidth\": 0, \"ticks\": \"\"}}, \"type\": \"scattergeo\"}], \"scattergl\": [{\"marker\": {\"colorbar\": {\"outlinewidth\": 0, \"ticks\": \"\"}}, \"type\": \"scattergl\"}], \"scattermapbox\": [{\"marker\": {\"colorbar\": {\"outlinewidth\": 0, \"ticks\": \"\"}}, \"type\": \"scattermapbox\"}], \"scatterpolar\": [{\"marker\": {\"colorbar\": {\"outlinewidth\": 0, \"ticks\": \"\"}}, \"type\": \"scatterpolar\"}], \"scatterpolargl\": [{\"marker\": {\"colorbar\": {\"outlinewidth\": 0, \"ticks\": \"\"}}, \"type\": \"scatterpolargl\"}], \"scatterternary\": [{\"marker\": {\"colorbar\": {\"outlinewidth\": 0, \"ticks\": \"\"}}, \"type\": \"scatterternary\"}], \"surface\": [{\"colorbar\": {\"outlinewidth\": 0, \"ticks\": \"\"}, \"colorscale\": [[0.0, \"#0d0887\"], [0.1111111111111111, \"#46039f\"], [0.2222222222222222, \"#7201a8\"], [0.3333333333333333, \"#9c179e\"], [0.4444444444444444, \"#bd3786\"], [0.5555555555555556, \"#d8576b\"], [0.6666666666666666, \"#ed7953\"], [0.7777777777777778, \"#fb9f3a\"], [0.8888888888888888, \"#fdca26\"], [1.0, \"#f0f921\"]], \"type\": \"surface\"}], \"table\": [{\"cells\": {\"fill\": {\"color\": \"#EBF0F8\"}, \"line\": {\"color\": \"white\"}}, \"header\": {\"fill\": {\"color\": \"#C8D4E3\"}, \"line\": {\"color\": \"white\"}}, \"type\": \"table\"}]}, \"layout\": {\"annotationdefaults\": {\"arrowcolor\": \"#2a3f5f\", \"arrowhead\": 0, \"arrowwidth\": 1}, \"coloraxis\": {\"colorbar\": {\"outlinewidth\": 0, \"ticks\": \"\"}}, \"colorscale\": {\"diverging\": [[0, \"#8e0152\"], [0.1, \"#c51b7d\"], [0.2, \"#de77ae\"], [0.3, \"#f1b6da\"], [0.4, \"#fde0ef\"], [0.5, \"#f7f7f7\"], [0.6, \"#e6f5d0\"], [0.7, \"#b8e186\"], [0.8, \"#7fbc41\"], [0.9, \"#4d9221\"], [1, \"#276419\"]], \"sequential\": [[0.0, \"#0d0887\"], [0.1111111111111111, \"#46039f\"], [0.2222222222222222, \"#7201a8\"], [0.3333333333333333, \"#9c179e\"], [0.4444444444444444, \"#bd3786\"], [0.5555555555555556, \"#d8576b\"], [0.6666666666666666, \"#ed7953\"], [0.7777777777777778, \"#fb9f3a\"], [0.8888888888888888, \"#fdca26\"], [1.0, \"#f0f921\"]], \"sequentialminus\": [[0.0, \"#0d0887\"], [0.1111111111111111, \"#46039f\"], [0.2222222222222222, \"#7201a8\"], [0.3333333333333333, \"#9c179e\"], [0.4444444444444444, \"#bd3786\"], [0.5555555555555556, \"#d8576b\"], [0.6666666666666666, \"#ed7953\"], [0.7777777777777778, \"#fb9f3a\"], [0.8888888888888888, \"#fdca26\"], [1.0, \"#f0f921\"]]}, \"colorway\": [\"#636efa\", \"#EF553B\", \"#00cc96\", \"#ab63fa\", \"#FFA15A\", \"#19d3f3\", \"#FF6692\", \"#B6E880\", \"#FF97FF\", \"#FECB52\"], \"font\": {\"color\": \"#2a3f5f\"}, \"geo\": {\"bgcolor\": \"white\", \"lakecolor\": \"white\", \"landcolor\": \"#E5ECF6\", \"showlakes\": true, \"showland\": true, \"subunitcolor\": \"white\"}, \"hoverlabel\": {\"align\": \"left\"}, \"hovermode\": \"closest\", \"mapbox\": {\"style\": \"light\"}, \"paper_bgcolor\": \"white\", \"plot_bgcolor\": \"#E5ECF6\", \"polar\": {\"angularaxis\": {\"gridcolor\": \"white\", \"linecolor\": \"white\", \"ticks\": \"\"}, \"bgcolor\": \"#E5ECF6\", \"radialaxis\": {\"gridcolor\": \"white\", \"linecolor\": \"white\", \"ticks\": \"\"}}, \"scene\": {\"xaxis\": {\"backgroundcolor\": \"#E5ECF6\", \"gridcolor\": \"white\", \"gridwidth\": 2, \"linecolor\": \"white\", \"showbackground\": true, \"ticks\": \"\", \"zerolinecolor\": \"white\"}, \"yaxis\": {\"backgroundcolor\": \"#E5ECF6\", \"gridcolor\": \"white\", \"gridwidth\": 2, \"linecolor\": \"white\", \"showbackground\": true, \"ticks\": \"\", \"zerolinecolor\": \"white\"}, \"zaxis\": {\"backgroundcolor\": \"#E5ECF6\", \"gridcolor\": \"white\", \"gridwidth\": 2, \"linecolor\": \"white\", \"showbackground\": true, \"ticks\": \"\", \"zerolinecolor\": \"white\"}}, \"shapedefaults\": {\"line\": {\"color\": \"#2a3f5f\"}}, \"ternary\": {\"aaxis\": {\"gridcolor\": \"white\", \"linecolor\": \"white\", \"ticks\": \"\"}, \"baxis\": {\"gridcolor\": \"white\", \"linecolor\": \"white\", \"ticks\": \"\"}, \"bgcolor\": \"#E5ECF6\", \"caxis\": {\"gridcolor\": \"white\", \"linecolor\": \"white\", \"ticks\": \"\"}}, \"title\": {\"x\": 0.05}, \"xaxis\": {\"automargin\": true, \"gridcolor\": \"white\", \"linecolor\": \"white\", \"ticks\": \"\", \"title\": {\"standoff\": 15}, \"zerolinecolor\": \"white\", \"zerolinewidth\": 2}, \"yaxis\": {\"automargin\": true, \"gridcolor\": \"white\", \"linecolor\": \"white\", \"ticks\": \"\", \"title\": {\"standoff\": 15}, \"zerolinecolor\": \"white\", \"zerolinewidth\": 2}}}, \"title\": {\"text\": \"Inertia vs Cluster Number\"}, \"width\": 500, \"xaxis\": {\"range\": [0, 11], \"title\": {\"text\": \"Cluster Number\"}}, \"yaxis\": {\"title\": {\"text\": \"Inertia\"}}},\n",
              "                        {\"responsive\": true}\n",
              "                    ).then(function(){\n",
              "                            \n",
              "var gd = document.getElementById('d2b87f40-8aab-46fb-8c57-4c456440f4d3');\n",
              "var x = new MutationObserver(function (mutations, observer) {{\n",
              "        var display = window.getComputedStyle(gd).display;\n",
              "        if (!display || display === 'none') {{\n",
              "            console.log([gd, 'removed!']);\n",
              "            Plotly.purge(gd);\n",
              "            observer.disconnect();\n",
              "        }}\n",
              "}});\n",
              "\n",
              "// Listen for the removal of the full notebook cells\n",
              "var notebookContainer = gd.closest('#notebook-container');\n",
              "if (notebookContainer) {{\n",
              "    x.observe(notebookContainer, {childList: true});\n",
              "}}\n",
              "\n",
              "// Listen for the clearing of the current output cell\n",
              "var outputEl = gd.closest('.output');\n",
              "if (outputEl) {{\n",
              "    x.observe(outputEl, {childList: true});\n",
              "}}\n",
              "\n",
              "                        })\n",
              "                };\n",
              "                \n",
              "            </script>\n",
              "        </div>\n",
              "</body>\n",
              "</html>"
            ]
          },
          "metadata": {}
        }
      ]
    },
    {
      "cell_type": "markdown",
      "source": [
        "\n",
        "As can be seen in this graph our plot does not have an abundantly clear elbow (as is often the case with complex real-world datasets). We chose k=4 as the most likely elbow, as this number of clusters also makes it easier to compare the clusters outputted by k-means with the 4 ecological clusters we assigned to the parks ourselves. \n",
        " \n"
      ],
      "metadata": {
        "id": "LKYXtzHLxeYF"
      }
    },
    {
      "cell_type": "code",
      "metadata": {
        "colab": {
          "base_uri": "https://localhost:8080/",
          "height": 817
        },
        "id": "2KjkOt-y1btK",
        "outputId": "a70a265a-4f6a-40d6-afed-fd8a1d874ff8"
      },
      "source": [
        "from sklearn.cluster import KMeans\n",
        "kmeans = KMeans(\n",
        "        n_clusters=4, init=\"k-means++\",\n",
        "        n_init=10,\n",
        "        tol=1e-04, random_state=42\n",
        "    )\n",
        "kmeans.fit(X)\n",
        "clusters=pd.DataFrame(X,columns=parks_kmeans.columns, index=parks_kmeans.index)\n",
        "\n",
        "clusters['Biodiversity Category']=kmeans.labels_\n",
        "polar=clusters.groupby(\"Biodiversity Category\").mean().reset_index()\n",
        "polar=pd.melt(polar,id_vars=[\"Biodiversity Category\"])\n",
        "fig = px.line_polar(polar, r=\"value\", theta=\"variable\", color=\"Biodiversity Category\", line_close=True,height=800,width=1400,\n",
        "                     title=\"Mean Values of Each Feature by Cluster\",\n",
        "                     color_discrete_map={\n",
        "                      0: \"#00cc96\",\n",
        "                      1: \"#ef553b\",\n",
        "                      2: \"#636efa\",\n",
        "                      3: \"#19d3f3\",\n",
        "                      })\n",
        "fig.update_layout(title={\n",
        "        'text': \"Average Value of Each Feature in Each K-Means Cluster\",\n",
        "        'y':0.95,\n",
        "        'x':0.5,\n",
        "        'xanchor': 'center',\n",
        "        'yanchor': 'top'},\n",
        "\n",
        "        legend=dict(\n",
        "          yanchor=\"top\",\n",
        "          y=0.99,\n",
        "          xanchor=\"right\",\n",
        "          x=0.84\n",
        "            )\n",
        "        )\n",
        "\n",
        "fig.add_annotation(xref='paper',\n",
        "                  yref='paper',\n",
        "                  x=0.5, y=-0.25,\n",
        "                  showarrow=False,\n",
        "                  text ='This is my caption for the Plotly figure')\n",
        "fig.show()"
      ],
      "execution_count": 230,
      "outputs": [
        {
          "output_type": "display_data",
          "data": {
            "text/html": [
              "<html>\n",
              "<head><meta charset=\"utf-8\" /></head>\n",
              "<body>\n",
              "    <div>\n",
              "            <script src=\"https://cdnjs.cloudflare.com/ajax/libs/mathjax/2.7.5/MathJax.js?config=TeX-AMS-MML_SVG\"></script><script type=\"text/javascript\">if (window.MathJax) {MathJax.Hub.Config({SVG: {font: \"STIX-Web\"}});}</script>\n",
              "                <script type=\"text/javascript\">window.PlotlyConfig = {MathJaxConfig: 'local'};</script>\n",
              "        <script src=\"https://cdn.plot.ly/plotly-latest.min.js\"></script>    \n",
              "            <div id=\"f77e7644-3da9-45e8-81d3-9e7b70ae4423\" class=\"plotly-graph-div\" style=\"height:800px; width:1400px;\"></div>\n",
              "            <script type=\"text/javascript\">\n",
              "                \n",
              "                    window.PLOTLYENV=window.PLOTLYENV || {};\n",
              "                    \n",
              "                if (document.getElementById(\"f77e7644-3da9-45e8-81d3-9e7b70ae4423\")) {\n",
              "                    Plotly.newPlot(\n",
              "                        'f77e7644-3da9-45e8-81d3-9e7b70ae4423',\n",
              "                        [{\"hoverlabel\": {\"namelength\": 0}, \"hovertemplate\": \"Biodiversity Category=0<br>value=%{r}<br>variable=%{theta}\", \"legendgroup\": \"Biodiversity Category=0\", \"line\": {\"color\": \"#00cc96\", \"dash\": \"solid\"}, \"mode\": \"lines\", \"name\": \"Biodiversity Category=0\", \"r\": [0.28131427651483193, 0.3988247985099989, 0.3545966606641766, 0.15586052472058887, 0.12704783381358406, 0.28131427651483193], \"showlegend\": true, \"subplot\": \"polar\", \"theta\": [\"Native_Proportion\", \"Species_Per_Acre\", \"Percent_Animals\", \"Percent_Aquatic\", \"Percent_At_Risk\", \"Native_Proportion\"], \"type\": \"scatterpolar\"}, {\"hoverlabel\": {\"namelength\": 0}, \"hovertemplate\": \"Biodiversity Category=1<br>value=%{r}<br>variable=%{theta}\", \"legendgroup\": \"Biodiversity Category=1\", \"line\": {\"color\": \"#ef553b\", \"dash\": \"solid\"}, \"mode\": \"lines\", \"name\": \"Biodiversity Category=1\", \"r\": [0.7741779930079409, 0.12019776700062824, 0.23791438533010992, 0.0895271160400555, 0.6362963063673982, 0.7741779930079409], \"showlegend\": true, \"subplot\": \"polar\", \"theta\": [\"Native_Proportion\", \"Species_Per_Acre\", \"Percent_Animals\", \"Percent_Aquatic\", \"Percent_At_Risk\", \"Native_Proportion\"], \"type\": \"scatterpolar\"}, {\"hoverlabel\": {\"namelength\": 0}, \"hovertemplate\": \"Biodiversity Category=2<br>value=%{r}<br>variable=%{theta}\", \"legendgroup\": \"Biodiversity Category=2\", \"line\": {\"color\": \"#636efa\", \"dash\": \"solid\"}, \"mode\": \"lines\", \"name\": \"Biodiversity Category=2\", \"r\": [0.8004049813829373, 0.036475543892178185, 0.16438645698706034, 0.17747748120284698, 0.24241048756596043, 0.8004049813829373], \"showlegend\": true, \"subplot\": \"polar\", \"theta\": [\"Native_Proportion\", \"Species_Per_Acre\", \"Percent_Animals\", \"Percent_Aquatic\", \"Percent_At_Risk\", \"Native_Proportion\"], \"type\": \"scatterpolar\"}, {\"hoverlabel\": {\"namelength\": 0}, \"hovertemplate\": \"Biodiversity Category=3<br>value=%{r}<br>variable=%{theta}\", \"legendgroup\": \"Biodiversity Category=3\", \"line\": {\"color\": \"#19d3f3\", \"dash\": \"solid\"}, \"mode\": \"lines\", \"name\": \"Biodiversity Category=3\", \"r\": [0.47714753452109376, 0.05475788753087968, 0.7265671496638655, 0.7848743098587255, 0.49270296700296434, 0.47714753452109376], \"showlegend\": true, \"subplot\": \"polar\", \"theta\": [\"Native_Proportion\", \"Species_Per_Acre\", \"Percent_Animals\", \"Percent_Aquatic\", \"Percent_At_Risk\", \"Native_Proportion\"], \"type\": \"scatterpolar\"}],\n",
              "                        {\"annotations\": [{\"showarrow\": false, \"text\": \"This is my caption for the Plotly figure\", \"x\": 0.5, \"xref\": \"paper\", \"y\": -0.25, \"yref\": \"paper\"}], \"height\": 800, \"legend\": {\"tracegroupgap\": 0, \"x\": 0.84, \"xanchor\": \"right\", \"y\": 0.99, \"yanchor\": \"top\"}, \"polar\": {\"angularaxis\": {\"direction\": \"clockwise\", \"rotation\": 90}, \"domain\": {\"x\": [0.0, 1.0], \"y\": [0.0, 1.0]}}, \"template\": {\"data\": {\"bar\": [{\"error_x\": {\"color\": \"#2a3f5f\"}, \"error_y\": {\"color\": \"#2a3f5f\"}, \"marker\": {\"line\": {\"color\": \"#E5ECF6\", \"width\": 0.5}}, \"type\": \"bar\"}], \"barpolar\": [{\"marker\": {\"line\": {\"color\": \"#E5ECF6\", \"width\": 0.5}}, \"type\": \"barpolar\"}], \"carpet\": [{\"aaxis\": {\"endlinecolor\": \"#2a3f5f\", \"gridcolor\": \"white\", \"linecolor\": \"white\", \"minorgridcolor\": \"white\", \"startlinecolor\": \"#2a3f5f\"}, \"baxis\": {\"endlinecolor\": \"#2a3f5f\", \"gridcolor\": \"white\", \"linecolor\": \"white\", \"minorgridcolor\": \"white\", \"startlinecolor\": \"#2a3f5f\"}, \"type\": \"carpet\"}], \"choropleth\": [{\"colorbar\": {\"outlinewidth\": 0, \"ticks\": \"\"}, \"type\": \"choropleth\"}], \"contour\": [{\"colorbar\": {\"outlinewidth\": 0, \"ticks\": \"\"}, \"colorscale\": [[0.0, \"#0d0887\"], [0.1111111111111111, \"#46039f\"], [0.2222222222222222, \"#7201a8\"], [0.3333333333333333, \"#9c179e\"], [0.4444444444444444, \"#bd3786\"], [0.5555555555555556, \"#d8576b\"], [0.6666666666666666, \"#ed7953\"], [0.7777777777777778, \"#fb9f3a\"], [0.8888888888888888, \"#fdca26\"], [1.0, \"#f0f921\"]], \"type\": \"contour\"}], \"contourcarpet\": [{\"colorbar\": {\"outlinewidth\": 0, \"ticks\": \"\"}, \"type\": \"contourcarpet\"}], \"heatmap\": [{\"colorbar\": {\"outlinewidth\": 0, \"ticks\": \"\"}, \"colorscale\": [[0.0, \"#0d0887\"], [0.1111111111111111, \"#46039f\"], [0.2222222222222222, \"#7201a8\"], [0.3333333333333333, \"#9c179e\"], [0.4444444444444444, \"#bd3786\"], [0.5555555555555556, \"#d8576b\"], [0.6666666666666666, \"#ed7953\"], [0.7777777777777778, \"#fb9f3a\"], [0.8888888888888888, \"#fdca26\"], [1.0, \"#f0f921\"]], \"type\": \"heatmap\"}], \"heatmapgl\": [{\"colorbar\": {\"outlinewidth\": 0, \"ticks\": \"\"}, \"colorscale\": [[0.0, \"#0d0887\"], [0.1111111111111111, \"#46039f\"], [0.2222222222222222, \"#7201a8\"], [0.3333333333333333, \"#9c179e\"], [0.4444444444444444, \"#bd3786\"], [0.5555555555555556, \"#d8576b\"], [0.6666666666666666, \"#ed7953\"], [0.7777777777777778, \"#fb9f3a\"], [0.8888888888888888, \"#fdca26\"], [1.0, \"#f0f921\"]], \"type\": \"heatmapgl\"}], \"histogram\": [{\"marker\": {\"colorbar\": {\"outlinewidth\": 0, \"ticks\": \"\"}}, \"type\": \"histogram\"}], \"histogram2d\": [{\"colorbar\": {\"outlinewidth\": 0, \"ticks\": \"\"}, \"colorscale\": [[0.0, \"#0d0887\"], [0.1111111111111111, \"#46039f\"], [0.2222222222222222, \"#7201a8\"], [0.3333333333333333, \"#9c179e\"], [0.4444444444444444, \"#bd3786\"], [0.5555555555555556, \"#d8576b\"], [0.6666666666666666, \"#ed7953\"], [0.7777777777777778, \"#fb9f3a\"], [0.8888888888888888, \"#fdca26\"], [1.0, \"#f0f921\"]], \"type\": \"histogram2d\"}], \"histogram2dcontour\": [{\"colorbar\": {\"outlinewidth\": 0, \"ticks\": \"\"}, \"colorscale\": [[0.0, \"#0d0887\"], [0.1111111111111111, \"#46039f\"], [0.2222222222222222, \"#7201a8\"], [0.3333333333333333, \"#9c179e\"], [0.4444444444444444, \"#bd3786\"], [0.5555555555555556, \"#d8576b\"], [0.6666666666666666, \"#ed7953\"], [0.7777777777777778, \"#fb9f3a\"], [0.8888888888888888, \"#fdca26\"], [1.0, \"#f0f921\"]], \"type\": \"histogram2dcontour\"}], \"mesh3d\": [{\"colorbar\": {\"outlinewidth\": 0, \"ticks\": \"\"}, \"type\": \"mesh3d\"}], \"parcoords\": [{\"line\": {\"colorbar\": {\"outlinewidth\": 0, \"ticks\": \"\"}}, \"type\": \"parcoords\"}], \"pie\": [{\"automargin\": true, \"type\": \"pie\"}], \"scatter\": [{\"marker\": {\"colorbar\": {\"outlinewidth\": 0, \"ticks\": \"\"}}, \"type\": \"scatter\"}], \"scatter3d\": [{\"line\": {\"colorbar\": {\"outlinewidth\": 0, \"ticks\": \"\"}}, \"marker\": {\"colorbar\": {\"outlinewidth\": 0, \"ticks\": \"\"}}, \"type\": \"scatter3d\"}], \"scattercarpet\": [{\"marker\": {\"colorbar\": {\"outlinewidth\": 0, \"ticks\": \"\"}}, \"type\": \"scattercarpet\"}], \"scattergeo\": [{\"marker\": {\"colorbar\": {\"outlinewidth\": 0, \"ticks\": \"\"}}, \"type\": \"scattergeo\"}], \"scattergl\": [{\"marker\": {\"colorbar\": {\"outlinewidth\": 0, \"ticks\": \"\"}}, \"type\": \"scattergl\"}], \"scattermapbox\": [{\"marker\": {\"colorbar\": {\"outlinewidth\": 0, \"ticks\": \"\"}}, \"type\": \"scattermapbox\"}], \"scatterpolar\": [{\"marker\": {\"colorbar\": {\"outlinewidth\": 0, \"ticks\": \"\"}}, \"type\": \"scatterpolar\"}], \"scatterpolargl\": [{\"marker\": {\"colorbar\": {\"outlinewidth\": 0, \"ticks\": \"\"}}, \"type\": \"scatterpolargl\"}], \"scatterternary\": [{\"marker\": {\"colorbar\": {\"outlinewidth\": 0, \"ticks\": \"\"}}, \"type\": \"scatterternary\"}], \"surface\": [{\"colorbar\": {\"outlinewidth\": 0, \"ticks\": \"\"}, \"colorscale\": [[0.0, \"#0d0887\"], [0.1111111111111111, \"#46039f\"], [0.2222222222222222, \"#7201a8\"], [0.3333333333333333, \"#9c179e\"], [0.4444444444444444, \"#bd3786\"], [0.5555555555555556, \"#d8576b\"], [0.6666666666666666, \"#ed7953\"], [0.7777777777777778, \"#fb9f3a\"], [0.8888888888888888, \"#fdca26\"], [1.0, \"#f0f921\"]], \"type\": \"surface\"}], \"table\": [{\"cells\": {\"fill\": {\"color\": \"#EBF0F8\"}, \"line\": {\"color\": \"white\"}}, \"header\": {\"fill\": {\"color\": \"#C8D4E3\"}, \"line\": {\"color\": \"white\"}}, \"type\": \"table\"}]}, \"layout\": {\"annotationdefaults\": {\"arrowcolor\": \"#2a3f5f\", \"arrowhead\": 0, \"arrowwidth\": 1}, \"coloraxis\": {\"colorbar\": {\"outlinewidth\": 0, \"ticks\": \"\"}}, \"colorscale\": {\"diverging\": [[0, \"#8e0152\"], [0.1, \"#c51b7d\"], [0.2, \"#de77ae\"], [0.3, \"#f1b6da\"], [0.4, \"#fde0ef\"], [0.5, \"#f7f7f7\"], [0.6, \"#e6f5d0\"], [0.7, \"#b8e186\"], [0.8, \"#7fbc41\"], [0.9, \"#4d9221\"], [1, \"#276419\"]], \"sequential\": [[0.0, \"#0d0887\"], [0.1111111111111111, \"#46039f\"], [0.2222222222222222, \"#7201a8\"], [0.3333333333333333, \"#9c179e\"], [0.4444444444444444, \"#bd3786\"], [0.5555555555555556, \"#d8576b\"], [0.6666666666666666, \"#ed7953\"], [0.7777777777777778, \"#fb9f3a\"], [0.8888888888888888, \"#fdca26\"], [1.0, \"#f0f921\"]], \"sequentialminus\": [[0.0, \"#0d0887\"], [0.1111111111111111, \"#46039f\"], [0.2222222222222222, \"#7201a8\"], [0.3333333333333333, \"#9c179e\"], [0.4444444444444444, \"#bd3786\"], [0.5555555555555556, \"#d8576b\"], [0.6666666666666666, \"#ed7953\"], [0.7777777777777778, \"#fb9f3a\"], [0.8888888888888888, \"#fdca26\"], [1.0, \"#f0f921\"]]}, \"colorway\": [\"#636efa\", \"#EF553B\", \"#00cc96\", \"#ab63fa\", \"#FFA15A\", \"#19d3f3\", \"#FF6692\", \"#B6E880\", \"#FF97FF\", \"#FECB52\"], \"font\": {\"color\": \"#2a3f5f\"}, \"geo\": {\"bgcolor\": \"white\", \"lakecolor\": \"white\", \"landcolor\": \"#E5ECF6\", \"showlakes\": true, \"showland\": true, \"subunitcolor\": \"white\"}, \"hoverlabel\": {\"align\": \"left\"}, \"hovermode\": \"closest\", \"mapbox\": {\"style\": \"light\"}, \"paper_bgcolor\": \"white\", \"plot_bgcolor\": \"#E5ECF6\", \"polar\": {\"angularaxis\": {\"gridcolor\": \"white\", \"linecolor\": \"white\", \"ticks\": \"\"}, \"bgcolor\": \"#E5ECF6\", \"radialaxis\": {\"gridcolor\": \"white\", \"linecolor\": \"white\", \"ticks\": \"\"}}, \"scene\": {\"xaxis\": {\"backgroundcolor\": \"#E5ECF6\", \"gridcolor\": \"white\", \"gridwidth\": 2, \"linecolor\": \"white\", \"showbackground\": true, \"ticks\": \"\", \"zerolinecolor\": \"white\"}, \"yaxis\": {\"backgroundcolor\": \"#E5ECF6\", \"gridcolor\": \"white\", \"gridwidth\": 2, \"linecolor\": \"white\", \"showbackground\": true, \"ticks\": \"\", \"zerolinecolor\": \"white\"}, \"zaxis\": {\"backgroundcolor\": \"#E5ECF6\", \"gridcolor\": \"white\", \"gridwidth\": 2, \"linecolor\": \"white\", \"showbackground\": true, \"ticks\": \"\", \"zerolinecolor\": \"white\"}}, \"shapedefaults\": {\"line\": {\"color\": \"#2a3f5f\"}}, \"ternary\": {\"aaxis\": {\"gridcolor\": \"white\", \"linecolor\": \"white\", \"ticks\": \"\"}, \"baxis\": {\"gridcolor\": \"white\", \"linecolor\": \"white\", \"ticks\": \"\"}, \"bgcolor\": \"#E5ECF6\", \"caxis\": {\"gridcolor\": \"white\", \"linecolor\": \"white\", \"ticks\": \"\"}}, \"title\": {\"x\": 0.05}, \"xaxis\": {\"automargin\": true, \"gridcolor\": \"white\", \"linecolor\": \"white\", \"ticks\": \"\", \"title\": {\"standoff\": 15}, \"zerolinecolor\": \"white\", \"zerolinewidth\": 2}, \"yaxis\": {\"automargin\": true, \"gridcolor\": \"white\", \"linecolor\": \"white\", \"ticks\": \"\", \"title\": {\"standoff\": 15}, \"zerolinecolor\": \"white\", \"zerolinewidth\": 2}}}, \"title\": {\"text\": \"Average Value of Each Feature in Each K-Means Cluster\", \"x\": 0.5, \"xanchor\": \"center\", \"y\": 0.95, \"yanchor\": \"top\"}, \"width\": 1400},\n",
              "                        {\"responsive\": true}\n",
              "                    ).then(function(){\n",
              "                            \n",
              "var gd = document.getElementById('f77e7644-3da9-45e8-81d3-9e7b70ae4423');\n",
              "var x = new MutationObserver(function (mutations, observer) {{\n",
              "        var display = window.getComputedStyle(gd).display;\n",
              "        if (!display || display === 'none') {{\n",
              "            console.log([gd, 'removed!']);\n",
              "            Plotly.purge(gd);\n",
              "            observer.disconnect();\n",
              "        }}\n",
              "}});\n",
              "\n",
              "// Listen for the removal of the full notebook cells\n",
              "var notebookContainer = gd.closest('#notebook-container');\n",
              "if (notebookContainer) {{\n",
              "    x.observe(notebookContainer, {childList: true});\n",
              "}}\n",
              "\n",
              "// Listen for the clearing of the current output cell\n",
              "var outputEl = gd.closest('.output');\n",
              "if (outputEl) {{\n",
              "    x.observe(outputEl, {childList: true});\n",
              "}}\n",
              "\n",
              "                        })\n",
              "                };\n",
              "                \n",
              "            </script>\n",
              "        </div>\n",
              "</body>\n",
              "</html>"
            ]
          },
          "metadata": {}
        }
      ]
    },
    {
      "cell_type": "markdown",
      "source": [
        "Parks clustered into category 0 are marked by relatively high species density (species per acre) compared to the other categories, and a fairly low percentage of native species (meaning that there is a significant amount of invasive species in the park). Parks in this category include most of the midwestern, southeastern, and Hawaiian parks. These largely fall into the “forested” and “tropical” ecosystem categories we assigned. However, Rocky Mountain NP was also included in this category, despite being very different from the rest in terms of biome (it is a primarily alpine environment). Based on these attributes, the NPS should focus their invasive species removal efforts on parks in this category, since that seems to be their primary conservation issue. \n",
        "\n",
        "Parks in category 1 are marked by having the highest percentage of at-risk species out of any of the categories. These primarily overlap with the parks in the “desert” ecosystem category (hence the low proportion of aquatic animals). One surprise in this category is Redwood National Park in Northern California, which is quite lush and forested compared to the primarily dry, desert parks that make up the rest of the category. The NPS should focus their conservation efforts here on protecting endangered and other at-risk species, since this is where the highest proportion of them can be found.\n",
        "\n",
        "Category 2 does not have a central, defining feature. The parks in the category have very low species density, a relatively low percentage of at-risk species, few marine animals, and almost solely contain native species. These parks mostly overlap with alpine parks and more northern forested parks. Grand Canyon National Park is one exception, as most would consider it to bear more resemblance to other desert parks such as nearby Bryce Canyon and Zion.  The NPS service likely does not need to do as much specific biodiversity conservation efforts in these parks, since they are naturally not as rich in biodiversity to begin with and the relatively few species that do exist there do not appear to be under immediate threat. \n",
        "\n",
        "Finally, category 4 contains only the parks in southern Florida: Dry Tortugas, Biscayne Bay, and the Everglades. These parks are unique in that they are primarily covered by water (hence the high proportion of aquatic animals). For example, the area of Biscayne Bay NP is 95% water, the remaining 5% being made up by strings of small islands.8 It is likely that the biodiversity conservation needs of these marine ecosystems are very different from that of the land-based parks, so it is logical that they would be clustered separately from all the rest. \n"
      ],
      "metadata": {
        "id": "0qd-ViMnxykT"
      }
    },
    {
      "cell_type": "code",
      "metadata": {
        "id": "C4f02vC2ACpF",
        "colab": {
          "base_uri": "https://localhost:8080/",
          "height": 542
        },
        "outputId": "165266d1-7b11-4eaf-9392-b0d3cda3ed91"
      },
      "source": [
        "clusters_for_map = parks[[\"Latitude\", \"Longitude\"]]\n",
        "clusters_for_map = clusters_for_map.set_index(parks_kmeans.index)\n",
        "clusters_for_map[\"Biodiversity Category\"] = clusters[\"Biodiversity Category\"].astype(str)\n",
        "\n",
        "import plotly.express as px\n",
        "fig = px.scatter_geo(clusters_for_map, \n",
        "                     locationmode=\"USA-states\",\n",
        "                     lat = \"Latitude\",\n",
        "                     lon=\"Longitude\",\n",
        "                     color=\"Biodiversity Category\",\n",
        "                     scope=\"usa\",\n",
        "                     color_discrete_map={\n",
        "                      \"0\": \"#00cc96\",\n",
        "                      '1': \"#ef553b\",\n",
        "                      '2': \"#636efa\",\n",
        "                      '3': \"#19d3f3\",\n",
        "                      }\n",
        "                     )\n",
        "fig.update_traces(marker=dict(size=7)),\n",
        "fig.update_layout(title={\n",
        "        'text': \"Map of US National Parks by K-Means Cluster\",\n",
        "        'y':0.9,\n",
        "        'x':0.50,\n",
        "        'xanchor': 'center',\n",
        "        'yanchor': 'top'},\n",
        "\n",
        "        legend=dict(\n",
        "          yanchor=\"top\",\n",
        "          y=0.6,\n",
        "          xanchor=\"right\",\n",
        "          x=0.73\n",
        "            )\n",
        "        )\n",
        "fig.update_geos(\n",
        "    resolution=50,\n",
        "    showocean=False, oceancolor=\"#d6e9f8\",\n",
        "    showlakes=True, lakecolor=\"#d6e9f8\",\n",
        "    showrivers=True, rivercolor=\"#d6e9f8\"\n",
        ")\n",
        "fig.show()"
      ],
      "execution_count": 232,
      "outputs": [
        {
          "output_type": "display_data",
          "data": {
            "text/html": [
              "<html>\n",
              "<head><meta charset=\"utf-8\" /></head>\n",
              "<body>\n",
              "    <div>\n",
              "            <script src=\"https://cdnjs.cloudflare.com/ajax/libs/mathjax/2.7.5/MathJax.js?config=TeX-AMS-MML_SVG\"></script><script type=\"text/javascript\">if (window.MathJax) {MathJax.Hub.Config({SVG: {font: \"STIX-Web\"}});}</script>\n",
              "                <script type=\"text/javascript\">window.PlotlyConfig = {MathJaxConfig: 'local'};</script>\n",
              "        <script src=\"https://cdn.plot.ly/plotly-latest.min.js\"></script>    \n",
              "            <div id=\"e8c0f79b-f7c6-477d-8265-d5bab95e0d89\" class=\"plotly-graph-div\" style=\"height:525px; width:100%;\"></div>\n",
              "            <script type=\"text/javascript\">\n",
              "                \n",
              "                    window.PLOTLYENV=window.PLOTLYENV || {};\n",
              "                    \n",
              "                if (document.getElementById(\"e8c0f79b-f7c6-477d-8265-d5bab95e0d89\")) {\n",
              "                    Plotly.newPlot(\n",
              "                        'e8c0f79b-f7c6-477d-8265-d5bab95e0d89',\n",
              "                        [{\"geo\": \"geo\", \"hoverlabel\": {\"namelength\": 0}, \"hovertemplate\": \"Biodiversity Category=2<br>Latitude=%{lat}<br>Longitude=%{lon}\", \"lat\": [44.35, 42.94, 63.33, 67.78, 48.8, 58.5, 36.06, 43.73, 48.1, 58.5, 59.92, 67.55, 60.97, 40.49, 46.85, 48.7, 47.97, 38.53, 46.97, 48.5, 61.0, 44.6, 37.83], \"legendgroup\": \"Biodiversity Category=2\", \"locationmode\": \"USA-states\", \"lon\": [-68.21, -122.1, -150.5, -153.3, -114.0, -137.0, -112.14, -110.8, -88.55, -155.0, -149.65, -159.28, -153.42, -121.51, -121.75, -121.2, -123.5, -78.35, -103.45, -92.88, -142.0, -110.5, -119.5], \"marker\": {\"color\": \"#636efa\", \"size\": 7}, \"name\": \"Biodiversity Category=2\", \"showlegend\": true, \"type\": \"scattergeo\"}, {\"geo\": \"geo\", \"hoverlabel\": {\"namelength\": 0}, \"hovertemplate\": \"Biodiversity Category=1<br>Latitude=%{lat}<br>Longitude=%{lon}\", \"lat\": [38.68, 43.75, 29.25, 38.57, 37.57, 38.2, 38.2, 32.17, 34.01, 36.24, 38.98, 37.73, 31.92, 33.79, 37.18, 35.07, 36.48, 41.3, 32.25, 43.57, 37.3], \"legendgroup\": \"Biodiversity Category=1\", \"locationmode\": \"USA-states\", \"lon\": [-109.57, -102.5, -103.25, -107.72, -112.18, -109.93, -111.17, -104.44, -119.42, -116.82, -114.3, -105.51, -104.87, -115.9, -108.49, -109.78, -121.16, -124.0, -110.5, -103.48, -113.05], \"marker\": {\"color\": \"#ef553b\", \"size\": 7}, \"name\": \"Biodiversity Category=1\", \"showlegend\": true, \"type\": \"scattergeo\"}, {\"geo\": \"geo\", \"hoverlabel\": {\"namelength\": 0}, \"hovertemplate\": \"Biodiversity Category=3<br>Latitude=%{lat}<br>Longitude=%{lon}\", \"lat\": [25.65, 24.63, 25.32], \"legendgroup\": \"Biodiversity Category=3\", \"locationmode\": \"USA-states\", \"lon\": [-80.08, -82.87, -80.93], \"marker\": {\"color\": \"#19d3f3\", \"size\": 7}, \"name\": \"Biodiversity Category=3\", \"showlegend\": true, \"type\": \"scattergeo\"}, {\"geo\": \"geo\", \"hoverlabel\": {\"namelength\": 0}, \"hovertemplate\": \"Biodiversity Category=0<br>Latitude=%{lat}<br>Longitude=%{lon}\", \"lat\": [33.78, 41.24, 35.68, 20.72, 19.38, 34.51, 37.18, 40.4], \"legendgroup\": \"Biodiversity Category=0\", \"locationmode\": \"USA-states\", \"lon\": [-80.78, -81.55, -83.53, -156.17, -155.2, -93.05, -86.1, -105.58], \"marker\": {\"color\": \"#00cc96\", \"size\": 7}, \"name\": \"Biodiversity Category=0\", \"showlegend\": true, \"type\": \"scattergeo\"}],\n",
              "                        {\"geo\": {\"center\": {}, \"domain\": {\"x\": [0.0, 1.0], \"y\": [0.0, 1.0]}, \"lakecolor\": \"#d6e9f8\", \"oceancolor\": \"#d6e9f8\", \"resolution\": 50, \"rivercolor\": \"#d6e9f8\", \"scope\": \"usa\", \"showlakes\": true, \"showocean\": false, \"showrivers\": true}, \"legend\": {\"tracegroupgap\": 0, \"x\": 0.73, \"xanchor\": \"right\", \"y\": 0.6, \"yanchor\": \"top\"}, \"margin\": {\"t\": 60}, \"template\": {\"data\": {\"bar\": [{\"error_x\": {\"color\": \"#2a3f5f\"}, \"error_y\": {\"color\": \"#2a3f5f\"}, \"marker\": {\"line\": {\"color\": \"#E5ECF6\", \"width\": 0.5}}, \"type\": \"bar\"}], \"barpolar\": [{\"marker\": {\"line\": {\"color\": \"#E5ECF6\", \"width\": 0.5}}, \"type\": \"barpolar\"}], \"carpet\": [{\"aaxis\": {\"endlinecolor\": \"#2a3f5f\", \"gridcolor\": \"white\", \"linecolor\": \"white\", \"minorgridcolor\": \"white\", \"startlinecolor\": \"#2a3f5f\"}, \"baxis\": {\"endlinecolor\": \"#2a3f5f\", \"gridcolor\": \"white\", \"linecolor\": \"white\", \"minorgridcolor\": \"white\", \"startlinecolor\": \"#2a3f5f\"}, \"type\": \"carpet\"}], \"choropleth\": [{\"colorbar\": {\"outlinewidth\": 0, \"ticks\": \"\"}, \"type\": \"choropleth\"}], \"contour\": [{\"colorbar\": {\"outlinewidth\": 0, \"ticks\": \"\"}, \"colorscale\": [[0.0, \"#0d0887\"], [0.1111111111111111, \"#46039f\"], [0.2222222222222222, \"#7201a8\"], [0.3333333333333333, \"#9c179e\"], [0.4444444444444444, \"#bd3786\"], [0.5555555555555556, \"#d8576b\"], [0.6666666666666666, \"#ed7953\"], [0.7777777777777778, \"#fb9f3a\"], [0.8888888888888888, \"#fdca26\"], [1.0, \"#f0f921\"]], \"type\": \"contour\"}], \"contourcarpet\": [{\"colorbar\": {\"outlinewidth\": 0, \"ticks\": \"\"}, \"type\": \"contourcarpet\"}], \"heatmap\": [{\"colorbar\": {\"outlinewidth\": 0, \"ticks\": \"\"}, \"colorscale\": [[0.0, \"#0d0887\"], [0.1111111111111111, \"#46039f\"], [0.2222222222222222, \"#7201a8\"], [0.3333333333333333, \"#9c179e\"], [0.4444444444444444, \"#bd3786\"], [0.5555555555555556, \"#d8576b\"], [0.6666666666666666, \"#ed7953\"], [0.7777777777777778, \"#fb9f3a\"], [0.8888888888888888, \"#fdca26\"], [1.0, \"#f0f921\"]], \"type\": \"heatmap\"}], \"heatmapgl\": [{\"colorbar\": {\"outlinewidth\": 0, \"ticks\": \"\"}, \"colorscale\": [[0.0, \"#0d0887\"], [0.1111111111111111, \"#46039f\"], [0.2222222222222222, \"#7201a8\"], [0.3333333333333333, \"#9c179e\"], [0.4444444444444444, \"#bd3786\"], [0.5555555555555556, \"#d8576b\"], [0.6666666666666666, \"#ed7953\"], [0.7777777777777778, \"#fb9f3a\"], [0.8888888888888888, \"#fdca26\"], [1.0, \"#f0f921\"]], \"type\": \"heatmapgl\"}], \"histogram\": [{\"marker\": {\"colorbar\": {\"outlinewidth\": 0, \"ticks\": \"\"}}, \"type\": \"histogram\"}], \"histogram2d\": [{\"colorbar\": {\"outlinewidth\": 0, \"ticks\": \"\"}, \"colorscale\": [[0.0, \"#0d0887\"], [0.1111111111111111, \"#46039f\"], [0.2222222222222222, \"#7201a8\"], [0.3333333333333333, \"#9c179e\"], [0.4444444444444444, \"#bd3786\"], [0.5555555555555556, \"#d8576b\"], [0.6666666666666666, \"#ed7953\"], [0.7777777777777778, \"#fb9f3a\"], [0.8888888888888888, \"#fdca26\"], [1.0, \"#f0f921\"]], \"type\": \"histogram2d\"}], \"histogram2dcontour\": [{\"colorbar\": {\"outlinewidth\": 0, \"ticks\": \"\"}, \"colorscale\": [[0.0, \"#0d0887\"], [0.1111111111111111, \"#46039f\"], [0.2222222222222222, \"#7201a8\"], [0.3333333333333333, \"#9c179e\"], [0.4444444444444444, \"#bd3786\"], [0.5555555555555556, \"#d8576b\"], [0.6666666666666666, \"#ed7953\"], [0.7777777777777778, \"#fb9f3a\"], [0.8888888888888888, \"#fdca26\"], [1.0, \"#f0f921\"]], \"type\": \"histogram2dcontour\"}], \"mesh3d\": [{\"colorbar\": {\"outlinewidth\": 0, \"ticks\": \"\"}, \"type\": \"mesh3d\"}], \"parcoords\": [{\"line\": {\"colorbar\": {\"outlinewidth\": 0, \"ticks\": \"\"}}, \"type\": \"parcoords\"}], \"pie\": [{\"automargin\": true, \"type\": \"pie\"}], \"scatter\": [{\"marker\": {\"colorbar\": {\"outlinewidth\": 0, \"ticks\": \"\"}}, \"type\": \"scatter\"}], \"scatter3d\": [{\"line\": {\"colorbar\": {\"outlinewidth\": 0, \"ticks\": \"\"}}, \"marker\": {\"colorbar\": {\"outlinewidth\": 0, \"ticks\": \"\"}}, \"type\": \"scatter3d\"}], \"scattercarpet\": [{\"marker\": {\"colorbar\": {\"outlinewidth\": 0, \"ticks\": \"\"}}, \"type\": \"scattercarpet\"}], \"scattergeo\": [{\"marker\": {\"colorbar\": {\"outlinewidth\": 0, \"ticks\": \"\"}}, \"type\": \"scattergeo\"}], \"scattergl\": [{\"marker\": {\"colorbar\": {\"outlinewidth\": 0, \"ticks\": \"\"}}, \"type\": \"scattergl\"}], \"scattermapbox\": [{\"marker\": {\"colorbar\": {\"outlinewidth\": 0, \"ticks\": \"\"}}, \"type\": \"scattermapbox\"}], \"scatterpolar\": [{\"marker\": {\"colorbar\": {\"outlinewidth\": 0, \"ticks\": \"\"}}, \"type\": \"scatterpolar\"}], \"scatterpolargl\": [{\"marker\": {\"colorbar\": {\"outlinewidth\": 0, \"ticks\": \"\"}}, \"type\": \"scatterpolargl\"}], \"scatterternary\": [{\"marker\": {\"colorbar\": {\"outlinewidth\": 0, \"ticks\": \"\"}}, \"type\": \"scatterternary\"}], \"surface\": [{\"colorbar\": {\"outlinewidth\": 0, \"ticks\": \"\"}, \"colorscale\": [[0.0, \"#0d0887\"], [0.1111111111111111, \"#46039f\"], [0.2222222222222222, \"#7201a8\"], [0.3333333333333333, \"#9c179e\"], [0.4444444444444444, \"#bd3786\"], [0.5555555555555556, \"#d8576b\"], [0.6666666666666666, \"#ed7953\"], [0.7777777777777778, \"#fb9f3a\"], [0.8888888888888888, \"#fdca26\"], [1.0, \"#f0f921\"]], \"type\": \"surface\"}], \"table\": [{\"cells\": {\"fill\": {\"color\": \"#EBF0F8\"}, \"line\": {\"color\": \"white\"}}, \"header\": {\"fill\": {\"color\": \"#C8D4E3\"}, \"line\": {\"color\": \"white\"}}, \"type\": \"table\"}]}, \"layout\": {\"annotationdefaults\": {\"arrowcolor\": \"#2a3f5f\", \"arrowhead\": 0, \"arrowwidth\": 1}, \"coloraxis\": {\"colorbar\": {\"outlinewidth\": 0, \"ticks\": \"\"}}, \"colorscale\": {\"diverging\": [[0, \"#8e0152\"], [0.1, \"#c51b7d\"], [0.2, \"#de77ae\"], [0.3, \"#f1b6da\"], [0.4, \"#fde0ef\"], [0.5, \"#f7f7f7\"], [0.6, \"#e6f5d0\"], [0.7, \"#b8e186\"], [0.8, \"#7fbc41\"], [0.9, \"#4d9221\"], [1, \"#276419\"]], \"sequential\": [[0.0, \"#0d0887\"], [0.1111111111111111, \"#46039f\"], [0.2222222222222222, \"#7201a8\"], [0.3333333333333333, \"#9c179e\"], [0.4444444444444444, \"#bd3786\"], [0.5555555555555556, \"#d8576b\"], [0.6666666666666666, \"#ed7953\"], [0.7777777777777778, \"#fb9f3a\"], [0.8888888888888888, \"#fdca26\"], [1.0, \"#f0f921\"]], \"sequentialminus\": [[0.0, \"#0d0887\"], [0.1111111111111111, \"#46039f\"], [0.2222222222222222, \"#7201a8\"], [0.3333333333333333, \"#9c179e\"], [0.4444444444444444, \"#bd3786\"], [0.5555555555555556, \"#d8576b\"], [0.6666666666666666, \"#ed7953\"], [0.7777777777777778, \"#fb9f3a\"], [0.8888888888888888, \"#fdca26\"], [1.0, \"#f0f921\"]]}, \"colorway\": [\"#636efa\", \"#EF553B\", \"#00cc96\", \"#ab63fa\", \"#FFA15A\", \"#19d3f3\", \"#FF6692\", \"#B6E880\", \"#FF97FF\", \"#FECB52\"], \"font\": {\"color\": \"#2a3f5f\"}, \"geo\": {\"bgcolor\": \"white\", \"lakecolor\": \"white\", \"landcolor\": \"#E5ECF6\", \"showlakes\": true, \"showland\": true, \"subunitcolor\": \"white\"}, \"hoverlabel\": {\"align\": \"left\"}, \"hovermode\": \"closest\", \"mapbox\": {\"style\": \"light\"}, \"paper_bgcolor\": \"white\", \"plot_bgcolor\": \"#E5ECF6\", \"polar\": {\"angularaxis\": {\"gridcolor\": \"white\", \"linecolor\": \"white\", \"ticks\": \"\"}, \"bgcolor\": \"#E5ECF6\", \"radialaxis\": {\"gridcolor\": \"white\", \"linecolor\": \"white\", \"ticks\": \"\"}}, \"scene\": {\"xaxis\": {\"backgroundcolor\": \"#E5ECF6\", \"gridcolor\": \"white\", \"gridwidth\": 2, \"linecolor\": \"white\", \"showbackground\": true, \"ticks\": \"\", \"zerolinecolor\": \"white\"}, \"yaxis\": {\"backgroundcolor\": \"#E5ECF6\", \"gridcolor\": \"white\", \"gridwidth\": 2, \"linecolor\": \"white\", \"showbackground\": true, \"ticks\": \"\", \"zerolinecolor\": \"white\"}, \"zaxis\": {\"backgroundcolor\": \"#E5ECF6\", \"gridcolor\": \"white\", \"gridwidth\": 2, \"linecolor\": \"white\", \"showbackground\": true, \"ticks\": \"\", \"zerolinecolor\": \"white\"}}, \"shapedefaults\": {\"line\": {\"color\": \"#2a3f5f\"}}, \"ternary\": {\"aaxis\": {\"gridcolor\": \"white\", \"linecolor\": \"white\", \"ticks\": \"\"}, \"baxis\": {\"gridcolor\": \"white\", \"linecolor\": \"white\", \"ticks\": \"\"}, \"bgcolor\": \"#E5ECF6\", \"caxis\": {\"gridcolor\": \"white\", \"linecolor\": \"white\", \"ticks\": \"\"}}, \"title\": {\"x\": 0.05}, \"xaxis\": {\"automargin\": true, \"gridcolor\": \"white\", \"linecolor\": \"white\", \"ticks\": \"\", \"title\": {\"standoff\": 15}, \"zerolinecolor\": \"white\", \"zerolinewidth\": 2}, \"yaxis\": {\"automargin\": true, \"gridcolor\": \"white\", \"linecolor\": \"white\", \"ticks\": \"\", \"title\": {\"standoff\": 15}, \"zerolinecolor\": \"white\", \"zerolinewidth\": 2}}}, \"title\": {\"text\": \"Map of US National Parks by K-Means Cluster\", \"x\": 0.5, \"xanchor\": \"center\", \"y\": 0.9, \"yanchor\": \"top\"}},\n",
              "                        {\"responsive\": true}\n",
              "                    ).then(function(){\n",
              "                            \n",
              "var gd = document.getElementById('e8c0f79b-f7c6-477d-8265-d5bab95e0d89');\n",
              "var x = new MutationObserver(function (mutations, observer) {{\n",
              "        var display = window.getComputedStyle(gd).display;\n",
              "        if (!display || display === 'none') {{\n",
              "            console.log([gd, 'removed!']);\n",
              "            Plotly.purge(gd);\n",
              "            observer.disconnect();\n",
              "        }}\n",
              "}});\n",
              "\n",
              "// Listen for the removal of the full notebook cells\n",
              "var notebookContainer = gd.closest('#notebook-container');\n",
              "if (notebookContainer) {{\n",
              "    x.observe(notebookContainer, {childList: true});\n",
              "}}\n",
              "\n",
              "// Listen for the clearing of the current output cell\n",
              "var outputEl = gd.closest('.output');\n",
              "if (outputEl) {{\n",
              "    x.observe(outputEl, {childList: true});\n",
              "}}\n",
              "\n",
              "                        })\n",
              "                };\n",
              "                \n",
              "            </script>\n",
              "        </div>\n",
              "</body>\n",
              "</html>"
            ]
          },
          "metadata": {}
        }
      ]
    },
    {
      "cell_type": "markdown",
      "source": [
        "Given the category defined by the K-Means cluster their are geographically represented in the map above. "
      ],
      "metadata": {
        "id": "d58kDHC_yEXp"
      }
    },
    {
      "cell_type": "code",
      "metadata": {
        "colab": {
          "base_uri": "https://localhost:8080/",
          "height": 542
        },
        "id": "2NPFEwoDpLj9",
        "outputId": "ffdacc25-d670-4ca0-998f-44635c43ee38"
      },
      "source": [
        "import plotly.express as px\n",
        "fig = px.scatter_geo(parks, \n",
        "                     locationmode=\"USA-states\",\n",
        "                     lat = \"Latitude\",\n",
        "                     lon=\"Longitude\",\n",
        "                     text=\"Park Name\",\n",
        "                     color=\"Park_Type\",\n",
        "                     scope=\"usa\",\n",
        "                     color_discrete_sequence=[\"#158f00\", \"#fa6000\", \"#00d7eb\", \"#32328b\"],\n",
        "                     title=\"Map of US National Parks by Type\"\n",
        "                     )\n",
        "\n",
        "fig.update_traces(marker=dict(size=7)),\n",
        "fig.update_layout(title={\n",
        "        'text': \"Map of US National Parks by Primary Ecosystem Type\",\n",
        "        'y':0.9,\n",
        "        'x':0.47,\n",
        "        'xanchor': 'center',\n",
        "        'yanchor': 'top'},\n",
        "\n",
        "          legend=dict(\n",
        "          yanchor=\"top\",\n",
        "          y=0.6,\n",
        "          xanchor=\"right\",\n",
        "          x=0.73\n",
        "            )\n",
        "        )\n",
        "fig.update_geos(\n",
        "    resolution=50,\n",
        "    showland=True, landcolor=\"#f9f1ec\",\n",
        "    showocean=False, oceancolor=\"#d6e9f8\",\n",
        "    showlakes=True, lakecolor=\"#d6e9f8\",\n",
        "    showrivers=True, rivercolor=\"#d6e9f8\"\n",
        ")\n",
        "fig.show()"
      ],
      "execution_count": 233,
      "outputs": [
        {
          "output_type": "display_data",
          "data": {
            "text/html": [
              "<html>\n",
              "<head><meta charset=\"utf-8\" /></head>\n",
              "<body>\n",
              "    <div>\n",
              "            <script src=\"https://cdnjs.cloudflare.com/ajax/libs/mathjax/2.7.5/MathJax.js?config=TeX-AMS-MML_SVG\"></script><script type=\"text/javascript\">if (window.MathJax) {MathJax.Hub.Config({SVG: {font: \"STIX-Web\"}});}</script>\n",
              "                <script type=\"text/javascript\">window.PlotlyConfig = {MathJaxConfig: 'local'};</script>\n",
              "        <script src=\"https://cdn.plot.ly/plotly-latest.min.js\"></script>    \n",
              "            <div id=\"49e0bc2e-b6a0-471c-bf49-ed23c1047303\" class=\"plotly-graph-div\" style=\"height:525px; width:100%;\"></div>\n",
              "            <script type=\"text/javascript\">\n",
              "                \n",
              "                    window.PLOTLYENV=window.PLOTLYENV || {};\n",
              "                    \n",
              "                if (document.getElementById(\"49e0bc2e-b6a0-471c-bf49-ed23c1047303\")) {\n",
              "                    Plotly.newPlot(\n",
              "                        '49e0bc2e-b6a0-471c-bf49-ed23c1047303',\n",
              "                        [{\"geo\": \"geo\", \"hoverlabel\": {\"namelength\": 0}, \"hovertemplate\": \"Park_Type=Forested<br>Park Name=%{text}<br>Latitude=%{lat}<br>Longitude=%{lon}\", \"lat\": [44.35, 33.78, 41.24, 35.68, 34.51, 48.1, 37.18, 41.3, 38.53, 48.5, 43.57, 44.6], \"legendgroup\": \"Park_Type=Forested\", \"locationmode\": \"USA-states\", \"lon\": [-68.21, -80.78, -81.55, -83.53, -93.05, -88.55, -86.1, -124.0, -78.35, -92.88, -103.48, -110.5], \"marker\": {\"color\": \"#158f00\", \"size\": 7}, \"name\": \"Park_Type=Forested\", \"showlegend\": true, \"text\": [\"Acadia \", \"Congaree \", \"Cuyahoga Valley \", \"Great Smoky Mountains \", \"Hot Springs \", \"Isle Royale \", \"Mammoth Cave \", \"Redwood \", \"Shenandoah \", \"Voyageurs \", \"Wind Cave \", \"Yellowstone \"], \"type\": \"scattergeo\"}, {\"geo\": \"geo\", \"hoverlabel\": {\"namelength\": 0}, \"hovertemplate\": \"Park_Type=Desert<br>Park Name=%{text}<br>Latitude=%{lat}<br>Longitude=%{lon}\", \"lat\": [38.68, 43.75, 29.25, 38.57, 37.57, 38.2, 38.2, 32.17, 34.01, 36.24, 36.06, 31.92, 33.79, 37.18, 35.07, 36.48, 32.25, 46.97, 37.3], \"legendgroup\": \"Park_Type=Desert\", \"locationmode\": \"USA-states\", \"lon\": [-109.57, -102.5, -103.25, -107.72, -112.18, -109.93, -111.17, -104.44, -119.42, -116.82, -112.14, -104.87, -115.9, -108.49, -109.78, -121.16, -110.5, -103.45, -113.05], \"marker\": {\"color\": \"#fa6000\", \"size\": 7}, \"name\": \"Park_Type=Desert\", \"showlegend\": true, \"text\": [\"Arches \", \"Badlands \", \"Big Bend \", \"Black Canyon of the Gunnison \", \"Bryce Canyon \", \"Canyonlands \", \"Capitol Reef \", \"Carlsbad Caverns \", \"Channel Islands \", \"Death Valley \", \"Grand Canyon \", \"Guadalupe Mountains \", \"Joshua Tree \", \"Mesa Verde \", \"Petrified Forest \", \"Pinnacles \", \"Saguaro \", \"Theodore Roosevelt \", \"Zion \"], \"type\": \"scattergeo\"}, {\"geo\": \"geo\", \"hoverlabel\": {\"namelength\": 0}, \"hovertemplate\": \"Park_Type=Tropical<br>Park Name=%{text}<br>Latitude=%{lat}<br>Longitude=%{lon}\", \"lat\": [25.65, 24.63, 25.32, 20.72, 19.38], \"legendgroup\": \"Park_Type=Tropical\", \"locationmode\": \"USA-states\", \"lon\": [-80.08, -82.87, -80.93, -156.17, -155.2], \"marker\": {\"color\": \"#00d7eb\", \"size\": 7}, \"name\": \"Park_Type=Tropical\", \"showlegend\": true, \"text\": [\"Biscayne \", \"Dry Tortugas \", \"Everglades \", \"Haleakala \", \"Hawaii Volcanoes \"], \"type\": \"scattergeo\"}, {\"geo\": \"geo\", \"hoverlabel\": {\"namelength\": 0}, \"hovertemplate\": \"Park_Type=Alpine<br>Park Name=%{text}<br>Latitude=%{lat}<br>Longitude=%{lon}\", \"lat\": [42.94, 63.33, 67.78, 48.8, 58.5, 38.98, 37.73, 43.73, 58.5, 59.92, 67.55, 60.97, 40.49, 46.85, 48.7, 47.97, 40.4, 61.0, 37.83], \"legendgroup\": \"Park_Type=Alpine\", \"locationmode\": \"USA-states\", \"lon\": [-122.1, -150.5, -153.3, -114.0, -137.0, -114.3, -105.51, -110.8, -155.0, -149.65, -159.28, -153.42, -121.51, -121.75, -121.2, -123.5, -105.58, -142.0, -119.5], \"marker\": {\"color\": \"#32328b\", \"size\": 7}, \"name\": \"Park_Type=Alpine\", \"showlegend\": true, \"text\": [\"Crater Lake \", \"Denali \", \"Gates Of The Arctic \", \"Glacier \", \"Glacier Bay \", \"Great Basin \", \"Great Sand Dunes \", \"Grand Teton \", \"Katmai \", \"Kenai Fjords \", \"Kobuk Valley \", \"Lake Clark \", \"Lassen Volcanic \", \"Mount Rainier \", \"North Cascades \", \"Olympic \", \"Rocky Mountain \", \"Wrangell - St Elias \", \"Yosemite \"], \"type\": \"scattergeo\"}],\n",
              "                        {\"geo\": {\"center\": {}, \"domain\": {\"x\": [0.0, 1.0], \"y\": [0.0, 1.0]}, \"lakecolor\": \"#d6e9f8\", \"landcolor\": \"#f9f1ec\", \"oceancolor\": \"#d6e9f8\", \"resolution\": 50, \"rivercolor\": \"#d6e9f8\", \"scope\": \"usa\", \"showlakes\": true, \"showland\": true, \"showocean\": false, \"showrivers\": true}, \"legend\": {\"tracegroupgap\": 0, \"x\": 0.73, \"xanchor\": \"right\", \"y\": 0.6, \"yanchor\": \"top\"}, \"template\": {\"data\": {\"bar\": [{\"error_x\": {\"color\": \"#2a3f5f\"}, \"error_y\": {\"color\": \"#2a3f5f\"}, \"marker\": {\"line\": {\"color\": \"#E5ECF6\", \"width\": 0.5}}, \"type\": \"bar\"}], \"barpolar\": [{\"marker\": {\"line\": {\"color\": \"#E5ECF6\", \"width\": 0.5}}, \"type\": \"barpolar\"}], \"carpet\": [{\"aaxis\": {\"endlinecolor\": \"#2a3f5f\", \"gridcolor\": \"white\", \"linecolor\": \"white\", \"minorgridcolor\": \"white\", \"startlinecolor\": \"#2a3f5f\"}, \"baxis\": {\"endlinecolor\": \"#2a3f5f\", \"gridcolor\": \"white\", \"linecolor\": \"white\", \"minorgridcolor\": \"white\", \"startlinecolor\": \"#2a3f5f\"}, \"type\": \"carpet\"}], \"choropleth\": [{\"colorbar\": {\"outlinewidth\": 0, \"ticks\": \"\"}, \"type\": \"choropleth\"}], \"contour\": [{\"colorbar\": {\"outlinewidth\": 0, \"ticks\": \"\"}, \"colorscale\": [[0.0, \"#0d0887\"], [0.1111111111111111, \"#46039f\"], [0.2222222222222222, \"#7201a8\"], [0.3333333333333333, \"#9c179e\"], [0.4444444444444444, \"#bd3786\"], [0.5555555555555556, \"#d8576b\"], [0.6666666666666666, \"#ed7953\"], [0.7777777777777778, \"#fb9f3a\"], [0.8888888888888888, \"#fdca26\"], [1.0, \"#f0f921\"]], \"type\": \"contour\"}], \"contourcarpet\": [{\"colorbar\": {\"outlinewidth\": 0, \"ticks\": \"\"}, \"type\": \"contourcarpet\"}], \"heatmap\": [{\"colorbar\": {\"outlinewidth\": 0, \"ticks\": \"\"}, \"colorscale\": [[0.0, \"#0d0887\"], [0.1111111111111111, \"#46039f\"], [0.2222222222222222, \"#7201a8\"], [0.3333333333333333, \"#9c179e\"], [0.4444444444444444, \"#bd3786\"], [0.5555555555555556, \"#d8576b\"], [0.6666666666666666, \"#ed7953\"], [0.7777777777777778, \"#fb9f3a\"], [0.8888888888888888, \"#fdca26\"], [1.0, \"#f0f921\"]], \"type\": \"heatmap\"}], \"heatmapgl\": [{\"colorbar\": {\"outlinewidth\": 0, \"ticks\": \"\"}, \"colorscale\": [[0.0, \"#0d0887\"], [0.1111111111111111, \"#46039f\"], [0.2222222222222222, \"#7201a8\"], [0.3333333333333333, \"#9c179e\"], [0.4444444444444444, \"#bd3786\"], [0.5555555555555556, \"#d8576b\"], [0.6666666666666666, \"#ed7953\"], [0.7777777777777778, \"#fb9f3a\"], [0.8888888888888888, \"#fdca26\"], [1.0, \"#f0f921\"]], \"type\": \"heatmapgl\"}], \"histogram\": [{\"marker\": {\"colorbar\": {\"outlinewidth\": 0, \"ticks\": \"\"}}, \"type\": \"histogram\"}], \"histogram2d\": [{\"colorbar\": {\"outlinewidth\": 0, \"ticks\": \"\"}, \"colorscale\": [[0.0, \"#0d0887\"], [0.1111111111111111, \"#46039f\"], [0.2222222222222222, \"#7201a8\"], [0.3333333333333333, \"#9c179e\"], [0.4444444444444444, \"#bd3786\"], [0.5555555555555556, \"#d8576b\"], [0.6666666666666666, \"#ed7953\"], [0.7777777777777778, \"#fb9f3a\"], [0.8888888888888888, \"#fdca26\"], [1.0, \"#f0f921\"]], \"type\": \"histogram2d\"}], \"histogram2dcontour\": [{\"colorbar\": {\"outlinewidth\": 0, \"ticks\": \"\"}, \"colorscale\": [[0.0, \"#0d0887\"], [0.1111111111111111, \"#46039f\"], [0.2222222222222222, \"#7201a8\"], [0.3333333333333333, \"#9c179e\"], [0.4444444444444444, \"#bd3786\"], [0.5555555555555556, \"#d8576b\"], [0.6666666666666666, \"#ed7953\"], [0.7777777777777778, \"#fb9f3a\"], [0.8888888888888888, \"#fdca26\"], [1.0, \"#f0f921\"]], \"type\": \"histogram2dcontour\"}], \"mesh3d\": [{\"colorbar\": {\"outlinewidth\": 0, \"ticks\": \"\"}, \"type\": \"mesh3d\"}], \"parcoords\": [{\"line\": {\"colorbar\": {\"outlinewidth\": 0, \"ticks\": \"\"}}, \"type\": \"parcoords\"}], \"pie\": [{\"automargin\": true, \"type\": \"pie\"}], \"scatter\": [{\"marker\": {\"colorbar\": {\"outlinewidth\": 0, \"ticks\": \"\"}}, \"type\": \"scatter\"}], \"scatter3d\": [{\"line\": {\"colorbar\": {\"outlinewidth\": 0, \"ticks\": \"\"}}, \"marker\": {\"colorbar\": {\"outlinewidth\": 0, \"ticks\": \"\"}}, \"type\": \"scatter3d\"}], \"scattercarpet\": [{\"marker\": {\"colorbar\": {\"outlinewidth\": 0, \"ticks\": \"\"}}, \"type\": \"scattercarpet\"}], \"scattergeo\": [{\"marker\": {\"colorbar\": {\"outlinewidth\": 0, \"ticks\": \"\"}}, \"type\": \"scattergeo\"}], \"scattergl\": [{\"marker\": {\"colorbar\": {\"outlinewidth\": 0, \"ticks\": \"\"}}, \"type\": \"scattergl\"}], \"scattermapbox\": [{\"marker\": {\"colorbar\": {\"outlinewidth\": 0, \"ticks\": \"\"}}, \"type\": \"scattermapbox\"}], \"scatterpolar\": [{\"marker\": {\"colorbar\": {\"outlinewidth\": 0, \"ticks\": \"\"}}, \"type\": \"scatterpolar\"}], \"scatterpolargl\": [{\"marker\": {\"colorbar\": {\"outlinewidth\": 0, \"ticks\": \"\"}}, \"type\": \"scatterpolargl\"}], \"scatterternary\": [{\"marker\": {\"colorbar\": {\"outlinewidth\": 0, \"ticks\": \"\"}}, \"type\": \"scatterternary\"}], \"surface\": [{\"colorbar\": {\"outlinewidth\": 0, \"ticks\": \"\"}, \"colorscale\": [[0.0, \"#0d0887\"], [0.1111111111111111, \"#46039f\"], [0.2222222222222222, \"#7201a8\"], [0.3333333333333333, \"#9c179e\"], [0.4444444444444444, \"#bd3786\"], [0.5555555555555556, \"#d8576b\"], [0.6666666666666666, \"#ed7953\"], [0.7777777777777778, \"#fb9f3a\"], [0.8888888888888888, \"#fdca26\"], [1.0, \"#f0f921\"]], \"type\": \"surface\"}], \"table\": [{\"cells\": {\"fill\": {\"color\": \"#EBF0F8\"}, \"line\": {\"color\": \"white\"}}, \"header\": {\"fill\": {\"color\": \"#C8D4E3\"}, \"line\": {\"color\": \"white\"}}, \"type\": \"table\"}]}, \"layout\": {\"annotationdefaults\": {\"arrowcolor\": \"#2a3f5f\", \"arrowhead\": 0, \"arrowwidth\": 1}, \"coloraxis\": {\"colorbar\": {\"outlinewidth\": 0, \"ticks\": \"\"}}, \"colorscale\": {\"diverging\": [[0, \"#8e0152\"], [0.1, \"#c51b7d\"], [0.2, \"#de77ae\"], [0.3, \"#f1b6da\"], [0.4, \"#fde0ef\"], [0.5, \"#f7f7f7\"], [0.6, \"#e6f5d0\"], [0.7, \"#b8e186\"], [0.8, \"#7fbc41\"], [0.9, \"#4d9221\"], [1, \"#276419\"]], \"sequential\": [[0.0, \"#0d0887\"], [0.1111111111111111, \"#46039f\"], [0.2222222222222222, \"#7201a8\"], [0.3333333333333333, \"#9c179e\"], [0.4444444444444444, \"#bd3786\"], [0.5555555555555556, \"#d8576b\"], [0.6666666666666666, \"#ed7953\"], [0.7777777777777778, \"#fb9f3a\"], [0.8888888888888888, \"#fdca26\"], [1.0, \"#f0f921\"]], \"sequentialminus\": [[0.0, \"#0d0887\"], [0.1111111111111111, \"#46039f\"], [0.2222222222222222, \"#7201a8\"], [0.3333333333333333, \"#9c179e\"], [0.4444444444444444, \"#bd3786\"], [0.5555555555555556, \"#d8576b\"], [0.6666666666666666, \"#ed7953\"], [0.7777777777777778, \"#fb9f3a\"], [0.8888888888888888, \"#fdca26\"], [1.0, \"#f0f921\"]]}, \"colorway\": [\"#636efa\", \"#EF553B\", \"#00cc96\", \"#ab63fa\", \"#FFA15A\", \"#19d3f3\", \"#FF6692\", \"#B6E880\", \"#FF97FF\", \"#FECB52\"], \"font\": {\"color\": \"#2a3f5f\"}, \"geo\": {\"bgcolor\": \"white\", \"lakecolor\": \"white\", \"landcolor\": \"#E5ECF6\", \"showlakes\": true, \"showland\": true, \"subunitcolor\": \"white\"}, \"hoverlabel\": {\"align\": \"left\"}, \"hovermode\": \"closest\", \"mapbox\": {\"style\": \"light\"}, \"paper_bgcolor\": \"white\", \"plot_bgcolor\": \"#E5ECF6\", \"polar\": {\"angularaxis\": {\"gridcolor\": \"white\", \"linecolor\": \"white\", \"ticks\": \"\"}, \"bgcolor\": \"#E5ECF6\", \"radialaxis\": {\"gridcolor\": \"white\", \"linecolor\": \"white\", \"ticks\": \"\"}}, \"scene\": {\"xaxis\": {\"backgroundcolor\": \"#E5ECF6\", \"gridcolor\": \"white\", \"gridwidth\": 2, \"linecolor\": \"white\", \"showbackground\": true, \"ticks\": \"\", \"zerolinecolor\": \"white\"}, \"yaxis\": {\"backgroundcolor\": \"#E5ECF6\", \"gridcolor\": \"white\", \"gridwidth\": 2, \"linecolor\": \"white\", \"showbackground\": true, \"ticks\": \"\", \"zerolinecolor\": \"white\"}, \"zaxis\": {\"backgroundcolor\": \"#E5ECF6\", \"gridcolor\": \"white\", \"gridwidth\": 2, \"linecolor\": \"white\", \"showbackground\": true, \"ticks\": \"\", \"zerolinecolor\": \"white\"}}, \"shapedefaults\": {\"line\": {\"color\": \"#2a3f5f\"}}, \"ternary\": {\"aaxis\": {\"gridcolor\": \"white\", \"linecolor\": \"white\", \"ticks\": \"\"}, \"baxis\": {\"gridcolor\": \"white\", \"linecolor\": \"white\", \"ticks\": \"\"}, \"bgcolor\": \"#E5ECF6\", \"caxis\": {\"gridcolor\": \"white\", \"linecolor\": \"white\", \"ticks\": \"\"}}, \"title\": {\"x\": 0.05}, \"xaxis\": {\"automargin\": true, \"gridcolor\": \"white\", \"linecolor\": \"white\", \"ticks\": \"\", \"title\": {\"standoff\": 15}, \"zerolinecolor\": \"white\", \"zerolinewidth\": 2}, \"yaxis\": {\"automargin\": true, \"gridcolor\": \"white\", \"linecolor\": \"white\", \"ticks\": \"\", \"title\": {\"standoff\": 15}, \"zerolinecolor\": \"white\", \"zerolinewidth\": 2}}}, \"title\": {\"text\": \"Map of US National Parks by Primary Ecosystem Type\", \"x\": 0.47, \"xanchor\": \"center\", \"y\": 0.9, \"yanchor\": \"top\"}},\n",
              "                        {\"responsive\": true}\n",
              "                    ).then(function(){\n",
              "                            \n",
              "var gd = document.getElementById('49e0bc2e-b6a0-471c-bf49-ed23c1047303');\n",
              "var x = new MutationObserver(function (mutations, observer) {{\n",
              "        var display = window.getComputedStyle(gd).display;\n",
              "        if (!display || display === 'none') {{\n",
              "            console.log([gd, 'removed!']);\n",
              "            Plotly.purge(gd);\n",
              "            observer.disconnect();\n",
              "        }}\n",
              "}});\n",
              "\n",
              "// Listen for the removal of the full notebook cells\n",
              "var notebookContainer = gd.closest('#notebook-container');\n",
              "if (notebookContainer) {{\n",
              "    x.observe(notebookContainer, {childList: true});\n",
              "}}\n",
              "\n",
              "// Listen for the clearing of the current output cell\n",
              "var outputEl = gd.closest('.output');\n",
              "if (outputEl) {{\n",
              "    x.observe(outputEl, {childList: true});\n",
              "}}\n",
              "\n",
              "                        })\n",
              "                };\n",
              "                \n",
              "            </script>\n",
              "        </div>\n",
              "</body>\n",
              "</html>"
            ]
          },
          "metadata": {}
        }
      ]
    },
    {
      "cell_type": "code",
      "metadata": {
        "colab": {
          "base_uri": "https://localhost:8080/",
          "height": 542
        },
        "id": "AfYCtwqMpIdA",
        "outputId": "9f0d659d-393d-4ed3-ddd7-7fb365b09802"
      },
      "source": [
        "import plotly.express as px\n",
        "fig = px.scatter_geo(parks, \n",
        "                     locationmode=\"USA-states\",\n",
        "                     lat = \"Latitude\",\n",
        "                     lon=\"Longitude\",\n",
        "                     text=\"Park Name\",\n",
        "                     color=\"Percent_At_Risk\",\n",
        "                     scope=\"usa\",\n",
        "                     title=\"Map of US National Parks by Type\",\n",
        "                     color_continuous_scale=\"YlOrRd\",\n",
        "                     size=\"Percent_At_Risk\"\n",
        "\n",
        "                     )\n",
        "\n",
        "fig.update_traces(marker=dict(size=7)),\n",
        "fig.update_layout(title={\n",
        "        'text': \"Map of US National Parks by Percentage of At-risk Species\",\n",
        "        'y':0.9,\n",
        "        'x':0.47,\n",
        "        'xanchor': 'center',\n",
        "        'yanchor': 'top'}\n",
        "        )\n",
        "fig.update_geos(\n",
        "    resolution=50,\n",
        "    # showland=True, landcolor=\"#f9f1ec\",\n",
        "    showocean=False, oceancolor=\"#d6e9f8\",\n",
        "    showlakes=True, lakecolor=\"#d6e9f8\",\n",
        "    showrivers=True, rivercolor=\"#d6e9f8\"\n",
        ")\n",
        "fig.show()"
      ],
      "execution_count": 234,
      "outputs": [
        {
          "output_type": "display_data",
          "data": {
            "text/html": [
              "<html>\n",
              "<head><meta charset=\"utf-8\" /></head>\n",
              "<body>\n",
              "    <div>\n",
              "            <script src=\"https://cdnjs.cloudflare.com/ajax/libs/mathjax/2.7.5/MathJax.js?config=TeX-AMS-MML_SVG\"></script><script type=\"text/javascript\">if (window.MathJax) {MathJax.Hub.Config({SVG: {font: \"STIX-Web\"}});}</script>\n",
              "                <script type=\"text/javascript\">window.PlotlyConfig = {MathJaxConfig: 'local'};</script>\n",
              "        <script src=\"https://cdn.plot.ly/plotly-latest.min.js\"></script>    \n",
              "            <div id=\"55097502-8371-4cee-803f-bc42d789c732\" class=\"plotly-graph-div\" style=\"height:525px; width:100%;\"></div>\n",
              "            <script type=\"text/javascript\">\n",
              "                \n",
              "                    window.PLOTLYENV=window.PLOTLYENV || {};\n",
              "                    \n",
              "                if (document.getElementById(\"55097502-8371-4cee-803f-bc42d789c732\")) {\n",
              "                    Plotly.newPlot(\n",
              "                        '55097502-8371-4cee-803f-bc42d789c732',\n",
              "                        [{\"geo\": \"geo\", \"hoverlabel\": {\"namelength\": 0}, \"hovertemplate\": \"Percent_At_Risk=%{marker.color}<br>Park Name=%{text}<br>Latitude=%{lat}<br>Longitude=%{lon}\", \"lat\": [44.35, 38.68, 43.75, 29.25, 25.65, 38.57, 37.57, 38.2, 38.2, 32.17, 34.01, 33.78, 42.94, 41.24, 63.33, 36.24, 24.63, 25.32, 67.78, 48.8, 58.5, 38.98, 36.06, 37.73, 35.68, 43.73, 31.92, 20.72, 19.38, 34.51, 48.1, 33.79, 58.5, 59.92, 67.55, 60.97, 40.49, 37.18, 37.18, 46.85, 48.7, 47.97, 35.07, 36.48, 41.3, 40.4, 32.25, 38.53, 46.97, 48.5, 43.57, 61.0, 44.6, 37.83, 37.3], \"legendgroup\": \"\", \"locationmode\": \"USA-states\", \"lon\": [-68.21, -109.57, -102.5, -103.25, -80.08, -107.72, -112.18, -109.93, -111.17, -104.44, -119.42, -80.78, -122.1, -81.55, -150.5, -116.82, -82.87, -80.93, -153.3, -114.0, -137.0, -114.3, -112.14, -105.51, -83.53, -110.8, -104.87, -156.17, -155.2, -93.05, -88.55, -115.9, -155.0, -149.65, -159.28, -153.42, -121.51, -86.1, -108.49, -121.75, -121.2, -123.5, -109.78, -121.16, -124.0, -105.58, -110.5, -78.35, -103.45, -92.88, -103.48, -142.0, -110.5, -119.5, -113.05], \"marker\": {\"color\": [0.04092071611253197, 0.06933333333333333, 0.06153846153846154, 0.06364992541024365, 0.04432757325319309, 0.07402031930333818, 0.07215189873417721, 0.07852193995381063, 0.06706792777300086, 0.06517168885774352, 0.07363291824580401, 0.01764425369575584, 0.04452359750667854, 0.027420257414661444, 0.02694610778443114, 0.06657608695652174, 0.07114093959731543, 0.046848856664807585, 0.024861878453038673, 0.028726061615320566, 0.0336, 0.05170630816959669, 0.04600389863547758, 0.053927315357561546, 0.022376543209876542, 0.036051026067665005, 0.04996837444655281, 0.031130268199233715, 0.036376864314296105, 0.03529411764705882, 0.04790419161676647, 0.09164733178654293, 0.03879849812265332, 0.043410852713178294, 0.02882882882882883, 0.03048780487804878, 0.04411764705882353, 0.025244719216898505, 0.06205035971223022, 0.03475742215785663, 0.023109937273027403, 0.046086320409656184, 0.08583106267029973, 0.047619047619047616, 0.06180871828236825, 0.020882452004041766, 0.052564914502849905, 0.021664766248574687, 0.03866809881847476, 0.04472573839662447, 0.05288007554296506, 0.025810721376571807, 0.023269175524274634, 0.04514435695538058, 0.05770690964312832], \"coloraxis\": \"coloraxis\", \"size\": 7, \"sizemode\": \"area\", \"sizeref\": 0.00022911832946635732}, \"name\": \"\", \"showlegend\": false, \"text\": [\"Acadia \", \"Arches \", \"Badlands \", \"Big Bend \", \"Biscayne \", \"Black Canyon of the Gunnison \", \"Bryce Canyon \", \"Canyonlands \", \"Capitol Reef \", \"Carlsbad Caverns \", \"Channel Islands \", \"Congaree \", \"Crater Lake \", \"Cuyahoga Valley \", \"Denali \", \"Death Valley \", \"Dry Tortugas \", \"Everglades \", \"Gates Of The Arctic \", \"Glacier \", \"Glacier Bay \", \"Great Basin \", \"Grand Canyon \", \"Great Sand Dunes \", \"Great Smoky Mountains \", \"Grand Teton \", \"Guadalupe Mountains \", \"Haleakala \", \"Hawaii Volcanoes \", \"Hot Springs \", \"Isle Royale \", \"Joshua Tree \", \"Katmai \", \"Kenai Fjords \", \"Kobuk Valley \", \"Lake Clark \", \"Lassen Volcanic \", \"Mammoth Cave \", \"Mesa Verde \", \"Mount Rainier \", \"North Cascades \", \"Olympic \", \"Petrified Forest \", \"Pinnacles \", \"Redwood \", \"Rocky Mountain \", \"Saguaro \", \"Shenandoah \", \"Theodore Roosevelt \", \"Voyageurs \", \"Wind Cave \", \"Wrangell - St Elias \", \"Yellowstone \", \"Yosemite \", \"Zion \"], \"type\": \"scattergeo\"}],\n",
              "                        {\"coloraxis\": {\"colorbar\": {\"title\": {\"text\": \"Percent_At_Risk\"}}, \"colorscale\": [[0.0, \"rgb(255,255,204)\"], [0.125, \"rgb(255,237,160)\"], [0.25, \"rgb(254,217,118)\"], [0.375, \"rgb(254,178,76)\"], [0.5, \"rgb(253,141,60)\"], [0.625, \"rgb(252,78,42)\"], [0.75, \"rgb(227,26,28)\"], [0.875, \"rgb(189,0,38)\"], [1.0, \"rgb(128,0,38)\"]]}, \"geo\": {\"center\": {}, \"domain\": {\"x\": [0.0, 1.0], \"y\": [0.0, 1.0]}, \"lakecolor\": \"#d6e9f8\", \"oceancolor\": \"#d6e9f8\", \"resolution\": 50, \"rivercolor\": \"#d6e9f8\", \"scope\": \"usa\", \"showlakes\": true, \"showocean\": false, \"showrivers\": true}, \"legend\": {\"itemsizing\": \"constant\", \"tracegroupgap\": 0}, \"template\": {\"data\": {\"bar\": [{\"error_x\": {\"color\": \"#2a3f5f\"}, \"error_y\": {\"color\": \"#2a3f5f\"}, \"marker\": {\"line\": {\"color\": \"#E5ECF6\", \"width\": 0.5}}, \"type\": \"bar\"}], \"barpolar\": [{\"marker\": {\"line\": {\"color\": \"#E5ECF6\", \"width\": 0.5}}, \"type\": \"barpolar\"}], \"carpet\": [{\"aaxis\": {\"endlinecolor\": \"#2a3f5f\", \"gridcolor\": \"white\", \"linecolor\": \"white\", \"minorgridcolor\": \"white\", \"startlinecolor\": \"#2a3f5f\"}, \"baxis\": {\"endlinecolor\": \"#2a3f5f\", \"gridcolor\": \"white\", \"linecolor\": \"white\", \"minorgridcolor\": \"white\", \"startlinecolor\": \"#2a3f5f\"}, \"type\": \"carpet\"}], \"choropleth\": [{\"colorbar\": {\"outlinewidth\": 0, \"ticks\": \"\"}, \"type\": \"choropleth\"}], \"contour\": [{\"colorbar\": {\"outlinewidth\": 0, \"ticks\": \"\"}, \"colorscale\": [[0.0, \"#0d0887\"], [0.1111111111111111, \"#46039f\"], [0.2222222222222222, \"#7201a8\"], [0.3333333333333333, \"#9c179e\"], [0.4444444444444444, \"#bd3786\"], [0.5555555555555556, \"#d8576b\"], [0.6666666666666666, \"#ed7953\"], [0.7777777777777778, \"#fb9f3a\"], [0.8888888888888888, \"#fdca26\"], [1.0, \"#f0f921\"]], \"type\": \"contour\"}], \"contourcarpet\": [{\"colorbar\": {\"outlinewidth\": 0, \"ticks\": \"\"}, \"type\": \"contourcarpet\"}], \"heatmap\": [{\"colorbar\": {\"outlinewidth\": 0, \"ticks\": \"\"}, \"colorscale\": [[0.0, \"#0d0887\"], [0.1111111111111111, \"#46039f\"], [0.2222222222222222, \"#7201a8\"], [0.3333333333333333, \"#9c179e\"], [0.4444444444444444, \"#bd3786\"], [0.5555555555555556, \"#d8576b\"], [0.6666666666666666, \"#ed7953\"], [0.7777777777777778, \"#fb9f3a\"], [0.8888888888888888, \"#fdca26\"], [1.0, \"#f0f921\"]], \"type\": \"heatmap\"}], \"heatmapgl\": [{\"colorbar\": {\"outlinewidth\": 0, \"ticks\": \"\"}, \"colorscale\": [[0.0, \"#0d0887\"], [0.1111111111111111, \"#46039f\"], [0.2222222222222222, \"#7201a8\"], [0.3333333333333333, \"#9c179e\"], [0.4444444444444444, \"#bd3786\"], [0.5555555555555556, \"#d8576b\"], [0.6666666666666666, \"#ed7953\"], [0.7777777777777778, \"#fb9f3a\"], [0.8888888888888888, \"#fdca26\"], [1.0, \"#f0f921\"]], \"type\": \"heatmapgl\"}], \"histogram\": [{\"marker\": {\"colorbar\": {\"outlinewidth\": 0, \"ticks\": \"\"}}, \"type\": \"histogram\"}], \"histogram2d\": [{\"colorbar\": {\"outlinewidth\": 0, \"ticks\": \"\"}, \"colorscale\": [[0.0, \"#0d0887\"], [0.1111111111111111, \"#46039f\"], [0.2222222222222222, \"#7201a8\"], [0.3333333333333333, \"#9c179e\"], [0.4444444444444444, \"#bd3786\"], [0.5555555555555556, \"#d8576b\"], [0.6666666666666666, \"#ed7953\"], [0.7777777777777778, \"#fb9f3a\"], [0.8888888888888888, \"#fdca26\"], [1.0, \"#f0f921\"]], \"type\": \"histogram2d\"}], \"histogram2dcontour\": [{\"colorbar\": {\"outlinewidth\": 0, \"ticks\": \"\"}, \"colorscale\": [[0.0, \"#0d0887\"], [0.1111111111111111, \"#46039f\"], [0.2222222222222222, \"#7201a8\"], [0.3333333333333333, \"#9c179e\"], [0.4444444444444444, \"#bd3786\"], [0.5555555555555556, \"#d8576b\"], [0.6666666666666666, \"#ed7953\"], [0.7777777777777778, \"#fb9f3a\"], [0.8888888888888888, \"#fdca26\"], [1.0, \"#f0f921\"]], \"type\": \"histogram2dcontour\"}], \"mesh3d\": [{\"colorbar\": {\"outlinewidth\": 0, \"ticks\": \"\"}, \"type\": \"mesh3d\"}], \"parcoords\": [{\"line\": {\"colorbar\": {\"outlinewidth\": 0, \"ticks\": \"\"}}, \"type\": \"parcoords\"}], \"pie\": [{\"automargin\": true, \"type\": \"pie\"}], \"scatter\": [{\"marker\": {\"colorbar\": {\"outlinewidth\": 0, \"ticks\": \"\"}}, \"type\": \"scatter\"}], \"scatter3d\": [{\"line\": {\"colorbar\": {\"outlinewidth\": 0, \"ticks\": \"\"}}, \"marker\": {\"colorbar\": {\"outlinewidth\": 0, \"ticks\": \"\"}}, \"type\": \"scatter3d\"}], \"scattercarpet\": [{\"marker\": {\"colorbar\": {\"outlinewidth\": 0, \"ticks\": \"\"}}, \"type\": \"scattercarpet\"}], \"scattergeo\": [{\"marker\": {\"colorbar\": {\"outlinewidth\": 0, \"ticks\": \"\"}}, \"type\": \"scattergeo\"}], \"scattergl\": [{\"marker\": {\"colorbar\": {\"outlinewidth\": 0, \"ticks\": \"\"}}, \"type\": \"scattergl\"}], \"scattermapbox\": [{\"marker\": {\"colorbar\": {\"outlinewidth\": 0, \"ticks\": \"\"}}, \"type\": \"scattermapbox\"}], \"scatterpolar\": [{\"marker\": {\"colorbar\": {\"outlinewidth\": 0, \"ticks\": \"\"}}, \"type\": \"scatterpolar\"}], \"scatterpolargl\": [{\"marker\": {\"colorbar\": {\"outlinewidth\": 0, \"ticks\": \"\"}}, \"type\": \"scatterpolargl\"}], \"scatterternary\": [{\"marker\": {\"colorbar\": {\"outlinewidth\": 0, \"ticks\": \"\"}}, \"type\": \"scatterternary\"}], \"surface\": [{\"colorbar\": {\"outlinewidth\": 0, \"ticks\": \"\"}, \"colorscale\": [[0.0, \"#0d0887\"], [0.1111111111111111, \"#46039f\"], [0.2222222222222222, \"#7201a8\"], [0.3333333333333333, \"#9c179e\"], [0.4444444444444444, \"#bd3786\"], [0.5555555555555556, \"#d8576b\"], [0.6666666666666666, \"#ed7953\"], [0.7777777777777778, \"#fb9f3a\"], [0.8888888888888888, \"#fdca26\"], [1.0, \"#f0f921\"]], \"type\": \"surface\"}], \"table\": [{\"cells\": {\"fill\": {\"color\": \"#EBF0F8\"}, \"line\": {\"color\": \"white\"}}, \"header\": {\"fill\": {\"color\": \"#C8D4E3\"}, \"line\": {\"color\": \"white\"}}, \"type\": \"table\"}]}, \"layout\": {\"annotationdefaults\": {\"arrowcolor\": \"#2a3f5f\", \"arrowhead\": 0, \"arrowwidth\": 1}, \"coloraxis\": {\"colorbar\": {\"outlinewidth\": 0, \"ticks\": \"\"}}, \"colorscale\": {\"diverging\": [[0, \"#8e0152\"], [0.1, \"#c51b7d\"], [0.2, \"#de77ae\"], [0.3, \"#f1b6da\"], [0.4, \"#fde0ef\"], [0.5, \"#f7f7f7\"], [0.6, \"#e6f5d0\"], [0.7, \"#b8e186\"], [0.8, \"#7fbc41\"], [0.9, \"#4d9221\"], [1, \"#276419\"]], \"sequential\": [[0.0, \"#0d0887\"], [0.1111111111111111, \"#46039f\"], [0.2222222222222222, \"#7201a8\"], [0.3333333333333333, \"#9c179e\"], [0.4444444444444444, \"#bd3786\"], [0.5555555555555556, \"#d8576b\"], [0.6666666666666666, \"#ed7953\"], [0.7777777777777778, \"#fb9f3a\"], [0.8888888888888888, \"#fdca26\"], [1.0, \"#f0f921\"]], \"sequentialminus\": [[0.0, \"#0d0887\"], [0.1111111111111111, \"#46039f\"], [0.2222222222222222, \"#7201a8\"], [0.3333333333333333, \"#9c179e\"], [0.4444444444444444, \"#bd3786\"], [0.5555555555555556, \"#d8576b\"], [0.6666666666666666, \"#ed7953\"], [0.7777777777777778, \"#fb9f3a\"], [0.8888888888888888, \"#fdca26\"], [1.0, \"#f0f921\"]]}, \"colorway\": [\"#636efa\", \"#EF553B\", \"#00cc96\", \"#ab63fa\", \"#FFA15A\", \"#19d3f3\", \"#FF6692\", \"#B6E880\", \"#FF97FF\", \"#FECB52\"], \"font\": {\"color\": \"#2a3f5f\"}, \"geo\": {\"bgcolor\": \"white\", \"lakecolor\": \"white\", \"landcolor\": \"#E5ECF6\", \"showlakes\": true, \"showland\": true, \"subunitcolor\": \"white\"}, \"hoverlabel\": {\"align\": \"left\"}, \"hovermode\": \"closest\", \"mapbox\": {\"style\": \"light\"}, \"paper_bgcolor\": \"white\", \"plot_bgcolor\": \"#E5ECF6\", \"polar\": {\"angularaxis\": {\"gridcolor\": \"white\", \"linecolor\": \"white\", \"ticks\": \"\"}, \"bgcolor\": \"#E5ECF6\", \"radialaxis\": {\"gridcolor\": \"white\", \"linecolor\": \"white\", \"ticks\": \"\"}}, \"scene\": {\"xaxis\": {\"backgroundcolor\": \"#E5ECF6\", \"gridcolor\": \"white\", \"gridwidth\": 2, \"linecolor\": \"white\", \"showbackground\": true, \"ticks\": \"\", \"zerolinecolor\": \"white\"}, \"yaxis\": {\"backgroundcolor\": \"#E5ECF6\", \"gridcolor\": \"white\", \"gridwidth\": 2, \"linecolor\": \"white\", \"showbackground\": true, \"ticks\": \"\", \"zerolinecolor\": \"white\"}, \"zaxis\": {\"backgroundcolor\": \"#E5ECF6\", \"gridcolor\": \"white\", \"gridwidth\": 2, \"linecolor\": \"white\", \"showbackground\": true, \"ticks\": \"\", \"zerolinecolor\": \"white\"}}, \"shapedefaults\": {\"line\": {\"color\": \"#2a3f5f\"}}, \"ternary\": {\"aaxis\": {\"gridcolor\": \"white\", \"linecolor\": \"white\", \"ticks\": \"\"}, \"baxis\": {\"gridcolor\": \"white\", \"linecolor\": \"white\", \"ticks\": \"\"}, \"bgcolor\": \"#E5ECF6\", \"caxis\": {\"gridcolor\": \"white\", \"linecolor\": \"white\", \"ticks\": \"\"}}, \"title\": {\"x\": 0.05}, \"xaxis\": {\"automargin\": true, \"gridcolor\": \"white\", \"linecolor\": \"white\", \"ticks\": \"\", \"title\": {\"standoff\": 15}, \"zerolinecolor\": \"white\", \"zerolinewidth\": 2}, \"yaxis\": {\"automargin\": true, \"gridcolor\": \"white\", \"linecolor\": \"white\", \"ticks\": \"\", \"title\": {\"standoff\": 15}, \"zerolinecolor\": \"white\", \"zerolinewidth\": 2}}}, \"title\": {\"text\": \"Map of US National Parks by Percentage of At-risk Species\", \"x\": 0.47, \"xanchor\": \"center\", \"y\": 0.9, \"yanchor\": \"top\"}},\n",
              "                        {\"responsive\": true}\n",
              "                    ).then(function(){\n",
              "                            \n",
              "var gd = document.getElementById('55097502-8371-4cee-803f-bc42d789c732');\n",
              "var x = new MutationObserver(function (mutations, observer) {{\n",
              "        var display = window.getComputedStyle(gd).display;\n",
              "        if (!display || display === 'none') {{\n",
              "            console.log([gd, 'removed!']);\n",
              "            Plotly.purge(gd);\n",
              "            observer.disconnect();\n",
              "        }}\n",
              "}});\n",
              "\n",
              "// Listen for the removal of the full notebook cells\n",
              "var notebookContainer = gd.closest('#notebook-container');\n",
              "if (notebookContainer) {{\n",
              "    x.observe(notebookContainer, {childList: true});\n",
              "}}\n",
              "\n",
              "// Listen for the clearing of the current output cell\n",
              "var outputEl = gd.closest('.output');\n",
              "if (outputEl) {{\n",
              "    x.observe(outputEl, {childList: true});\n",
              "}}\n",
              "\n",
              "                        })\n",
              "                };\n",
              "                \n",
              "            </script>\n",
              "        </div>\n",
              "</body>\n",
              "</html>"
            ]
          },
          "metadata": {}
        }
      ]
    },
    {
      "cell_type": "code",
      "source": [
        "clusters_for_map = parks[[\"Latitude\", \"Longitude\"]]\n",
        "clusters_for_map = clusters_for_map.set_index(parks_kmeans.index)\n",
        "clusters_for_map[\"kmeans_label\"] = clusters[\"Biodiversity Category\"].astype(str)\n",
        "clusters_for_map = clusters_for_map.reset_index()\n",
        "temp_parks = parks.reset_index()\n",
        "clusters_for_map[\"Percent_At_Risk\"] = temp_parks['Percent_At_Risk']\n",
        "fig = px.scatter_geo(clusters_for_map, \n",
        "                     locationmode=\"USA-states\",\n",
        "                     lat = \"Latitude\",\n",
        "                     lon=\"Longitude\",\n",
        "                     size = 'Percent_At_Risk',\n",
        "                     text=\"Park Name\",\n",
        "                     color=\"kmeans_label\",\n",
        "                     scope=\"usa\",\n",
        "                     )\n",
        "fig.update_layout(title={\n",
        "        'text': \"Map of US National Parks by Percentage of At-risk Species\",\n",
        "        'y':0.9,\n",
        "        'x':0.47,\n",
        "        'xanchor': 'center',\n",
        "        'yanchor': 'top'}\n",
        "        )\n",
        "fig.update_geos(\n",
        "    resolution=50,\n",
        "    #showland=True, landcolor=\"#f9f1ec\",\n",
        "    showocean=False, oceancolor=\"#d6e9f8\",\n",
        "    showlakes=True, lakecolor=\"#d6e9f8\",\n",
        "    showrivers=True, rivercolor=\"#d6e9f8\", \n",
        "    \n",
        "  \n",
        ")\n",
        "fig.show()"
      ],
      "metadata": {
        "colab": {
          "base_uri": "https://localhost:8080/",
          "height": 542
        },
        "id": "fqR-k11y3Nby",
        "outputId": "b215eb48-ef3c-4cd6-ee05-de80c0aa6403"
      },
      "execution_count": 235,
      "outputs": [
        {
          "output_type": "display_data",
          "data": {
            "text/html": [
              "<html>\n",
              "<head><meta charset=\"utf-8\" /></head>\n",
              "<body>\n",
              "    <div>\n",
              "            <script src=\"https://cdnjs.cloudflare.com/ajax/libs/mathjax/2.7.5/MathJax.js?config=TeX-AMS-MML_SVG\"></script><script type=\"text/javascript\">if (window.MathJax) {MathJax.Hub.Config({SVG: {font: \"STIX-Web\"}});}</script>\n",
              "                <script type=\"text/javascript\">window.PlotlyConfig = {MathJaxConfig: 'local'};</script>\n",
              "        <script src=\"https://cdn.plot.ly/plotly-latest.min.js\"></script>    \n",
              "            <div id=\"05dfd030-9a64-4f4c-9e44-e0b8e91db090\" class=\"plotly-graph-div\" style=\"height:525px; width:100%;\"></div>\n",
              "            <script type=\"text/javascript\">\n",
              "                \n",
              "                    window.PLOTLYENV=window.PLOTLYENV || {};\n",
              "                    \n",
              "                if (document.getElementById(\"05dfd030-9a64-4f4c-9e44-e0b8e91db090\")) {\n",
              "                    Plotly.newPlot(\n",
              "                        '05dfd030-9a64-4f4c-9e44-e0b8e91db090',\n",
              "                        [{\"geo\": \"geo\", \"hoverlabel\": {\"namelength\": 0}, \"hovertemplate\": \"kmeans_label=2<br>Percent_At_Risk=%{marker.size}<br>Park Name=%{text}<br>Latitude=%{lat}<br>Longitude=%{lon}\", \"lat\": [44.35, 42.94, 63.33, 67.78, 48.8, 58.5, 36.06, 43.73, 48.1, 58.5, 59.92, 67.55, 60.97, 40.49, 46.85, 48.7, 47.97, 38.53, 46.97, 48.5, 61.0, 44.6, 37.83], \"legendgroup\": \"kmeans_label=2\", \"locationmode\": \"USA-states\", \"lon\": [-68.21, -122.1, -150.5, -153.3, -114.0, -137.0, -112.14, -110.8, -88.55, -155.0, -149.65, -159.28, -153.42, -121.51, -121.75, -121.2, -123.5, -78.35, -103.45, -92.88, -142.0, -110.5, -119.5], \"marker\": {\"color\": \"#636efa\", \"size\": [0.04092071611253197, 0.04452359750667854, 0.02694610778443114, 0.024861878453038673, 0.028726061615320566, 0.0336, 0.04600389863547758, 0.036051026067665005, 0.04790419161676647, 0.03879849812265332, 0.043410852713178294, 0.02882882882882883, 0.03048780487804878, 0.04411764705882353, 0.03475742215785663, 0.023109937273027403, 0.046086320409656184, 0.021664766248574687, 0.03866809881847476, 0.04472573839662447, 0.025810721376571807, 0.023269175524274634, 0.04514435695538058], \"sizemode\": \"area\", \"sizeref\": 0.00022911832946635732}, \"name\": \"kmeans_label=2\", \"showlegend\": true, \"text\": [\"Acadia \", \"Crater Lake \", \"Denali \", \"Gates Of The Arctic \", \"Glacier \", \"Glacier Bay \", \"Grand Canyon \", \"Grand Teton \", \"Isle Royale \", \"Katmai \", \"Kenai Fjords \", \"Kobuk Valley \", \"Lake Clark \", \"Lassen Volcanic \", \"Mount Rainier \", \"North Cascades \", \"Olympic \", \"Shenandoah \", \"Theodore Roosevelt \", \"Voyageurs \", \"Wrangell - St Elias \", \"Yellowstone \", \"Yosemite \"], \"type\": \"scattergeo\"}, {\"geo\": \"geo\", \"hoverlabel\": {\"namelength\": 0}, \"hovertemplate\": \"kmeans_label=1<br>Percent_At_Risk=%{marker.size}<br>Park Name=%{text}<br>Latitude=%{lat}<br>Longitude=%{lon}\", \"lat\": [38.68, 43.75, 29.25, 38.57, 37.57, 38.2, 38.2, 32.17, 34.01, 36.24, 38.98, 37.73, 31.92, 33.79, 37.18, 35.07, 36.48, 41.3, 32.25, 43.57, 37.3], \"legendgroup\": \"kmeans_label=1\", \"locationmode\": \"USA-states\", \"lon\": [-109.57, -102.5, -103.25, -107.72, -112.18, -109.93, -111.17, -104.44, -119.42, -116.82, -114.3, -105.51, -104.87, -115.9, -108.49, -109.78, -121.16, -124.0, -110.5, -103.48, -113.05], \"marker\": {\"color\": \"#EF553B\", \"size\": [0.06933333333333333, 0.06153846153846154, 0.06364992541024365, 0.07402031930333818, 0.07215189873417721, 0.07852193995381063, 0.06706792777300086, 0.06517168885774352, 0.07363291824580401, 0.06657608695652174, 0.05170630816959669, 0.053927315357561546, 0.04996837444655281, 0.09164733178654293, 0.06205035971223022, 0.08583106267029973, 0.047619047619047616, 0.06180871828236825, 0.052564914502849905, 0.05288007554296506, 0.05770690964312832], \"sizemode\": \"area\", \"sizeref\": 0.00022911832946635732}, \"name\": \"kmeans_label=1\", \"showlegend\": true, \"text\": [\"Arches \", \"Badlands \", \"Big Bend \", \"Black Canyon of the Gunnison \", \"Bryce Canyon \", \"Canyonlands \", \"Capitol Reef \", \"Carlsbad Caverns \", \"Channel Islands \", \"Death Valley \", \"Great Basin \", \"Great Sand Dunes \", \"Guadalupe Mountains \", \"Joshua Tree \", \"Mesa Verde \", \"Petrified Forest \", \"Pinnacles \", \"Redwood \", \"Saguaro \", \"Wind Cave \", \"Zion \"], \"type\": \"scattergeo\"}, {\"geo\": \"geo\", \"hoverlabel\": {\"namelength\": 0}, \"hovertemplate\": \"kmeans_label=3<br>Percent_At_Risk=%{marker.size}<br>Park Name=%{text}<br>Latitude=%{lat}<br>Longitude=%{lon}\", \"lat\": [25.65, 24.63, 25.32], \"legendgroup\": \"kmeans_label=3\", \"locationmode\": \"USA-states\", \"lon\": [-80.08, -82.87, -80.93], \"marker\": {\"color\": \"#00cc96\", \"size\": [0.04432757325319309, 0.07114093959731543, 0.046848856664807585], \"sizemode\": \"area\", \"sizeref\": 0.00022911832946635732}, \"name\": \"kmeans_label=3\", \"showlegend\": true, \"text\": [\"Biscayne \", \"Dry Tortugas \", \"Everglades \"], \"type\": \"scattergeo\"}, {\"geo\": \"geo\", \"hoverlabel\": {\"namelength\": 0}, \"hovertemplate\": \"kmeans_label=0<br>Percent_At_Risk=%{marker.size}<br>Park Name=%{text}<br>Latitude=%{lat}<br>Longitude=%{lon}\", \"lat\": [33.78, 41.24, 35.68, 20.72, 19.38, 34.51, 37.18, 40.4], \"legendgroup\": \"kmeans_label=0\", \"locationmode\": \"USA-states\", \"lon\": [-80.78, -81.55, -83.53, -156.17, -155.2, -93.05, -86.1, -105.58], \"marker\": {\"color\": \"#ab63fa\", \"size\": [0.01764425369575584, 0.027420257414661444, 0.022376543209876542, 0.031130268199233715, 0.036376864314296105, 0.03529411764705882, 0.025244719216898505, 0.020882452004041766], \"sizemode\": \"area\", \"sizeref\": 0.00022911832946635732}, \"name\": \"kmeans_label=0\", \"showlegend\": true, \"text\": [\"Congaree \", \"Cuyahoga Valley \", \"Great Smoky Mountains \", \"Haleakala \", \"Hawaii Volcanoes \", \"Hot Springs \", \"Mammoth Cave \", \"Rocky Mountain \"], \"type\": \"scattergeo\"}],\n",
              "                        {\"geo\": {\"center\": {}, \"domain\": {\"x\": [0.0, 1.0], \"y\": [0.0, 1.0]}, \"lakecolor\": \"#d6e9f8\", \"oceancolor\": \"#d6e9f8\", \"resolution\": 50, \"rivercolor\": \"#d6e9f8\", \"scope\": \"usa\", \"showlakes\": true, \"showocean\": false, \"showrivers\": true}, \"legend\": {\"itemsizing\": \"constant\", \"tracegroupgap\": 0}, \"margin\": {\"t\": 60}, \"template\": {\"data\": {\"bar\": [{\"error_x\": {\"color\": \"#2a3f5f\"}, \"error_y\": {\"color\": \"#2a3f5f\"}, \"marker\": {\"line\": {\"color\": \"#E5ECF6\", \"width\": 0.5}}, \"type\": \"bar\"}], \"barpolar\": [{\"marker\": {\"line\": {\"color\": \"#E5ECF6\", \"width\": 0.5}}, \"type\": \"barpolar\"}], \"carpet\": [{\"aaxis\": {\"endlinecolor\": \"#2a3f5f\", \"gridcolor\": \"white\", \"linecolor\": \"white\", \"minorgridcolor\": \"white\", \"startlinecolor\": \"#2a3f5f\"}, \"baxis\": {\"endlinecolor\": \"#2a3f5f\", \"gridcolor\": \"white\", \"linecolor\": \"white\", \"minorgridcolor\": \"white\", \"startlinecolor\": \"#2a3f5f\"}, \"type\": \"carpet\"}], \"choropleth\": [{\"colorbar\": {\"outlinewidth\": 0, \"ticks\": \"\"}, \"type\": \"choropleth\"}], \"contour\": [{\"colorbar\": {\"outlinewidth\": 0, \"ticks\": \"\"}, \"colorscale\": [[0.0, \"#0d0887\"], [0.1111111111111111, \"#46039f\"], [0.2222222222222222, \"#7201a8\"], [0.3333333333333333, \"#9c179e\"], [0.4444444444444444, \"#bd3786\"], [0.5555555555555556, \"#d8576b\"], [0.6666666666666666, \"#ed7953\"], [0.7777777777777778, \"#fb9f3a\"], [0.8888888888888888, \"#fdca26\"], [1.0, \"#f0f921\"]], \"type\": \"contour\"}], \"contourcarpet\": [{\"colorbar\": {\"outlinewidth\": 0, \"ticks\": \"\"}, \"type\": \"contourcarpet\"}], \"heatmap\": [{\"colorbar\": {\"outlinewidth\": 0, \"ticks\": \"\"}, \"colorscale\": [[0.0, \"#0d0887\"], [0.1111111111111111, \"#46039f\"], [0.2222222222222222, \"#7201a8\"], [0.3333333333333333, \"#9c179e\"], [0.4444444444444444, \"#bd3786\"], [0.5555555555555556, \"#d8576b\"], [0.6666666666666666, \"#ed7953\"], [0.7777777777777778, \"#fb9f3a\"], [0.8888888888888888, \"#fdca26\"], [1.0, \"#f0f921\"]], \"type\": \"heatmap\"}], \"heatmapgl\": [{\"colorbar\": {\"outlinewidth\": 0, \"ticks\": \"\"}, \"colorscale\": [[0.0, \"#0d0887\"], [0.1111111111111111, \"#46039f\"], [0.2222222222222222, \"#7201a8\"], [0.3333333333333333, \"#9c179e\"], [0.4444444444444444, \"#bd3786\"], [0.5555555555555556, \"#d8576b\"], [0.6666666666666666, \"#ed7953\"], [0.7777777777777778, \"#fb9f3a\"], [0.8888888888888888, \"#fdca26\"], [1.0, \"#f0f921\"]], \"type\": \"heatmapgl\"}], \"histogram\": [{\"marker\": {\"colorbar\": {\"outlinewidth\": 0, \"ticks\": \"\"}}, \"type\": \"histogram\"}], \"histogram2d\": [{\"colorbar\": {\"outlinewidth\": 0, \"ticks\": \"\"}, \"colorscale\": [[0.0, \"#0d0887\"], [0.1111111111111111, \"#46039f\"], [0.2222222222222222, \"#7201a8\"], [0.3333333333333333, \"#9c179e\"], [0.4444444444444444, \"#bd3786\"], [0.5555555555555556, \"#d8576b\"], [0.6666666666666666, \"#ed7953\"], [0.7777777777777778, \"#fb9f3a\"], [0.8888888888888888, \"#fdca26\"], [1.0, \"#f0f921\"]], \"type\": \"histogram2d\"}], \"histogram2dcontour\": [{\"colorbar\": {\"outlinewidth\": 0, \"ticks\": \"\"}, \"colorscale\": [[0.0, \"#0d0887\"], [0.1111111111111111, \"#46039f\"], [0.2222222222222222, \"#7201a8\"], [0.3333333333333333, \"#9c179e\"], [0.4444444444444444, \"#bd3786\"], [0.5555555555555556, \"#d8576b\"], [0.6666666666666666, \"#ed7953\"], [0.7777777777777778, \"#fb9f3a\"], [0.8888888888888888, \"#fdca26\"], [1.0, \"#f0f921\"]], \"type\": \"histogram2dcontour\"}], \"mesh3d\": [{\"colorbar\": {\"outlinewidth\": 0, \"ticks\": \"\"}, \"type\": \"mesh3d\"}], \"parcoords\": [{\"line\": {\"colorbar\": {\"outlinewidth\": 0, \"ticks\": \"\"}}, \"type\": \"parcoords\"}], \"pie\": [{\"automargin\": true, \"type\": \"pie\"}], \"scatter\": [{\"marker\": {\"colorbar\": {\"outlinewidth\": 0, \"ticks\": \"\"}}, \"type\": \"scatter\"}], \"scatter3d\": [{\"line\": {\"colorbar\": {\"outlinewidth\": 0, \"ticks\": \"\"}}, \"marker\": {\"colorbar\": {\"outlinewidth\": 0, \"ticks\": \"\"}}, \"type\": \"scatter3d\"}], \"scattercarpet\": [{\"marker\": {\"colorbar\": {\"outlinewidth\": 0, \"ticks\": \"\"}}, \"type\": \"scattercarpet\"}], \"scattergeo\": [{\"marker\": {\"colorbar\": {\"outlinewidth\": 0, \"ticks\": \"\"}}, \"type\": \"scattergeo\"}], \"scattergl\": [{\"marker\": {\"colorbar\": {\"outlinewidth\": 0, \"ticks\": \"\"}}, \"type\": \"scattergl\"}], \"scattermapbox\": [{\"marker\": {\"colorbar\": {\"outlinewidth\": 0, \"ticks\": \"\"}}, \"type\": \"scattermapbox\"}], \"scatterpolar\": [{\"marker\": {\"colorbar\": {\"outlinewidth\": 0, \"ticks\": \"\"}}, \"type\": \"scatterpolar\"}], \"scatterpolargl\": [{\"marker\": {\"colorbar\": {\"outlinewidth\": 0, \"ticks\": \"\"}}, \"type\": \"scatterpolargl\"}], \"scatterternary\": [{\"marker\": {\"colorbar\": {\"outlinewidth\": 0, \"ticks\": \"\"}}, \"type\": \"scatterternary\"}], \"surface\": [{\"colorbar\": {\"outlinewidth\": 0, \"ticks\": \"\"}, \"colorscale\": [[0.0, \"#0d0887\"], [0.1111111111111111, \"#46039f\"], [0.2222222222222222, \"#7201a8\"], [0.3333333333333333, \"#9c179e\"], [0.4444444444444444, \"#bd3786\"], [0.5555555555555556, \"#d8576b\"], [0.6666666666666666, \"#ed7953\"], [0.7777777777777778, \"#fb9f3a\"], [0.8888888888888888, \"#fdca26\"], [1.0, \"#f0f921\"]], \"type\": \"surface\"}], \"table\": [{\"cells\": {\"fill\": {\"color\": \"#EBF0F8\"}, \"line\": {\"color\": \"white\"}}, \"header\": {\"fill\": {\"color\": \"#C8D4E3\"}, \"line\": {\"color\": \"white\"}}, \"type\": \"table\"}]}, \"layout\": {\"annotationdefaults\": {\"arrowcolor\": \"#2a3f5f\", \"arrowhead\": 0, \"arrowwidth\": 1}, \"coloraxis\": {\"colorbar\": {\"outlinewidth\": 0, \"ticks\": \"\"}}, \"colorscale\": {\"diverging\": [[0, \"#8e0152\"], [0.1, \"#c51b7d\"], [0.2, \"#de77ae\"], [0.3, \"#f1b6da\"], [0.4, \"#fde0ef\"], [0.5, \"#f7f7f7\"], [0.6, \"#e6f5d0\"], [0.7, \"#b8e186\"], [0.8, \"#7fbc41\"], [0.9, \"#4d9221\"], [1, \"#276419\"]], \"sequential\": [[0.0, \"#0d0887\"], [0.1111111111111111, \"#46039f\"], [0.2222222222222222, \"#7201a8\"], [0.3333333333333333, \"#9c179e\"], [0.4444444444444444, \"#bd3786\"], [0.5555555555555556, \"#d8576b\"], [0.6666666666666666, \"#ed7953\"], [0.7777777777777778, \"#fb9f3a\"], [0.8888888888888888, \"#fdca26\"], [1.0, \"#f0f921\"]], \"sequentialminus\": [[0.0, \"#0d0887\"], [0.1111111111111111, \"#46039f\"], [0.2222222222222222, \"#7201a8\"], [0.3333333333333333, \"#9c179e\"], [0.4444444444444444, \"#bd3786\"], [0.5555555555555556, \"#d8576b\"], [0.6666666666666666, \"#ed7953\"], [0.7777777777777778, \"#fb9f3a\"], [0.8888888888888888, \"#fdca26\"], [1.0, \"#f0f921\"]]}, \"colorway\": [\"#636efa\", \"#EF553B\", \"#00cc96\", \"#ab63fa\", \"#FFA15A\", \"#19d3f3\", \"#FF6692\", \"#B6E880\", \"#FF97FF\", \"#FECB52\"], \"font\": {\"color\": \"#2a3f5f\"}, \"geo\": {\"bgcolor\": \"white\", \"lakecolor\": \"white\", \"landcolor\": \"#E5ECF6\", \"showlakes\": true, \"showland\": true, \"subunitcolor\": \"white\"}, \"hoverlabel\": {\"align\": \"left\"}, \"hovermode\": \"closest\", \"mapbox\": {\"style\": \"light\"}, \"paper_bgcolor\": \"white\", \"plot_bgcolor\": \"#E5ECF6\", \"polar\": {\"angularaxis\": {\"gridcolor\": \"white\", \"linecolor\": \"white\", \"ticks\": \"\"}, \"bgcolor\": \"#E5ECF6\", \"radialaxis\": {\"gridcolor\": \"white\", \"linecolor\": \"white\", \"ticks\": \"\"}}, \"scene\": {\"xaxis\": {\"backgroundcolor\": \"#E5ECF6\", \"gridcolor\": \"white\", \"gridwidth\": 2, \"linecolor\": \"white\", \"showbackground\": true, \"ticks\": \"\", \"zerolinecolor\": \"white\"}, \"yaxis\": {\"backgroundcolor\": \"#E5ECF6\", \"gridcolor\": \"white\", \"gridwidth\": 2, \"linecolor\": \"white\", \"showbackground\": true, \"ticks\": \"\", \"zerolinecolor\": \"white\"}, \"zaxis\": {\"backgroundcolor\": \"#E5ECF6\", \"gridcolor\": \"white\", \"gridwidth\": 2, \"linecolor\": \"white\", \"showbackground\": true, \"ticks\": \"\", \"zerolinecolor\": \"white\"}}, \"shapedefaults\": {\"line\": {\"color\": \"#2a3f5f\"}}, \"ternary\": {\"aaxis\": {\"gridcolor\": \"white\", \"linecolor\": \"white\", \"ticks\": \"\"}, \"baxis\": {\"gridcolor\": \"white\", \"linecolor\": \"white\", \"ticks\": \"\"}, \"bgcolor\": \"#E5ECF6\", \"caxis\": {\"gridcolor\": \"white\", \"linecolor\": \"white\", \"ticks\": \"\"}}, \"title\": {\"x\": 0.05}, \"xaxis\": {\"automargin\": true, \"gridcolor\": \"white\", \"linecolor\": \"white\", \"ticks\": \"\", \"title\": {\"standoff\": 15}, \"zerolinecolor\": \"white\", \"zerolinewidth\": 2}, \"yaxis\": {\"automargin\": true, \"gridcolor\": \"white\", \"linecolor\": \"white\", \"ticks\": \"\", \"title\": {\"standoff\": 15}, \"zerolinecolor\": \"white\", \"zerolinewidth\": 2}}}, \"title\": {\"text\": \"Map of US National Parks by Percentage of At-risk Species\", \"x\": 0.47, \"xanchor\": \"center\", \"y\": 0.9, \"yanchor\": \"top\"}},\n",
              "                        {\"responsive\": true}\n",
              "                    ).then(function(){\n",
              "                            \n",
              "var gd = document.getElementById('05dfd030-9a64-4f4c-9e44-e0b8e91db090');\n",
              "var x = new MutationObserver(function (mutations, observer) {{\n",
              "        var display = window.getComputedStyle(gd).display;\n",
              "        if (!display || display === 'none') {{\n",
              "            console.log([gd, 'removed!']);\n",
              "            Plotly.purge(gd);\n",
              "            observer.disconnect();\n",
              "        }}\n",
              "}});\n",
              "\n",
              "// Listen for the removal of the full notebook cells\n",
              "var notebookContainer = gd.closest('#notebook-container');\n",
              "if (notebookContainer) {{\n",
              "    x.observe(notebookContainer, {childList: true});\n",
              "}}\n",
              "\n",
              "// Listen for the clearing of the current output cell\n",
              "var outputEl = gd.closest('.output');\n",
              "if (outputEl) {{\n",
              "    x.observe(outputEl, {childList: true});\n",
              "}}\n",
              "\n",
              "                        })\n",
              "                };\n",
              "                \n",
              "            </script>\n",
              "        </div>\n",
              "</body>\n",
              "</html>"
            ]
          },
          "metadata": {}
        }
      ]
    },
    {
      "cell_type": "markdown",
      "source": [
        "Map of the species at risk based on the labels created by the K-Means Clusters. In this map it easier to identify where the clusters are located in a geological area and the size of the bubbles represt the percent_at risk. This helps us understand that parks that are categorized as Orange or label 1 are the ones that are more in danger to lose biodiversity."
      ],
      "metadata": {
        "id": "H52pH7bq6OOz"
      }
    },
    {
      "cell_type": "markdown",
      "source": [
        "## Regression\n",
        "\n",
        "Our team was also interested in exploring how we can use our features to predict the percentage of at risk species in each park. We decided to use both a linear regressor and a random forest regressor so that we can compare the two models. We used the following features for both these regressors: Acres, Latitude, Longitude, AVG_Visitation, Native_Proportion, Species_Per_Acre, Percent_Animals, Percent_Aquatic.\n",
        "\n",
        "Root mean square error (RMSE) is defined as the average magnitude of the error and it is particularly used when large errors are highly undesirable. Since the data points for our regression are limited we decided to use this to judge our results.  We also used the  R2  metric to evaluate how well the linear regression fit the data. The R2  will reveal the percentage of the response variable variation that is explained by the linear model.\n",
        "\n",
        "We looked that the coefficients / feature importances in our trained models to determine what features played the most important role in predicting biodiversity loss. \n"
      ],
      "metadata": {
        "id": "Icw9G0BQWq1_"
      }
    },
    {
      "cell_type": "markdown",
      "metadata": {
        "id": "2U6gfbAQ4a3d"
      },
      "source": [
        "### Linear Regression\n"
      ]
    },
    {
      "cell_type": "code",
      "metadata": {
        "id": "Q1EePOJy7Fra",
        "colab": {
          "base_uri": "https://localhost:8080/",
          "height": 329
        },
        "outputId": "9978bd64-7c14-4fc5-c9b1-687685cf1e72"
      },
      "source": [
        "X_parks = parks[['Acres','Latitude','Longitude','AVG_Visitation','Native_Proportion','Species_Per_Acre','Percent_Animals', \"Percent_Aquatic\"]]\n",
        "y_parks = parks[[\"Percent_At_Risk\"]]\n",
        "\n",
        "X_train, X_test, y_train, y_test = train_test_split(X_parks, y_parks, test_size=0.2, random_state=326)\n",
        "\n",
        "lr = LinearRegression()\n",
        "lr.fit(X_train, y_train)\n",
        "y_pred = lr.predict(X_test)\n",
        "\n",
        "plt.scatter(y_test, y_pred)\n",
        "plt.title('Actual vs. Predicted % at Risk (Linear Regression)')\n",
        "plt.xlabel('Actual % at Risk')\n",
        "plt.ylabel('Predicted % at Risk')\n",
        "plt.plot(y_test,y_test)\n",
        "plt.show()\n",
        "print('R^2: ',r2_score(y_test, y_pred))\n",
        "print('RMSE: ',mean_squared_error(y_test,y_pred)**0.5)"
      ],
      "execution_count": 241,
      "outputs": [
        {
          "output_type": "display_data",
          "data": {
            "image/png": "[encoded data removed]",
            "text/plain": [
              "<Figure size 432x288 with 1 Axes>"
            ]
          },
          "metadata": {
            "needs_background": "light"
          }
        },
        {
          "output_type": "stream",
          "name": "stdout",
          "text": [
            "R^2:  0.4762508861250325\n",
            "RMSE:  0.009371449658268766\n"
          ]
        }
      ]
    },
    {
      "cell_type": "markdown",
      "source": [
        "Our linear regression model achieved an R2 value of 0.48, meaning that 48% of the variance in % at risk could be explained using our features. We achieved an RMSE of 0.009, meaning the standard deviation of the unexplained variance is 0.9 percentage points. On the scale of single-digit percentage points that is used for % at risk, this RMSE of just shy of 1 percentage point is rather high and makes this model a rather poor predictor of % at risk. Again, it is very difficult to create an effective model on such limited data."
      ],
      "metadata": {
        "id": "oN99bir07V7C"
      }
    },
    {
      "cell_type": "code",
      "metadata": {
        "id": "uZTiIUzZXbVq",
        "colab": {
          "base_uri": "https://localhost:8080/",
          "height": 542
        },
        "outputId": "139f6639-3fd4-4f94-fc5f-ff4eb0d45da2"
      },
      "source": [
        "coefs = pd.Series(lr.coef_[0], index=X_train.columns).sort_values(ascending=False)\n",
        "px.bar(coefs, x=coefs.index, y=coefs.values, title=\"Linear Regression Coefficients\")"
      ],
      "execution_count": 242,
      "outputs": [
        {
          "output_type": "display_data",
          "data": {
            "text/html": [
              "<html>\n",
              "<head><meta charset=\"utf-8\" /></head>\n",
              "<body>\n",
              "    <div>\n",
              "            <script src=\"https://cdnjs.cloudflare.com/ajax/libs/mathjax/2.7.5/MathJax.js?config=TeX-AMS-MML_SVG\"></script><script type=\"text/javascript\">if (window.MathJax) {MathJax.Hub.Config({SVG: {font: \"STIX-Web\"}});}</script>\n",
              "                <script type=\"text/javascript\">window.PlotlyConfig = {MathJaxConfig: 'local'};</script>\n",
              "        <script src=\"https://cdn.plot.ly/plotly-latest.min.js\"></script>    \n",
              "            <div id=\"2ddc730a-46cb-4699-b533-24f09f128cdf\" class=\"plotly-graph-div\" style=\"height:525px; width:100%;\"></div>\n",
              "            <script type=\"text/javascript\">\n",
              "                \n",
              "                    window.PLOTLYENV=window.PLOTLYENV || {};\n",
              "                    \n",
              "                if (document.getElementById(\"2ddc730a-46cb-4699-b533-24f09f128cdf\")) {\n",
              "                    Plotly.newPlot(\n",
              "                        '2ddc730a-46cb-4699-b533-24f09f128cdf',\n",
              "                        [{\"alignmentgroup\": \"True\", \"hoverlabel\": {\"namelength\": 0}, \"hovertemplate\": \"x=%{x}<br>y=%{y}\", \"legendgroup\": \"\", \"marker\": {\"color\": \"#636efa\"}, \"name\": \"\", \"offsetgroup\": \"\", \"orientation\": \"v\", \"showlegend\": false, \"textposition\": \"auto\", \"type\": \"bar\", \"x\": [\"Native_Proportion\", \"Percent_Animals\", \"Longitude\", \"Acres\", \"AVG_Visitation\", \"Latitude\", \"Percent_Aquatic\", \"Species_Per_Acre\"], \"xaxis\": \"x\", \"y\": [0.0869196057439484, 0.022654657902124082, 2.096431990227822e-05, -1.744362865617858e-09, -2.028220240845799e-09, -0.001092599646468128, -0.019736225405194114, -0.22071697071112206], \"yaxis\": \"y\"}],\n",
              "                        {\"barmode\": \"relative\", \"legend\": {\"tracegroupgap\": 0}, \"template\": {\"data\": {\"bar\": [{\"error_x\": {\"color\": \"#2a3f5f\"}, \"error_y\": {\"color\": \"#2a3f5f\"}, \"marker\": {\"line\": {\"color\": \"#E5ECF6\", \"width\": 0.5}}, \"type\": \"bar\"}], \"barpolar\": [{\"marker\": {\"line\": {\"color\": \"#E5ECF6\", \"width\": 0.5}}, \"type\": \"barpolar\"}], \"carpet\": [{\"aaxis\": {\"endlinecolor\": \"#2a3f5f\", \"gridcolor\": \"white\", \"linecolor\": \"white\", \"minorgridcolor\": \"white\", \"startlinecolor\": \"#2a3f5f\"}, \"baxis\": {\"endlinecolor\": \"#2a3f5f\", \"gridcolor\": \"white\", \"linecolor\": \"white\", \"minorgridcolor\": \"white\", \"startlinecolor\": \"#2a3f5f\"}, \"type\": \"carpet\"}], \"choropleth\": [{\"colorbar\": {\"outlinewidth\": 0, \"ticks\": \"\"}, \"type\": \"choropleth\"}], \"contour\": [{\"colorbar\": {\"outlinewidth\": 0, \"ticks\": \"\"}, \"colorscale\": [[0.0, \"#0d0887\"], [0.1111111111111111, \"#46039f\"], [0.2222222222222222, \"#7201a8\"], [0.3333333333333333, \"#9c179e\"], [0.4444444444444444, \"#bd3786\"], [0.5555555555555556, \"#d8576b\"], [0.6666666666666666, \"#ed7953\"], [0.7777777777777778, \"#fb9f3a\"], [0.8888888888888888, \"#fdca26\"], [1.0, \"#f0f921\"]], \"type\": \"contour\"}], \"contourcarpet\": [{\"colorbar\": {\"outlinewidth\": 0, \"ticks\": \"\"}, \"type\": \"contourcarpet\"}], \"heatmap\": [{\"colorbar\": {\"outlinewidth\": 0, \"ticks\": \"\"}, \"colorscale\": [[0.0, \"#0d0887\"], [0.1111111111111111, \"#46039f\"], [0.2222222222222222, \"#7201a8\"], [0.3333333333333333, \"#9c179e\"], [0.4444444444444444, \"#bd3786\"], [0.5555555555555556, \"#d8576b\"], [0.6666666666666666, \"#ed7953\"], [0.7777777777777778, \"#fb9f3a\"], [0.8888888888888888, \"#fdca26\"], [1.0, \"#f0f921\"]], \"type\": \"heatmap\"}], \"heatmapgl\": [{\"colorbar\": {\"outlinewidth\": 0, \"ticks\": \"\"}, \"colorscale\": [[0.0, \"#0d0887\"], [0.1111111111111111, \"#46039f\"], [0.2222222222222222, \"#7201a8\"], [0.3333333333333333, \"#9c179e\"], [0.4444444444444444, \"#bd3786\"], [0.5555555555555556, \"#d8576b\"], [0.6666666666666666, \"#ed7953\"], [0.7777777777777778, \"#fb9f3a\"], [0.8888888888888888, \"#fdca26\"], [1.0, \"#f0f921\"]], \"type\": \"heatmapgl\"}], \"histogram\": [{\"marker\": {\"colorbar\": {\"outlinewidth\": 0, \"ticks\": \"\"}}, \"type\": \"histogram\"}], \"histogram2d\": [{\"colorbar\": {\"outlinewidth\": 0, \"ticks\": \"\"}, \"colorscale\": [[0.0, \"#0d0887\"], [0.1111111111111111, \"#46039f\"], [0.2222222222222222, \"#7201a8\"], [0.3333333333333333, \"#9c179e\"], [0.4444444444444444, \"#bd3786\"], [0.5555555555555556, \"#d8576b\"], [0.6666666666666666, \"#ed7953\"], [0.7777777777777778, \"#fb9f3a\"], [0.8888888888888888, \"#fdca26\"], [1.0, \"#f0f921\"]], \"type\": \"histogram2d\"}], \"histogram2dcontour\": [{\"colorbar\": {\"outlinewidth\": 0, \"ticks\": \"\"}, \"colorscale\": [[0.0, \"#0d0887\"], [0.1111111111111111, \"#46039f\"], [0.2222222222222222, \"#7201a8\"], [0.3333333333333333, \"#9c179e\"], [0.4444444444444444, \"#bd3786\"], [0.5555555555555556, \"#d8576b\"], [0.6666666666666666, \"#ed7953\"], [0.7777777777777778, \"#fb9f3a\"], [0.8888888888888888, \"#fdca26\"], [1.0, \"#f0f921\"]], \"type\": \"histogram2dcontour\"}], \"mesh3d\": [{\"colorbar\": {\"outlinewidth\": 0, \"ticks\": \"\"}, \"type\": \"mesh3d\"}], \"parcoords\": [{\"line\": {\"colorbar\": {\"outlinewidth\": 0, \"ticks\": \"\"}}, \"type\": \"parcoords\"}], \"pie\": [{\"automargin\": true, \"type\": \"pie\"}], \"scatter\": [{\"marker\": {\"colorbar\": {\"outlinewidth\": 0, \"ticks\": \"\"}}, \"type\": \"scatter\"}], \"scatter3d\": [{\"line\": {\"colorbar\": {\"outlinewidth\": 0, \"ticks\": \"\"}}, \"marker\": {\"colorbar\": {\"outlinewidth\": 0, \"ticks\": \"\"}}, \"type\": \"scatter3d\"}], \"scattercarpet\": [{\"marker\": {\"colorbar\": {\"outlinewidth\": 0, \"ticks\": \"\"}}, \"type\": \"scattercarpet\"}], \"scattergeo\": [{\"marker\": {\"colorbar\": {\"outlinewidth\": 0, \"ticks\": \"\"}}, \"type\": \"scattergeo\"}], \"scattergl\": [{\"marker\": {\"colorbar\": {\"outlinewidth\": 0, \"ticks\": \"\"}}, \"type\": \"scattergl\"}], \"scattermapbox\": [{\"marker\": {\"colorbar\": {\"outlinewidth\": 0, \"ticks\": \"\"}}, \"type\": \"scattermapbox\"}], \"scatterpolar\": [{\"marker\": {\"colorbar\": {\"outlinewidth\": 0, \"ticks\": \"\"}}, \"type\": \"scatterpolar\"}], \"scatterpolargl\": [{\"marker\": {\"colorbar\": {\"outlinewidth\": 0, \"ticks\": \"\"}}, \"type\": \"scatterpolargl\"}], \"scatterternary\": [{\"marker\": {\"colorbar\": {\"outlinewidth\": 0, \"ticks\": \"\"}}, \"type\": \"scatterternary\"}], \"surface\": [{\"colorbar\": {\"outlinewidth\": 0, \"ticks\": \"\"}, \"colorscale\": [[0.0, \"#0d0887\"], [0.1111111111111111, \"#46039f\"], [0.2222222222222222, \"#7201a8\"], [0.3333333333333333, \"#9c179e\"], [0.4444444444444444, \"#bd3786\"], [0.5555555555555556, \"#d8576b\"], [0.6666666666666666, \"#ed7953\"], [0.7777777777777778, \"#fb9f3a\"], [0.8888888888888888, \"#fdca26\"], [1.0, \"#f0f921\"]], \"type\": \"surface\"}], \"table\": [{\"cells\": {\"fill\": {\"color\": \"#EBF0F8\"}, \"line\": {\"color\": \"white\"}}, \"header\": {\"fill\": {\"color\": \"#C8D4E3\"}, \"line\": {\"color\": \"white\"}}, \"type\": \"table\"}]}, \"layout\": {\"annotationdefaults\": {\"arrowcolor\": \"#2a3f5f\", \"arrowhead\": 0, \"arrowwidth\": 1}, \"coloraxis\": {\"colorbar\": {\"outlinewidth\": 0, \"ticks\": \"\"}}, \"colorscale\": {\"diverging\": [[0, \"#8e0152\"], [0.1, \"#c51b7d\"], [0.2, \"#de77ae\"], [0.3, \"#f1b6da\"], [0.4, \"#fde0ef\"], [0.5, \"#f7f7f7\"], [0.6, \"#e6f5d0\"], [0.7, \"#b8e186\"], [0.8, \"#7fbc41\"], [0.9, \"#4d9221\"], [1, \"#276419\"]], \"sequential\": [[0.0, \"#0d0887\"], [0.1111111111111111, \"#46039f\"], [0.2222222222222222, \"#7201a8\"], [0.3333333333333333, \"#9c179e\"], [0.4444444444444444, \"#bd3786\"], [0.5555555555555556, \"#d8576b\"], [0.6666666666666666, \"#ed7953\"], [0.7777777777777778, \"#fb9f3a\"], [0.8888888888888888, \"#fdca26\"], [1.0, \"#f0f921\"]], \"sequentialminus\": [[0.0, \"#0d0887\"], [0.1111111111111111, \"#46039f\"], [0.2222222222222222, \"#7201a8\"], [0.3333333333333333, \"#9c179e\"], [0.4444444444444444, \"#bd3786\"], [0.5555555555555556, \"#d8576b\"], [0.6666666666666666, \"#ed7953\"], [0.7777777777777778, \"#fb9f3a\"], [0.8888888888888888, \"#fdca26\"], [1.0, \"#f0f921\"]]}, \"colorway\": [\"#636efa\", \"#EF553B\", \"#00cc96\", \"#ab63fa\", \"#FFA15A\", \"#19d3f3\", \"#FF6692\", \"#B6E880\", \"#FF97FF\", \"#FECB52\"], \"font\": {\"color\": \"#2a3f5f\"}, \"geo\": {\"bgcolor\": \"white\", \"lakecolor\": \"white\", \"landcolor\": \"#E5ECF6\", \"showlakes\": true, \"showland\": true, \"subunitcolor\": \"white\"}, \"hoverlabel\": {\"align\": \"left\"}, \"hovermode\": \"closest\", \"mapbox\": {\"style\": \"light\"}, \"paper_bgcolor\": \"white\", \"plot_bgcolor\": \"#E5ECF6\", \"polar\": {\"angularaxis\": {\"gridcolor\": \"white\", \"linecolor\": \"white\", \"ticks\": \"\"}, \"bgcolor\": \"#E5ECF6\", \"radialaxis\": {\"gridcolor\": \"white\", \"linecolor\": \"white\", \"ticks\": \"\"}}, \"scene\": {\"xaxis\": {\"backgroundcolor\": \"#E5ECF6\", \"gridcolor\": \"white\", \"gridwidth\": 2, \"linecolor\": \"white\", \"showbackground\": true, \"ticks\": \"\", \"zerolinecolor\": \"white\"}, \"yaxis\": {\"backgroundcolor\": \"#E5ECF6\", \"gridcolor\": \"white\", \"gridwidth\": 2, \"linecolor\": \"white\", \"showbackground\": true, \"ticks\": \"\", \"zerolinecolor\": \"white\"}, \"zaxis\": {\"backgroundcolor\": \"#E5ECF6\", \"gridcolor\": \"white\", \"gridwidth\": 2, \"linecolor\": \"white\", \"showbackground\": true, \"ticks\": \"\", \"zerolinecolor\": \"white\"}}, \"shapedefaults\": {\"line\": {\"color\": \"#2a3f5f\"}}, \"ternary\": {\"aaxis\": {\"gridcolor\": \"white\", \"linecolor\": \"white\", \"ticks\": \"\"}, \"baxis\": {\"gridcolor\": \"white\", \"linecolor\": \"white\", \"ticks\": \"\"}, \"bgcolor\": \"#E5ECF6\", \"caxis\": {\"gridcolor\": \"white\", \"linecolor\": \"white\", \"ticks\": \"\"}}, \"title\": {\"x\": 0.05}, \"xaxis\": {\"automargin\": true, \"gridcolor\": \"white\", \"linecolor\": \"white\", \"ticks\": \"\", \"title\": {\"standoff\": 15}, \"zerolinecolor\": \"white\", \"zerolinewidth\": 2}, \"yaxis\": {\"automargin\": true, \"gridcolor\": \"white\", \"linecolor\": \"white\", \"ticks\": \"\", \"title\": {\"standoff\": 15}, \"zerolinecolor\": \"white\", \"zerolinewidth\": 2}}}, \"title\": {\"text\": \"Linear Regression Coefficients\"}, \"xaxis\": {\"anchor\": \"y\", \"domain\": [0.0, 1.0], \"title\": {\"text\": \"x\"}}, \"yaxis\": {\"anchor\": \"x\", \"domain\": [0.0, 1.0], \"title\": {\"text\": \"y\"}}},\n",
              "                        {\"responsive\": true}\n",
              "                    ).then(function(){\n",
              "                            \n",
              "var gd = document.getElementById('2ddc730a-46cb-4699-b533-24f09f128cdf');\n",
              "var x = new MutationObserver(function (mutations, observer) {{\n",
              "        var display = window.getComputedStyle(gd).display;\n",
              "        if (!display || display === 'none') {{\n",
              "            console.log([gd, 'removed!']);\n",
              "            Plotly.purge(gd);\n",
              "            observer.disconnect();\n",
              "        }}\n",
              "}});\n",
              "\n",
              "// Listen for the removal of the full notebook cells\n",
              "var notebookContainer = gd.closest('#notebook-container');\n",
              "if (notebookContainer) {{\n",
              "    x.observe(notebookContainer, {childList: true});\n",
              "}}\n",
              "\n",
              "// Listen for the clearing of the current output cell\n",
              "var outputEl = gd.closest('.output');\n",
              "if (outputEl) {{\n",
              "    x.observe(outputEl, {childList: true});\n",
              "}}\n",
              "\n",
              "                        })\n",
              "                };\n",
              "                \n",
              "            </script>\n",
              "        </div>\n",
              "</body>\n",
              "</html>"
            ]
          },
          "metadata": {}
        }
      ]
    },
    {
      "cell_type": "markdown",
      "source": [
        "The most important feature in predicting % at risk is specie per acre and the correlation and while there is a negative correlation the data limitation prevents us from drawing definite conclusions. Interestingly, the native proportion shows the second highest feature which makes sense since in our correlation matrix the correlation was also negatively correlated. The rest of the variables did not show signinficant relationship with determining the percent of species at risk. "
      ],
      "metadata": {
        "id": "YB131NJYFC_O"
      }
    },
    {
      "cell_type": "markdown",
      "metadata": {
        "id": "wmJVtZarWSU-"
      },
      "source": [
        "### Random Forest Regressor"
      ]
    },
    {
      "cell_type": "code",
      "metadata": {
        "id": "s5ADRyTsViyu",
        "colab": {
          "base_uri": "https://localhost:8080/"
        },
        "outputId": "2a8a1a17-7f39-453e-f511-0f5b3d77f84c"
      },
      "source": [
        "rf = RandomForestRegressor()\n",
        "rf.fit(X_train,y_train)\n",
        "y_pred = rf.predict(X_test)"
      ],
      "execution_count": 243,
      "outputs": [
        {
          "output_type": "stream",
          "name": "stderr",
          "text": [
            "/usr/local/lib/python3.7/dist-packages/ipykernel_launcher.py:2: DataConversionWarning:\n",
            "\n",
            "A column-vector y was passed when a 1d array was expected. Please change the shape of y to (n_samples,), for example using ravel().\n",
            "\n"
          ]
        }
      ]
    },
    {
      "cell_type": "code",
      "metadata": {
        "id": "6ObExLP3l0WV",
        "colab": {
          "base_uri": "https://localhost:8080/",
          "height": 329
        },
        "outputId": "b5f181f4-3e23-463a-e8a3-422d9870e816"
      },
      "source": [
        "plt.scatter(y_test, y_pred)\n",
        "plt.title('Actual vs. Predicted % at Risk (Random Forest)')\n",
        "plt.xlabel('Actual % at Risk')\n",
        "plt.ylabel('Predicted % at Risk')\n",
        "plt.plot(y_test,y_test)\n",
        "plt.show()\n",
        "print('R^2: ',r2_score(y_test, y_pred))\n",
        "print('RMSE: ',mean_squared_error(y_test,y_pred)**0.5)"
      ],
      "execution_count": 244,
      "outputs": [
        {
          "output_type": "display_data",
          "data": {
            "image/png": "[encoded data removed]",
            "text/plain": [
              "<Figure size 432x288 with 1 Axes>"
            ]
          },
          "metadata": {
            "needs_background": "light"
          }
        },
        {
          "output_type": "stream",
          "name": "stdout",
          "text": [
            "R^2:  0.5336911280981863\n",
            "RMSE:  0.008842640421256688\n"
          ]
        }
      ]
    },
    {
      "cell_type": "markdown",
      "source": [
        "Our R2 value of 0.52 is a slight improvement over the linear regression model, meaning that just over half the variance in % at risk could be explained using our features. We achieved a slightly lower, but still high RMSE just shy of 0.009. On the scale of our dependent variable, this is a rather high error, making our model, again, a poor predictor of % at risk, likely due to our limited dataset. Random forest, unlike linear regression, has bootstrapping of our sample data integrated into the model itself, as it is an ensemble model that relies on bagging (bootstrap aggregating) our features. "
      ],
      "metadata": {
        "id": "1LLQxvjdEqzS"
      }
    },
    {
      "cell_type": "code",
      "metadata": {
        "id": "avPNSJ5Dl2e-",
        "colab": {
          "base_uri": "https://localhost:8080/",
          "height": 542
        },
        "outputId": "2460345d-4e83-474e-c3aa-28df1b5fdf68"
      },
      "source": [
        "feature_importances = pd.Series(rf.feature_importances_, index=X_train.columns).sort_values(ascending=False)\n",
        "fig = px.bar(feature_importances, x=feature_importances.index, y=feature_importances.values, title=\"Random Forest Regressor Feature Importances\", labels={'x': 'Features', 'y': 'Coef'})\n",
        "fig.show()"
      ],
      "execution_count": 245,
      "outputs": [
        {
          "output_type": "display_data",
          "data": {
            "text/html": [
              "<html>\n",
              "<head><meta charset=\"utf-8\" /></head>\n",
              "<body>\n",
              "    <div>\n",
              "            <script src=\"https://cdnjs.cloudflare.com/ajax/libs/mathjax/2.7.5/MathJax.js?config=TeX-AMS-MML_SVG\"></script><script type=\"text/javascript\">if (window.MathJax) {MathJax.Hub.Config({SVG: {font: \"STIX-Web\"}});}</script>\n",
              "                <script type=\"text/javascript\">window.PlotlyConfig = {MathJaxConfig: 'local'};</script>\n",
              "        <script src=\"https://cdn.plot.ly/plotly-latest.min.js\"></script>    \n",
              "            <div id=\"405ff1ea-6761-4854-b1f6-9a7fc6f9a544\" class=\"plotly-graph-div\" style=\"height:525px; width:100%;\"></div>\n",
              "            <script type=\"text/javascript\">\n",
              "                \n",
              "                    window.PLOTLYENV=window.PLOTLYENV || {};\n",
              "                    \n",
              "                if (document.getElementById(\"405ff1ea-6761-4854-b1f6-9a7fc6f9a544\")) {\n",
              "                    Plotly.newPlot(\n",
              "                        '405ff1ea-6761-4854-b1f6-9a7fc6f9a544',\n",
              "                        [{\"alignmentgroup\": \"True\", \"hoverlabel\": {\"namelength\": 0}, \"hovertemplate\": \"Features=%{x}<br>Coef=%{y}\", \"legendgroup\": \"\", \"marker\": {\"color\": \"#636efa\"}, \"name\": \"\", \"offsetgroup\": \"\", \"orientation\": \"v\", \"showlegend\": false, \"textposition\": \"auto\", \"type\": \"bar\", \"x\": [\"Latitude\", \"Percent_Aquatic\", \"Native_Proportion\", \"Longitude\", \"Percent_Animals\", \"AVG_Visitation\", \"Acres\", \"Species_Per_Acre\"], \"xaxis\": \"x\", \"y\": [0.2520181836173151, 0.1544309301281739, 0.14252585259119455, 0.11725555750745988, 0.11221570019247702, 0.09946115447815705, 0.06765142728559863, 0.05444119419962384], \"yaxis\": \"y\"}],\n",
              "                        {\"barmode\": \"relative\", \"legend\": {\"tracegroupgap\": 0}, \"template\": {\"data\": {\"bar\": [{\"error_x\": {\"color\": \"#2a3f5f\"}, \"error_y\": {\"color\": \"#2a3f5f\"}, \"marker\": {\"line\": {\"color\": \"#E5ECF6\", \"width\": 0.5}}, \"type\": \"bar\"}], \"barpolar\": [{\"marker\": {\"line\": {\"color\": \"#E5ECF6\", \"width\": 0.5}}, \"type\": \"barpolar\"}], \"carpet\": [{\"aaxis\": {\"endlinecolor\": \"#2a3f5f\", \"gridcolor\": \"white\", \"linecolor\": \"white\", \"minorgridcolor\": \"white\", \"startlinecolor\": \"#2a3f5f\"}, \"baxis\": {\"endlinecolor\": \"#2a3f5f\", \"gridcolor\": \"white\", \"linecolor\": \"white\", \"minorgridcolor\": \"white\", \"startlinecolor\": \"#2a3f5f\"}, \"type\": \"carpet\"}], \"choropleth\": [{\"colorbar\": {\"outlinewidth\": 0, \"ticks\": \"\"}, \"type\": \"choropleth\"}], \"contour\": [{\"colorbar\": {\"outlinewidth\": 0, \"ticks\": \"\"}, \"colorscale\": [[0.0, \"#0d0887\"], [0.1111111111111111, \"#46039f\"], [0.2222222222222222, \"#7201a8\"], [0.3333333333333333, \"#9c179e\"], [0.4444444444444444, \"#bd3786\"], [0.5555555555555556, \"#d8576b\"], [0.6666666666666666, \"#ed7953\"], [0.7777777777777778, \"#fb9f3a\"], [0.8888888888888888, \"#fdca26\"], [1.0, \"#f0f921\"]], \"type\": \"contour\"}], \"contourcarpet\": [{\"colorbar\": {\"outlinewidth\": 0, \"ticks\": \"\"}, \"type\": \"contourcarpet\"}], \"heatmap\": [{\"colorbar\": {\"outlinewidth\": 0, \"ticks\": \"\"}, \"colorscale\": [[0.0, \"#0d0887\"], [0.1111111111111111, \"#46039f\"], [0.2222222222222222, \"#7201a8\"], [0.3333333333333333, \"#9c179e\"], [0.4444444444444444, \"#bd3786\"], [0.5555555555555556, \"#d8576b\"], [0.6666666666666666, \"#ed7953\"], [0.7777777777777778, \"#fb9f3a\"], [0.8888888888888888, \"#fdca26\"], [1.0, \"#f0f921\"]], \"type\": \"heatmap\"}], \"heatmapgl\": [{\"colorbar\": {\"outlinewidth\": 0, \"ticks\": \"\"}, \"colorscale\": [[0.0, \"#0d0887\"], [0.1111111111111111, \"#46039f\"], [0.2222222222222222, \"#7201a8\"], [0.3333333333333333, \"#9c179e\"], [0.4444444444444444, \"#bd3786\"], [0.5555555555555556, \"#d8576b\"], [0.6666666666666666, \"#ed7953\"], [0.7777777777777778, \"#fb9f3a\"], [0.8888888888888888, \"#fdca26\"], [1.0, \"#f0f921\"]], \"type\": \"heatmapgl\"}], \"histogram\": [{\"marker\": {\"colorbar\": {\"outlinewidth\": 0, \"ticks\": \"\"}}, \"type\": \"histogram\"}], \"histogram2d\": [{\"colorbar\": {\"outlinewidth\": 0, \"ticks\": \"\"}, \"colorscale\": [[0.0, \"#0d0887\"], [0.1111111111111111, \"#46039f\"], [0.2222222222222222, \"#7201a8\"], [0.3333333333333333, \"#9c179e\"], [0.4444444444444444, \"#bd3786\"], [0.5555555555555556, \"#d8576b\"], [0.6666666666666666, \"#ed7953\"], [0.7777777777777778, \"#fb9f3a\"], [0.8888888888888888, \"#fdca26\"], [1.0, \"#f0f921\"]], \"type\": \"histogram2d\"}], \"histogram2dcontour\": [{\"colorbar\": {\"outlinewidth\": 0, \"ticks\": \"\"}, \"colorscale\": [[0.0, \"#0d0887\"], [0.1111111111111111, \"#46039f\"], [0.2222222222222222, \"#7201a8\"], [0.3333333333333333, \"#9c179e\"], [0.4444444444444444, \"#bd3786\"], [0.5555555555555556, \"#d8576b\"], [0.6666666666666666, \"#ed7953\"], [0.7777777777777778, \"#fb9f3a\"], [0.8888888888888888, \"#fdca26\"], [1.0, \"#f0f921\"]], \"type\": \"histogram2dcontour\"}], \"mesh3d\": [{\"colorbar\": {\"outlinewidth\": 0, \"ticks\": \"\"}, \"type\": \"mesh3d\"}], \"parcoords\": [{\"line\": {\"colorbar\": {\"outlinewidth\": 0, \"ticks\": \"\"}}, \"type\": \"parcoords\"}], \"pie\": [{\"automargin\": true, \"type\": \"pie\"}], \"scatter\": [{\"marker\": {\"colorbar\": {\"outlinewidth\": 0, \"ticks\": \"\"}}, \"type\": \"scatter\"}], \"scatter3d\": [{\"line\": {\"colorbar\": {\"outlinewidth\": 0, \"ticks\": \"\"}}, \"marker\": {\"colorbar\": {\"outlinewidth\": 0, \"ticks\": \"\"}}, \"type\": \"scatter3d\"}], \"scattercarpet\": [{\"marker\": {\"colorbar\": {\"outlinewidth\": 0, \"ticks\": \"\"}}, \"type\": \"scattercarpet\"}], \"scattergeo\": [{\"marker\": {\"colorbar\": {\"outlinewidth\": 0, \"ticks\": \"\"}}, \"type\": \"scattergeo\"}], \"scattergl\": [{\"marker\": {\"colorbar\": {\"outlinewidth\": 0, \"ticks\": \"\"}}, \"type\": \"scattergl\"}], \"scattermapbox\": [{\"marker\": {\"colorbar\": {\"outlinewidth\": 0, \"ticks\": \"\"}}, \"type\": \"scattermapbox\"}], \"scatterpolar\": [{\"marker\": {\"colorbar\": {\"outlinewidth\": 0, \"ticks\": \"\"}}, \"type\": \"scatterpolar\"}], \"scatterpolargl\": [{\"marker\": {\"colorbar\": {\"outlinewidth\": 0, \"ticks\": \"\"}}, \"type\": \"scatterpolargl\"}], \"scatterternary\": [{\"marker\": {\"colorbar\": {\"outlinewidth\": 0, \"ticks\": \"\"}}, \"type\": \"scatterternary\"}], \"surface\": [{\"colorbar\": {\"outlinewidth\": 0, \"ticks\": \"\"}, \"colorscale\": [[0.0, \"#0d0887\"], [0.1111111111111111, \"#46039f\"], [0.2222222222222222, \"#7201a8\"], [0.3333333333333333, \"#9c179e\"], [0.4444444444444444, \"#bd3786\"], [0.5555555555555556, \"#d8576b\"], [0.6666666666666666, \"#ed7953\"], [0.7777777777777778, \"#fb9f3a\"], [0.8888888888888888, \"#fdca26\"], [1.0, \"#f0f921\"]], \"type\": \"surface\"}], \"table\": [{\"cells\": {\"fill\": {\"color\": \"#EBF0F8\"}, \"line\": {\"color\": \"white\"}}, \"header\": {\"fill\": {\"color\": \"#C8D4E3\"}, \"line\": {\"color\": \"white\"}}, \"type\": \"table\"}]}, \"layout\": {\"annotationdefaults\": {\"arrowcolor\": \"#2a3f5f\", \"arrowhead\": 0, \"arrowwidth\": 1}, \"coloraxis\": {\"colorbar\": {\"outlinewidth\": 0, \"ticks\": \"\"}}, \"colorscale\": {\"diverging\": [[0, \"#8e0152\"], [0.1, \"#c51b7d\"], [0.2, \"#de77ae\"], [0.3, \"#f1b6da\"], [0.4, \"#fde0ef\"], [0.5, \"#f7f7f7\"], [0.6, \"#e6f5d0\"], [0.7, \"#b8e186\"], [0.8, \"#7fbc41\"], [0.9, \"#4d9221\"], [1, \"#276419\"]], \"sequential\": [[0.0, \"#0d0887\"], [0.1111111111111111, \"#46039f\"], [0.2222222222222222, \"#7201a8\"], [0.3333333333333333, \"#9c179e\"], [0.4444444444444444, \"#bd3786\"], [0.5555555555555556, \"#d8576b\"], [0.6666666666666666, \"#ed7953\"], [0.7777777777777778, \"#fb9f3a\"], [0.8888888888888888, \"#fdca26\"], [1.0, \"#f0f921\"]], \"sequentialminus\": [[0.0, \"#0d0887\"], [0.1111111111111111, \"#46039f\"], [0.2222222222222222, \"#7201a8\"], [0.3333333333333333, \"#9c179e\"], [0.4444444444444444, \"#bd3786\"], [0.5555555555555556, \"#d8576b\"], [0.6666666666666666, \"#ed7953\"], [0.7777777777777778, \"#fb9f3a\"], [0.8888888888888888, \"#fdca26\"], [1.0, \"#f0f921\"]]}, \"colorway\": [\"#636efa\", \"#EF553B\", \"#00cc96\", \"#ab63fa\", \"#FFA15A\", \"#19d3f3\", \"#FF6692\", \"#B6E880\", \"#FF97FF\", \"#FECB52\"], \"font\": {\"color\": \"#2a3f5f\"}, \"geo\": {\"bgcolor\": \"white\", \"lakecolor\": \"white\", \"landcolor\": \"#E5ECF6\", \"showlakes\": true, \"showland\": true, \"subunitcolor\": \"white\"}, \"hoverlabel\": {\"align\": \"left\"}, \"hovermode\": \"closest\", \"mapbox\": {\"style\": \"light\"}, \"paper_bgcolor\": \"white\", \"plot_bgcolor\": \"#E5ECF6\", \"polar\": {\"angularaxis\": {\"gridcolor\": \"white\", \"linecolor\": \"white\", \"ticks\": \"\"}, \"bgcolor\": \"#E5ECF6\", \"radialaxis\": {\"gridcolor\": \"white\", \"linecolor\": \"white\", \"ticks\": \"\"}}, \"scene\": {\"xaxis\": {\"backgroundcolor\": \"#E5ECF6\", \"gridcolor\": \"white\", \"gridwidth\": 2, \"linecolor\": \"white\", \"showbackground\": true, \"ticks\": \"\", \"zerolinecolor\": \"white\"}, \"yaxis\": {\"backgroundcolor\": \"#E5ECF6\", \"gridcolor\": \"white\", \"gridwidth\": 2, \"linecolor\": \"white\", \"showbackground\": true, \"ticks\": \"\", \"zerolinecolor\": \"white\"}, \"zaxis\": {\"backgroundcolor\": \"#E5ECF6\", \"gridcolor\": \"white\", \"gridwidth\": 2, \"linecolor\": \"white\", \"showbackground\": true, \"ticks\": \"\", \"zerolinecolor\": \"white\"}}, \"shapedefaults\": {\"line\": {\"color\": \"#2a3f5f\"}}, \"ternary\": {\"aaxis\": {\"gridcolor\": \"white\", \"linecolor\": \"white\", \"ticks\": \"\"}, \"baxis\": {\"gridcolor\": \"white\", \"linecolor\": \"white\", \"ticks\": \"\"}, \"bgcolor\": \"#E5ECF6\", \"caxis\": {\"gridcolor\": \"white\", \"linecolor\": \"white\", \"ticks\": \"\"}}, \"title\": {\"x\": 0.05}, \"xaxis\": {\"automargin\": true, \"gridcolor\": \"white\", \"linecolor\": \"white\", \"ticks\": \"\", \"title\": {\"standoff\": 15}, \"zerolinecolor\": \"white\", \"zerolinewidth\": 2}, \"yaxis\": {\"automargin\": true, \"gridcolor\": \"white\", \"linecolor\": \"white\", \"ticks\": \"\", \"title\": {\"standoff\": 15}, \"zerolinecolor\": \"white\", \"zerolinewidth\": 2}}}, \"title\": {\"text\": \"Random Forest Regressor Feature Importances\"}, \"xaxis\": {\"anchor\": \"y\", \"domain\": [0.0, 1.0], \"title\": {\"text\": \"Features\"}}, \"yaxis\": {\"anchor\": \"x\", \"domain\": [0.0, 1.0], \"title\": {\"text\": \"Coef\"}}},\n",
              "                        {\"responsive\": true}\n",
              "                    ).then(function(){\n",
              "                            \n",
              "var gd = document.getElementById('405ff1ea-6761-4854-b1f6-9a7fc6f9a544');\n",
              "var x = new MutationObserver(function (mutations, observer) {{\n",
              "        var display = window.getComputedStyle(gd).display;\n",
              "        if (!display || display === 'none') {{\n",
              "            console.log([gd, 'removed!']);\n",
              "            Plotly.purge(gd);\n",
              "            observer.disconnect();\n",
              "        }}\n",
              "}});\n",
              "\n",
              "// Listen for the removal of the full notebook cells\n",
              "var notebookContainer = gd.closest('#notebook-container');\n",
              "if (notebookContainer) {{\n",
              "    x.observe(notebookContainer, {childList: true});\n",
              "}}\n",
              "\n",
              "// Listen for the clearing of the current output cell\n",
              "var outputEl = gd.closest('.output');\n",
              "if (outputEl) {{\n",
              "    x.observe(outputEl, {childList: true});\n",
              "}}\n",
              "\n",
              "                        })\n",
              "                };\n",
              "                \n",
              "            </script>\n",
              "        </div>\n",
              "</body>\n",
              "</html>"
            ]
          },
          "metadata": {}
        }
      ]
    },
    {
      "cell_type": "markdown",
      "source": [
        "The most important feature in predicting % at risk is latitude, which makes sense given how latitude had the highest absolute coefficient of correlation (very negatively correlated) with % at risk compared to the other features in our model. Interestingly, the percentage of species that are aquatic is the second most important feature despite very little correlation with % at risk in the correlation matrix, but the correlation matrix also shows that % aquatic has the lowest correlations with any of the other features, increasing its relevance as a distinguishing feature when performing random forest."
      ],
      "metadata": {
        "id": "iuFMwG1UEpHs"
      }
    }
  ]
}